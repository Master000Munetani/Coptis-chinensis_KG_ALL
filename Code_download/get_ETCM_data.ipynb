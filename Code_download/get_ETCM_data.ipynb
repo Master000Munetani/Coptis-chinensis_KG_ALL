{
 "cells": [
  {
   "cell_type": "markdown",
   "metadata": {},
   "source": [
    "### 爬取ETCM数据库的黄连的检索结果"
   ]
  },
  {
   "cell_type": "code",
   "execution_count": null,
   "metadata": {},
   "outputs": [],
   "source": [
    "from selenium import webdriver\n",
    "import time\n",
    "import pandas as pd\n",
    "from selenium.webdriver.edge.service import Service\n",
    "from selenium.webdriver.common.by import By\n",
    "from selenium.webdriver import ActionChains\n",
    "from selenium.webdriver.common.keys import Keys"
   ]
  },
  {
   "cell_type": "code",
   "execution_count": 22,
   "metadata": {},
   "outputs": [
    {
     "name": "stdout",
     "output_type": "stream",
     "text": [
      "Bing Lian Di Er Ji\n"
     ]
    }
   ],
   "source": [
    "data = pd.read_excel(\"C:/Users/15382/Desktop/p1.xlsx\")\n",
    "col_data = data[\"中成药\"]\n",
    "col_data = col_data.tolist()\n",
    "print(col_data[0])\n"
   ]
  },
  {
   "cell_type": "code",
   "execution_count": 23,
   "metadata": {},
   "outputs": [
    {
     "name": "stderr",
     "output_type": "stream",
     "text": [
      "C:\\Users\\15382\\AppData\\Local\\Temp\\ipykernel_198532\\764970698.py:31: FutureWarning: Passing literal html to 'read_html' is deprecated and will be removed in a future version. To read from a literal string, wrap it in a 'StringIO' object.\n",
      "  df = pd.read_html(data)[1]\n"
     ]
    },
    {
     "name": "stdout",
     "output_type": "stream",
     "text": [
      "0                                                冰连滴耳剂\n",
      "1                                                  滴耳剂\n",
      "2                              黄连, 枯矾, 冰片, 明矾, 龙骨, 海螵蛸\n",
      "3    先用棉签蘸3%双氧水清洗患耳耳道，然后用干棉签拭干外耳道。患耳向上，将耳廊向上后方轻轻牵拉，...\n",
      "4                                                  燥湿药\n",
      "Name: 0, dtype: object\n"
     ]
    },
    {
     "name": "stderr",
     "output_type": "stream",
     "text": [
      "C:\\Users\\15382\\AppData\\Local\\Temp\\ipykernel_198532\\764970698.py:31: FutureWarning: Passing literal html to 'read_html' is deprecated and will be removed in a future version. To read from a literal string, wrap it in a 'StringIO' object.\n",
      "  df = pd.read_html(data)[1]\n"
     ]
    },
    {
     "name": "stdout",
     "output_type": "stream",
     "text": [
      "0                             荡涤灵颗粒\n",
      "1                               颗粒剂\n",
      "2    黄连, 琥珀, 赤芍, 知母, 地黄, 地龙, 黄芪, 甘草\n",
      "3         冲剂，每包20克，一日3次，一次1小包，开水冲服。\n",
      "4                               清热药\n",
      "Name: 0, dtype: object\n"
     ]
    },
    {
     "name": "stderr",
     "output_type": "stream",
     "text": [
      "C:\\Users\\15382\\AppData\\Local\\Temp\\ipykernel_198532\\764970698.py:31: FutureWarning: Passing literal html to 'read_html' is deprecated and will be removed in a future version. To read from a literal string, wrap it in a 'StringIO' object.\n",
      "  df = pd.read_html(data)[1]\n"
     ]
    },
    {
     "name": "stdout",
     "output_type": "stream",
     "text": [
      "0                    更年欣胶囊\n",
      "1                      胶囊剂\n",
      "2          黄连, 肉桂, 枸杞, 山茱萸\n",
      "3    口服。一次3粒，一日3次，30天为一疗程。\n",
      "4                      扶正药\n",
      "Name: 0, dtype: object\n"
     ]
    },
    {
     "name": "stderr",
     "output_type": "stream",
     "text": [
      "C:\\Users\\15382\\AppData\\Local\\Temp\\ipykernel_198532\\764970698.py:31: FutureWarning: Passing literal html to 'read_html' is deprecated and will be removed in a future version. To read from a literal string, wrap it in a 'StringIO' object.\n",
      "  df = pd.read_html(data)[1]\n"
     ]
    },
    {
     "name": "stdout",
     "output_type": "stream",
     "text": [
      "0                黄连胶囊\n",
      "1                 胶囊剂\n",
      "2                  黄连\n",
      "3    口服一次 2-6 粒，一日3次。\n",
      "4                 解表药\n",
      "Name: 0, dtype: object\n"
     ]
    },
    {
     "name": "stderr",
     "output_type": "stream",
     "text": [
      "C:\\Users\\15382\\AppData\\Local\\Temp\\ipykernel_198532\\764970698.py:31: FutureWarning: Passing literal html to 'read_html' is deprecated and will be removed in a future version. To read from a literal string, wrap it in a 'StringIO' object.\n",
      "  df = pd.read_html(data)[1]\n"
     ]
    },
    {
     "name": "stdout",
     "output_type": "stream",
     "text": [
      "0                                      黄连双清丸\n",
      "1                                         丸剂\n",
      "2    黄连, 石膏, 甘草, 黄芩, 大黄, 赤芍, 栀子, 连翘, 当归, 川芎,\n",
      "3                            口服，一次6～9克，一日2次。\n",
      "4                                        清热药\n",
      "Name: 0, dtype: object\n"
     ]
    },
    {
     "name": "stderr",
     "output_type": "stream",
     "text": [
      "C:\\Users\\15382\\AppData\\Local\\Temp\\ipykernel_198532\\764970698.py:31: FutureWarning: Passing literal html to 'read_html' is deprecated and will be removed in a future version. To read from a literal string, wrap it in a 'StringIO' object.\n",
      "  df = pd.read_html(data)[1]\n"
     ]
    },
    {
     "name": "stdout",
     "output_type": "stream",
     "text": [
      "0                                             交通心肾胶囊\n",
      "1                                                胶囊剂\n",
      "2    黄连, 肉桂, 益智, 枸杞子, 山茱萸, 女贞子, 菟丝子(炒), 地黄, 石菖蒲, 远志,\n",
      "3                                      口服，一次3粒，一日3次。\n",
      "4                                                扶正药\n",
      "Name: 0, dtype: object\n"
     ]
    },
    {
     "name": "stderr",
     "output_type": "stream",
     "text": [
      "C:\\Users\\15382\\AppData\\Local\\Temp\\ipykernel_198532\\764970698.py:31: FutureWarning: Passing literal html to 'read_html' is deprecated and will be removed in a future version. To read from a literal string, wrap it in a 'StringIO' object.\n",
      "  df = pd.read_html(data)[1]\n"
     ]
    },
    {
     "name": "stdout",
     "output_type": "stream",
     "text": [
      "0                                解毒活血栓\n",
      "1                                   栓剂\n",
      "2               黄连, 赤芍, 丹参, 冰片, 青黛, 牛膝\n",
      "3    直肠给药。一次1粒，一日2次，早晚各用一次，便后用药，疗程28天。\n",
      "4                                  清热药\n",
      "Name: 0, dtype: object\n"
     ]
    },
    {
     "name": "stderr",
     "output_type": "stream",
     "text": [
      "C:\\Users\\15382\\AppData\\Local\\Temp\\ipykernel_198532\\764970698.py:31: FutureWarning: Passing literal html to 'read_html' is deprecated and will be removed in a future version. To read from a literal string, wrap it in a 'StringIO' object.\n",
      "  df = pd.read_html(data)[1]\n"
     ]
    },
    {
     "name": "stdout",
     "output_type": "stream",
     "text": [
      "0                                               （山黎）峒丸\n",
      "1                                                   丸剂\n",
      "2    三七, 血竭, 阿魏, 乳香(制), 没药(制), 藤黄(制), 天竺黄, 大黄, 儿茶, 冰片,\n",
      "3                            嚼碎后温开水或黄酒送服，一日１丸，外用酒磨涂患处。\n",
      "4                                                  扶正药\n",
      "Name: 0, dtype: object\n"
     ]
    },
    {
     "name": "stderr",
     "output_type": "stream",
     "text": [
      "C:\\Users\\15382\\AppData\\Local\\Temp\\ipykernel_198532\\764970698.py:31: FutureWarning: Passing literal html to 'read_html' is deprecated and will be removed in a future version. To read from a literal string, wrap it in a 'StringIO' object.\n",
      "  df = pd.read_html(data)[1]\n"
     ]
    },
    {
     "name": "stdout",
     "output_type": "stream",
     "text": [
      "0                                               连柏烧伤软膏\n",
      "1                                                  软膏剂\n",
      "2                                    黄连, 黄柏, 藤黄(制), 冰片\n",
      "3    用生理盐水清洁创面后，直接涂抹药膏，厚度约1～2mm，或涂于消毒敷料上，再覆盖于创面。根据病...\n",
      "4                                                  清热药\n",
      "Name: 0, dtype: object\n"
     ]
    },
    {
     "name": "stderr",
     "output_type": "stream",
     "text": [
      "C:\\Users\\15382\\AppData\\Local\\Temp\\ipykernel_198532\\764970698.py:31: FutureWarning: Passing literal html to 'read_html' is deprecated and will be removed in a future version. To read from a literal string, wrap it in a 'StringIO' object.\n",
      "  df = pd.read_html(data)[1]\n"
     ]
    },
    {
     "name": "stdout",
     "output_type": "stream",
     "text": [
      "0                                        连参通淋片\n",
      "1                                           片剂\n",
      "2    黄连, 苦参, 瞿麦, 川木通, 萹蓄, 栀子, 大黄, 丹参, 绵萆薢, 茯苓,\n",
      "3                           口服一次4片，一日3次，疗程为2周。\n",
      "4                                          祛湿药\n",
      "Name: 0, dtype: object\n"
     ]
    },
    {
     "name": "stderr",
     "output_type": "stream",
     "text": [
      "C:\\Users\\15382\\AppData\\Local\\Temp\\ipykernel_198532\\764970698.py:31: FutureWarning: Passing literal html to 'read_html' is deprecated and will be removed in a future version. To read from a literal string, wrap it in a 'StringIO' object.\n",
      "  df = pd.read_html(data)[1]\n"
     ]
    },
    {
     "name": "stdout",
     "output_type": "stream",
     "text": [
      "0                       连番止泻胶囊\n",
      "1                          胶囊剂\n",
      "2    黄连, 黄芩, 白芍, 广藿香, 番石榴叶, 茯苓\n",
      "3                口服。一次5粒，一日3次。\n",
      "4                          清热药\n",
      "Name: 0, dtype: object\n"
     ]
    },
    {
     "name": "stderr",
     "output_type": "stream",
     "text": [
      "C:\\Users\\15382\\AppData\\Local\\Temp\\ipykernel_198532\\764970698.py:31: FutureWarning: Passing literal html to 'read_html' is deprecated and will be removed in a future version. To read from a literal string, wrap it in a 'StringIO' object.\n",
      "  df = pd.read_html(data)[1]\n"
     ]
    },
    {
     "name": "stdout",
     "output_type": "stream",
     "text": [
      "0              疗癣卡西甫散\n",
      "1                  散剂\n",
      "2    黄连, 欧菝葜根, 芝麻, 菝葜\n",
      "3      口服，一次10克，一日2次。\n",
      "4                 解表药\n",
      "Name: 0, dtype: object\n"
     ]
    },
    {
     "name": "stderr",
     "output_type": "stream",
     "text": [
      "C:\\Users\\15382\\AppData\\Local\\Temp\\ipykernel_198532\\764970698.py:31: FutureWarning: Passing literal html to 'read_html' is deprecated and will be removed in a future version. To read from a literal string, wrap it in a 'StringIO' object.\n",
      "  df = pd.read_html(data)[1]\n"
     ]
    },
    {
     "name": "stdout",
     "output_type": "stream",
     "text": [
      "0              疗癣卡西甫丸\n",
      "1                  丸剂\n",
      "2    黄连, 欧菝葜根, 芝麻, 菝葜\n",
      "3     口服，每次21丸，一日2次 。\n",
      "4                 解表药\n",
      "Name: 0, dtype: object\n"
     ]
    },
    {
     "name": "stderr",
     "output_type": "stream",
     "text": [
      "C:\\Users\\15382\\AppData\\Local\\Temp\\ipykernel_198532\\764970698.py:31: FutureWarning: Passing literal html to 'read_html' is deprecated and will be removed in a future version. To read from a literal string, wrap it in a 'StringIO' object.\n",
      "  df = pd.read_html(data)[1]\n"
     ]
    },
    {
     "name": "stdout",
     "output_type": "stream",
     "text": [
      "0                                          龙枣胶囊\n",
      "1                                           胶囊剂\n",
      "2    黄连, 黄芩, 葛根, 丹参, 人参, 当归, 石菖蒲, 合欢花, 百合, 酸枣仁,\n",
      "3                               口服，一次2～3粒，一日2次。\n",
      "4                                           安神药\n",
      "Name: 0, dtype: object\n"
     ]
    },
    {
     "name": "stderr",
     "output_type": "stream",
     "text": [
      "C:\\Users\\15382\\AppData\\Local\\Temp\\ipykernel_198532\\764970698.py:31: FutureWarning: Passing literal html to 'read_html' is deprecated and will be removed in a future version. To read from a literal string, wrap it in a 'StringIO' object.\n",
      "  df = pd.read_html(data)[1]\n"
     ]
    },
    {
     "name": "stdout",
     "output_type": "stream",
     "text": [
      "0                                              玛木然止泻胶囊\n",
      "1                                                  胶囊剂\n",
      "2    黄连, 血竭, 西黄蓍胶, 乳香, 没食子, 蚤状车前子, 诃子肉, 天竺黄, 芫荽子, 毛...\n",
      "3                                        口服，一次3粒，一日3次。\n",
      "4                                                  祛瘀药\n",
      "Name: 0, dtype: object\n"
     ]
    },
    {
     "name": "stderr",
     "output_type": "stream",
     "text": [
      "C:\\Users\\15382\\AppData\\Local\\Temp\\ipykernel_198532\\764970698.py:31: FutureWarning: Passing literal html to 'read_html' is deprecated and will be removed in a future version. To read from a literal string, wrap it in a 'StringIO' object.\n",
      "  df = pd.read_html(data)[1]\n"
     ]
    },
    {
     "name": "stdout",
     "output_type": "stream",
     "text": [
      "0                                        清肝毒胶囊\n",
      "1                                          胶囊剂\n",
      "2                     黄连, 大黄, 赤芍, 青黛, 海金沙, 莲子心\n",
      "3    口服，一次2粒，一日3次。急性甲型肝炎1个月为1疗程，急性乙型肝炎2个月为1疗程。\n",
      "4                                          清热药\n",
      "Name: 0, dtype: object\n"
     ]
    },
    {
     "name": "stderr",
     "output_type": "stream",
     "text": [
      "C:\\Users\\15382\\AppData\\Local\\Temp\\ipykernel_198532\\764970698.py:31: FutureWarning: Passing literal html to 'read_html' is deprecated and will be removed in a future version. To read from a literal string, wrap it in a 'StringIO' object.\n",
      "  df = pd.read_html(data)[1]\n"
     ]
    },
    {
     "name": "stdout",
     "output_type": "stream",
     "text": [
      "0                          清肝扶正胶囊\n",
      "1                             胶囊剂\n",
      "2    黄连, 蜂王浆冻干粉, 青黛, 五味子, 大黄, 山豆根\n",
      "3      口服。一次4粒，一日3次，3个月为一疗程，或遵医嘱。\n",
      "4                             清热药\n",
      "Name: 0, dtype: object\n"
     ]
    },
    {
     "name": "stderr",
     "output_type": "stream",
     "text": [
      "C:\\Users\\15382\\AppData\\Local\\Temp\\ipykernel_198532\\764970698.py:31: FutureWarning: Passing literal html to 'read_html' is deprecated and will be removed in a future version. To read from a literal string, wrap it in a 'StringIO' object.\n",
      "  df = pd.read_html(data)[1]\n"
     ]
    },
    {
     "name": "stdout",
     "output_type": "stream",
     "text": [
      "0                         清胃止痛微丸\n",
      "1                             丸剂\n",
      "2                     黄连, 白芍, 地榆\n",
      "3    口服，一次3.2g，一日3次，6周为一疗程，或遵医嘱。\n",
      "4                            清热药\n",
      "Name: 0, dtype: object\n"
     ]
    },
    {
     "name": "stderr",
     "output_type": "stream",
     "text": [
      "C:\\Users\\15382\\AppData\\Local\\Temp\\ipykernel_198532\\764970698.py:31: FutureWarning: Passing literal html to 'read_html' is deprecated and will be removed in a future version. To read from a literal string, wrap it in a 'StringIO' object.\n",
      "  df = pd.read_html(data)[1]\n"
     ]
    },
    {
     "name": "stdout",
     "output_type": "stream",
     "text": [
      "0                                                湿润烧伤膏\n",
      "1                                                  软膏剂\n",
      "2                                  黄连, 黄柏, 黄芩, 地龙, 罂粟壳\n",
      "3    外用。涂于烧、烫、灼伤等创面（厚度薄于1mm），每4～6小时更换新药。换药前，须将残留在创面...\n",
      "4                                                  清热药\n",
      "Name: 0, dtype: object\n"
     ]
    },
    {
     "name": "stderr",
     "output_type": "stream",
     "text": [
      "C:\\Users\\15382\\AppData\\Local\\Temp\\ipykernel_198532\\764970698.py:31: FutureWarning: Passing literal html to 'read_html' is deprecated and will be removed in a future version. To read from a literal string, wrap it in a 'StringIO' object.\n",
      "  df = pd.read_html(data)[1]\n"
     ]
    },
    {
     "name": "stdout",
     "output_type": "stream",
     "text": [
      "0                                          双花百合片\n",
      "1                                             片剂\n",
      "2    黄连, 苦地丁, 地黄, 板蓝根, 紫草, 金银花, 淡竹叶, 干蛇胆, 百合, 细辛\n",
      "3                            口服。一次4片，一日3次；疗程为5天。\n",
      "4                                            清热药\n",
      "Name: 0, dtype: object\n"
     ]
    },
    {
     "name": "stderr",
     "output_type": "stream",
     "text": [
      "C:\\Users\\15382\\AppData\\Local\\Temp\\ipykernel_198532\\764970698.py:31: FutureWarning: Passing literal html to 'read_html' is deprecated and will be removed in a future version. To read from a literal string, wrap it in a 'StringIO' object.\n",
      "  df = pd.read_html(data)[1]\n"
     ]
    },
    {
     "name": "stdout",
     "output_type": "stream",
     "text": [
      "0                  五味黄连丸\n",
      "1                     丸剂\n",
      "2    黄连, 红花, 诃子, 渣驯膏, 麝香\n",
      "3         一次1～2克，一日2～3次。\n",
      "4                    清热药\n",
      "Name: 0, dtype: object\n"
     ]
    },
    {
     "name": "stderr",
     "output_type": "stream",
     "text": [
      "C:\\Users\\15382\\AppData\\Local\\Temp\\ipykernel_198532\\764970698.py:31: FutureWarning: Passing literal html to 'read_html' is deprecated and will be removed in a future version. To read from a literal string, wrap it in a 'StringIO' object.\n",
      "  df = pd.read_html(data)[1]\n"
     ]
    },
    {
     "name": "stdout",
     "output_type": "stream",
     "text": [
      "0                      西园喉药散\n",
      "1                         散剂\n",
      "2      黄连, 人工牛黄, 天花粉, 薄荷, 硼砂\n",
      "3    口腔用药。喷敷患处，每次约0.2克，一日5次。\n",
      "4                  化痰、止咳、平喘药\n",
      "Name: 0, dtype: object\n"
     ]
    },
    {
     "name": "stderr",
     "output_type": "stream",
     "text": [
      "C:\\Users\\15382\\AppData\\Local\\Temp\\ipykernel_198532\\764970698.py:31: FutureWarning: Passing literal html to 'read_html' is deprecated and will be removed in a future version. To read from a literal string, wrap it in a 'StringIO' object.\n",
      "  df = pd.read_html(data)[1]\n"
     ]
    },
    {
     "name": "stdout",
     "output_type": "stream",
     "text": [
      "0                                        泻痢消片\n",
      "1                                          片剂\n",
      "2    黄连, 苍术, 白芍, 木香, 吴茱萸, 厚朴, 槟榔, 枳壳, 陈皮, 泽泻,\n",
      "3                               口服，一次3片，一日3次。\n",
      "4                                         清热药\n",
      "Name: 0, dtype: object\n"
     ]
    },
    {
     "name": "stderr",
     "output_type": "stream",
     "text": [
      "C:\\Users\\15382\\AppData\\Local\\Temp\\ipykernel_198532\\764970698.py:31: FutureWarning: Passing literal html to 'read_html' is deprecated and will be removed in a future version. To read from a literal string, wrap it in a 'StringIO' object.\n",
      "  df = pd.read_html(data)[1]\n"
     ]
    },
    {
     "name": "stdout",
     "output_type": "stream",
     "text": [
      "0                                        泻痢消丸\n",
      "1                                          丸剂\n",
      "2    黄连, 苍术, 白芍, 木香, 吴茱萸, 厚朴, 槟榔, 枳壳, 陈皮, 泽泻,\n",
      "3                               口服，一次1袋，一日3次。\n",
      "4                                         清热药\n",
      "Name: 0, dtype: object\n"
     ]
    },
    {
     "name": "stderr",
     "output_type": "stream",
     "text": [
      "C:\\Users\\15382\\AppData\\Local\\Temp\\ipykernel_198532\\764970698.py:31: FutureWarning: Passing literal html to 'read_html' is deprecated and will be removed in a future version. To read from a literal string, wrap it in a 'StringIO' object.\n",
      "  df = pd.read_html(data)[1]\n"
     ]
    },
    {
     "name": "stdout",
     "output_type": "stream",
     "text": [
      "0                                       心速宁胶囊\n",
      "1                                         胶囊剂\n",
      "2    黄连, 半夏, 茯苓, 积实, 常山, 莲子心, 苦参, 青篙, 人参, 冬麦,\n",
      "3                               口服，一次4粒，一日3次。\n",
      "4                                         清热药\n",
      "Name: 0, dtype: object\n"
     ]
    },
    {
     "name": "stderr",
     "output_type": "stream",
     "text": [
      "C:\\Users\\15382\\AppData\\Local\\Temp\\ipykernel_198532\\764970698.py:31: FutureWarning: Passing literal html to 'read_html' is deprecated and will be removed in a future version. To read from a literal string, wrap it in a 'StringIO' object.\n",
      "  df = pd.read_html(data)[1]\n"
     ]
    },
    {
     "name": "stdout",
     "output_type": "stream",
     "text": [
      "0                 一清滴丸\n",
      "1                  滴丸剂\n",
      "2           黄连, 大黄, 黄芩\n",
      "3    口服，每次3.3g，每日3-4次。\n",
      "4                  清热药\n",
      "Name: 0, dtype: object\n"
     ]
    },
    {
     "name": "stderr",
     "output_type": "stream",
     "text": [
      "C:\\Users\\15382\\AppData\\Local\\Temp\\ipykernel_198532\\764970698.py:31: FutureWarning: Passing literal html to 'read_html' is deprecated and will be removed in a future version. To read from a literal string, wrap it in a 'StringIO' object.\n",
      "  df = pd.read_html(data)[1]\n"
     ]
    },
    {
     "name": "stdout",
     "output_type": "stream",
     "text": [
      "0             一清胶囊\n",
      "1              胶囊剂\n",
      "2       黄连, 大黄, 黄芩\n",
      "3    口服，一次2粒，一日3次。\n",
      "4              清热药\n",
      "Name: 0, dtype: object\n"
     ]
    },
    {
     "name": "stderr",
     "output_type": "stream",
     "text": [
      "C:\\Users\\15382\\AppData\\Local\\Temp\\ipykernel_198532\\764970698.py:31: FutureWarning: Passing literal html to 'read_html' is deprecated and will be removed in a future version. To read from a literal string, wrap it in a 'StringIO' object.\n",
      "  df = pd.read_html(data)[1]\n"
     ]
    },
    {
     "name": "stdout",
     "output_type": "stream",
     "text": [
      "0                  一清片\n",
      "1                   片剂\n",
      "2           黄连, 大黄, 黄芩\n",
      "3    开水冲服。一次2片，一日3~4次。\n",
      "4                  清热药\n",
      "Name: 0, dtype: object\n"
     ]
    },
    {
     "name": "stderr",
     "output_type": "stream",
     "text": [
      "C:\\Users\\15382\\AppData\\Local\\Temp\\ipykernel_198532\\764970698.py:31: FutureWarning: Passing literal html to 'read_html' is deprecated and will be removed in a future version. To read from a literal string, wrap it in a 'StringIO' object.\n",
      "  df = pd.read_html(data)[1]\n"
     ]
    },
    {
     "name": "stdout",
     "output_type": "stream",
     "text": [
      "0                                                  镇银膏\n",
      "1                                                  软膏剂\n",
      "2                                      黄连, 白鲜皮, 花椒, 知母\n",
      "3    外用。用软毛刷蘸药涂皮肤与皮损部位。涂药后用聚乙烯塑料薄膜包封。每5天换药一次（详细用法遵医嘱）。\n",
      "4                                                活血化瘀药\n",
      "Name: 0, dtype: object\n"
     ]
    },
    {
     "name": "stderr",
     "output_type": "stream",
     "text": [
      "C:\\Users\\15382\\AppData\\Local\\Temp\\ipykernel_198532\\764970698.py:31: FutureWarning: Passing literal html to 'read_html' is deprecated and will be removed in a future version. To read from a literal string, wrap it in a 'StringIO' object.\n",
      "  df = pd.read_html(data)[1]\n"
     ]
    },
    {
     "name": "stdout",
     "output_type": "stream",
     "text": [
      "0                                         安宫牛黄胶囊\n",
      "1                                            胶囊剂\n",
      "2    牛黄, 水牛角浓缩粉, 麝香, 雄黄, 朱砂, 珍珠, 黄芩, 栀子, 郁金, 冰片,\n",
      "3                           一次2粒，一日3次，小儿酌减，或遵医嘱。\n",
      "4                                            开窍药\n",
      "Name: 0, dtype: object\n"
     ]
    },
    {
     "name": "stderr",
     "output_type": "stream",
     "text": [
      "C:\\Users\\15382\\AppData\\Local\\Temp\\ipykernel_198532\\764970698.py:31: FutureWarning: Passing literal html to 'read_html' is deprecated and will be removed in a future version. To read from a literal string, wrap it in a 'StringIO' object.\n",
      "  df = pd.read_html(data)[1]\n"
     ]
    },
    {
     "name": "stdout",
     "output_type": "stream",
     "text": [
      "0                                                安宫牛黄散\n",
      "1                                                   散剂\n",
      "2      人工牛黄, 水牛角浓缩粉, 人工麝香, 珍珠, 朱砂, 雄黄, 黄连, 黄芩, 栀子, 郁金,\n",
      "3    口服。一次1.6g，一日1次；小儿三岁以内一次0.4g，四岁至六岁一次0.8g，一日1次；或...\n",
      "4                                                  开窍药\n",
      "Name: 0, dtype: object\n"
     ]
    },
    {
     "name": "stderr",
     "output_type": "stream",
     "text": [
      "C:\\Users\\15382\\AppData\\Local\\Temp\\ipykernel_198532\\764970698.py:31: FutureWarning: Passing literal html to 'read_html' is deprecated and will be removed in a future version. To read from a literal string, wrap it in a 'StringIO' object.\n",
      "  df = pd.read_html(data)[1]\n"
     ]
    },
    {
     "name": "stdout",
     "output_type": "stream",
     "text": [
      "0                                                安宫牛黄栓\n",
      "1                                                   栓剂\n",
      "2            人工牛黄, 麝香, 珍珠, 朱砂, 雄黄, 黄连, 黄芩, 栀子, 郁金, 冰片,\n",
      "3    直肠给药，一次一粒。小儿三岁以内，一次0.75克，4-6岁一次1.5克，成人一次3g，一日1...\n",
      "4                                                  开窍药\n",
      "Name: 0, dtype: object\n"
     ]
    },
    {
     "name": "stderr",
     "output_type": "stream",
     "text": [
      "C:\\Users\\15382\\AppData\\Local\\Temp\\ipykernel_198532\\764970698.py:31: FutureWarning: Passing literal html to 'read_html' is deprecated and will be removed in a future version. To read from a literal string, wrap it in a 'StringIO' object.\n",
      "  df = pd.read_html(data)[1]\n"
     ]
    },
    {
     "name": "stdout",
     "output_type": "stream",
     "text": [
      "0                                                安宫牛黄丸\n",
      "1                                                   丸剂\n",
      "2          牛黄, 水牛角浓缩粉, 麝香, 珍珠, 朱砂, 雄黄, 黄连, 黄芩, 栀子, 郁金,\n",
      "3    口服。一次 1 丸，一日 1 次；小儿三岁以内一次 1/4 丸，四岁至六岁一次1/2 丸，一...\n",
      "4                                                  清热药\n",
      "Name: 0, dtype: object\n"
     ]
    },
    {
     "name": "stderr",
     "output_type": "stream",
     "text": [
      "C:\\Users\\15382\\AppData\\Local\\Temp\\ipykernel_198532\\764970698.py:31: FutureWarning: Passing literal html to 'read_html' is deprecated and will be removed in a future version. To read from a literal string, wrap it in a 'StringIO' object.\n",
      "  df = pd.read_html(data)[1]\n"
     ]
    },
    {
     "name": "stdout",
     "output_type": "stream",
     "text": [
      "0                                         安脑牛黄胶囊\n",
      "1                                            胶囊剂\n",
      "2    人工牛黄, 朱砂, 冰片, 石膏, 金银花, 连翘, 栀子, 黄芩, 知母, 郁金香,\n",
      "3                         口服，一日4-6粒，一日2-3次；或遵医嘱。\n",
      "4                                            安神药\n",
      "Name: 0, dtype: object\n"
     ]
    },
    {
     "name": "stderr",
     "output_type": "stream",
     "text": [
      "C:\\Users\\15382\\AppData\\Local\\Temp\\ipykernel_198532\\764970698.py:31: FutureWarning: Passing literal html to 'read_html' is deprecated and will be removed in a future version. To read from a literal string, wrap it in a 'StringIO' object.\n",
      "  df = pd.read_html(data)[1]\n"
     ]
    },
    {
     "name": "stdout",
     "output_type": "stream",
     "text": [
      "0                                                 柏洁洗剂\n",
      "1                                                   洗剂\n",
      "2                                     紫花地丁, 黄柏, 黄连, 苦参\n",
      "3    阴道冲洗。每次取本品50ml置于冲洗器，用温开水稀释至100ml，冲洗阴道，每日一次，连续7...\n",
      "4                                                  清热药\n",
      "Name: 0, dtype: object\n"
     ]
    },
    {
     "name": "stderr",
     "output_type": "stream",
     "text": [
      "C:\\Users\\15382\\AppData\\Local\\Temp\\ipykernel_198532\\764970698.py:31: FutureWarning: Passing literal html to 'read_html' is deprecated and will be removed in a future version. To read from a literal string, wrap it in a 'StringIO' object.\n",
      "  df = pd.read_html(data)[1]\n"
     ]
    },
    {
     "name": "stdout",
     "output_type": "stream",
     "text": [
      "0                             半夏和胃颗粒\n",
      "1                                颗粒剂\n",
      "2    半夏(姜制), 黄芩, 干姜, 黄连, 党参, 炙甘草, 大枣\n",
      "3                  温开水冲服。一次10g，一日3次。\n",
      "4                          化痰、止咳、平喘药\n",
      "Name: 0, dtype: object\n"
     ]
    },
    {
     "name": "stderr",
     "output_type": "stream",
     "text": [
      "C:\\Users\\15382\\AppData\\Local\\Temp\\ipykernel_198532\\764970698.py:31: FutureWarning: Passing literal html to 'read_html' is deprecated and will be removed in a future version. To read from a literal string, wrap it in a 'StringIO' object.\n",
      "  df = pd.read_html(data)[1]\n"
     ]
    },
    {
     "name": "stdout",
     "output_type": "stream",
     "text": [
      "0                                             荜铃胃痛颗粒\n",
      "1                                                颗粒剂\n",
      "2    荜澄茄, 川梀子, 醋延胡索, 酒大黄, 黄连, 吴茱萸, 醋香附, 香橼, 佛手, 海螵鞘,\n",
      "3                                    开水冲服。一次5克，一日3次。\n",
      "4                                                理气药\n",
      "Name: 0, dtype: object\n"
     ]
    },
    {
     "name": "stderr",
     "output_type": "stream",
     "text": [
      "C:\\Users\\15382\\AppData\\Local\\Temp\\ipykernel_198532\\764970698.py:31: FutureWarning: Passing literal html to 'read_html' is deprecated and will be removed in a future version. To read from a literal string, wrap it in a 'StringIO' object.\n",
      "  df = pd.read_html(data)[1]\n"
     ]
    },
    {
     "name": "stdout",
     "output_type": "stream",
     "text": [
      "0                   冰黄软膏\n",
      "1                    软膏剂\n",
      "2    大黄, 硫黄, 黄连, 冰片, 氯霉素\n",
      "3       温水洗脸后取软膏剂适量涂于面部。\n",
      "4                    清热药\n",
      "Name: 0, dtype: object\n"
     ]
    },
    {
     "name": "stderr",
     "output_type": "stream",
     "text": [
      "C:\\Users\\15382\\AppData\\Local\\Temp\\ipykernel_198532\\764970698.py:31: FutureWarning: Passing literal html to 'read_html' is deprecated and will be removed in a future version. To read from a literal string, wrap it in a 'StringIO' object.\n",
      "  df = pd.read_html(data)[1]\n"
     ]
    },
    {
     "name": "stdout",
     "output_type": "stream",
     "text": [
      "0                                             拨云退翳丸\n",
      "1                                               滴眼剂\n",
      "2    密蒙花, 蒺藜(盐炒), 菊花, 木贼, 蝉蜕, 荆芥穗, 蔓荆子, 薄荷, 当归, 川芎,\n",
      "3                                     口服，一次1丸，一日2次。\n",
      "4                                               清热药\n",
      "Name: 0, dtype: object\n"
     ]
    },
    {
     "name": "stderr",
     "output_type": "stream",
     "text": [
      "C:\\Users\\15382\\AppData\\Local\\Temp\\ipykernel_198532\\764970698.py:31: FutureWarning: Passing literal html to 'read_html' is deprecated and will be removed in a future version. To read from a literal string, wrap it in a 'StringIO' object.\n",
      "  df = pd.read_html(data)[1]\n"
     ]
    },
    {
     "name": "stdout",
     "output_type": "stream",
     "text": [
      "0                                               参柏舒阴洗液\n",
      "1                                                   洗剂\n",
      "2            苦参, 黄柏, 丹参, 大青叶, 硼砂, 大黄, 黄芩, 黄连, 甘草, 蛇床子,\n",
      "3    外阴炎：用10％浓度的洗液100ml坐浴擦洗，每次5分钟，每日1次，七日为一疗程；阴道炎：采...\n",
      "4                                                  扶正药\n",
      "Name: 0, dtype: object\n"
     ]
    },
    {
     "name": "stderr",
     "output_type": "stream",
     "text": [
      "C:\\Users\\15382\\AppData\\Local\\Temp\\ipykernel_198532\\764970698.py:31: FutureWarning: Passing literal html to 'read_html' is deprecated and will be removed in a future version. To read from a literal string, wrap it in a 'StringIO' object.\n",
      "  df = pd.read_html(data)[1]\n"
     ]
    },
    {
     "name": "stdout",
     "output_type": "stream",
     "text": [
      "0                                         参柏洗液\n",
      "1                                           洗剂\n",
      "2    苦参, 黄柏, 丹参, 大青叶, 硼砂, 大黄, 黄芩, 黄连, 甘草, 蛇床子,\n",
      "3        外用。以本品适量直接洗浴3～5分钟，或加水稀释后浸泡，然后用清水冲洗即可。\n",
      "4                                          清热药\n",
      "Name: 0, dtype: object\n"
     ]
    },
    {
     "name": "stderr",
     "output_type": "stream",
     "text": [
      "C:\\Users\\15382\\AppData\\Local\\Temp\\ipykernel_198532\\764970698.py:31: FutureWarning: Passing literal html to 'read_html' is deprecated and will be removed in a future version. To read from a literal string, wrap it in a 'StringIO' object.\n",
      "  df = pd.read_html(data)[1]\n"
     ]
    },
    {
     "name": "stdout",
     "output_type": "stream",
     "text": [
      "0                                           参红祛瘀散结胶囊\n",
      "1                                                胶囊剂\n",
      "2    人参, 红花, 黄氏, 党参, 当归, 鸡血藤, 延胡索(醋制), 木香, 枸杞子, 龙眼肉,\n",
      "3                           口服。一次2-4粒，一日3次：儿童酌减或遵医曙。\n",
      "4                                                扶正药\n",
      "Name: 0, dtype: object\n"
     ]
    },
    {
     "name": "stderr",
     "output_type": "stream",
     "text": [
      "C:\\Users\\15382\\AppData\\Local\\Temp\\ipykernel_198532\\764970698.py:31: FutureWarning: Passing literal html to 'read_html' is deprecated and will be removed in a future version. To read from a literal string, wrap it in a 'StringIO' object.\n",
      "  df = pd.read_html(data)[1]\n"
     ]
    },
    {
     "name": "stdout",
     "output_type": "stream",
     "text": [
      "0                                      参精止渴丸\n",
      "1                                         丸剂\n",
      "2    红参, 黄芪, 黄精, 茯苓, 白术, 葛根, 五味子, 黄连, 大黄, 甘草\n",
      "3                        口服，一次10g ，一日2 ～3 次。\n",
      "4                                        扶正药\n",
      "Name: 0, dtype: object\n"
     ]
    },
    {
     "name": "stderr",
     "output_type": "stream",
     "text": [
      "C:\\Users\\15382\\AppData\\Local\\Temp\\ipykernel_198532\\764970698.py:31: FutureWarning: Passing literal html to 'read_html' is deprecated and will be removed in a future version. To read from a literal string, wrap it in a 'StringIO' object.\n",
      "  df = pd.read_html(data)[1]\n"
     ]
    },
    {
     "name": "stdout",
     "output_type": "stream",
     "text": [
      "0                                     参龙宁心胶囊\n",
      "1                                        胶囊剂\n",
      "2    人参, 麦冬, 地黄, 葛根, 黄连, 莲子心, 羌活, 地龙, 甘草(蜜炙)\n",
      "3                              口服.一次4粒，一日3次。\n",
      "4                                        扶正药\n",
      "Name: 0, dtype: object\n"
     ]
    },
    {
     "name": "stderr",
     "output_type": "stream",
     "text": [
      "C:\\Users\\15382\\AppData\\Local\\Temp\\ipykernel_198532\\764970698.py:31: FutureWarning: Passing literal html to 'read_html' is deprecated and will be removed in a future version. To read from a literal string, wrap it in a 'StringIO' object.\n",
      "  df = pd.read_html(data)[1]\n"
     ]
    },
    {
     "name": "stdout",
     "output_type": "stream",
     "text": [
      "0                                            参松养心胶囊\n",
      "1                                               胶囊剂\n",
      "2    人参, 麦冬, 山茱萸, 丹参, 酸枣仁(炒), 桑寄生, 赤芍, 土鳖虫, 甘松, 黄连,\n",
      "3                                   口服。一次2-4粒，一日3次。\n",
      "4                                               解表药\n",
      "Name: 0, dtype: object\n"
     ]
    },
    {
     "name": "stderr",
     "output_type": "stream",
     "text": [
      "C:\\Users\\15382\\AppData\\Local\\Temp\\ipykernel_198532\\764970698.py:31: FutureWarning: Passing literal html to 'read_html' is deprecated and will be removed in a future version. To read from a literal string, wrap it in a 'StringIO' object.\n",
      "  df = pd.read_html(data)[1]\n"
     ]
    },
    {
     "name": "stdout",
     "output_type": "stream",
     "text": [
      "0                      苍辛气雾剂\n",
      "1                        气雾剂\n",
      "2    苍耳子, 辛夷, 白芷, 细辛, 黄连, 瓜蒂\n",
      "3          每侧鼻孔喷三揿，重症者可重复使用。\n",
      "4                        扶正药\n",
      "Name: 0, dtype: object\n"
     ]
    },
    {
     "name": "stderr",
     "output_type": "stream",
     "text": [
      "C:\\Users\\15382\\AppData\\Local\\Temp\\ipykernel_198532\\764970698.py:31: FutureWarning: Passing literal html to 'read_html' is deprecated and will be removed in a future version. To read from a literal string, wrap it in a 'StringIO' object.\n",
      "  df = pd.read_html(data)[1]\n"
     ]
    },
    {
     "name": "stdout",
     "output_type": "stream",
     "text": [
      "0                                               肠舒止泻胶囊\n",
      "1                                                  胶囊剂\n",
      "2    鸡屎藤, 砂仁, 人参, 山药, 苍术(炒), 黄柏, 黄连, 木香(炒), 小茴香(炒),...\n",
      "3                            口服，一次2～4粒，一日3次。儿童酌减；或遵医嘱。\n",
      "4                                                  扶正药\n",
      "Name: 0, dtype: object\n"
     ]
    },
    {
     "name": "stderr",
     "output_type": "stream",
     "text": [
      "C:\\Users\\15382\\AppData\\Local\\Temp\\ipykernel_198532\\764970698.py:31: FutureWarning: Passing literal html to 'read_html' is deprecated and will be removed in a future version. To read from a literal string, wrap it in a 'StringIO' object.\n",
      "  df = pd.read_html(data)[1]\n"
     ]
    },
    {
     "name": "stdout",
     "output_type": "stream",
     "text": [
      "0                                                肠舒止泻片\n",
      "1                                                   片剂\n",
      "2    鸡矢藤, 砂仁, 人参, 山药, 苍术(炒), 黄柏, 黄连, 木香(炒), 小茴香(炒),...\n",
      "3                                         一次2~4片，一日3次。\n",
      "4                                                  扶正药\n",
      "Name: 0, dtype: object\n"
     ]
    },
    {
     "name": "stderr",
     "output_type": "stream",
     "text": [
      "C:\\Users\\15382\\AppData\\Local\\Temp\\ipykernel_198532\\764970698.py:31: FutureWarning: Passing literal html to 'read_html' is deprecated and will be removed in a future version. To read from a literal string, wrap it in a 'StringIO' object.\n",
      "  df = pd.read_html(data)[1]\n"
     ]
    },
    {
     "name": "stdout",
     "output_type": "stream",
     "text": [
      "0                                          除湿止痒软膏\n",
      "1                                             膏药剂\n",
      "2    蛇床子, 黄连, 黄柏, 白藓皮, 苦参, 虎杖, 紫花地丁, 地肤子, 扁蓄, 茵陈,\n",
      "3                                 外用，一日3～4次，涂抹患处。\n",
      "4                                             清热药\n",
      "Name: 0, dtype: object\n"
     ]
    },
    {
     "name": "stderr",
     "output_type": "stream",
     "text": [
      "C:\\Users\\15382\\AppData\\Local\\Temp\\ipykernel_198532\\764970698.py:31: FutureWarning: Passing literal html to 'read_html' is deprecated and will be removed in a future version. To read from a literal string, wrap it in a 'StringIO' object.\n",
      "  df = pd.read_html(data)[1]\n"
     ]
    },
    {
     "name": "stdout",
     "output_type": "stream",
     "text": [
      "0                                          除湿止痒洗液\n",
      "1                                              洗剂\n",
      "2    蛇床子, 黄连, 黄柏, 白鲜皮, 苦参, 虎杖, 紫花地丁, 地肤子, 萹蓄, 茵陈,\n",
      "3                    外用，一日3～4次，涂抹患处；亦可用水稀释10倍后洗浴。\n",
      "4                                             清热药\n",
      "Name: 0, dtype: object\n"
     ]
    },
    {
     "name": "stderr",
     "output_type": "stream",
     "text": [
      "C:\\Users\\15382\\AppData\\Local\\Temp\\ipykernel_198532\\764970698.py:31: FutureWarning: Passing literal html to 'read_html' is deprecated and will be removed in a future version. To read from a literal string, wrap it in a 'StringIO' object.\n",
      "  df = pd.read_html(data)[1]\n"
     ]
    },
    {
     "name": "stdout",
     "output_type": "stream",
     "text": [
      "0                                          丹桂香胶囊\n",
      "1                                            胶囊剂\n",
      "2    黄芪(制), 桂枝, 吴茱萸, 肉桂, 细辛, 桃仁, 红花, 当归, 川芎, 赤芍,\n",
      "3                       口服，一次4粒，一日3次，饭前半小时服用，8周。\n",
      "4                                            理气药\n",
      "Name: 0, dtype: object\n"
     ]
    },
    {
     "name": "stderr",
     "output_type": "stream",
     "text": [
      "C:\\Users\\15382\\AppData\\Local\\Temp\\ipykernel_198532\\764970698.py:31: FutureWarning: Passing literal html to 'read_html' is deprecated and will be removed in a future version. To read from a literal string, wrap it in a 'StringIO' object.\n",
      "  df = pd.read_html(data)[1]\n"
     ]
    },
    {
     "name": "stdout",
     "output_type": "stream",
     "text": [
      "0                                        丹桂香颗粒\n",
      "1                                          颗粒剂\n",
      "2    炙黄芪, 桂枝, 吴茱萸, 肉桂, 细辛, 桃仁, 红花, 当归, 川芎, 赤芍,\n",
      "3                       口服。一次20克，一日3次，饭前半小时服用。\n",
      "4                                          理气药\n",
      "Name: 0, dtype: object\n"
     ]
    },
    {
     "name": "stderr",
     "output_type": "stream",
     "text": [
      "C:\\Users\\15382\\AppData\\Local\\Temp\\ipykernel_198532\\764970698.py:31: FutureWarning: Passing literal html to 'read_html' is deprecated and will be removed in a future version. To read from a literal string, wrap it in a 'StringIO' object.\n",
      "  df = pd.read_html(data)[1]\n"
     ]
    },
    {
     "name": "stdout",
     "output_type": "stream",
     "text": [
      "0                                当归龙荟胶囊\n",
      "1                                   胶囊剂\n",
      "2    当归, 芦荟, 大黄, 龙胆, 黄连, 黄芩, 栀子, 黄柏, 木香\n",
      "3                         口服，一次3粒，一日2次。\n",
      "4                                   清热药\n",
      "Name: 0, dtype: object\n"
     ]
    },
    {
     "name": "stderr",
     "output_type": "stream",
     "text": [
      "C:\\Users\\15382\\AppData\\Local\\Temp\\ipykernel_198532\\764970698.py:31: FutureWarning: Passing literal html to 'read_html' is deprecated and will be removed in a future version. To read from a literal string, wrap it in a 'StringIO' object.\n",
      "  df = pd.read_html(data)[1]\n"
     ]
    },
    {
     "name": "stdout",
     "output_type": "stream",
     "text": [
      "0                                             导赤丸\n",
      "1                                              丸剂\n",
      "2    连翘, 黄连, 栀子(姜炒), 关木通, 玄参, 天花粉, 赤芍, 大黄, 黄芩, 滑石\n",
      "3                                   口服，一次1丸，一日2次。\n",
      "4                                             清热药\n",
      "Name: 0, dtype: object\n"
     ]
    },
    {
     "name": "stderr",
     "output_type": "stream",
     "text": [
      "C:\\Users\\15382\\AppData\\Local\\Temp\\ipykernel_198532\\764970698.py:31: FutureWarning: Passing literal html to 'read_html' is deprecated and will be removed in a future version. To read from a literal string, wrap it in a 'StringIO' object.\n",
      "  df = pd.read_html(data)[1]\n"
     ]
    },
    {
     "name": "stdout",
     "output_type": "stream",
     "text": [
      "0                                       东方胃药胶囊\n",
      "1                                          胶囊剂\n",
      "2    柴胡, 黄连, 香附, 白芍, 法落海, 枳实, 大黄, 延胡索, 川芎, 地黄,\n",
      "3                            口服，一日3次，一次4粒或遵医嘱。\n",
      "4                                          理气药\n",
      "Name: 0, dtype: object\n"
     ]
    },
    {
     "name": "stderr",
     "output_type": "stream",
     "text": [
      "C:\\Users\\15382\\AppData\\Local\\Temp\\ipykernel_198532\\764970698.py:31: FutureWarning: Passing literal html to 'read_html' is deprecated and will be removed in a future version. To read from a literal string, wrap it in a 'StringIO' object.\n",
      "  df = pd.read_html(data)[1]\n"
     ]
    },
    {
     "name": "stdout",
     "output_type": "stream",
     "text": [
      "0                                     儿童感热清丸\n",
      "1                                         丸剂\n",
      "2    人工牛黄, 麝香, 羚羊角, 人参, 黄连, 牛胆粉, 丁香, 甘草, 百草霜\n",
      "3        口服，十二至十五岁一次20丸，一日3次；十二岁以下小儿酌减，或遵医嘱。\n",
      "4                                        清热药\n",
      "Name: 0, dtype: object\n"
     ]
    },
    {
     "name": "stderr",
     "output_type": "stream",
     "text": [
      "C:\\Users\\15382\\AppData\\Local\\Temp\\ipykernel_198532\\764970698.py:31: FutureWarning: Passing literal html to 'read_html' is deprecated and will be removed in a future version. To read from a literal string, wrap it in a 'StringIO' object.\n",
      "  df = pd.read_html(data)[1]\n"
     ]
    },
    {
     "name": "stdout",
     "output_type": "stream",
     "text": [
      "0                                        肤康搽剂\n",
      "1                                          搽剂\n",
      "2    苦参, 黄连, 红花, 川芎, 丁香, 人参, 乌梅, 槐米, 白芍, 五味子,\n",
      "3                                 外用，一日搽3～4次。\n",
      "4                                         清热药\n",
      "Name: 0, dtype: object\n"
     ]
    },
    {
     "name": "stderr",
     "output_type": "stream",
     "text": [
      "C:\\Users\\15382\\AppData\\Local\\Temp\\ipykernel_198532\\764970698.py:31: FutureWarning: Passing literal html to 'read_html' is deprecated and will be removed in a future version. To read from a literal string, wrap it in a 'StringIO' object.\n",
      "  df = pd.read_html(data)[1]\n"
     ]
    },
    {
     "name": "stdout",
     "output_type": "stream",
     "text": [
      "0                                               肤芪止痒洗剂\n",
      "1                                                   洗剂\n",
      "2          黄柏, 苦参, 蛇床子, 地肤子, 黄连, 大青叶, 赤芍, 黄芪, 何首乌, 当归,\n",
      "3    外用，用前摇匀，每次取原药液10毫升，加温开水约10倍量稀释，直接反复冲洗皮肤或阴部，每次保...\n",
      "4                                                  清热药\n",
      "Name: 0, dtype: object\n"
     ]
    },
    {
     "name": "stderr",
     "output_type": "stream",
     "text": [
      "C:\\Users\\15382\\AppData\\Local\\Temp\\ipykernel_198532\\764970698.py:31: FutureWarning: Passing literal html to 'read_html' is deprecated and will be removed in a future version. To read from a literal string, wrap it in a 'StringIO' object.\n",
      "  df = pd.read_html(data)[1]\n"
     ]
    },
    {
     "name": "stdout",
     "output_type": "stream",
     "text": [
      "0                 福康片\n",
      "1                  片剂\n",
      "2    洋金花, 制川乌, 牛黄, 黄连\n",
      "3        一次3～4片，一日3次。\n",
      "4                 扶正药\n",
      "Name: 0, dtype: object\n"
     ]
    },
    {
     "name": "stderr",
     "output_type": "stream",
     "text": [
      "C:\\Users\\15382\\AppData\\Local\\Temp\\ipykernel_198532\\764970698.py:31: FutureWarning: Passing literal html to 'read_html' is deprecated and will be removed in a future version. To read from a literal string, wrap it in a 'StringIO' object.\n",
      "  df = pd.read_html(data)[1]\n"
     ]
    },
    {
     "name": "stdout",
     "output_type": "stream",
     "text": [
      "0                                                 妇宝金丸\n",
      "1                                                   丸剂\n",
      "2    当归, 川芎, 白芍, 地黄, 熟地黄, 益母草, 黄芪(蜜炙), 党参, 白术(麸炒), 苍术,\n",
      "3                              口服，一次6～7g（30～35粒），一日2次。\n",
      "4                                                  扶正药\n",
      "Name: 0, dtype: object\n"
     ]
    },
    {
     "name": "stderr",
     "output_type": "stream",
     "text": [
      "C:\\Users\\15382\\AppData\\Local\\Temp\\ipykernel_198532\\764970698.py:31: FutureWarning: Passing literal html to 'read_html' is deprecated and will be removed in a future version. To read from a literal string, wrap it in a 'StringIO' object.\n",
      "  df = pd.read_html(data)[1]\n"
     ]
    },
    {
     "name": "stdout",
     "output_type": "stream",
     "text": [
      "0                                        妇科分清丸\n",
      "1                                           丸剂\n",
      "2    当归, 白芍, 川芎, 地黄, 栀子, 黄连, 石韦, 海金沙, 甘草, 关木通,\n",
      "3                                口服，一次9g，一日2次。\n",
      "4                                          理血药\n",
      "Name: 0, dtype: object\n"
     ]
    },
    {
     "name": "stderr",
     "output_type": "stream",
     "text": [
      "C:\\Users\\15382\\AppData\\Local\\Temp\\ipykernel_198532\\764970698.py:31: FutureWarning: Passing literal html to 'read_html' is deprecated and will be removed in a future version. To read from a literal string, wrap it in a 'StringIO' object.\n",
      "  df = pd.read_html(data)[1]\n"
     ]
    },
    {
     "name": "stdout",
     "output_type": "stream",
     "text": [
      "0                                  复方虎杖烧伤油\n",
      "1                                       油剂\n",
      "2             虎杖, 龙骨(煅), 象皮(制), 冰片, 黄连, 甘草\n",
      "3    外用，将药油摇匀后涂于创面，一日2～3次。亦可用其进行半暴露及包扎疗法；。\n",
      "4                                      扶正药\n",
      "Name: 0, dtype: object\n"
     ]
    },
    {
     "name": "stderr",
     "output_type": "stream",
     "text": [
      "C:\\Users\\15382\\AppData\\Local\\Temp\\ipykernel_198532\\764970698.py:31: FutureWarning: Passing literal html to 'read_html' is deprecated and will be removed in a future version. To read from a literal string, wrap it in a 'StringIO' object.\n",
      "  df = pd.read_html(data)[1]\n"
     ]
    },
    {
     "name": "stdout",
     "output_type": "stream",
     "text": [
      "0                               复方苦参肠炎康片\n",
      "1                                     片剂\n",
      "2    苦参, 黄连, 黄芩, 白芍, 车前子, 金银花, 甘草, 颠茄流浸膏\n",
      "3              口服。一日3次，每次4片，3天为一疗程，或遵医嘱。\n",
      "4                                    清热药\n",
      "Name: 0, dtype: object\n"
     ]
    },
    {
     "name": "stderr",
     "output_type": "stream",
     "text": [
      "C:\\Users\\15382\\AppData\\Local\\Temp\\ipykernel_198532\\764970698.py:31: FutureWarning: Passing literal html to 'read_html' is deprecated and will be removed in a future version. To read from a literal string, wrap it in a 'StringIO' object.\n",
      "  df = pd.read_html(data)[1]\n"
     ]
    },
    {
     "name": "stdout",
     "output_type": "stream",
     "text": [
      "0                                              复方清带灌注液\n",
      "1                                                  注射剂\n",
      "2            熊胆粉, 苦参, 蛇床子, 黄连, 土荆皮, 雄黄, 丁香叶, 儿茶, 白矾(煅)\n",
      "3    本品包装为一次使用剂量，使用前将药液摇匀，病人取仰卧位垫高臀部，将瓶颈轻轻插入阴道8～10公...\n",
      "4                                                  清热药\n",
      "Name: 0, dtype: object\n"
     ]
    },
    {
     "name": "stderr",
     "output_type": "stream",
     "text": [
      "C:\\Users\\15382\\AppData\\Local\\Temp\\ipykernel_198532\\764970698.py:31: FutureWarning: Passing literal html to 'read_html' is deprecated and will be removed in a future version. To read from a literal string, wrap it in a 'StringIO' object.\n",
      "  df = pd.read_html(data)[1]\n"
     ]
    },
    {
     "name": "stdout",
     "output_type": "stream",
     "text": [
      "0                                     复方清带散\n",
      "1                                        散剂\n",
      "2    熊胆粉, 苦参, 蛇床子, 黄连, 土荆皮, 雄黄, 丁香叶, 儿茶, 白矾\n",
      "3               将药粉装入阴道喷洒器，喷洒于患部。一次一袋，一日一次。\n",
      "4                                       清热药\n",
      "Name: 0, dtype: object\n"
     ]
    },
    {
     "name": "stderr",
     "output_type": "stream",
     "text": [
      "C:\\Users\\15382\\AppData\\Local\\Temp\\ipykernel_198532\\764970698.py:31: FutureWarning: Passing literal html to 'read_html' is deprecated and will be removed in a future version. To read from a literal string, wrap it in a 'StringIO' object.\n",
      "  df = pd.read_html(data)[1]\n"
     ]
    },
    {
     "name": "stdout",
     "output_type": "stream",
     "text": [
      "0                   复方仙鹤草肠炎胶囊\n",
      "1                         胶囊剂\n",
      "2    仙鹤草, 黄连, 木香, 蝉蜕, 石菖蒲, 桔梗\n",
      "3           口服，一次3粒，一日3次。饭后服。\n",
      "4                         清热药\n",
      "Name: 0, dtype: object\n"
     ]
    },
    {
     "name": "stderr",
     "output_type": "stream",
     "text": [
      "C:\\Users\\15382\\AppData\\Local\\Temp\\ipykernel_198532\\764970698.py:31: FutureWarning: Passing literal html to 'read_html' is deprecated and will be removed in a future version. To read from a literal string, wrap it in a 'StringIO' object.\n",
      "  df = pd.read_html(data)[1]\n"
     ]
    },
    {
     "name": "stdout",
     "output_type": "stream",
     "text": [
      "0                    复方仙鹤草肠炎片\n",
      "1                          片剂\n",
      "2    仙鹤草, 黄连, 木香, 蝉蜕, 石菖蒲, 桔梗\n",
      "3          口服。一次3片，一日3次，饭后服用。\n",
      "4                         清热药\n",
      "Name: 0, dtype: object\n"
     ]
    },
    {
     "name": "stderr",
     "output_type": "stream",
     "text": [
      "C:\\Users\\15382\\AppData\\Local\\Temp\\ipykernel_198532\\764970698.py:31: FutureWarning: Passing literal html to 'read_html' is deprecated and will be removed in a future version. To read from a literal string, wrap it in a 'StringIO' object.\n",
      "  df = pd.read_html(data)[1]\n"
     ]
    },
    {
     "name": "stdout",
     "output_type": "stream",
     "text": [
      "0                                   复方栀子气雾剂\n",
      "1                                       气雾剂\n",
      "2    苦参, 栀子, 紫草, 地榆, 花椒, 冰片, 大黄, 黄连, 槐花, 细辛\n",
      "3              外用，用前振摇，直立揿压阀门，使药液喷于患处，覆盖为度。\n",
      "4                                       清热药\n",
      "Name: 0, dtype: object\n"
     ]
    },
    {
     "name": "stderr",
     "output_type": "stream",
     "text": [
      "C:\\Users\\15382\\AppData\\Local\\Temp\\ipykernel_198532\\764970698.py:31: FutureWarning: Passing literal html to 'read_html' is deprecated and will be removed in a future version. To read from a literal string, wrap it in a 'StringIO' object.\n",
      "  df = pd.read_html(data)[1]\n"
     ]
    },
    {
     "name": "stdout",
     "output_type": "stream",
     "text": [
      "0                                            复明胶囊\n",
      "1                                             胶囊剂\n",
      "2    羚羊角, 蒺藜, 木贼, 菊花, 车前子, 夏枯草, 决明子, 人参, 山茱萸, 石斛,\n",
      "3                            口服，一次5粒，一日3次，一疗程30天。\n",
      "4                                             扶正药\n",
      "Name: 0, dtype: object\n"
     ]
    },
    {
     "name": "stderr",
     "output_type": "stream",
     "text": [
      "C:\\Users\\15382\\AppData\\Local\\Temp\\ipykernel_198532\\764970698.py:31: FutureWarning: Passing literal html to 'read_html' is deprecated and will be removed in a future version. To read from a literal string, wrap it in a 'StringIO' object.\n",
      "  df = pd.read_html(data)[1]\n"
     ]
    },
    {
     "name": "stdout",
     "output_type": "stream",
     "text": [
      "0                                                复明颗粒\n",
      "1                                                 颗粒剂\n",
      "2    菊花, 决明子, 石斛, 人参, 枸杞子, 山茱萸(制), 熟地黄, 黄连, 羚羊角, 石决明,\n",
      "3                                口服。一次一袋，一日三次，每疗程30天。\n",
      "4                                                 扶正药\n",
      "Name: 0, dtype: object\n"
     ]
    },
    {
     "name": "stderr",
     "output_type": "stream",
     "text": [
      "C:\\Users\\15382\\AppData\\Local\\Temp\\ipykernel_198532\\764970698.py:31: FutureWarning: Passing literal html to 'read_html' is deprecated and will be removed in a future version. To read from a literal string, wrap it in a 'StringIO' object.\n",
      "  df = pd.read_html(data)[1]\n"
     ]
    },
    {
     "name": "stdout",
     "output_type": "stream",
     "text": [
      "0                                            肝胆清胶囊\n",
      "1                                              胶囊剂\n",
      "2    猪鬃草, 金钱草, 龙胆, 大黄, 黄连, 延胡索, 鸡内金, 赭石, 吴茱萸, 微粉硅胶\n",
      "3                     口服。一次4～6粒，一日 3次，30天为一疗程或遵医嘱。\n",
      "4                                              清热药\n",
      "Name: 0, dtype: object\n"
     ]
    },
    {
     "name": "stderr",
     "output_type": "stream",
     "text": [
      "C:\\Users\\15382\\AppData\\Local\\Temp\\ipykernel_198532\\764970698.py:31: FutureWarning: Passing literal html to 'read_html' is deprecated and will be removed in a future version. To read from a literal string, wrap it in a 'StringIO' object.\n",
      "  df = pd.read_html(data)[1]\n"
     ]
    },
    {
     "name": "stdout",
     "output_type": "stream",
     "text": [
      "0                                       肝胆清片\n",
      "1                                         片剂\n",
      "2    金钱草, 猪鬃草, 龙胆, 大黄, 黄连, 延胡索, 鸡内金, 赭石, 吴茱萸\n",
      "3               口服，一次4-6片，一日3次，30天为一疗程；或遵医嘱。\n",
      "4                                        清热药\n",
      "Name: 0, dtype: object\n"
     ]
    },
    {
     "name": "stderr",
     "output_type": "stream",
     "text": [
      "C:\\Users\\15382\\AppData\\Local\\Temp\\ipykernel_198532\\764970698.py:31: FutureWarning: Passing literal html to 'read_html' is deprecated and will be removed in a future version. To read from a literal string, wrap it in a 'StringIO' object.\n",
      "  df = pd.read_html(data)[1]\n"
     ]
    },
    {
     "name": "stdout",
     "output_type": "stream",
     "text": [
      "0               葛根芩连胶囊\n",
      "1                  胶囊剂\n",
      "2    葛根, 黄芩, 黄连, 甘草(炙)\n",
      "3      口服，一次3-4粒，一日3次。\n",
      "4                  清热药\n",
      "Name: 0, dtype: object\n"
     ]
    },
    {
     "name": "stderr",
     "output_type": "stream",
     "text": [
      "C:\\Users\\15382\\AppData\\Local\\Temp\\ipykernel_198532\\764970698.py:31: FutureWarning: Passing literal html to 'read_html' is deprecated and will be removed in a future version. To read from a literal string, wrap it in a 'StringIO' object.\n",
      "  df = pd.read_html(data)[1]\n"
     ]
    },
    {
     "name": "stdout",
     "output_type": "stream",
     "text": [
      "0               葛根芩连颗粒\n",
      "1                  颗粒剂\n",
      "2    葛根, 黄芩, 黄连, 甘草(炙)\n",
      "3      开水冲服，一次1袋，一日3次。\n",
      "4                  清热药\n",
      "Name: 0, dtype: object\n"
     ]
    },
    {
     "name": "stderr",
     "output_type": "stream",
     "text": [
      "C:\\Users\\15382\\AppData\\Local\\Temp\\ipykernel_198532\\764970698.py:31: FutureWarning: Passing literal html to 'read_html' is deprecated and will be removed in a future version. To read from a literal string, wrap it in a 'StringIO' object.\n",
      "  df = pd.read_html(data)[1]\n"
     ]
    },
    {
     "name": "stdout",
     "output_type": "stream",
     "text": [
      "0              葛根芩连口服液\n",
      "1                   合剂\n",
      "2    葛根, 黄芩, 黄连, 甘草(炙)\n",
      "3        口服，一次1支，一日2次。\n",
      "4                  清热药\n",
      "Name: 0, dtype: object\n"
     ]
    },
    {
     "name": "stderr",
     "output_type": "stream",
     "text": [
      "C:\\Users\\15382\\AppData\\Local\\Temp\\ipykernel_198532\\764970698.py:31: FutureWarning: Passing literal html to 'read_html' is deprecated and will be removed in a future version. To read from a literal string, wrap it in a 'StringIO' object.\n",
      "  df = pd.read_html(data)[1]\n"
     ]
    },
    {
     "name": "stdout",
     "output_type": "stream",
     "text": [
      "0                葛根芩连片\n",
      "1                   片剂\n",
      "2    葛根, 黄芩, 黄连, 甘草(炙)\n",
      "3      口服，一次3-4片，一日3次。\n",
      "4                  清热药\n",
      "Name: 0, dtype: object\n"
     ]
    },
    {
     "name": "stderr",
     "output_type": "stream",
     "text": [
      "C:\\Users\\15382\\AppData\\Local\\Temp\\ipykernel_198532\\764970698.py:31: FutureWarning: Passing literal html to 'read_html' is deprecated and will be removed in a future version. To read from a literal string, wrap it in a 'StringIO' object.\n",
      "  df = pd.read_html(data)[1]\n"
     ]
    },
    {
     "name": "stdout",
     "output_type": "stream",
     "text": [
      "0                葛根芩连丸（葛根芩连微丸）\n",
      "1                           丸剂\n",
      "2            葛根, 黄芩, 黄连, 甘草(炙)\n",
      "3    口服。一次3克；小儿一次1克，一日3次；或遵医嘱。\n",
      "4                          清热药\n",
      "Name: 0, dtype: object\n"
     ]
    },
    {
     "name": "stderr",
     "output_type": "stream",
     "text": [
      "C:\\Users\\15382\\AppData\\Local\\Temp\\ipykernel_198532\\764970698.py:31: FutureWarning: Passing literal html to 'read_html' is deprecated and will be removed in a future version. To read from a literal string, wrap it in a 'StringIO' object.\n",
      "  df = pd.read_html(data)[1]\n"
     ]
    },
    {
     "name": "stdout",
     "output_type": "stream",
     "text": [
      "0                                          参倍固肠胶囊\n",
      "1                                             胶囊剂\n",
      "2    五倍子, 肉豆蔻(煨), 诃子肉(煨), 乌梅, 木香, 苍术, 茯苓, 鹿角霜, 红参\n",
      "3                         口服，每日3次，每次4-6粒，饭后服或遵医嘱。\n",
      "4                                             扶正药\n",
      "Name: 0, dtype: object\n"
     ]
    },
    {
     "name": "stderr",
     "output_type": "stream",
     "text": [
      "C:\\Users\\15382\\AppData\\Local\\Temp\\ipykernel_198532\\764970698.py:31: FutureWarning: Passing literal html to 'read_html' is deprecated and will be removed in a future version. To read from a literal string, wrap it in a 'StringIO' object.\n",
      "  df = pd.read_html(data)[1]\n"
     ]
    },
    {
     "name": "stdout",
     "output_type": "stream",
     "text": [
      "0                          固肠止泻胶囊\n",
      "1                             胶囊剂\n",
      "2    乌梅或乌梅肉, 黄连, 干姜, 木香, 罂粟壳, 延胡索\n",
      "3     口服，一次4g（浓缩丸）或一次5g（水丸），一日3次。\n",
      "4                             固涩药\n",
      "Name: 0, dtype: object\n"
     ]
    },
    {
     "name": "stderr",
     "output_type": "stream",
     "text": [
      "C:\\Users\\15382\\AppData\\Local\\Temp\\ipykernel_198532\\764970698.py:31: FutureWarning: Passing literal html to 'read_html' is deprecated and will be removed in a future version. To read from a literal string, wrap it in a 'StringIO' object.\n",
      "  df = pd.read_html(data)[1]\n"
     ]
    },
    {
     "name": "stdout",
     "output_type": "stream",
     "text": [
      "0                        固肠止泻丸\n",
      "1                           丸剂\n",
      "2    乌梅肉, 黄连, 干姜, 木香, 罂粟壳, 延胡索\n",
      "3                口服。一次5g，一日3次。\n",
      "4                          固涩药\n",
      "Name: 0, dtype: object\n"
     ]
    },
    {
     "name": "stderr",
     "output_type": "stream",
     "text": [
      "C:\\Users\\15382\\AppData\\Local\\Temp\\ipykernel_198532\\764970698.py:31: FutureWarning: Passing literal html to 'read_html' is deprecated and will be removed in a future version. To read from a literal string, wrap it in a 'StringIO' object.\n",
      "  df = pd.read_html(data)[1]\n"
     ]
    },
    {
     "name": "stdout",
     "output_type": "stream",
     "text": [
      "0                                                  广羚散\n",
      "1                                                   散剂\n",
      "2    羚角, 牛黄, 天麻, 钩藤, 全蝎, 雄黄息风镇惊, 天竺黄, 胆南星清热祛痰, 水牛角,...\n",
      "3                             口服，一岁一次0.5g，一日2次，一岁以上酌减。\n",
      "4                                                  清热药\n",
      "Name: 0, dtype: object\n"
     ]
    },
    {
     "name": "stderr",
     "output_type": "stream",
     "text": [
      "C:\\Users\\15382\\AppData\\Local\\Temp\\ipykernel_198532\\764970698.py:31: FutureWarning: Passing literal html to 'read_html' is deprecated and will be removed in a future version. To read from a literal string, wrap it in a 'StringIO' object.\n",
      "  df = pd.read_html(data)[1]\n"
     ]
    },
    {
     "name": "stdout",
     "output_type": "stream",
     "text": [
      "0                                              桂林西瓜霜含片\n",
      "1                                                  胶囊剂\n",
      "2    西瓜霜, 山豆根, 射干, 木汉果(炭), 黄连, 黄芩, 黄柏, 大黄, 浙贝母, 硼砂(煅),\n",
      "3                              含服，一次2片，一日5次，5～7天为一个疗程。\n",
      "4                                                  清热药\n",
      "Name: 0, dtype: object\n"
     ]
    },
    {
     "name": "stderr",
     "output_type": "stream",
     "text": [
      "C:\\Users\\15382\\AppData\\Local\\Temp\\ipykernel_198532\\764970698.py:31: FutureWarning: Passing literal html to 'read_html' is deprecated and will be removed in a future version. To read from a literal string, wrap it in a 'StringIO' object.\n",
      "  df = pd.read_html(data)[1]\n"
     ]
    },
    {
     "name": "stdout",
     "output_type": "stream",
     "text": [
      "0                                         桂龙咳喘宁胶囊\n",
      "1                                             胶囊剂\n",
      "2    桂枝, 龙骨, 白芍, 生姜, 大枣, 炙甘草, 牡蛎, 黄连, 半夏(法), 瓜蒌皮,\n",
      "3                                   口服，一次5粒，一日3次。\n",
      "4                                       化痰、止咳、平喘药\n",
      "Name: 0, dtype: object\n"
     ]
    },
    {
     "name": "stderr",
     "output_type": "stream",
     "text": [
      "C:\\Users\\15382\\AppData\\Local\\Temp\\ipykernel_198532\\764970698.py:31: FutureWarning: Passing literal html to 'read_html' is deprecated and will be removed in a future version. To read from a literal string, wrap it in a 'StringIO' object.\n",
      "  df = pd.read_html(data)[1]\n"
     ]
    },
    {
     "name": "stdout",
     "output_type": "stream",
     "text": [
      "0                                         桂龙咳喘宁颗粒\n",
      "1                                             颗粒剂\n",
      "2    桂枝, 龙骨, 白芍, 生姜, 大枣, 炙甘草, 牡蛎, 黄连, 半夏(法), 瓜蒌皮,\n",
      "3                                 开水冲服，一次1袋，一日3次。\n",
      "4                                       化痰、止咳、平喘药\n",
      "Name: 0, dtype: object\n"
     ]
    },
    {
     "name": "stderr",
     "output_type": "stream",
     "text": [
      "C:\\Users\\15382\\AppData\\Local\\Temp\\ipykernel_198532\\764970698.py:31: FutureWarning: Passing literal html to 'read_html' is deprecated and will be removed in a future version. To read from a literal string, wrap it in a 'StringIO' object.\n",
      "  df = pd.read_html(data)[1]\n"
     ]
    },
    {
     "name": "stdout",
     "output_type": "stream",
     "text": [
      "0                                           桂龙咳喘宁片\n",
      "1                                               片剂\n",
      "2    桂枝, 龙骨, 白芍, 牡蛎, 黄连, 法半夏, 瓜篓皮, 苦杏仁(炒), 大枣, 生姜,\n",
      "3                                    口服。一次4片，一日3次。\n",
      "4                                        化痰、止咳、平喘药\n",
      "Name: 0, dtype: object\n"
     ]
    },
    {
     "name": "stderr",
     "output_type": "stream",
     "text": [
      "C:\\Users\\15382\\AppData\\Local\\Temp\\ipykernel_198532\\764970698.py:31: FutureWarning: Passing literal html to 'read_html' is deprecated and will be removed in a future version. To read from a literal string, wrap it in a 'StringIO' object.\n",
      "  df = pd.read_html(data)[1]\n"
     ]
    },
    {
     "name": "stdout",
     "output_type": "stream",
     "text": [
      "0                                           蛤蚧定喘胶囊\n",
      "1                                              胶囊剂\n",
      "2    蛤蚧, 炒紫苏子, 瓜蒌子, 炒苦杏仁, 麻黄, 石膏, 甘草, 紫菀, 醋鳖甲, 黄芩,\n",
      "3                                    口服，一次3粒，一日2次。\n",
      "4                                        化痰、止咳、平喘药\n",
      "Name: 0, dtype: object\n"
     ]
    },
    {
     "name": "stderr",
     "output_type": "stream",
     "text": [
      "C:\\Users\\15382\\AppData\\Local\\Temp\\ipykernel_198532\\764970698.py:31: FutureWarning: Passing literal html to 'read_html' is deprecated and will be removed in a future version. To read from a literal string, wrap it in a 'StringIO' object.\n",
      "  df = pd.read_html(data)[1]\n"
     ]
    },
    {
     "name": "stdout",
     "output_type": "stream",
     "text": [
      "0                                         桂龙咳喘宁胶囊\n",
      "1                                             胶囊剂\n",
      "2    桂枝, 龙骨, 白芍, 生姜, 大枣, 炙甘草, 牡蛎, 黄连, 半夏(法), 瓜蒌皮,\n",
      "3                                   口服，一次5粒，一日3次。\n",
      "4                                       化痰、止咳、平喘药\n",
      "Name: 0, dtype: object\n"
     ]
    },
    {
     "name": "stderr",
     "output_type": "stream",
     "text": [
      "C:\\Users\\15382\\AppData\\Local\\Temp\\ipykernel_198532\\764970698.py:31: FutureWarning: Passing literal html to 'read_html' is deprecated and will be removed in a future version. To read from a literal string, wrap it in a 'StringIO' object.\n",
      "  df = pd.read_html(data)[1]\n"
     ]
    },
    {
     "name": "stdout",
     "output_type": "stream",
     "text": [
      "0                                     海桂胶囊\n",
      "1                                      胶囊剂\n",
      "2    肉桂, 高良姜, 海螵蛸, 白及, 黄连, 三七, 苍术, 木香, 半枝莲\n",
      "3                      口服。一次6粒，一日3次，4周一疗程。\n",
      "4                                      扶正药\n",
      "Name: 0, dtype: object\n"
     ]
    },
    {
     "name": "stderr",
     "output_type": "stream",
     "text": [
      "C:\\Users\\15382\\AppData\\Local\\Temp\\ipykernel_198532\\764970698.py:31: FutureWarning: Passing literal html to 'read_html' is deprecated and will be removed in a future version. To read from a literal string, wrap it in a 'StringIO' object.\n",
      "  df = pd.read_html(data)[1]\n"
     ]
    },
    {
     "name": "stdout",
     "output_type": "stream",
     "text": [
      "0                                           诃苓止泻胶囊\n",
      "1                                              胶囊剂\n",
      "2    诃子, 罂粟壳, 苍术(炒), 茯苓, 黄连, 车前子, 白芷, 大青叶, 山楂, 防风,\n",
      "3                               口服，一次4粒，一日3次；或遵医嘱。\n",
      "4                                              清热药\n",
      "Name: 0, dtype: object\n"
     ]
    },
    {
     "name": "stderr",
     "output_type": "stream",
     "text": [
      "C:\\Users\\15382\\AppData\\Local\\Temp\\ipykernel_198532\\764970698.py:31: FutureWarning: Passing literal html to 'read_html' is deprecated and will be removed in a future version. To read from a literal string, wrap it in a 'StringIO' object.\n",
      "  df = pd.read_html(data)[1]\n"
     ]
    },
    {
     "name": "stdout",
     "output_type": "stream",
     "text": [
      "0                                               虎黄烧伤搽剂\n",
      "1                                                   搽剂\n",
      "2                     虎杖, 黄连, 黄柏, 水牛角, 红花, 白芷, 千里光, 冰片\n",
      "3    外用。新鲜烧伤创面用无菌生理盐水清创后，将本品涂于创面，每1%烧伤面积用量为0.5毫升，每次...\n",
      "4                                                  清热药\n",
      "Name: 0, dtype: object\n"
     ]
    },
    {
     "name": "stderr",
     "output_type": "stream",
     "text": [
      "C:\\Users\\15382\\AppData\\Local\\Temp\\ipykernel_198532\\764970698.py:31: FutureWarning: Passing literal html to 'read_html' is deprecated and will be removed in a future version. To read from a literal string, wrap it in a 'StringIO' object.\n",
      "  df = pd.read_html(data)[1]\n"
     ]
    },
    {
     "name": "stdout",
     "output_type": "stream",
     "text": [
      "0                                       琥珀还睛丸\n",
      "1                                          丸剂\n",
      "2    琥珀, 菊花, 青葙子, 黄连, 黄柏, 知母, 石斛, 地黄, 麦冬, 天冬,\n",
      "3                               口服。一次2丸，一日2次。\n",
      "4                                         扶正药\n",
      "Name: 0, dtype: object\n"
     ]
    },
    {
     "name": "stderr",
     "output_type": "stream",
     "text": [
      "C:\\Users\\15382\\AppData\\Local\\Temp\\ipykernel_198532\\764970698.py:31: FutureWarning: Passing literal html to 'read_html' is deprecated and will be removed in a future version. To read from a literal string, wrap it in a 'StringIO' object.\n",
      "  df = pd.read_html(data)[1]\n"
     ]
    },
    {
     "name": "stdout",
     "output_type": "stream",
     "text": [
      "0                                         化毒丹\n",
      "1                                          丸剂\n",
      "2    地黄, 芒硝, 玄参, 桔梗, 甘草, 金银花, 青黛, 黄连, 连翘, 龙胆,\n",
      "3                               口服，一次1丸，一日2次。\n",
      "4                                         清热药\n",
      "Name: 0, dtype: object\n"
     ]
    },
    {
     "name": "stderr",
     "output_type": "stream",
     "text": [
      "C:\\Users\\15382\\AppData\\Local\\Temp\\ipykernel_198532\\764970698.py:31: FutureWarning: Passing literal html to 'read_html' is deprecated and will be removed in a future version. To read from a literal string, wrap it in a 'StringIO' object.\n",
      "  df = pd.read_html(data)[1]\n"
     ]
    },
    {
     "name": "stdout",
     "output_type": "stream",
     "text": [
      "0                                                化毒丸\n",
      "1                                                 丸剂\n",
      "2    连翘, 金银花, 地黄, 黄连, 龙胆, 牛蒡子(炒), 芒硝, 亦芍, 桔梗, 水牛角浓缩粉\n",
      "3                                      口服，一次1丸，一日2次。\n",
      "4                                                清热药\n",
      "Name: 0, dtype: object\n"
     ]
    },
    {
     "name": "stderr",
     "output_type": "stream",
     "text": [
      "C:\\Users\\15382\\AppData\\Local\\Temp\\ipykernel_198532\\764970698.py:31: FutureWarning: Passing literal html to 'read_html' is deprecated and will be removed in a future version. To read from a literal string, wrap it in a 'StringIO' object.\n",
      "  df = pd.read_html(data)[1]\n"
     ]
    },
    {
     "name": "stdout",
     "output_type": "stream",
     "text": [
      "0                    黄苦洗液\n",
      "1                      洗剂\n",
      "2         黄柏, 苦参, 黄连, 海桐皮\n",
      "3    外用，一日2次。取温开水稀释10倍坐浴。\n",
      "4                     清热药\n",
      "Name: 0, dtype: object\n"
     ]
    },
    {
     "name": "stderr",
     "output_type": "stream",
     "text": [
      "C:\\Users\\15382\\AppData\\Local\\Temp\\ipykernel_198532\\764970698.py:31: FutureWarning: Passing literal html to 'read_html' is deprecated and will be removed in a future version. To read from a literal string, wrap it in a 'StringIO' object.\n",
      "  df = pd.read_html(data)[1]\n"
     ]
    },
    {
     "name": "stdout",
     "output_type": "stream",
     "text": [
      "0                                              黄连上清胶囊\n",
      "1                                                 胶囊剂\n",
      "2    黄连, 栀子(姜制), 连翘, 蔓荆子(炒), 防风, 荆芥穗, 白芷, 黄芩, 菊花, 薄荷,\n",
      "3                                       口服，一次4粒，一日2次。\n",
      "4                                                 清热药\n",
      "Name: 0, dtype: object\n"
     ]
    },
    {
     "name": "stderr",
     "output_type": "stream",
     "text": [
      "C:\\Users\\15382\\AppData\\Local\\Temp\\ipykernel_198532\\764970698.py:31: FutureWarning: Passing literal html to 'read_html' is deprecated and will be removed in a future version. To read from a literal string, wrap it in a 'StringIO' object.\n",
      "  df = pd.read_html(data)[1]\n"
     ]
    },
    {
     "name": "stdout",
     "output_type": "stream",
     "text": [
      "0                                              黄连上清颗粒\n",
      "1                                                 颗粒剂\n",
      "2    黄连, 栀子(姜制), 连翘, 蔓荆子(炒), 防风, 荆芥穗, 白芷, 黄芩, 菊花, 薄荷,\n",
      "3                                       口服，一次2克，一日2次。\n",
      "4                                                 清热药\n",
      "Name: 0, dtype: object\n"
     ]
    },
    {
     "name": "stderr",
     "output_type": "stream",
     "text": [
      "C:\\Users\\15382\\AppData\\Local\\Temp\\ipykernel_198532\\764970698.py:31: FutureWarning: Passing literal html to 'read_html' is deprecated and will be removed in a future version. To read from a literal string, wrap it in a 'StringIO' object.\n",
      "  df = pd.read_html(data)[1]\n"
     ]
    },
    {
     "name": "stdout",
     "output_type": "stream",
     "text": [
      "0                                             黄连羊肝丸\n",
      "1                                                丸剂\n",
      "2    黄连, 胡黄连, 黄芩, 黄柏, 龙胆, 柴胡, 木贼, 密蒙花, 茺蔚子, 决明子(炒),\n",
      "3                   口服。小蜜丸一次9g（18丸），大蜜丸一次1丸。一日1?2次。\n",
      "4                                               清热药\n",
      "Name: 0, dtype: object\n"
     ]
    },
    {
     "name": "stderr",
     "output_type": "stream",
     "text": [
      "C:\\Users\\15382\\AppData\\Local\\Temp\\ipykernel_198532\\764970698.py:31: FutureWarning: Passing literal html to 'read_html' is deprecated and will be removed in a future version. To read from a literal string, wrap it in a 'StringIO' object.\n",
      "  df = pd.read_html(data)[1]\n"
     ]
    },
    {
     "name": "stdout",
     "output_type": "stream",
     "text": [
      "0                                               黄蒲洁肤洗剂\n",
      "1                                                   洗剂\n",
      "2          黄柏, 蛇床子, 黄连, 土茯苓, 白鲜皮, 苦参, 百部, 虎杖, 蒲公英, 丹参,\n",
      "3    外用，洗浴、外擦或冲洗，一日1～2次。带下病：可取本品适量外擦患部，或将装入适量药液的冲洗器...\n",
      "4                                                  扶正药\n",
      "Name: 0, dtype: object\n"
     ]
    },
    {
     "name": "stderr",
     "output_type": "stream",
     "text": [
      "C:\\Users\\15382\\AppData\\Local\\Temp\\ipykernel_198532\\764970698.py:31: FutureWarning: Passing literal html to 'read_html' is deprecated and will be removed in a future version. To read from a literal string, wrap it in a 'StringIO' object.\n",
      "  df = pd.read_html(data)[1]\n"
     ]
    },
    {
     "name": "stdout",
     "output_type": "stream",
     "text": [
      "0                                                健脾消疳丸\n",
      "1                                                   丸剂\n",
      "2    白术(炒), 薏苡仁(炒), 建神曲, 山楂(炒), 山药, 茯苓, 芡实, 白扁豆(炒),...\n",
      "3                                        口服，一次1丸，一日2次。\n",
      "4                                                  扶正药\n",
      "Name: 0, dtype: object\n"
     ]
    },
    {
     "name": "stderr",
     "output_type": "stream",
     "text": [
      "C:\\Users\\15382\\AppData\\Local\\Temp\\ipykernel_198532\\764970698.py:31: FutureWarning: Passing literal html to 'read_html' is deprecated and will be removed in a future version. To read from a literal string, wrap it in a 'StringIO' object.\n",
      "  df = pd.read_html(data)[1]\n"
     ]
    },
    {
     "name": "stdout",
     "output_type": "stream",
     "text": [
      "0                                          健脾止泻宁颗粒\n",
      "1                                              颗粒剂\n",
      "2    党参, 莲子, 白扁豆, 黄连, 黄芩, 金银花, 建曲, 山楂, 车前子(盐炙), 干姜\n",
      "3    开水冲服，一岁一次5克，一日6次；二岁一次10克，一日5次；三至四岁一次15克，一日4次。\n",
      "4                                              扶正药\n",
      "Name: 0, dtype: object\n"
     ]
    },
    {
     "name": "stderr",
     "output_type": "stream",
     "text": [
      "C:\\Users\\15382\\AppData\\Local\\Temp\\ipykernel_198532\\764970698.py:31: FutureWarning: Passing literal html to 'read_html' is deprecated and will be removed in a future version. To read from a literal string, wrap it in a 'StringIO' object.\n",
      "  df = pd.read_html(data)[1]\n"
     ]
    },
    {
     "name": "stdout",
     "output_type": "stream",
     "text": [
      "0                                        降糖通脉片\n",
      "1                                           片剂\n",
      "2    太子参, 黄芪, 黄精, 天冬, 麦冬, 玄参, 天花粉, 苍术, 知母, 葛根,\n",
      "3                     口服。一次3～4片，一日3次；饭后服用或遵医嘱。\n",
      "4                                          扶正药\n",
      "Name: 0, dtype: object\n"
     ]
    },
    {
     "name": "stderr",
     "output_type": "stream",
     "text": [
      "C:\\Users\\15382\\AppData\\Local\\Temp\\ipykernel_198532\\764970698.py:31: FutureWarning: Passing literal html to 'read_html' is deprecated and will be removed in a future version. To read from a literal string, wrap it in a 'StringIO' object.\n",
      "  df = pd.read_html(data)[1]\n"
     ]
    },
    {
     "name": "stdout",
     "output_type": "stream",
     "text": [
      "0                                   洁康宁喷雾剂\n",
      "1                                      喷雾剂\n",
      "2                黄柏, 黄连, 蛇床子, 薏苡人, 土茯苓, 花椒\n",
      "3    外用，清洗外阴后，患处局部喷雾，一次1毫升（约喷雾10次），一日1～2次。\n",
      "4                                      清热药\n",
      "Name: 0, dtype: object\n"
     ]
    },
    {
     "name": "stderr",
     "output_type": "stream",
     "text": [
      "C:\\Users\\15382\\AppData\\Local\\Temp\\ipykernel_198532\\764970698.py:31: FutureWarning: Passing literal html to 'read_html' is deprecated and will be removed in a future version. To read from a literal string, wrap it in a 'StringIO' object.\n",
      "  df = pd.read_html(data)[1]\n"
     ]
    },
    {
     "name": "stdout",
     "output_type": "stream",
     "text": [
      "0                                                解毒利咽丸\n",
      "1                                                   丸剂\n",
      "2    硼砂(煅), 黄连, 五倍子, 细辛, 水牛角浓缩粉, 人工牛黄, 朱砂(水飞), 蟾酥, ...\n",
      "3    口服，一次10丸，小儿一岁一次1丸，二岁一次2丸，三岁一次3～4丸，四至八岁一次5～6丸，九...\n",
      "4                                                  清热药\n",
      "Name: 0, dtype: object\n"
     ]
    },
    {
     "name": "stderr",
     "output_type": "stream",
     "text": [
      "C:\\Users\\15382\\AppData\\Local\\Temp\\ipykernel_198532\\764970698.py:31: FutureWarning: Passing literal html to 'read_html' is deprecated and will be removed in a future version. To read from a literal string, wrap it in a 'StringIO' object.\n",
      "  df = pd.read_html(data)[1]\n"
     ]
    },
    {
     "name": "stdout",
     "output_type": "stream",
     "text": [
      "0                                          金花跌打酊\n",
      "1                                             酊剂\n",
      "2    红花, 龙血竭, 香附, 两面针, 樟脑, 千斤拔, 木香, 白木香, 乳香, 没药,\n",
      "3                   外用适量，以药棉外敷或外搽患处，每日6次，7日为一疗程。\n",
      "4                                          活血化瘀药\n",
      "Name: 0, dtype: object\n"
     ]
    },
    {
     "name": "stderr",
     "output_type": "stream",
     "text": [
      "C:\\Users\\15382\\AppData\\Local\\Temp\\ipykernel_198532\\764970698.py:31: FutureWarning: Passing literal html to 'read_html' is deprecated and will be removed in a future version. To read from a literal string, wrap it in a 'StringIO' object.\n",
      "  df = pd.read_html(data)[1]\n"
     ]
    },
    {
     "name": "stdout",
     "output_type": "stream",
     "text": [
      "0                     金花消痤胶囊\n",
      "1                        胶囊剂\n",
      "2    金银花, 黄芩, 大黄, 黄连, 黄柏, 甘草\n",
      "3              口服，一次4粒，一日3次。\n",
      "4                        清热药\n",
      "Name: 0, dtype: object\n"
     ]
    },
    {
     "name": "stderr",
     "output_type": "stream",
     "text": [
      "C:\\Users\\15382\\AppData\\Local\\Temp\\ipykernel_198532\\764970698.py:31: FutureWarning: Passing literal html to 'read_html' is deprecated and will be removed in a future version. To read from a literal string, wrap it in a 'StringIO' object.\n",
      "  df = pd.read_html(data)[1]\n"
     ]
    },
    {
     "name": "stdout",
     "output_type": "stream",
     "text": [
      "0                                 金花消痤颗粒\n",
      "1                                    颗粒剂\n",
      "2    栀子, 金银花, 黄芩, 大黄, 黄连, 桔梗, 薄荷, 黄柏, 甘草\n",
      "3                        开水冲服。一次6克，一日3次。\n",
      "4                                    清热药\n",
      "Name: 0, dtype: object\n"
     ]
    },
    {
     "name": "stderr",
     "output_type": "stream",
     "text": [
      "C:\\Users\\15382\\AppData\\Local\\Temp\\ipykernel_198532\\764970698.py:31: FutureWarning: Passing literal html to 'read_html' is deprecated and will be removed in a future version. To read from a literal string, wrap it in a 'StringIO' object.\n",
      "  df = pd.read_html(data)[1]\n"
     ]
    },
    {
     "name": "stdout",
     "output_type": "stream",
     "text": [
      "0                                       金利油软胶囊\n",
      "1                                          胶囊剂\n",
      "2    黑芝麻, 麻黄, 甘草, 秦皮, 柴胡, 制草乌, 沉香, 秦艽, 黄连, 苦杏仁\n",
      "3    口服，一日2次，一次8粒，首次服量加倍16粒，早、晚饭前1小时空腹用 温开水送服。\n",
      "4                                    化痰、止咳、平喘药\n",
      "Name: 0, dtype: object\n"
     ]
    },
    {
     "name": "stderr",
     "output_type": "stream",
     "text": [
      "C:\\Users\\15382\\AppData\\Local\\Temp\\ipykernel_198532\\764970698.py:31: FutureWarning: Passing literal html to 'read_html' is deprecated and will be removed in a future version. To read from a literal string, wrap it in a 'StringIO' object.\n",
      "  df = pd.read_html(data)[1]\n"
     ]
    },
    {
     "name": "stdout",
     "output_type": "stream",
     "text": [
      "0                            金芪降糖胶囊\n",
      "1                               胶囊剂\n",
      "2                       黄芪, 黄连, 金银花\n",
      "3    饭前半小时口服，一次6～8粒，一日3次，疗程二个月或遵医嘱。\n",
      "4                               扶正药\n",
      "Name: 0, dtype: object\n"
     ]
    },
    {
     "name": "stderr",
     "output_type": "stream",
     "text": [
      "C:\\Users\\15382\\AppData\\Local\\Temp\\ipykernel_198532\\764970698.py:31: FutureWarning: Passing literal html to 'read_html' is deprecated and will be removed in a future version. To read from a literal string, wrap it in a 'StringIO' object.\n",
      "  df = pd.read_html(data)[1]\n"
     ]
    },
    {
     "name": "stdout",
     "output_type": "stream",
     "text": [
      "0                          金芪降糖颗粒\n",
      "1                             颗粒剂\n",
      "2                     金银花, 黄芪, 黄连\n",
      "3    饭前半小时口服，一次1袋，一日3次，疗程二个月或遵医嘱。\n",
      "4                             扶正药\n",
      "Name: 0, dtype: object\n"
     ]
    },
    {
     "name": "stderr",
     "output_type": "stream",
     "text": [
      "C:\\Users\\15382\\AppData\\Local\\Temp\\ipykernel_198532\\764970698.py:31: FutureWarning: Passing literal html to 'read_html' is deprecated and will be removed in a future version. To read from a literal string, wrap it in a 'StringIO' object.\n",
      "  df = pd.read_html(data)[1]\n"
     ]
    },
    {
     "name": "stdout",
     "output_type": "stream",
     "text": [
      "0                                  金芪降糖片\n",
      "1                                     片剂\n",
      "2                            黄芪, 金银花, 黄连\n",
      "3    饭前半小时口服，一次7-10片，一日3次，2个月为一个疗程，或遵医嘱。\n",
      "4                                    扶正药\n",
      "Name: 0, dtype: object\n"
     ]
    },
    {
     "name": "stderr",
     "output_type": "stream",
     "text": [
      "C:\\Users\\15382\\AppData\\Local\\Temp\\ipykernel_198532\\764970698.py:31: FutureWarning: Passing literal html to 'read_html' is deprecated and will be removed in a future version. To read from a literal string, wrap it in a 'StringIO' object.\n",
      "  df = pd.read_html(data)[1]\n"
     ]
    },
    {
     "name": "stdout",
     "output_type": "stream",
     "text": [
      "0                       金芪降糖丸（浓缩丸）\n",
      "1                               丸剂\n",
      "2                      黄连, 黄芪, 金银花\n",
      "3    饭前半小时口服。一次12丸，一日3次，疗程二个月或遵医嘱。\n",
      "4                              扶正药\n",
      "Name: 0, dtype: object\n"
     ]
    },
    {
     "name": "stderr",
     "output_type": "stream",
     "text": [
      "C:\\Users\\15382\\AppData\\Local\\Temp\\ipykernel_198532\\764970698.py:31: FutureWarning: Passing literal html to 'read_html' is deprecated and will be removed in a future version. To read from a literal string, wrap it in a 'StringIO' object.\n",
      "  df = pd.read_html(data)[1]\n"
     ]
    },
    {
     "name": "stdout",
     "output_type": "stream",
     "text": [
      "0                                 金胃泰胶囊\n",
      "1                                   胶囊剂\n",
      "2    大红袍, 鸡矢腾, 管仲, 金荞麦, 黄连, 砂仁, 延胡索, 木香\n",
      "3                         口服，一次3粒，一日3次。\n",
      "4                                   扶正药\n",
      "Name: 0, dtype: object\n"
     ]
    },
    {
     "name": "stderr",
     "output_type": "stream",
     "text": [
      "C:\\Users\\15382\\AppData\\Local\\Temp\\ipykernel_198532\\764970698.py:31: FutureWarning: Passing literal html to 'read_html' is deprecated and will be removed in a future version. To read from a literal string, wrap it in a 'StringIO' object.\n",
      "  df = pd.read_html(data)[1]\n"
     ]
    },
    {
     "name": "stdout",
     "output_type": "stream",
     "text": [
      "0                                             金栀咽喉袋泡茶\n",
      "1                                                  茶剂\n",
      "2    金银花, 诃子肉(制), 玄参, 麦冬, 北豆根, 桔梗, 薄荷叶, 胖大海, 金果榄, 硼砂,\n",
      "3                                     开水泡服，一次1袋，一日2次。\n",
      "4                                                 清热药\n",
      "Name: 0, dtype: object\n"
     ]
    },
    {
     "name": "stderr",
     "output_type": "stream",
     "text": [
      "C:\\Users\\15382\\AppData\\Local\\Temp\\ipykernel_198532\\764970698.py:31: FutureWarning: Passing literal html to 'read_html' is deprecated and will be removed in a future version. To read from a literal string, wrap it in a 'StringIO' object.\n",
      "  df = pd.read_html(data)[1]\n"
     ]
    },
    {
     "name": "stdout",
     "output_type": "stream",
     "text": [
      "0                                                津力达颗粒\n",
      "1                                                  颗粒剂\n",
      "2       人参, 黄精, 麸炒苍术, 苦参, 麦冬, 地黄, 何首乌(制), 山茱萸, 茯苓, 佩兰,\n",
      "3    开水冲服。一次1袋，一日3次。8周为一疗程，或遵医嘱。对已经使用西药患者，可合并使用本品，并...\n",
      "4                                                  扶正药\n",
      "Name: 0, dtype: object\n"
     ]
    },
    {
     "name": "stderr",
     "output_type": "stream",
     "text": [
      "C:\\Users\\15382\\AppData\\Local\\Temp\\ipykernel_198532\\764970698.py:31: FutureWarning: Passing literal html to 'read_html' is deprecated and will be removed in a future version. To read from a literal string, wrap it in a 'StringIO' object.\n",
      "  df = pd.read_html(data)[1]\n"
     ]
    },
    {
     "name": "stdout",
     "output_type": "stream",
     "text": [
      "0                                               津力达口服液\n",
      "1                                                   合剂\n",
      "2    人参, 黄精(制), 苍术(炒), 苦参, 麦冬, 地黄, 何首乌(制), 山茱萸, 茯苓,...\n",
      "3    口服。一次20ml，一日3次。8周为一疗程，或遵医嘱。对已经使用西药患者，可合并使用本品，并...\n",
      "4                                                  扶正药\n",
      "Name: 0, dtype: object\n"
     ]
    },
    {
     "name": "stderr",
     "output_type": "stream",
     "text": [
      "C:\\Users\\15382\\AppData\\Local\\Temp\\ipykernel_198532\\764970698.py:31: FutureWarning: Passing literal html to 'read_html' is deprecated and will be removed in a future version. To read from a literal string, wrap it in a 'StringIO' object.\n",
      "  df = pd.read_html(data)[1]\n"
     ]
    },
    {
     "name": "stdout",
     "output_type": "stream",
     "text": [
      "0                                            京万红软膏\n",
      "1                                              软膏剂\n",
      "2      地榆, 地黄, 罂粟壳, 当归, 桃仁, 黄连, 木鳖子, 血余炭, 棕榈, 半边莲,\n",
      "3    用生理盐水清理创面，涂敷本品或将本品涂于消毒纱布上，敷盖创面，消毒纱布包扎，每日换药一次。\n",
      "4                                              清热药\n",
      "Name: 0, dtype: object\n"
     ]
    },
    {
     "name": "stderr",
     "output_type": "stream",
     "text": [
      "C:\\Users\\15382\\AppData\\Local\\Temp\\ipykernel_198532\\764970698.py:31: FutureWarning: Passing literal html to 'read_html' is deprecated and will be removed in a future version. To read from a literal string, wrap it in a 'StringIO' object.\n",
      "  df = pd.read_html(data)[1]\n"
     ]
    },
    {
     "name": "stdout",
     "output_type": "stream",
     "text": [
      "0                                        静心口服液\n",
      "1                                           合剂\n",
      "2    地黄, 白芍, 枸杞子, 菟丝子, 当归, 麦冬, 黄连, 丹参, 龙骨, 牡蛎,\n",
      "3           口服，一次15毫升，一日2次，三周为一疗程，连续用药不超过三个疗程。\n",
      "4                                          安神药\n",
      "Name: 0, dtype: object\n"
     ]
    },
    {
     "name": "stderr",
     "output_type": "stream",
     "text": [
      "C:\\Users\\15382\\AppData\\Local\\Temp\\ipykernel_198532\\764970698.py:31: FutureWarning: Passing literal html to 'read_html' is deprecated and will be removed in a future version. To read from a literal string, wrap it in a 'StringIO' object.\n",
      "  df = pd.read_html(data)[1]\n"
     ]
    },
    {
     "name": "stdout",
     "output_type": "stream",
     "text": [
      "0                                     九味痔疮胶囊\n",
      "1                                        胶囊剂\n",
      "2    三月泡, 地榆, 虎杖, 黄连, 柳寄生, 无花果叶, 大黄, 菊花, 鸡子白\n",
      "3                            口服，一次5～6粒，一日3次。\n",
      "4                                        清热药\n",
      "Name: 0, dtype: object\n"
     ]
    },
    {
     "name": "stderr",
     "output_type": "stream",
     "text": [
      "C:\\Users\\15382\\AppData\\Local\\Temp\\ipykernel_198532\\764970698.py:31: FutureWarning: Passing literal html to 'read_html' is deprecated and will be removed in a future version. To read from a literal string, wrap it in a 'StringIO' object.\n",
      "  df = pd.read_html(data)[1]\n"
     ]
    },
    {
     "name": "stdout",
     "output_type": "stream",
     "text": [
      "0                                                  久痢丸\n",
      "1                                                   丸剂\n",
      "2    椿皮(醋制), 黄连, 厚朴(姜制), 鸦胆子(仁), 枳壳(麸炒), 木香, 党参, 茯苓...\n",
      "3                                        口服，一次1袋，一日2次。\n",
      "4                                                  祛湿药\n",
      "Name: 0, dtype: object\n"
     ]
    },
    {
     "name": "stderr",
     "output_type": "stream",
     "text": [
      "C:\\Users\\15382\\AppData\\Local\\Temp\\ipykernel_198532\\764970698.py:31: FutureWarning: Passing literal html to 'read_html' is deprecated and will be removed in a future version. To read from a literal string, wrap it in a 'StringIO' object.\n",
      "  df = pd.read_html(data)[1]\n"
     ]
    },
    {
     "name": "stdout",
     "output_type": "stream",
     "text": [
      "0                                                克癀胶囊\n",
      "1                                                 胶囊剂\n",
      "2     三七, 黄连, 黄芩, 黄柏, 大黄, 白花蛇舌草, 山银花, 蛇胆汁, 人工牛黄, 皂角刺,\n",
      "3    口服，一次4粒，病重者适加至6粒，一日3次，小儿减半或遵医嘱，一个月为一疗程，一般用药三个疗程。\n",
      "4                                                 清热药\n",
      "Name: 0, dtype: object\n"
     ]
    },
    {
     "name": "stderr",
     "output_type": "stream",
     "text": [
      "C:\\Users\\15382\\AppData\\Local\\Temp\\ipykernel_198532\\764970698.py:31: FutureWarning: Passing literal html to 'read_html' is deprecated and will be removed in a future version. To read from a literal string, wrap it in a 'StringIO' object.\n",
      "  df = pd.read_html(data)[1]\n"
     ]
    },
    {
     "name": "stdout",
     "output_type": "stream",
     "text": [
      "0                                          克泻胶囊\n",
      "1                                           胶囊剂\n",
      "2    番石榴叶, 茯苓, 山楂(炒), 麦芽(炒), 六神曲(炒), 黄连, 白芍, 泽泻\n",
      "3                               口服，成人一次6粒，一日3次。\n",
      "4                                           清热药\n",
      "Name: 0, dtype: object\n"
     ]
    },
    {
     "name": "stderr",
     "output_type": "stream",
     "text": [
      "C:\\Users\\15382\\AppData\\Local\\Temp\\ipykernel_198532\\764970698.py:31: FutureWarning: Passing literal html to 'read_html' is deprecated and will be removed in a future version. To read from a literal string, wrap it in a 'StringIO' object.\n",
      "  df = pd.read_html(data)[1]\n"
     ]
    },
    {
     "name": "stdout",
     "output_type": "stream",
     "text": [
      "0                                             口疳吹药\n",
      "1                                               散剂\n",
      "2    青黛, 冰片, 黄连, 甘草, 玄明粉, 儿茶, 硼砂(煅), 人中白, 僵蚕, 山豆根,\n",
      "3                                  外用，每次用少许，吹喉，搽口。\n",
      "4                                              清热药\n",
      "Name: 0, dtype: object\n"
     ]
    },
    {
     "name": "stderr",
     "output_type": "stream",
     "text": [
      "C:\\Users\\15382\\AppData\\Local\\Temp\\ipykernel_198532\\764970698.py:31: FutureWarning: Passing literal html to 'read_html' is deprecated and will be removed in a future version. To read from a literal string, wrap it in a 'StringIO' object.\n",
      "  df = pd.read_html(data)[1]\n"
     ]
    },
    {
     "name": "stdout",
     "output_type": "stream",
     "text": [
      "0                                                快胃舒肝丸\n",
      "1                                                   丸剂\n",
      "2    柴胡, 当归, 白芍, 香附(醋制), 木香, 沉香, 厚朴(姜制), 枳壳(麸炒), 丁香...\n",
      "3                                    口服。一次1袋（6g），一日2次。\n",
      "4                                                  理气药\n",
      "Name: 0, dtype: object\n"
     ]
    },
    {
     "name": "stderr",
     "output_type": "stream",
     "text": [
      "C:\\Users\\15382\\AppData\\Local\\Temp\\ipykernel_198532\\764970698.py:31: FutureWarning: Passing literal html to 'read_html' is deprecated and will be removed in a future version. To read from a literal string, wrap it in a 'StringIO' object.\n",
      "  df = pd.read_html(data)[1]\n"
     ]
    },
    {
     "name": "stdout",
     "output_type": "stream",
     "text": [
      "0                                         溃得康颗粒\n",
      "1                                           颗粒剂\n",
      "2    黄连, 蒲公英, 苦参, 三七, 黄芪, 浙贝母, 白及, 白蔹, 海螵蛸, 豆蔻,\n",
      "3                       空腹口服。一次10克，一日2次。6周为一疗程。\n",
      "4                                           理气药\n",
      "Name: 0, dtype: object\n"
     ]
    },
    {
     "name": "stderr",
     "output_type": "stream",
     "text": [
      "C:\\Users\\15382\\AppData\\Local\\Temp\\ipykernel_198532\\764970698.py:31: FutureWarning: Passing literal html to 'read_html' is deprecated and will be removed in a future version. To read from a literal string, wrap it in a 'StringIO' object.\n",
      "  df = pd.read_html(data)[1]\n"
     ]
    },
    {
     "name": "stdout",
     "output_type": "stream",
     "text": [
      "0                         坤泰胶囊\n",
      "1                          胶囊剂\n",
      "2      熟地黄, 黄连, 白芍, 黄芩, 阿胶, 茯苓\n",
      "3    口服，一次4粒，一日3次，4周为一疗程，或遵医嘱。\n",
      "4                          扶正药\n",
      "Name: 0, dtype: object\n"
     ]
    },
    {
     "name": "stderr",
     "output_type": "stream",
     "text": [
      "C:\\Users\\15382\\AppData\\Local\\Temp\\ipykernel_198532\\764970698.py:31: FutureWarning: Passing literal html to 'read_html' is deprecated and will be removed in a future version. To read from a literal string, wrap it in a 'StringIO' object.\n",
      "  df = pd.read_html(data)[1]\n"
     ]
    },
    {
     "name": "stdout",
     "output_type": "stream",
     "text": [
      "0               肋柱花四味汤散\n",
      "1                    散剂\n",
      "2       肋柱花, 黄连, 栀子, 瞿麦\n",
      "3    水煎服，一次3～5g，一日1～3次。\n",
      "4                   清热药\n",
      "Name: 0, dtype: object\n"
     ]
    },
    {
     "name": "stderr",
     "output_type": "stream",
     "text": [
      "C:\\Users\\15382\\AppData\\Local\\Temp\\ipykernel_198532\\764970698.py:31: FutureWarning: Passing literal html to 'read_html' is deprecated and will be removed in a future version. To read from a literal string, wrap it in a 'StringIO' object.\n",
      "  df = pd.read_html(data)[1]\n"
     ]
    },
    {
     "name": "stdout",
     "output_type": "stream",
     "text": [
      "0                                   利胆八味散\n",
      "1                                      散剂\n",
      "2    苦地丁, 木鳖子(制), 麦冬, 木香, 龙胆, 黄连, 角茴香, 黄柏\n",
      "3                    口服，一次1.5g～3g，一日1～2次。\n",
      "4                                     清热药\n",
      "Name: 0, dtype: object\n"
     ]
    },
    {
     "name": "stderr",
     "output_type": "stream",
     "text": [
      "C:\\Users\\15382\\AppData\\Local\\Temp\\ipykernel_198532\\764970698.py:31: FutureWarning: Passing literal html to 'read_html' is deprecated and will be removed in a future version. To read from a literal string, wrap it in a 'StringIO' object.\n",
      "  df = pd.read_html(data)[1]\n"
     ]
    },
    {
     "name": "stdout",
     "output_type": "stream",
     "text": [
      "0                    利尔眠胶囊\n",
      "1                      胶囊剂\n",
      "2                   黄连, 肉桂\n",
      "3    口服，一次2粒，临睡前半小时用温开水送服。\n",
      "4                      扶正药\n",
      "Name: 0, dtype: object\n"
     ]
    },
    {
     "name": "stderr",
     "output_type": "stream",
     "text": [
      "C:\\Users\\15382\\AppData\\Local\\Temp\\ipykernel_198532\\764970698.py:31: FutureWarning: Passing literal html to 'read_html' is deprecated and will be removed in a future version. To read from a literal string, wrap it in a 'StringIO' object.\n",
      "  df = pd.read_html(data)[1]\n"
     ]
    },
    {
     "name": "stdout",
     "output_type": "stream",
     "text": [
      "0                     利尔眠片\n",
      "1                       片剂\n",
      "2                   黄连, 肉桂\n",
      "3    口服，一次2片，临睡前半小时用温开水送服。\n",
      "4                      扶正药\n",
      "Name: 0, dtype: object\n"
     ]
    },
    {
     "name": "stderr",
     "output_type": "stream",
     "text": [
      "C:\\Users\\15382\\AppData\\Local\\Temp\\ipykernel_198532\\764970698.py:31: FutureWarning: Passing literal html to 'read_html' is deprecated and will be removed in a future version. To read from a literal string, wrap it in a 'StringIO' object.\n",
      "  df = pd.read_html(data)[1]\n"
     ]
    },
    {
     "name": "stdout",
     "output_type": "stream",
     "text": [
      "0                                             利夫康洗剂\n",
      "1                                                洗剂\n",
      "2      苦参, 黄柏, 蛇床子, 白鲜皮, 黄连, 花椒, 地肤子, 板蓝根, 赤芍, 何首乌,\n",
      "3    外用，取本品10毫升加水至100毫升外擦或用阴道冲洗器冲洗阴道，一日1～2次，7天为一疗程。\n",
      "4                                               清热药\n",
      "Name: 0, dtype: object\n"
     ]
    },
    {
     "name": "stderr",
     "output_type": "stream",
     "text": [
      "C:\\Users\\15382\\AppData\\Local\\Temp\\ipykernel_198532\\764970698.py:31: FutureWarning: Passing literal html to 'read_html' is deprecated and will be removed in a future version. To read from a literal string, wrap it in a 'StringIO' object.\n",
      "  df = pd.read_html(data)[1]\n"
     ]
    },
    {
     "name": "stdout",
     "output_type": "stream",
     "text": [
      "0                 疗痔胶囊\n",
      "1                  胶囊剂\n",
      "2    胭脂花根, 地榆, 土大黄, 黄连\n",
      "3        口服，一次3粒，一日3次。\n",
      "4                  祛瘀药\n",
      "Name: 0, dtype: object\n"
     ]
    },
    {
     "name": "stderr",
     "output_type": "stream",
     "text": [
      "C:\\Users\\15382\\AppData\\Local\\Temp\\ipykernel_198532\\764970698.py:31: FutureWarning: Passing literal html to 'read_html' is deprecated and will be removed in a future version. To read from a literal string, wrap it in a 'StringIO' object.\n",
      "  df = pd.read_html(data)[1]\n"
     ]
    },
    {
     "name": "stdout",
     "output_type": "stream",
     "text": [
      "0                                         龙泽熊胆胶囊\n",
      "1                                            胶囊剂\n",
      "2    龙胆, 盐泽泻, 地黄, 当归, 栀子, 菊花, 盐车前子, 决明子, 柴胡, 防风,\n",
      "3                             口服。一次4粒，一日2次，小儿酌减。\n",
      "4                                            清热药\n",
      "Name: 0, dtype: object\n"
     ]
    },
    {
     "name": "stderr",
     "output_type": "stream",
     "text": [
      "C:\\Users\\15382\\AppData\\Local\\Temp\\ipykernel_198532\\764970698.py:31: FutureWarning: Passing literal html to 'read_html' is deprecated and will be removed in a future version. To read from a literal string, wrap it in a 'StringIO' object.\n",
      "  df = pd.read_html(data)[1]\n"
     ]
    },
    {
     "name": "stdout",
     "output_type": "stream",
     "text": [
      "0                                     龙泽熊胆胶囊（熊胆丸）\n",
      "1                                             胶囊剂\n",
      "2    熊胆粉, 龙胆, 盐泽泻, 地黄, 当归, 栀子, 菊花, 盐车前子, 决明子, 柴胡,\n",
      "3                              口服。一次4粒，一日2次，小儿酌减。\n",
      "4                                             清热药\n",
      "Name: 0, dtype: object\n"
     ]
    },
    {
     "name": "stderr",
     "output_type": "stream",
     "text": [
      "C:\\Users\\15382\\AppData\\Local\\Temp\\ipykernel_198532\\764970698.py:31: FutureWarning: Passing literal html to 'read_html' is deprecated and will be removed in a future version. To read from a literal string, wrap it in a 'StringIO' object.\n",
      "  df = pd.read_html(data)[1]\n"
     ]
    },
    {
     "name": "stdout",
     "output_type": "stream",
     "text": [
      "0                                              癃清胶囊\n",
      "1                                               胶囊剂\n",
      "2    金银花, 黄连, 黄柏, 白花蛇舌草, 败酱草, 牡丹皮, 赤芍, 泽泻, 车前子, 仙鹤草\n",
      "3                       口服。一次4粒，一日2次；重症一次5-6粒，一日3次。\n",
      "4                                               祛湿药\n",
      "Name: 0, dtype: object\n"
     ]
    },
    {
     "name": "stderr",
     "output_type": "stream",
     "text": [
      "C:\\Users\\15382\\AppData\\Local\\Temp\\ipykernel_198532\\764970698.py:31: FutureWarning: Passing literal html to 'read_html' is deprecated and will be removed in a future version. To read from a literal string, wrap it in a 'StringIO' object.\n",
      "  df = pd.read_html(data)[1]\n"
     ]
    },
    {
     "name": "stdout",
     "output_type": "stream",
     "text": [
      "0                                               癃清片\n",
      "1                                                片剂\n",
      "2    泽泻, 车前子, 败酱草, 金银花, 牡丹皮, 白花蛇舌草, 赤芍, 仙鹤草, 黄连, 黄柏\n",
      "3                         口服，一次6片，一日2次；重症一次8片，一日3次。\n",
      "4                                               祛湿药\n",
      "Name: 0, dtype: object\n"
     ]
    },
    {
     "name": "stderr",
     "output_type": "stream",
     "text": [
      "C:\\Users\\15382\\AppData\\Local\\Temp\\ipykernel_198532\\764970698.py:31: FutureWarning: Passing literal html to 'read_html' is deprecated and will be removed in a future version. To read from a literal string, wrap it in a 'StringIO' object.\n",
      "  df = pd.read_html(data)[1]\n"
     ]
    },
    {
     "name": "stdout",
     "output_type": "stream",
     "text": [
      "0                                        脉络通片\n",
      "1                                         胶囊剂\n",
      "2    郁金, 人参, 黄连, 三七, 安息香, 檀香, 琥珀, 降香, 甘松, 木香,\n",
      "3                          口服，一次 4片，一日 2～ 3次。\n",
      "4                                         祛瘀药\n",
      "Name: 0, dtype: object\n"
     ]
    },
    {
     "name": "stderr",
     "output_type": "stream",
     "text": [
      "C:\\Users\\15382\\AppData\\Local\\Temp\\ipykernel_198532\\764970698.py:31: FutureWarning: Passing literal html to 'read_html' is deprecated and will be removed in a future version. To read from a literal string, wrap it in a 'StringIO' object.\n",
      "  df = pd.read_html(data)[1]\n"
     ]
    },
    {
     "name": "stdout",
     "output_type": "stream",
     "text": [
      "0                                                木香槟榔丸\n",
      "1                                                   丸剂\n",
      "2    木香, 槟榔, 枳壳(炒), 陈皮, 青皮(醋炒), 香附(醋制), 三棱(醋制), 黄连,...\n",
      "3                                    口服，一次3～6g，一日2～3次。\n",
      "4                                                  消导药\n",
      "Name: 0, dtype: object\n"
     ]
    },
    {
     "name": "stderr",
     "output_type": "stream",
     "text": [
      "C:\\Users\\15382\\AppData\\Local\\Temp\\ipykernel_198532\\764970698.py:31: FutureWarning: Passing literal html to 'read_html' is deprecated and will be removed in a future version. To read from a literal string, wrap it in a 'StringIO' object.\n",
      "  df = pd.read_html(data)[1]\n"
     ]
    },
    {
     "name": "stdout",
     "output_type": "stream",
     "text": [
      "0                                            宁心安神颗粒\n",
      "1                                               颗粒剂\n",
      "2    黄连, 琥珀, 石菖蒲, 远志(制), 茯苓, 丹参, 甘草, 大枣, 小麦, 磁石(煅),\n",
      "3                                     口服，一次2克，一日3次。\n",
      "4                                               安神药\n",
      "Name: 0, dtype: object\n"
     ]
    },
    {
     "name": "stderr",
     "output_type": "stream",
     "text": [
      "C:\\Users\\15382\\AppData\\Local\\Temp\\ipykernel_198532\\764970698.py:31: FutureWarning: Passing literal html to 'read_html' is deprecated and will be removed in a future version. To read from a literal string, wrap it in a 'StringIO' object.\n",
      "  df = pd.read_html(data)[1]\n"
     ]
    },
    {
     "name": "stdout",
     "output_type": "stream",
     "text": [
      "0                                     牛黄千金散\n",
      "1                                        散剂\n",
      "2    牛黄, 黄连, 胆南星, 全蝎, 僵蚕(制), 天麻, 朱砂, 冰片, 甘草\n",
      "3          口服。一次 1～1.5 瓶，一日 2～3 次；三岁以内小儿酌减。\n",
      "4                                       清热药\n",
      "Name: 0, dtype: object\n"
     ]
    },
    {
     "name": "stderr",
     "output_type": "stream",
     "text": [
      "C:\\Users\\15382\\AppData\\Local\\Temp\\ipykernel_198532\\764970698.py:31: FutureWarning: Passing literal html to 'read_html' is deprecated and will be removed in a future version. To read from a literal string, wrap it in a 'StringIO' object.\n",
      "  df = pd.read_html(data)[1]\n"
     ]
    },
    {
     "name": "stdout",
     "output_type": "stream",
     "text": [
      "0                                         牛黄清脑开窍丸\n",
      "1                                              丸剂\n",
      "2    人工牛黄, 连翘, 胆汁膏, 栀子, 郁金, 珍珠母, 黄连, 木香, 金银花, 蜈蚣,\n",
      "3                      口服，一次1丸，一日2～3次；小儿酌减，温开水送下。\n",
      "4                                             安神药\n",
      "Name: 0, dtype: object\n"
     ]
    },
    {
     "name": "stderr",
     "output_type": "stream",
     "text": [
      "C:\\Users\\15382\\AppData\\Local\\Temp\\ipykernel_198532\\764970698.py:31: FutureWarning: Passing literal html to 'read_html' is deprecated and will be removed in a future version. To read from a literal string, wrap it in a 'StringIO' object.\n",
      "  df = pd.read_html(data)[1]\n"
     ]
    },
    {
     "name": "stdout",
     "output_type": "stream",
     "text": [
      "0                                        牛黄上清胶囊\n",
      "1                                           胶囊剂\n",
      "2    人工牛黄, 薄荷, 菊花, 荆芥穗, 白芷, 川芎, 栀子, 黄连, 黄柏, 黄芩,\n",
      "3                                 口服，一次3粒，一日2次。\n",
      "4                                           清热药\n",
      "Name: 0, dtype: object\n"
     ]
    },
    {
     "name": "stderr",
     "output_type": "stream",
     "text": [
      "C:\\Users\\15382\\AppData\\Local\\Temp\\ipykernel_198532\\764970698.py:31: FutureWarning: Passing literal html to 'read_html' is deprecated and will be removed in a future version. To read from a literal string, wrap it in a 'StringIO' object.\n",
      "  df = pd.read_html(data)[1]\n"
     ]
    },
    {
     "name": "stdout",
     "output_type": "stream",
     "text": [
      "0                                牛黄上清软胶囊（人工牛黄方）\n",
      "1                                           胶囊剂\n",
      "2    人工牛黄, 黄连, 黄芩, 栀子, 大黄, 地黄, 当归, 川芎, 赤勺, 荆芥穗,\n",
      "3                                 口服，一次4粒，一日2次。\n",
      "4                                           清热药\n",
      "Name: 0, dtype: object\n"
     ]
    },
    {
     "name": "stderr",
     "output_type": "stream",
     "text": [
      "C:\\Users\\15382\\AppData\\Local\\Temp\\ipykernel_198532\\764970698.py:31: FutureWarning: Passing literal html to 'read_html' is deprecated and will be removed in a future version. To read from a literal string, wrap it in a 'StringIO' object.\n",
      "  df = pd.read_html(data)[1]\n"
     ]
    },
    {
     "name": "stdout",
     "output_type": "stream",
     "text": [
      "0                                        牛黄上清丸\n",
      "1                                           丸剂\n",
      "2    人工牛黄, 大黄, 黄连, 黄芩, 黄柏, 栀子, 连翘, 石膏, 薄荷, 菊花,\n",
      "3                                口服，一次1丸，一日2次。\n",
      "4                                          清热药\n",
      "Name: 0, dtype: object\n"
     ]
    },
    {
     "name": "stderr",
     "output_type": "stream",
     "text": [
      "C:\\Users\\15382\\AppData\\Local\\Temp\\ipykernel_198532\\764970698.py:31: FutureWarning: Passing literal html to 'read_html' is deprecated and will be removed in a future version. To read from a literal string, wrap it in a 'StringIO' object.\n",
      "  df = pd.read_html(data)[1]\n"
     ]
    },
    {
     "name": "stdout",
     "output_type": "stream",
     "text": [
      "0                                   牛黄痔清栓\n",
      "1                                      栓剂\n",
      "2        体外培育牛黄, 黄柏, 黄连, 大黄(炭), 没药(制), 冰片\n",
      "3    外用。大便后塞入肛门内2-2.5厘米，一次1粒，一日1-2次，或遵医嘱。\n",
      "4                                     清热药\n",
      "Name: 0, dtype: object\n"
     ]
    },
    {
     "name": "stderr",
     "output_type": "stream",
     "text": [
      "C:\\Users\\15382\\AppData\\Local\\Temp\\ipykernel_198532\\764970698.py:31: FutureWarning: Passing literal html to 'read_html' is deprecated and will be removed in a future version. To read from a literal string, wrap it in a 'StringIO' object.\n",
      "  df = pd.read_html(data)[1]\n"
     ]
    },
    {
     "name": "stdout",
     "output_type": "stream",
     "text": [
      "0                                           平肝舒络丸\n",
      "1                                              丸剂\n",
      "2    柴胡, 青皮(醋炙), 佛手, 陈皮, 乌药, 醋香附, 木香, 檀香, 丁香, 沉香,\n",
      "3                          温黄酒或温开水送服，-次3．5g，-日2次。\n",
      "4                                             扶正药\n",
      "Name: 0, dtype: object\n"
     ]
    },
    {
     "name": "stderr",
     "output_type": "stream",
     "text": [
      "C:\\Users\\15382\\AppData\\Local\\Temp\\ipykernel_198532\\764970698.py:31: FutureWarning: Passing literal html to 'read_html' is deprecated and will be removed in a future version. To read from a literal string, wrap it in a 'StringIO' object.\n",
      "  df = pd.read_html(data)[1]\n"
     ]
    },
    {
     "name": "stdout",
     "output_type": "stream",
     "text": [
      "0                                               前列闭尔通栓\n",
      "1                                                   栓剂\n",
      "2      马鞭草, 王不留行, 白花蛇舍草, 三七, 穿山甲, 土鳖虫, 琥珀, 蜈蚣, 栀子, 黄连,\n",
      "3    直肠给药。睡前或晨起排便后用药，将药栓塞入肛门4-6cm出，每次1粒，一日2次。30天为一个疗程。\n",
      "4                                                  祛湿药\n",
      "Name: 0, dtype: object\n"
     ]
    },
    {
     "name": "stderr",
     "output_type": "stream",
     "text": [
      "C:\\Users\\15382\\AppData\\Local\\Temp\\ipykernel_198532\\764970698.py:31: FutureWarning: Passing literal html to 'read_html' is deprecated and will be removed in a future version. To read from a literal string, wrap it in a 'StringIO' object.\n",
      "  df = pd.read_html(data)[1]\n"
     ]
    },
    {
     "name": "stdout",
     "output_type": "stream",
     "text": [
      "0                            芩黄喉症胶囊\n",
      "1                               胶囊剂\n",
      "2    黄连, 人工牛黄, 栀子, 郁金, 大黄, 黄芩浸膏, 冰片\n",
      "3                     口服，一次2粒，一日3次。\n",
      "4                               清热药\n",
      "Name: 0, dtype: object\n"
     ]
    },
    {
     "name": "stderr",
     "output_type": "stream",
     "text": [
      "C:\\Users\\15382\\AppData\\Local\\Temp\\ipykernel_198532\\764970698.py:31: FutureWarning: Passing literal html to 'read_html' is deprecated and will be removed in a future version. To read from a literal string, wrap it in a 'StringIO' object.\n",
      "  df = pd.read_html(data)[1]\n"
     ]
    },
    {
     "name": "stdout",
     "output_type": "stream",
     "text": [
      "0               葛根芩连胶囊\n",
      "1                  胶囊剂\n",
      "2    葛根, 黄芩, 黄连, 甘草(炙)\n",
      "3      口服，一次3-4粒，一日3次。\n",
      "4                  清热药\n",
      "Name: 0, dtype: object\n"
     ]
    },
    {
     "name": "stderr",
     "output_type": "stream",
     "text": [
      "C:\\Users\\15382\\AppData\\Local\\Temp\\ipykernel_198532\\764970698.py:31: FutureWarning: Passing literal html to 'read_html' is deprecated and will be removed in a future version. To read from a literal string, wrap it in a 'StringIO' object.\n",
      "  df = pd.read_html(data)[1]\n"
     ]
    },
    {
     "name": "stdout",
     "output_type": "stream",
     "text": [
      "0               葛根芩连颗粒\n",
      "1                  颗粒剂\n",
      "2    葛根, 黄芩, 黄连, 甘草(炙)\n",
      "3      开水冲服，一次1袋，一日3次。\n",
      "4                  清热药\n",
      "Name: 0, dtype: object\n"
     ]
    },
    {
     "name": "stderr",
     "output_type": "stream",
     "text": [
      "C:\\Users\\15382\\AppData\\Local\\Temp\\ipykernel_198532\\764970698.py:31: FutureWarning: Passing literal html to 'read_html' is deprecated and will be removed in a future version. To read from a literal string, wrap it in a 'StringIO' object.\n",
      "  df = pd.read_html(data)[1]\n"
     ]
    },
    {
     "name": "stdout",
     "output_type": "stream",
     "text": [
      "0                葛根芩连丸（葛根芩连微丸）\n",
      "1                           丸剂\n",
      "2            葛根, 黄芩, 黄连, 甘草(炙)\n",
      "3    口服。一次3克；小儿一次1克，一日3次；或遵医嘱。\n",
      "4                          清热药\n",
      "Name: 0, dtype: object\n"
     ]
    },
    {
     "name": "stderr",
     "output_type": "stream",
     "text": [
      "C:\\Users\\15382\\AppData\\Local\\Temp\\ipykernel_198532\\764970698.py:31: FutureWarning: Passing literal html to 'read_html' is deprecated and will be removed in a future version. To read from a literal string, wrap it in a 'StringIO' object.\n",
      "  df = pd.read_html(data)[1]\n"
     ]
    },
    {
     "name": "stdout",
     "output_type": "stream",
     "text": [
      "0                                    秦归活络口服液\n",
      "1                                         合剂\n",
      "2    秦艽, 党参, 赤芍, 当归, 川芎, 茯苓, 生地, 黄连, 黄芩, 石膏,\n",
      "3                            口服。一次20ml，一日3次。\n",
      "4                                  化痰、止咳、平喘药\n",
      "Name: 0, dtype: object\n"
     ]
    },
    {
     "name": "stderr",
     "output_type": "stream",
     "text": [
      "C:\\Users\\15382\\AppData\\Local\\Temp\\ipykernel_198532\\764970698.py:31: FutureWarning: Passing literal html to 'read_html' is deprecated and will be removed in a future version. To read from a literal string, wrap it in a 'StringIO' object.\n",
      "  df = pd.read_html(data)[1]\n"
     ]
    },
    {
     "name": "stdout",
     "output_type": "stream",
     "text": [
      "0                                               青柏洁身洗液\n",
      "1                                                   洗剂\n",
      "2          苦参, 黄连, 蛇床子, 黄柏, 花椒, 黄芪, 何首乌, 地肤子, 大青叶, 赤芍,\n",
      "3    外用，外阴瘙痒、外阴湿疹：一次10毫升，一日2次，涂于阴部患处，15分钟后冲净，或加10倍量...\n",
      "4                                                  清热药\n",
      "Name: 0, dtype: object\n"
     ]
    },
    {
     "name": "stderr",
     "output_type": "stream",
     "text": [
      "C:\\Users\\15382\\AppData\\Local\\Temp\\ipykernel_198532\\764970698.py:31: FutureWarning: Passing literal html to 'read_html' is deprecated and will be removed in a future version. To read from a literal string, wrap it in a 'StringIO' object.\n",
      "  df = pd.read_html(data)[1]\n"
     ]
    },
    {
     "name": "stdout",
     "output_type": "stream",
     "text": [
      "0                            清热导滞散\n",
      "1                               散剂\n",
      "2         大黄, 牵牛子, 黄连, 天竺黄, 琥珀, 人参\n",
      "3    白糖水或温开水冲服，一日1袋，一日1次，周岁以内小儿酌减。\n",
      "4                              清热药\n",
      "Name: 0, dtype: object\n"
     ]
    },
    {
     "name": "stderr",
     "output_type": "stream",
     "text": [
      "C:\\Users\\15382\\AppData\\Local\\Temp\\ipykernel_198532\\764970698.py:31: FutureWarning: Passing literal html to 'read_html' is deprecated and will be removed in a future version. To read from a literal string, wrap it in a 'StringIO' object.\n",
      "  df = pd.read_html(data)[1]\n"
     ]
    },
    {
     "name": "stdout",
     "output_type": "stream",
     "text": [
      "0                                       清热化毒丸\n",
      "1                                          丸剂\n",
      "2    连翘, 青黛, 黄连, 黄芩, 大黄, 菊花, 龙胆, 天花粉, 玄参, 茯苓,\n",
      "3                        口服 。一次 1 丸，一日 2～3 次。\n",
      "4                                         清热药\n",
      "Name: 0, dtype: object\n"
     ]
    },
    {
     "name": "stderr",
     "output_type": "stream",
     "text": [
      "C:\\Users\\15382\\AppData\\Local\\Temp\\ipykernel_198532\\764970698.py:31: FutureWarning: Passing literal html to 'read_html' is deprecated and will be removed in a future version. To read from a literal string, wrap it in a 'StringIO' object.\n",
      "  df = pd.read_html(data)[1]\n"
     ]
    },
    {
     "name": "stdout",
     "output_type": "stream",
     "text": [
      "0                                               （山黎）峒丸\n",
      "1                                                   丸剂\n",
      "2    三七, 血竭, 阿魏, 乳香(制), 没药(制), 藤黄(制), 天竺黄, 大黄, 儿茶, 冰片,\n",
      "3                            嚼碎后温开水或黄酒送服，一日１丸，外用酒磨涂患处。\n",
      "4                                                  扶正药\n",
      "Name: 0, dtype: object\n"
     ]
    },
    {
     "name": "stderr",
     "output_type": "stream",
     "text": [
      "C:\\Users\\15382\\AppData\\Local\\Temp\\ipykernel_198532\\764970698.py:31: FutureWarning: Passing literal html to 'read_html' is deprecated and will be removed in a future version. To read from a literal string, wrap it in a 'StringIO' object.\n",
      "  df = pd.read_html(data)[1]\n"
     ]
    },
    {
     "name": "stdout",
     "output_type": "stream",
     "text": [
      "0                                        清胃黄连丸\n",
      "1                                           丸剂\n",
      "2    黄连, 石膏, 桔梗, 甘草, 知母, 玄参, 地黄, 牡丹皮, 天花粉, 连翘,\n",
      "3                                口服，一次9克，一日2次。\n",
      "4                                          清热药\n",
      "Name: 0, dtype: object\n"
     ]
    },
    {
     "name": "stderr",
     "output_type": "stream",
     "text": [
      "C:\\Users\\15382\\AppData\\Local\\Temp\\ipykernel_198532\\764970698.py:31: FutureWarning: Passing literal html to 'read_html' is deprecated and will be removed in a future version. To read from a literal string, wrap it in a 'StringIO' object.\n",
      "  df = pd.read_html(data)[1]\n"
     ]
    },
    {
     "name": "stdout",
     "output_type": "stream",
     "text": [
      "0                                   清胃黄连丸（水丸）\n",
      "1                                          丸剂\n",
      "2    黄连, 石膏, 知母, 黄芩, 黄柏, 栀子, 连翘, 玄参, 天花粉, 地黄,\n",
      "3                               口服，一次9克，一日2次。\n",
      "4                                         清热药\n",
      "Name: 0, dtype: object\n"
     ]
    },
    {
     "name": "stderr",
     "output_type": "stream",
     "text": [
      "C:\\Users\\15382\\AppData\\Local\\Temp\\ipykernel_198532\\764970698.py:31: FutureWarning: Passing literal html to 'read_html' is deprecated and will be removed in a future version. To read from a literal string, wrap it in a 'StringIO' object.\n",
      "  df = pd.read_html(data)[1]\n"
     ]
    },
    {
     "name": "stdout",
     "output_type": "stream",
     "text": [
      "0                                       清胃消渴胶囊\n",
      "1                                          胶囊剂\n",
      "2    石膏, 玄参, 麦冬, 地黄, 知母, 石斛, 天花粉, 枸杞子, 山药, 玉竹,\n",
      "3           口服，治疗期间一次7-8粒，巩固期一次3-4粒，一日3次；或遵医嘱。\n",
      "4                                          清热药\n",
      "Name: 0, dtype: object\n"
     ]
    },
    {
     "name": "stderr",
     "output_type": "stream",
     "text": [
      "C:\\Users\\15382\\AppData\\Local\\Temp\\ipykernel_198532\\764970698.py:31: FutureWarning: Passing literal html to 'read_html' is deprecated and will be removed in a future version. To read from a literal string, wrap it in a 'StringIO' object.\n",
      "  df = pd.read_html(data)[1]\n"
     ]
    },
    {
     "name": "stdout",
     "output_type": "stream",
     "text": [
      "0                                               （山黎）峒丸\n",
      "1                                                   丸剂\n",
      "2    三七, 血竭, 阿魏, 乳香(制), 没药(制), 藤黄(制), 天竺黄, 大黄, 儿茶, 冰片,\n",
      "3                            嚼碎后温开水或黄酒送服，一日１丸，外用酒磨涂患处。\n",
      "4                                                  扶正药\n",
      "Name: 0, dtype: object\n"
     ]
    },
    {
     "name": "stderr",
     "output_type": "stream",
     "text": [
      "C:\\Users\\15382\\AppData\\Local\\Temp\\ipykernel_198532\\764970698.py:31: FutureWarning: Passing literal html to 'read_html' is deprecated and will be removed in a future version. To read from a literal string, wrap it in a 'StringIO' object.\n",
      "  df = pd.read_html(data)[1]\n"
     ]
    },
    {
     "name": "stdout",
     "output_type": "stream",
     "text": [
      "0                                               三黄清解胶囊\n",
      "1                                                  胶囊剂\n",
      "2                                  黄连, 黄芩, 黄柏, 金银花, 连翘\n",
      "3    口服，一日3次，成人一次6～8粒；儿童八岁至十四岁，一次4～6粒；四岁至七岁，一次3～4粒；...\n",
      "4                                                  清热药\n",
      "Name: 0, dtype: object\n"
     ]
    },
    {
     "name": "stderr",
     "output_type": "stream",
     "text": [
      "C:\\Users\\15382\\AppData\\Local\\Temp\\ipykernel_198532\\764970698.py:31: FutureWarning: Passing literal html to 'read_html' is deprecated and will be removed in a future version. To read from a literal string, wrap it in a 'StringIO' object.\n",
      "  df = pd.read_html(data)[1]\n"
     ]
    },
    {
     "name": "stdout",
     "output_type": "stream",
     "text": [
      "0                                                三黄清解片\n",
      "1                                                   片剂\n",
      "2                                  黄连, 黄芩, 黄柏, 金银花, 连翘\n",
      "3    口服，一日3次，成人一次6～8片；儿童八岁至十四岁，一次4～6片；四岁至七岁，一次3～4片；...\n",
      "4                                                  清热药\n",
      "Name: 0, dtype: object\n"
     ]
    },
    {
     "name": "stderr",
     "output_type": "stream",
     "text": [
      "C:\\Users\\15382\\AppData\\Local\\Temp\\ipykernel_198532\\764970698.py:31: FutureWarning: Passing literal html to 'read_html' is deprecated and will be removed in a future version. To read from a literal string, wrap it in a 'StringIO' object.\n",
      "  df = pd.read_html(data)[1]\n"
     ]
    },
    {
     "name": "stdout",
     "output_type": "stream",
     "text": [
      "0                             砂连和胃胶囊\n",
      "1                                胶囊剂\n",
      "2         黄连, 北沙参, 青木香, 陈皮, 砂仁, 紫箕贯众\n",
      "3    口服；一次4粒，一日3次；饭前半小时服用；痛时可临时加服4粒。\n",
      "4                                温里药\n",
      "Name: 0, dtype: object\n"
     ]
    },
    {
     "name": "stderr",
     "output_type": "stream",
     "text": [
      "C:\\Users\\15382\\AppData\\Local\\Temp\\ipykernel_198532\\764970698.py:31: FutureWarning: Passing literal html to 'read_html' is deprecated and will be removed in a future version. To read from a literal string, wrap it in a 'StringIO' object.\n",
      "  df = pd.read_html(data)[1]\n"
     ]
    },
    {
     "name": "stdout",
     "output_type": "stream",
     "text": [
      "0                                               （山黎）峒丸\n",
      "1                                                   丸剂\n",
      "2    三七, 血竭, 阿魏, 乳香(制), 没药(制), 藤黄(制), 天竺黄, 大黄, 儿茶, 冰片,\n",
      "3                            嚼碎后温开水或黄酒送服，一日１丸，外用酒磨涂患处。\n",
      "4                                                  扶正药\n",
      "Name: 0, dtype: object\n"
     ]
    },
    {
     "name": "stderr",
     "output_type": "stream",
     "text": [
      "C:\\Users\\15382\\AppData\\Local\\Temp\\ipykernel_198532\\764970698.py:31: FutureWarning: Passing literal html to 'read_html' is deprecated and will be removed in a future version. To read from a literal string, wrap it in a 'StringIO' object.\n",
      "  df = pd.read_html(data)[1]\n"
     ]
    },
    {
     "name": "stdout",
     "output_type": "stream",
     "text": [
      "0                                         肾衰宁颗粒\n",
      "1                                           颗粒剂\n",
      "2    丹参, 大黄, 太子参, 黄连, 牛膝, 半夏(制), 红花, 茯苓, 陈皮, 甘草\n",
      "3                开水冲服。一次1袋，一日3～4次，45天为一疗程，小儿酌减。\n",
      "4                                           祛瘀药\n",
      "Name: 0, dtype: object\n"
     ]
    },
    {
     "name": "stderr",
     "output_type": "stream",
     "text": [
      "C:\\Users\\15382\\AppData\\Local\\Temp\\ipykernel_198532\\764970698.py:31: FutureWarning: Passing literal html to 'read_html' is deprecated and will be removed in a future version. To read from a literal string, wrap it in a 'StringIO' object.\n",
      "  df = pd.read_html(data)[1]\n"
     ]
    },
    {
     "name": "stdout",
     "output_type": "stream",
     "text": [
      "0                                          肾衰宁片\n",
      "1                                            片剂\n",
      "2    丹参, 大黄, 太子参, 黄连, 牛膝, 半夏(制), 红花, 茯苓, 陈皮, 甘草\n",
      "3                  一次4～6片，一日3～4次，45天为一个疗程，小儿酌减。\n",
      "4                                           祛瘀药\n",
      "Name: 0, dtype: object\n"
     ]
    },
    {
     "name": "stderr",
     "output_type": "stream",
     "text": [
      "C:\\Users\\15382\\AppData\\Local\\Temp\\ipykernel_198532\\764970698.py:31: FutureWarning: Passing literal html to 'read_html' is deprecated and will be removed in a future version. To read from a literal string, wrap it in a 'StringIO' object.\n",
      "  df = pd.read_html(data)[1]\n"
     ]
    },
    {
     "name": "stdout",
     "output_type": "stream",
     "text": [
      "0                                                湿疡气雾剂\n",
      "1                                                  气雾剂\n",
      "2                                           黄柏, 黄连, 当归\n",
      "3    外用。取下帽，将罩横插于喷头上，将瓶体倒置，摇匀药液，揿压揿钮，距创面20cm喷射，一日4-6次。\n",
      "4                                                  清热药\n",
      "Name: 0, dtype: object\n"
     ]
    },
    {
     "name": "stderr",
     "output_type": "stream",
     "text": [
      "C:\\Users\\15382\\AppData\\Local\\Temp\\ipykernel_198532\\764970698.py:31: FutureWarning: Passing literal html to 'read_html' is deprecated and will be removed in a future version. To read from a literal string, wrap it in a 'StringIO' object.\n",
      "  df = pd.read_html(data)[1]\n"
     ]
    },
    {
     "name": "stdout",
     "output_type": "stream",
     "text": [
      "0                                               （山黎）峒丸\n",
      "1                                                   丸剂\n",
      "2    三七, 血竭, 阿魏, 乳香(制), 没药(制), 藤黄(制), 天竺黄, 大黄, 儿茶, 冰片,\n",
      "3                            嚼碎后温开水或黄酒送服，一日１丸，外用酒磨涂患处。\n",
      "4                                                  扶正药\n",
      "Name: 0, dtype: object\n"
     ]
    },
    {
     "name": "stderr",
     "output_type": "stream",
     "text": [
      "C:\\Users\\15382\\AppData\\Local\\Temp\\ipykernel_198532\\764970698.py:31: FutureWarning: Passing literal html to 'read_html' is deprecated and will be removed in a future version. To read from a literal string, wrap it in a 'StringIO' object.\n",
      "  df = pd.read_html(data)[1]\n"
     ]
    },
    {
     "name": "stdout",
     "output_type": "stream",
     "text": [
      "0                                                石斛夜光丸\n",
      "1                                                   丸剂\n",
      "2    石斛, 熟地黄, 枸杞子, 菟丝子, 牛膝, 菊花, 盐蒺藜, 青葙子, 决明子, 水牛角浓缩粉,\n",
      "3                     口服，水蜜丸一次6克，小蜜丸一次9克，大蜜丸一次1丸，一日2次。\n",
      "4                                                  扶正药\n",
      "Name: 0, dtype: object\n"
     ]
    },
    {
     "name": "stderr",
     "output_type": "stream",
     "text": [
      "C:\\Users\\15382\\AppData\\Local\\Temp\\ipykernel_198532\\764970698.py:31: FutureWarning: Passing literal html to 'read_html' is deprecated and will be removed in a future version. To read from a literal string, wrap it in a 'StringIO' object.\n",
      "  df = pd.read_html(data)[1]\n"
     ]
    },
    {
     "name": "stdout",
     "output_type": "stream",
     "text": [
      "0                                               （山黎）峒丸\n",
      "1                                                   丸剂\n",
      "2    三七, 血竭, 阿魏, 乳香(制), 没药(制), 藤黄(制), 天竺黄, 大黄, 儿茶, 冰片,\n",
      "3                            嚼碎后温开水或黄酒送服，一日１丸，外用酒磨涂患处。\n",
      "4                                                  扶正药\n",
      "Name: 0, dtype: object\n"
     ]
    },
    {
     "name": "stderr",
     "output_type": "stream",
     "text": [
      "C:\\Users\\15382\\AppData\\Local\\Temp\\ipykernel_198532\\764970698.py:31: FutureWarning: Passing literal html to 'read_html' is deprecated and will be removed in a future version. To read from a literal string, wrap it in a 'StringIO' object.\n",
      "  df = pd.read_html(data)[1]\n"
     ]
    },
    {
     "name": "stdout",
     "output_type": "stream",
     "text": [
      "0                                                双黄祛风丸\n",
      "1                                                   丸剂\n",
      "2    钩藤, 胆南星(酒炙), 橘红, 黄芩, 大黄(酒炙), 僵蚕(麸炒), 枳实, 沉香, 黄...\n",
      "3                                        口服，一次1丸，一日2次。\n",
      "4                                                  扶正药\n",
      "Name: 0, dtype: object\n"
     ]
    },
    {
     "name": "stderr",
     "output_type": "stream",
     "text": [
      "C:\\Users\\15382\\AppData\\Local\\Temp\\ipykernel_198532\\764970698.py:31: FutureWarning: Passing literal html to 'read_html' is deprecated and will be removed in a future version. To read from a literal string, wrap it in a 'StringIO' object.\n",
      "  df = pd.read_html(data)[1]\n"
     ]
    },
    {
     "name": "stdout",
     "output_type": "stream",
     "text": [
      "0                                        双料喉风含片\n",
      "1                                            片剂\n",
      "2    冰片, 甘草, 山豆根, 寒水石, 黄连, 青黛, 人中白(煅), 珍珠, 人工牛黄\n",
      "3                             含服，一次2~4片，一日3~5次。\n",
      "4                                           清热药\n",
      "Name: 0, dtype: object\n"
     ]
    },
    {
     "name": "stderr",
     "output_type": "stream",
     "text": [
      "C:\\Users\\15382\\AppData\\Local\\Temp\\ipykernel_198532\\764970698.py:31: FutureWarning: Passing literal html to 'read_html' is deprecated and will be removed in a future version. To read from a literal string, wrap it in a 'StringIO' object.\n",
      "  df = pd.read_html(data)[1]\n"
     ]
    },
    {
     "name": "stdout",
     "output_type": "stream",
     "text": [
      "0                                      糖脉康胶囊\n",
      "1                                        胶囊剂\n",
      "2    黄芪, 地黄, 赤芍, 丹参, 牛膝, 麦冬, 黄精, 葛根, 桑叶, 黄连,\n",
      "3         口服，一日3次，一次3-5粒，饭后半小时服用，儿童酌减（遵医嘱）?。\n",
      "4                                        扶正药\n",
      "Name: 0, dtype: object\n"
     ]
    },
    {
     "name": "stderr",
     "output_type": "stream",
     "text": [
      "C:\\Users\\15382\\AppData\\Local\\Temp\\ipykernel_198532\\764970698.py:31: FutureWarning: Passing literal html to 'read_html' is deprecated and will be removed in a future version. To read from a literal string, wrap it in a 'StringIO' object.\n",
      "  df = pd.read_html(data)[1]\n"
     ]
    },
    {
     "name": "stdout",
     "output_type": "stream",
     "text": [
      "0                                      糖脉康颗粒\n",
      "1                                        颗粒剂\n",
      "2    黄芪, 地黄, 赤芍, 丹参, 牛膝, 麦冬, 黄精, 葛根, 桑叶, 黄连,\n",
      "3                              口服，1次1袋，一日3次。\n",
      "4                                        扶正药\n",
      "Name: 0, dtype: object\n"
     ]
    },
    {
     "name": "stderr",
     "output_type": "stream",
     "text": [
      "C:\\Users\\15382\\AppData\\Local\\Temp\\ipykernel_198532\\764970698.py:31: FutureWarning: Passing literal html to 'read_html' is deprecated and will be removed in a future version. To read from a literal string, wrap it in a 'StringIO' object.\n",
      "  df = pd.read_html(data)[1]\n"
     ]
    },
    {
     "name": "stdout",
     "output_type": "stream",
     "text": [
      "0                                       糖脉康片\n",
      "1                                         片剂\n",
      "2    黄芪, 地黄, 赤芍, 丹参, 牛膝, 麦冬, 黄精, 葛根, 桑叶, 黄连,\n",
      "3                              口服。一次5片，一日3次。\n",
      "4                                        扶正药\n",
      "Name: 0, dtype: object\n"
     ]
    },
    {
     "name": "stderr",
     "output_type": "stream",
     "text": [
      "C:\\Users\\15382\\AppData\\Local\\Temp\\ipykernel_198532\\764970698.py:31: FutureWarning: Passing literal html to 'read_html' is deprecated and will be removed in a future version. To read from a literal string, wrap it in a 'StringIO' object.\n",
      "  df = pd.read_html(data)[1]\n"
     ]
    },
    {
     "name": "stdout",
     "output_type": "stream",
     "text": [
      "0                                   糖维胶囊\n",
      "1                                    胶囊剂\n",
      "2     黄芪, 西洋参, 黄精, 天花粉, 葛根, 黄连, 丹参, 格列本脲\n",
      "3    餐前30分钟口服，轻型一次3粒，中、重型一次5粒，一日3次。或遵医嘱。\n",
      "4                                    扶正药\n",
      "Name: 0, dtype: object\n"
     ]
    },
    {
     "name": "stderr",
     "output_type": "stream",
     "text": [
      "C:\\Users\\15382\\AppData\\Local\\Temp\\ipykernel_198532\\764970698.py:31: FutureWarning: Passing literal html to 'read_html' is deprecated and will be removed in a future version. To read from a literal string, wrap it in a 'StringIO' object.\n",
      "  df = pd.read_html(data)[1]\n"
     ]
    },
    {
     "name": "stdout",
     "output_type": "stream",
     "text": [
      "0                                               （山黎）峒丸\n",
      "1                                                   丸剂\n",
      "2    三七, 血竭, 阿魏, 乳香(制), 没药(制), 藤黄(制), 天竺黄, 大黄, 儿茶, 冰片,\n",
      "3                            嚼碎后温开水或黄酒送服，一日１丸，外用酒磨涂患处。\n",
      "4                                                  扶正药\n",
      "Name: 0, dtype: object\n"
     ]
    },
    {
     "name": "stderr",
     "output_type": "stream",
     "text": [
      "C:\\Users\\15382\\AppData\\Local\\Temp\\ipykernel_198532\\764970698.py:31: FutureWarning: Passing literal html to 'read_html' is deprecated and will be removed in a future version. To read from a literal string, wrap it in a 'StringIO' object.\n",
      "  df = pd.read_html(data)[1]\n"
     ]
    },
    {
     "name": "stdout",
     "output_type": "stream",
     "text": [
      "0                                               （山黎）峒丸\n",
      "1                                                   丸剂\n",
      "2    三七, 血竭, 阿魏, 乳香(制), 没药(制), 藤黄(制), 天竺黄, 大黄, 儿茶, 冰片,\n",
      "3                            嚼碎后温开水或黄酒送服，一日１丸，外用酒磨涂患处。\n",
      "4                                                  扶正药\n",
      "Name: 0, dtype: object\n"
     ]
    },
    {
     "name": "stderr",
     "output_type": "stream",
     "text": [
      "C:\\Users\\15382\\AppData\\Local\\Temp\\ipykernel_198532\\764970698.py:31: FutureWarning: Passing literal html to 'read_html' is deprecated and will be removed in a future version. To read from a literal string, wrap it in a 'StringIO' object.\n",
      "  df = pd.read_html(data)[1]\n"
     ]
    },
    {
     "name": "stdout",
     "output_type": "stream",
     "text": [
      "0                     通达滴鼻剂\n",
      "1                       滴鼻剂\n",
      "2    辛夷, 白芷, 薄荷脑, 黄连, 白矾(煅)\n",
      "3       滴于鼻内，一次2～3滴，一日1～2次。\n",
      "4                       祛瘀药\n",
      "Name: 0, dtype: object\n"
     ]
    },
    {
     "name": "stderr",
     "output_type": "stream",
     "text": [
      "C:\\Users\\15382\\AppData\\Local\\Temp\\ipykernel_198532\\764970698.py:31: FutureWarning: Passing literal html to 'read_html' is deprecated and will be removed in a future version. To read from a literal string, wrap it in a 'StringIO' object.\n",
      "  df = pd.read_html(data)[1]\n"
     ]
    },
    {
     "name": "stdout",
     "output_type": "stream",
     "text": [
      "0                                            同仁安神丸\n",
      "1                                               丸剂\n",
      "2    黄连, 甘草, 熟地黄, 地黄, 当归, 黄芪, 酸枣仁(炒), 龙齿, 茯苓, 柏子仁,\n",
      "3                          睡前服。一次 2 丸，一日 2 次，或遵医嘱。\n",
      "4                                              扶正药\n",
      "Name: 0, dtype: object\n"
     ]
    },
    {
     "name": "stderr",
     "output_type": "stream",
     "text": [
      "C:\\Users\\15382\\AppData\\Local\\Temp\\ipykernel_198532\\764970698.py:31: FutureWarning: Passing literal html to 'read_html' is deprecated and will be removed in a future version. To read from a literal string, wrap it in a 'StringIO' object.\n",
      "  df = pd.read_html(data)[1]\n"
     ]
    },
    {
     "name": "stdout",
     "output_type": "stream",
     "text": [
      "0                                               （山黎）峒丸\n",
      "1                                                   丸剂\n",
      "2    三七, 血竭, 阿魏, 乳香(制), 没药(制), 藤黄(制), 天竺黄, 大黄, 儿茶, 冰片,\n",
      "3                            嚼碎后温开水或黄酒送服，一日１丸，外用酒磨涂患处。\n",
      "4                                                  扶正药\n",
      "Name: 0, dtype: object\n"
     ]
    },
    {
     "name": "stderr",
     "output_type": "stream",
     "text": [
      "C:\\Users\\15382\\AppData\\Local\\Temp\\ipykernel_198532\\764970698.py:31: FutureWarning: Passing literal html to 'read_html' is deprecated and will be removed in a future version. To read from a literal string, wrap it in a 'StringIO' object.\n",
      "  df = pd.read_html(data)[1]\n"
     ]
    },
    {
     "name": "stdout",
     "output_type": "stream",
     "text": [
      "0                                       万应锭\n",
      "1                                        锭剂\n",
      "2    胡黄连, 黄连, 儿茶, 冰片, 香墨, 熊胆, 人工麝香, 牛黄, 牛胆汁\n",
      "3                  口服，一次2～4锭，一日2次；三岁以内小儿酌减。\n",
      "4                                       清热药\n",
      "Name: 0, dtype: object\n"
     ]
    },
    {
     "name": "stderr",
     "output_type": "stream",
     "text": [
      "C:\\Users\\15382\\AppData\\Local\\Temp\\ipykernel_198532\\764970698.py:31: FutureWarning: Passing literal html to 'read_html' is deprecated and will be removed in a future version. To read from a literal string, wrap it in a 'StringIO' object.\n",
      "  df = pd.read_html(data)[1]\n"
     ]
    },
    {
     "name": "stdout",
     "output_type": "stream",
     "text": [
      "0                                       万应胶囊\n",
      "1                                        胶囊剂\n",
      "2    胡黄连, 黄连, 儿茶, 冰片, 香墨, 熊胆粉, 人工麝香, 牛黄, 牛胆汁\n",
      "3                   口服。一次1～2粒，一日2次，三岁以内小儿酌减。\n",
      "4                                        清热药\n",
      "Name: 0, dtype: object\n"
     ]
    },
    {
     "name": "stderr",
     "output_type": "stream",
     "text": [
      "C:\\Users\\15382\\AppData\\Local\\Temp\\ipykernel_198532\\764970698.py:31: FutureWarning: Passing literal html to 'read_html' is deprecated and will be removed in a future version. To read from a literal string, wrap it in a 'StringIO' object.\n",
      "  df = pd.read_html(data)[1]\n"
     ]
    },
    {
     "name": "stdout",
     "output_type": "stream",
     "text": [
      "0                                       万应颗粒\n",
      "1                                        颗粒剂\n",
      "2           胡黄连, 黄连, 儿茶, 冰片, 香墨, 熊胆, 麝香, 牛胆汁\n",
      "3    口服，1次2~4粒；3岁以内小儿1次1粒。1日1~2次，外用醋调或捣碎涂患处。\n",
      "4                                        治风药\n",
      "Name: 0, dtype: object\n"
     ]
    },
    {
     "name": "stderr",
     "output_type": "stream",
     "text": [
      "C:\\Users\\15382\\AppData\\Local\\Temp\\ipykernel_198532\\764970698.py:31: FutureWarning: Passing literal html to 'read_html' is deprecated and will be removed in a future version. To read from a literal string, wrap it in a 'StringIO' object.\n",
      "  df = pd.read_html(data)[1]\n"
     ]
    },
    {
     "name": "stdout",
     "output_type": "stream",
     "text": [
      "0                                                  胃病丸\n",
      "1                                                   丸剂\n",
      "2    槟榔, 香附(醋炙), 枳壳(麸炒), 陈皮, 砂仁, 六神曲(麸炒), 山楂(炒), 谷芽...\n",
      "3                                        口服，一次6克，一日2次。\n",
      "4                                                  理气药\n",
      "Name: 0, dtype: object\n"
     ]
    },
    {
     "name": "stderr",
     "output_type": "stream",
     "text": [
      "C:\\Users\\15382\\AppData\\Local\\Temp\\ipykernel_198532\\764970698.py:31: FutureWarning: Passing literal html to 'read_html' is deprecated and will be removed in a future version. To read from a literal string, wrap it in a 'StringIO' object.\n",
      "  df = pd.read_html(data)[1]\n"
     ]
    },
    {
     "name": "stdout",
     "output_type": "stream",
     "text": [
      "0                                            胃复舒胶囊\n",
      "1                                              胶囊剂\n",
      "2    蜘蛛香, 半夏(姜制), 黄芩, 干姜, 蒲公英, 枳壳, 黄连, 槟榔, 荜澄茄, 甘草\n",
      "3                                  口服，一次4～6粒，一日3次。\n",
      "4                                              理气药\n",
      "Name: 0, dtype: object\n"
     ]
    },
    {
     "name": "stderr",
     "output_type": "stream",
     "text": [
      "C:\\Users\\15382\\AppData\\Local\\Temp\\ipykernel_198532\\764970698.py:31: FutureWarning: Passing literal html to 'read_html' is deprecated and will be removed in a future version. To read from a literal string, wrap it in a 'StringIO' object.\n",
      "  df = pd.read_html(data)[1]\n"
     ]
    },
    {
     "name": "stdout",
     "output_type": "stream",
     "text": [
      "0                                                胃力康颗粒\n",
      "1                                                  颗粒剂\n",
      "2    柴胡(醋炙), 赤芍, 枳壳(麸炒), 木香, 丹参, 延胡索, 莪术, 黄连, 吴茱萸, ...\n",
      "3                               口服，一次10克，一日3次，6周为一个疗程。\n",
      "4                                                  理气药\n",
      "Name: 0, dtype: object\n"
     ]
    },
    {
     "name": "stderr",
     "output_type": "stream",
     "text": [
      "C:\\Users\\15382\\AppData\\Local\\Temp\\ipykernel_198532\\764970698.py:31: FutureWarning: Passing literal html to 'read_html' is deprecated and will be removed in a future version. To read from a literal string, wrap it in a 'StringIO' object.\n",
      "  df = pd.read_html(data)[1]\n"
     ]
    },
    {
     "name": "stdout",
     "output_type": "stream",
     "text": [
      "0                                                五福化毒片\n",
      "1                                                   片剂\n",
      "2      水牛角浓缩粉, 连翘, 青黛, 黄连, 牛蒡子(炒), 玄参, 地黄, 桔梗, 芒硝, 赤芍,\n",
      "3    口服，3～6岁：一次5片；7～14岁：一次7片；一日3次。用于小儿痱毒时，2～6岁：一次4～5片。\n",
      "4                                                  清热药\n",
      "Name: 0, dtype: object\n"
     ]
    },
    {
     "name": "stderr",
     "output_type": "stream",
     "text": [
      "C:\\Users\\15382\\AppData\\Local\\Temp\\ipykernel_198532\\764970698.py:31: FutureWarning: Passing literal html to 'read_html' is deprecated and will be removed in a future version. To read from a literal string, wrap it in a 'StringIO' object.\n",
      "  df = pd.read_html(data)[1]\n"
     ]
    },
    {
     "name": "stdout",
     "output_type": "stream",
     "text": [
      "0                                              五福化毒丸\n",
      "1                                                 丸剂\n",
      "2    水牛角浓缩粉, 连翘, 青黛, 黄连, 牛蒡子(炒), 玄参, 地黄, 桔梗, 芒硝, 赤芍,\n",
      "3                         口服，水蜜丸一次2克，大蜜丸一次1丸，一日2～3次。\n",
      "4                                                清热药\n",
      "Name: 0, dtype: object\n"
     ]
    },
    {
     "name": "stderr",
     "output_type": "stream",
     "text": [
      "C:\\Users\\15382\\AppData\\Local\\Temp\\ipykernel_198532\\764970698.py:31: FutureWarning: Passing literal html to 'read_html' is deprecated and will be removed in a future version. To read from a literal string, wrap it in a 'StringIO' object.\n",
      "  df = pd.read_html(data)[1]\n"
     ]
    },
    {
     "name": "stdout",
     "output_type": "stream",
     "text": [
      "0                                               （山黎）峒丸\n",
      "1                                                   丸剂\n",
      "2    三七, 血竭, 阿魏, 乳香(制), 没药(制), 藤黄(制), 天竺黄, 大黄, 儿茶, 冰片,\n",
      "3                            嚼碎后温开水或黄酒送服，一日１丸，外用酒磨涂患处。\n",
      "4                                                  扶正药\n",
      "Name: 0, dtype: object\n"
     ]
    },
    {
     "name": "stderr",
     "output_type": "stream",
     "text": [
      "C:\\Users\\15382\\AppData\\Local\\Temp\\ipykernel_198532\\764970698.py:31: FutureWarning: Passing literal html to 'read_html' is deprecated and will be removed in a future version. To read from a literal string, wrap it in a 'StringIO' object.\n",
      "  df = pd.read_html(data)[1]\n"
     ]
    },
    {
     "name": "stdout",
     "output_type": "stream",
     "text": [
      "0                                            复方乌鸡丸\n",
      "1                                               丸剂\n",
      "2    乌鸡(去毛, 爪, 肠), 炙黄芪, 山药, 党参, 白术(炒), 川芎, 茯苓, 当归,\n",
      "3                         口服，水蜜丸一次6克，大蜜丸一次1丸，一日2次。\n",
      "4                                              扶正药\n",
      "Name: 0, dtype: object\n"
     ]
    },
    {
     "name": "stderr",
     "output_type": "stream",
     "text": [
      "C:\\Users\\15382\\AppData\\Local\\Temp\\ipykernel_198532\\764970698.py:31: FutureWarning: Passing literal html to 'read_html' is deprecated and will be removed in a future version. To read from a literal string, wrap it in a 'StringIO' object.\n",
      "  df = pd.read_html(data)[1]\n"
     ]
    },
    {
     "name": "stdout",
     "output_type": "stream",
     "text": [
      "0                                         西羚丹\n",
      "1                                          丸剂\n",
      "2    黄柏, 栀子, 黄芩, 大黄, 黄连, 甘草, 地黄, 玄参, 川芎, 玄明粉,\n",
      "3                               口服，一次1丸，一日2次。\n",
      "4                                         清热药\n",
      "Name: 0, dtype: object\n"
     ]
    },
    {
     "name": "stderr",
     "output_type": "stream",
     "text": [
      "C:\\Users\\15382\\AppData\\Local\\Temp\\ipykernel_198532\\764970698.py:31: FutureWarning: Passing literal html to 'read_html' is deprecated and will be removed in a future version. To read from a literal string, wrap it in a 'StringIO' object.\n",
      "  df = pd.read_html(data)[1]\n"
     ]
    },
    {
     "name": "stdout",
     "output_type": "stream",
     "text": [
      "0                                         西羚丸\n",
      "1                                          丸剂\n",
      "2    黄柏, 栀子, 黄芩, 黄连, 大黄, 甘草, 地黄, 玄参, 川芎, 玄明粉,\n",
      "3                               口服，一次1丸。一日2次。\n",
      "4                                         清热药\n",
      "Name: 0, dtype: object\n"
     ]
    },
    {
     "name": "stderr",
     "output_type": "stream",
     "text": [
      "C:\\Users\\15382\\AppData\\Local\\Temp\\ipykernel_198532\\764970698.py:31: FutureWarning: Passing literal html to 'read_html' is deprecated and will be removed in a future version. To read from a literal string, wrap it in a 'StringIO' object.\n",
      "  df = pd.read_html(data)[1]\n"
     ]
    },
    {
     "name": "stdout",
     "output_type": "stream",
     "text": [
      "0                               消渴安胶囊\n",
      "1                                 胶囊剂\n",
      "2    地黄, 知母, 黄连, 地骨皮, 枸杞子, 玉竹, 人参, 丹参\n",
      "3                  口服。一次3粒，一日3次，或遵医嘱。\n",
      "4                                 祛瘀药\n",
      "Name: 0, dtype: object\n"
     ]
    },
    {
     "name": "stderr",
     "output_type": "stream",
     "text": [
      "C:\\Users\\15382\\AppData\\Local\\Temp\\ipykernel_198532\\764970698.py:31: FutureWarning: Passing literal html to 'read_html' is deprecated and will be removed in a future version. To read from a literal string, wrap it in a 'StringIO' object.\n",
      "  df = pd.read_html(data)[1]\n"
     ]
    },
    {
     "name": "stdout",
     "output_type": "stream",
     "text": [
      "0                                         消渴灵胶囊\n",
      "1                                           胶囊剂\n",
      "2    地黄, 五味子, 麦冬, 牡丹皮, 黄芪, 黄连, 茯苓, 红参, 天花粉, 石膏,\n",
      "3                                 口服，一次8粒，一日3次。\n",
      "4                                           扶正药\n",
      "Name: 0, dtype: object\n"
     ]
    },
    {
     "name": "stderr",
     "output_type": "stream",
     "text": [
      "C:\\Users\\15382\\AppData\\Local\\Temp\\ipykernel_198532\\764970698.py:31: FutureWarning: Passing literal html to 'read_html' is deprecated and will be removed in a future version. To read from a literal string, wrap it in a 'StringIO' object.\n",
      "  df = pd.read_html(data)[1]\n"
     ]
    },
    {
     "name": "stdout",
     "output_type": "stream",
     "text": [
      "0                                          消渴灵颗粒\n",
      "1                                            颗粒剂\n",
      "2    地黄, 枸杞子, 麦冬, 黄芪, 红参, 五味子, 天花粉, 石膏, 黄连, 牡丹皮,\n",
      "3                             口服，一次 4g（一袋），一日3次。\n",
      "4                                            扶正药\n",
      "Name: 0, dtype: object\n"
     ]
    },
    {
     "name": "stderr",
     "output_type": "stream",
     "text": [
      "C:\\Users\\15382\\AppData\\Local\\Temp\\ipykernel_198532\\764970698.py:31: FutureWarning: Passing literal html to 'read_html' is deprecated and will be removed in a future version. To read from a literal string, wrap it in a 'StringIO' object.\n",
      "  df = pd.read_html(data)[1]\n"
     ]
    },
    {
     "name": "stdout",
     "output_type": "stream",
     "text": [
      "0                                          消渴灵丸\n",
      "1                                            丸剂\n",
      "2    地黄, 五味子, 麦冬, 牡丹皮, 黄芪, 黄连, 茯苓, 红参, 天花粉, 石膏,\n",
      "3                                口服。一次16丸，一日3次。\n",
      "4                                           扶正药\n",
      "Name: 0, dtype: object\n"
     ]
    },
    {
     "name": "stderr",
     "output_type": "stream",
     "text": [
      "C:\\Users\\15382\\AppData\\Local\\Temp\\ipykernel_198532\\764970698.py:31: FutureWarning: Passing literal html to 'read_html' is deprecated and will be removed in a future version. To read from a literal string, wrap it in a 'StringIO' object.\n",
      "  df = pd.read_html(data)[1]\n"
     ]
    },
    {
     "name": "stdout",
     "output_type": "stream",
     "text": [
      "0                                         消渴平胶囊\n",
      "1                                           胶囊剂\n",
      "2    黄芪, 天花粉, 丹参, 葛根, 沙苑子, 枸杞子, 知母, 人参, 黄连, 天冬,\n",
      "3                          口服，一次6-8粒，一日3次，或遵医嘱。\n",
      "4                                           扶正药\n",
      "Name: 0, dtype: object\n"
     ]
    },
    {
     "name": "stderr",
     "output_type": "stream",
     "text": [
      "C:\\Users\\15382\\AppData\\Local\\Temp\\ipykernel_198532\\764970698.py:31: FutureWarning: Passing literal html to 'read_html' is deprecated and will be removed in a future version. To read from a literal string, wrap it in a 'StringIO' object.\n",
      "  df = pd.read_html(data)[1]\n"
     ]
    },
    {
     "name": "stdout",
     "output_type": "stream",
     "text": [
      "0                    消渴清颗粒\n",
      "1                      颗粒剂\n",
      "2      知母, 苍术, 黄连, 蒲黄, 地锦草\n",
      "3    温开水冲服。一次1袋，一日3次。疗程8周。\n",
      "4                      祛瘀药\n",
      "Name: 0, dtype: object\n"
     ]
    },
    {
     "name": "stderr",
     "output_type": "stream",
     "text": [
      "C:\\Users\\15382\\AppData\\Local\\Temp\\ipykernel_198532\\764970698.py:31: FutureWarning: Passing literal html to 'read_html' is deprecated and will be removed in a future version. To read from a literal string, wrap it in a 'StringIO' object.\n",
      "  df = pd.read_html(data)[1]\n"
     ]
    },
    {
     "name": "stdout",
     "output_type": "stream",
     "text": [
      "0                                       消痰益康（糖浆）\n",
      "1                                            胶囊剂\n",
      "2    黄芪, 天花粉, 白芍, 丹参, 沙苑子, 枸杞子, 知母, 杜仲, 五味子, 黄连,\n",
      "3                                口服，一次10ml，一日3次。\n",
      "4                                            扶正药\n",
      "Name: 0, dtype: object\n"
     ]
    },
    {
     "name": "stderr",
     "output_type": "stream",
     "text": [
      "C:\\Users\\15382\\AppData\\Local\\Temp\\ipykernel_198532\\764970698.py:31: FutureWarning: Passing literal html to 'read_html' is deprecated and will be removed in a future version. To read from a literal string, wrap it in a 'StringIO' object.\n",
      "  df = pd.read_html(data)[1]\n"
     ]
    },
    {
     "name": "stdout",
     "output_type": "stream",
     "text": [
      "0                                          消糖灵胶囊\n",
      "1                                            胶囊剂\n",
      "2    黄芪, 天花粉, 白芍, 丹参, 沙苑子, 枸杞子, 知母, 杜仲, 五味子, 黄连,\n",
      "3                              口服，一次3粒，一日2次或遵医嘱。\n",
      "4                                            扶正药\n",
      "Name: 0, dtype: object\n"
     ]
    },
    {
     "name": "stderr",
     "output_type": "stream",
     "text": [
      "C:\\Users\\15382\\AppData\\Local\\Temp\\ipykernel_198532\\764970698.py:31: FutureWarning: Passing literal html to 'read_html' is deprecated and will be removed in a future version. To read from a literal string, wrap it in a 'StringIO' object.\n",
      "  df = pd.read_html(data)[1]\n"
     ]
    },
    {
     "name": "stdout",
     "output_type": "stream",
     "text": [
      "0                                               （山黎）峒丸\n",
      "1                                                   丸剂\n",
      "2    三七, 血竭, 阿魏, 乳香(制), 没药(制), 藤黄(制), 天竺黄, 大黄, 儿茶, 冰片,\n",
      "3                            嚼碎后温开水或黄酒送服，一日１丸，外用酒磨涂患处。\n",
      "4                                                  扶正药\n",
      "Name: 0, dtype: object\n"
     ]
    },
    {
     "name": "stderr",
     "output_type": "stream",
     "text": [
      "C:\\Users\\15382\\AppData\\Local\\Temp\\ipykernel_198532\\764970698.py:31: FutureWarning: Passing literal html to 'read_html' is deprecated and will be removed in a future version. To read from a literal string, wrap it in a 'StringIO' object.\n",
      "  df = pd.read_html(data)[1]\n"
     ]
    },
    {
     "name": "stdout",
     "output_type": "stream",
     "text": [
      "0                                 消糖灵片\n",
      "1                                   片剂\n",
      "2    黄芪, 天花粉, 白芍, 丹参, 沙苑子, 枸杞子, 黄连, 人参\n",
      "3                         口服一次2片，一日2次。\n",
      "4                                  扶正药\n",
      "Name: 0, dtype: object\n"
     ]
    },
    {
     "name": "stderr",
     "output_type": "stream",
     "text": [
      "C:\\Users\\15382\\AppData\\Local\\Temp\\ipykernel_198532\\764970698.py:31: FutureWarning: Passing literal html to 'read_html' is deprecated and will be removed in a future version. To read from a literal string, wrap it in a 'StringIO' object.\n",
      "  df = pd.read_html(data)[1]\n"
     ]
    },
    {
     "name": "stdout",
     "output_type": "stream",
     "text": [
      "0                                                小儿和胃丸\n",
      "1                                                   丸剂\n",
      "2    苍术, 厚朴(姜制), 陈皮, 麦芽(炒), 山楂, 枳壳(麸炒), 砂仁, 木香, 清半夏...\n",
      "3                                   口服，一次1丸，一日2次；或遵医嘱。\n",
      "4                                                  扶正药\n",
      "Name: 0, dtype: object\n"
     ]
    },
    {
     "name": "stderr",
     "output_type": "stream",
     "text": [
      "C:\\Users\\15382\\AppData\\Local\\Temp\\ipykernel_198532\\764970698.py:31: FutureWarning: Passing literal html to 'read_html' is deprecated and will be removed in a future version. To read from a literal string, wrap it in a 'StringIO' object.\n",
      "  df = pd.read_html(data)[1]\n"
     ]
    },
    {
     "name": "stdout",
     "output_type": "stream",
     "text": [
      "0                                                小儿化毒散\n",
      "1                                                   散剂\n",
      "2    人工牛黄, 珍珠, 雄黄, 大黄, 黄连, 天花粉, 川贝母, 赤芍, 乳香(制), 没药(制),\n",
      "3                  口服。一次0.6g ，一日1～2次；三岁以内小儿酌减。外用，敷于患处。\n",
      "4                                                  清热药\n",
      "Name: 0, dtype: object\n"
     ]
    },
    {
     "name": "stderr",
     "output_type": "stream",
     "text": [
      "C:\\Users\\15382\\AppData\\Local\\Temp\\ipykernel_198532\\764970698.py:31: FutureWarning: Passing literal html to 'read_html' is deprecated and will be removed in a future version. To read from a literal string, wrap it in a 'StringIO' object.\n",
      "  df = pd.read_html(data)[1]\n"
     ]
    },
    {
     "name": "stdout",
     "output_type": "stream",
     "text": [
      "0                                         醒脑安神片\n",
      "1                                            片剂\n",
      "2    连翘, 大黄, 黄连, 石膏, 石决明, 雄黄, 赭石, 磁石, 金银花, 天花粉,\n",
      "3                     口服，一次2-4片，一日3次，小儿酌减，或遵医嘱。\n",
      "4                                           安神药\n",
      "Name: 0, dtype: object\n"
     ]
    },
    {
     "name": "stderr",
     "output_type": "stream",
     "text": [
      "C:\\Users\\15382\\AppData\\Local\\Temp\\ipykernel_198532\\764970698.py:31: FutureWarning: Passing literal html to 'read_html' is deprecated and will be removed in a future version. To read from a literal string, wrap it in a 'StringIO' object.\n",
      "  df = pd.read_html(data)[1]\n"
     ]
    },
    {
     "name": "stdout",
     "output_type": "stream",
     "text": [
      "0                                             雪胆解毒丸\n",
      "1                                                丸剂\n",
      "2    雪胆, 大黄(制), 连翘, 黄连, 黄柏, 盐酸黄连素, 甘草, 黄芩, 栀子, 天花粉,\n",
      "3                                   口服，一次3g，一日1～2次。\n",
      "4                                               清热药\n",
      "Name: 0, dtype: object\n"
     ]
    },
    {
     "name": "stderr",
     "output_type": "stream",
     "text": [
      "C:\\Users\\15382\\AppData\\Local\\Temp\\ipykernel_198532\\764970698.py:31: FutureWarning: Passing literal html to 'read_html' is deprecated and will be removed in a future version. To read from a literal string, wrap it in a 'StringIO' object.\n",
      "  df = pd.read_html(data)[1]\n"
     ]
    },
    {
     "name": "stdout",
     "output_type": "stream",
     "text": [
      "0                                               （山黎）峒丸\n",
      "1                                                   丸剂\n",
      "2    三七, 血竭, 阿魏, 乳香(制), 没药(制), 藤黄(制), 天竺黄, 大黄, 儿茶, 冰片,\n",
      "3                            嚼碎后温开水或黄酒送服，一日１丸，外用酒磨涂患处。\n",
      "4                                                  扶正药\n",
      "Name: 0, dtype: object\n"
     ]
    },
    {
     "name": "stderr",
     "output_type": "stream",
     "text": [
      "C:\\Users\\15382\\AppData\\Local\\Temp\\ipykernel_198532\\764970698.py:31: FutureWarning: Passing literal html to 'read_html' is deprecated and will be removed in a future version. To read from a literal string, wrap it in a 'StringIO' object.\n",
      "  df = pd.read_html(data)[1]\n"
     ]
    },
    {
     "name": "stdout",
     "output_type": "stream",
     "text": [
      "0                  炎可宁胶囊\n",
      "1                    胶囊剂\n",
      "2    黄柏, 大黄, 黄芩, 板蓝根, 黄连\n",
      "3        口服。一次3～4粒，一日3次。\n",
      "4                    清热药\n",
      "Name: 0, dtype: object\n"
     ]
    },
    {
     "name": "stderr",
     "output_type": "stream",
     "text": [
      "C:\\Users\\15382\\AppData\\Local\\Temp\\ipykernel_198532\\764970698.py:31: FutureWarning: Passing literal html to 'read_html' is deprecated and will be removed in a future version. To read from a literal string, wrap it in a 'StringIO' object.\n",
      "  df = pd.read_html(data)[1]\n"
     ]
    },
    {
     "name": "stdout",
     "output_type": "stream",
     "text": [
      "0                                               （山黎）峒丸\n",
      "1                                                   丸剂\n",
      "2    三七, 血竭, 阿魏, 乳香(制), 没药(制), 藤黄(制), 天竺黄, 大黄, 儿茶, 冰片,\n",
      "3                            嚼碎后温开水或黄酒送服，一日１丸，外用酒磨涂患处。\n",
      "4                                                  扶正药\n",
      "Name: 0, dtype: object\n"
     ]
    },
    {
     "name": "stderr",
     "output_type": "stream",
     "text": [
      "C:\\Users\\15382\\AppData\\Local\\Temp\\ipykernel_198532\\764970698.py:31: FutureWarning: Passing literal html to 'read_html' is deprecated and will be removed in a future version. To read from a literal string, wrap it in a 'StringIO' object.\n",
      "  df = pd.read_html(data)[1]\n"
     ]
    },
    {
     "name": "stdout",
     "output_type": "stream",
     "text": [
      "0                          羊痫疯丸\n",
      "1                            丸剂\n",
      "2    白矾, 郁金, 金礞石(煅), 全蝎, 黄连, 乌梅\n",
      "3               口服，一次6g，一日1～2次。\n",
      "4                           安神药\n",
      "Name: 0, dtype: object\n"
     ]
    },
    {
     "name": "stderr",
     "output_type": "stream",
     "text": [
      "C:\\Users\\15382\\AppData\\Local\\Temp\\ipykernel_198532\\764970698.py:31: FutureWarning: Passing literal html to 'read_html' is deprecated and will be removed in a future version. To read from a literal string, wrap it in a 'StringIO' object.\n",
      "  df = pd.read_html(data)[1]\n"
     ]
    },
    {
     "name": "stdout",
     "output_type": "stream",
     "text": [
      "0                                                养肝还睛丸\n",
      "1                                                   丸剂\n",
      "2    党参, 杏仁, 枸杞子, 川牛膝(炒), 防风, 菊花, 水牛角浓缩粉, 青葙子, 地熟黄,...\n",
      "3                                 口服，一次3～6g，一日2次；或遵医嘱。\n",
      "4                                                  扶正药\n",
      "Name: 0, dtype: object\n"
     ]
    },
    {
     "name": "stderr",
     "output_type": "stream",
     "text": [
      "C:\\Users\\15382\\AppData\\Local\\Temp\\ipykernel_198532\\764970698.py:31: FutureWarning: Passing literal html to 'read_html' is deprecated and will be removed in a future version. To read from a literal string, wrap it in a 'StringIO' object.\n",
      "  df = pd.read_html(data)[1]\n"
     ]
    },
    {
     "name": "stdout",
     "output_type": "stream",
     "text": [
      "0                                     养阴清胃颗粒\n",
      "1                                        颗粒剂\n",
      "2    石斛, 知母, 黄连, 苦参, 茯苓, 白术, 黄芪, 白及, 马齿苋, 枳壳\n",
      "3             饭前30分钟开水冲服。一次15g，一日2次；10周为一疗程。\n",
      "4                                        清热药\n",
      "Name: 0, dtype: object\n"
     ]
    },
    {
     "name": "stderr",
     "output_type": "stream",
     "text": [
      "C:\\Users\\15382\\AppData\\Local\\Temp\\ipykernel_198532\\764970698.py:31: FutureWarning: Passing literal html to 'read_html' is deprecated and will be removed in a future version. To read from a literal string, wrap it in a 'StringIO' object.\n",
      "  df = pd.read_html(data)[1]\n"
     ]
    },
    {
     "name": "stdout",
     "output_type": "stream",
     "text": [
      "0                                               （山黎）峒丸\n",
      "1                                                   丸剂\n",
      "2    三七, 血竭, 阿魏, 乳香(制), 没药(制), 藤黄(制), 天竺黄, 大黄, 儿茶, 冰片,\n",
      "3                            嚼碎后温开水或黄酒送服，一日１丸，外用酒磨涂患处。\n",
      "4                                                  扶正药\n",
      "Name: 0, dtype: object\n"
     ]
    },
    {
     "name": "stderr",
     "output_type": "stream",
     "text": [
      "C:\\Users\\15382\\AppData\\Local\\Temp\\ipykernel_198532\\764970698.py:31: FutureWarning: Passing literal html to 'read_html' is deprecated and will be removed in a future version. To read from a literal string, wrap it in a 'StringIO' object.\n",
      "  df = pd.read_html(data)[1]\n"
     ]
    },
    {
     "name": "stdout",
     "output_type": "stream",
     "text": [
      "0                                        乙肝益气解郁颗粒\n",
      "1                                             颗粒剂\n",
      "2    柴胡(醋炙), 枳壳, 白芍, 丹参, 黄芪, 党参, 黄连, 橘叶, 法半夏, 瓜蒌,\n",
      "3                                开水冲服，一次20克，一日3次。\n",
      "4                                             理气药\n",
      "Name: 0, dtype: object\n"
     ]
    },
    {
     "name": "stderr",
     "output_type": "stream",
     "text": [
      "C:\\Users\\15382\\AppData\\Local\\Temp\\ipykernel_198532\\764970698.py:31: FutureWarning: Passing literal html to 'read_html' is deprecated and will be removed in a future version. To read from a literal string, wrap it in a 'StringIO' object.\n",
      "  df = pd.read_html(data)[1]\n"
     ]
    },
    {
     "name": "stdout",
     "output_type": "stream",
     "text": [
      "0                                      益肾化湿颗粒\n",
      "1                                         颗粒剂\n",
      "2    人参, 黄芪, 白术, 茯苓, 泽泻, 清半夏, 羌活, 独活, 防风, 柴胡,\n",
      "3                      开水冲服。一次1袋，一日3次。疗程为2个月。\n",
      "4                                         祛湿药\n",
      "Name: 0, dtype: object\n"
     ]
    },
    {
     "name": "stderr",
     "output_type": "stream",
     "text": [
      "C:\\Users\\15382\\AppData\\Local\\Temp\\ipykernel_198532\\764970698.py:31: FutureWarning: Passing literal html to 'read_html' is deprecated and will be removed in a future version. To read from a literal string, wrap it in a 'StringIO' object.\n",
      "  df = pd.read_html(data)[1]\n"
     ]
    },
    {
     "name": "stdout",
     "output_type": "stream",
     "text": [
      "0                                            愈三消胶囊\n",
      "1                                              胶囊剂\n",
      "2    黄芪, 地黄, 熟地黄, 麦冬, 天冬, 玄参, 五味子, 淫羊藿(制), 丹参, 红花,\n",
      "3                        饭前口服，一次8粒，一日3次。疗程3个月或遵医嘱。\n",
      "4                                              扶正药\n",
      "Name: 0, dtype: object\n"
     ]
    },
    {
     "name": "stderr",
     "output_type": "stream",
     "text": [
      "C:\\Users\\15382\\AppData\\Local\\Temp\\ipykernel_198532\\764970698.py:31: FutureWarning: Passing literal html to 'read_html' is deprecated and will be removed in a future version. To read from a literal string, wrap it in a 'StringIO' object.\n",
      "  df = pd.read_html(data)[1]\n"
     ]
    },
    {
     "name": "stdout",
     "output_type": "stream",
     "text": [
      "0                                     孕妇金花胶囊\n",
      "1                                        胶囊剂\n",
      "2    栀子(姜制), 白芍, 黄芩, 金银花, 川芎, 黄柏, 当归, 地黄, 黄连\n",
      "3                              口服。一次4粒，一日2次。\n",
      "4                                        清热药\n",
      "Name: 0, dtype: object\n"
     ]
    },
    {
     "name": "stderr",
     "output_type": "stream",
     "text": [
      "C:\\Users\\15382\\AppData\\Local\\Temp\\ipykernel_198532\\764970698.py:31: FutureWarning: Passing literal html to 'read_html' is deprecated and will be removed in a future version. To read from a literal string, wrap it in a 'StringIO' object.\n",
      "  df = pd.read_html(data)[1]\n"
     ]
    },
    {
     "name": "stdout",
     "output_type": "stream",
     "text": [
      "0                                               妇科再造丸\n",
      "1                                                  丸剂\n",
      "2    当归(酒炙), 香附(醋炙), 白芍, 熟地黄, 阿胶, 茯苓, 党参, 黄芪, 山药, 白术,\n",
      "3                  口服，一次10丸，一日2次，一个月经周期为一疗程，经前一周开始服用。\n",
      "4                                                 理血药\n",
      "Name: 0, dtype: object\n"
     ]
    },
    {
     "name": "stderr",
     "output_type": "stream",
     "text": [
      "C:\\Users\\15382\\AppData\\Local\\Temp\\ipykernel_198532\\764970698.py:31: FutureWarning: Passing literal html to 'read_html' is deprecated and will be removed in a future version. To read from a literal string, wrap it in a 'StringIO' object.\n",
      "  df = pd.read_html(data)[1]\n"
     ]
    },
    {
     "name": "stdout",
     "output_type": "stream",
     "text": [
      "0                                         脏连丸\n",
      "1                                          丸剂\n",
      "2    黄连, 黄芩, 地黄, 赤芍, 当归, 槐角, 槐花, 荆芥穗, 地榆炭, 阿胶\n",
      "3          口服，水蜜丸一次6～9克，小蜜丸一次9克，大蜜丸一次1丸，一日2次。\n",
      "4                                         清热药\n",
      "Name: 0, dtype: object\n"
     ]
    },
    {
     "name": "stderr",
     "output_type": "stream",
     "text": [
      "C:\\Users\\15382\\AppData\\Local\\Temp\\ipykernel_198532\\764970698.py:31: FutureWarning: Passing literal html to 'read_html' is deprecated and will be removed in a future version. To read from a literal string, wrap it in a 'StringIO' object.\n",
      "  df = pd.read_html(data)[1]\n"
     ]
    },
    {
     "name": "stdout",
     "output_type": "stream",
     "text": [
      "0                               栀子金花丸\n",
      "1                                  丸剂\n",
      "2    栀子, 金银花, 黄芩, 黄柏, 大黄, 黄连, 知母, 天花粉\n",
      "3                       口服，一次9克，一日1次。\n",
      "4                                 清热药\n",
      "Name: 0, dtype: object\n"
     ]
    },
    {
     "name": "stderr",
     "output_type": "stream",
     "text": [
      "C:\\Users\\15382\\AppData\\Local\\Temp\\ipykernel_198532\\764970698.py:31: FutureWarning: Passing literal html to 'read_html' is deprecated and will be removed in a future version. To read from a literal string, wrap it in a 'StringIO' object.\n",
      "  df = pd.read_html(data)[1]\n"
     ]
    },
    {
     "name": "stdout",
     "output_type": "stream",
     "text": [
      "0                       止痢颗粒\n",
      "1                        颗粒剂\n",
      "2    葛根, 黄连, 黄芩, 木香, 槟榔, 地锦草\n",
      "3           开水冲服，一次17g，一日3次。\n",
      "4                        扶正药\n",
      "Name: 0, dtype: object\n"
     ]
    },
    {
     "name": "stderr",
     "output_type": "stream",
     "text": [
      "C:\\Users\\15382\\AppData\\Local\\Temp\\ipykernel_198532\\764970698.py:31: FutureWarning: Passing literal html to 'read_html' is deprecated and will be removed in a future version. To read from a literal string, wrap it in a 'StringIO' object.\n",
      "  df = pd.read_html(data)[1]\n"
     ]
    },
    {
     "name": "stdout",
     "output_type": "stream",
     "text": [
      "0                                              止泻保童颗粒\n",
      "1                                                 颗粒剂\n",
      "2    人参, 白术(麸炒), 茯苓, 白扁豆, 苍术(制), 广藿香, 木香, 丁香, 檀香, 砂仁,\n",
      "3                      开水冲服，一次 2.5克（半袋），一日2次，周岁内小儿酌减。\n",
      "4                                                 扶正药\n",
      "Name: 0, dtype: object\n"
     ]
    },
    {
     "name": "stderr",
     "output_type": "stream",
     "text": [
      "C:\\Users\\15382\\AppData\\Local\\Temp\\ipykernel_198532\\764970698.py:31: FutureWarning: Passing literal html to 'read_html' is deprecated and will be removed in a future version. To read from a literal string, wrap it in a 'StringIO' object.\n",
      "  df = pd.read_html(data)[1]\n"
     ]
    },
    {
     "name": "stdout",
     "output_type": "stream",
     "text": [
      "0                      维脂康胶囊\n",
      "1                        胶囊剂\n",
      "2    大蒜粉, 丹参, 山楂, 陈皮, 槐花, 三七\n",
      "3            口服。一次2-4粒，一日3次。\n",
      "4                        理气药\n",
      "Name: 0, dtype: object\n"
     ]
    },
    {
     "name": "stderr",
     "output_type": "stream",
     "text": [
      "C:\\Users\\15382\\AppData\\Local\\Temp\\ipykernel_198532\\764970698.py:31: FutureWarning: Passing literal html to 'read_html' is deprecated and will be removed in a future version. To read from a literal string, wrap it in a 'StringIO' object.\n",
      "  df = pd.read_html(data)[1]\n"
     ]
    },
    {
     "name": "stdout",
     "output_type": "stream",
     "text": [
      "0                                               （山黎）峒丸\n",
      "1                                                   丸剂\n",
      "2    三七, 血竭, 阿魏, 乳香(制), 没药(制), 藤黄(制), 天竺黄, 大黄, 儿茶, 冰片,\n",
      "3                            嚼碎后温开水或黄酒送服，一日１丸，外用酒磨涂患处。\n",
      "4                                                  扶正药\n",
      "Name: 0, dtype: object\n"
     ]
    },
    {
     "name": "stderr",
     "output_type": "stream",
     "text": [
      "C:\\Users\\15382\\AppData\\Local\\Temp\\ipykernel_198532\\764970698.py:31: FutureWarning: Passing literal html to 'read_html' is deprecated and will be removed in a future version. To read from a literal string, wrap it in a 'StringIO' object.\n",
      "  df = pd.read_html(data)[1]\n"
     ]
    },
    {
     "name": "stdout",
     "output_type": "stream",
     "text": [
      "0                                             资生丸（浓缩丸）\n",
      "1                                                   丸剂\n",
      "2    党参(炒), 白术(炒), 山药, 茯苓, 山楂(炭), 六神曲, 麦芽(焦), 薏苡仁, ...\n",
      "3                                       口服，一次10丸，一日3次。\n",
      "4                                                  扶正药\n",
      "Name: 0, dtype: object\n"
     ]
    },
    {
     "name": "stderr",
     "output_type": "stream",
     "text": [
      "C:\\Users\\15382\\AppData\\Local\\Temp\\ipykernel_198532\\764970698.py:31: FutureWarning: Passing literal html to 'read_html' is deprecated and will be removed in a future version. To read from a literal string, wrap it in a 'StringIO' object.\n",
      "  df = pd.read_html(data)[1]\n"
     ]
    },
    {
     "name": "stdout",
     "output_type": "stream",
     "text": [
      "0               左金胶囊\n",
      "1                胶囊剂\n",
      "2            黄连, 吴茱萸\n",
      "3    饭后口服，一次3粒，一日2次。\n",
      "4                理气药\n",
      "Name: 0, dtype: object\n"
     ]
    },
    {
     "name": "stderr",
     "output_type": "stream",
     "text": [
      "C:\\Users\\15382\\AppData\\Local\\Temp\\ipykernel_198532\\764970698.py:31: FutureWarning: Passing literal html to 'read_html' is deprecated and will be removed in a future version. To read from a literal string, wrap it in a 'StringIO' object.\n",
      "  df = pd.read_html(data)[1]\n"
     ]
    },
    {
     "name": "stdout",
     "output_type": "stream",
     "text": [
      "0                   左金片\n",
      "1                    片剂\n",
      "2               黄连, 吴茱萸\n",
      "3    口服，一次5片，一日2次，或遵医嘱。\n",
      "4                   理气药\n",
      "Name: 0, dtype: object\n"
     ]
    },
    {
     "name": "stderr",
     "output_type": "stream",
     "text": [
      "C:\\Users\\15382\\AppData\\Local\\Temp\\ipykernel_198532\\764970698.py:31: FutureWarning: Passing literal html to 'read_html' is deprecated and will be removed in a future version. To read from a literal string, wrap it in a 'StringIO' object.\n",
      "  df = pd.read_html(data)[1]\n"
     ]
    },
    {
     "name": "stdout",
     "output_type": "stream",
     "text": [
      "0                                               （山黎）峒丸\n",
      "1                                                   丸剂\n",
      "2    三七, 血竭, 阿魏, 乳香(制), 没药(制), 藤黄(制), 天竺黄, 大黄, 儿茶, 冰片,\n",
      "3                            嚼碎后温开水或黄酒送服，一日１丸，外用酒磨涂患处。\n",
      "4                                                  扶正药\n",
      "Name: 0, dtype: object\n"
     ]
    },
    {
     "name": "stderr",
     "output_type": "stream",
     "text": [
      "C:\\Users\\15382\\AppData\\Local\\Temp\\ipykernel_198532\\764970698.py:31: FutureWarning: Passing literal html to 'read_html' is deprecated and will be removed in a future version. To read from a literal string, wrap it in a 'StringIO' object.\n",
      "  df = pd.read_html(data)[1]\n"
     ]
    },
    {
     "name": "stdout",
     "output_type": "stream",
     "text": [
      "0                                       安宫降压丸\n",
      "1                                          丸剂\n",
      "2    郁金, 黄连, 栀子, 黄芩, 天麻, 珍珠母, 黄芪, 白芍, 党参, 麦冬,\n",
      "3                                         NaN\n",
      "4                                         清热药\n",
      "Name: 0, dtype: object\n"
     ]
    },
    {
     "name": "stderr",
     "output_type": "stream",
     "text": [
      "C:\\Users\\15382\\AppData\\Local\\Temp\\ipykernel_198532\\764970698.py:31: FutureWarning: Passing literal html to 'read_html' is deprecated and will be removed in a future version. To read from a literal string, wrap it in a 'StringIO' object.\n",
      "  df = pd.read_html(data)[1]\n"
     ]
    },
    {
     "name": "stdout",
     "output_type": "stream",
     "text": [
      "0                                           安宫牛黄片\n",
      "1                                              片剂\n",
      "2      人工牛黄, 水牛角, 麝香, 珍珠, 朱砂, 雄黄, 黄连, 黄芩, 栀子, 郁金,\n",
      "3    口服，一次5～6片；三岁以内小儿一次1～2片；四岁至六岁，一次3片；一日1次。或遵医嘱。\n",
      "4                                             开窍剂\n",
      "Name: 0, dtype: object\n"
     ]
    },
    {
     "name": "stderr",
     "output_type": "stream",
     "text": [
      "C:\\Users\\15382\\AppData\\Local\\Temp\\ipykernel_198532\\764970698.py:31: FutureWarning: Passing literal html to 'read_html' is deprecated and will be removed in a future version. To read from a literal string, wrap it in a 'StringIO' object.\n",
      "  df = pd.read_html(data)[1]\n"
     ]
    },
    {
     "name": "stdout",
     "output_type": "stream",
     "text": [
      "0                                               （山黎）峒丸\n",
      "1                                                   丸剂\n",
      "2    三七, 血竭, 阿魏, 乳香(制), 没药(制), 藤黄(制), 天竺黄, 大黄, 儿茶, 冰片,\n",
      "3                            嚼碎后温开水或黄酒送服，一日１丸，外用酒磨涂患处。\n",
      "4                                                  扶正药\n",
      "Name: 0, dtype: object\n"
     ]
    },
    {
     "name": "stderr",
     "output_type": "stream",
     "text": [
      "C:\\Users\\15382\\AppData\\Local\\Temp\\ipykernel_198532\\764970698.py:31: FutureWarning: Passing literal html to 'read_html' is deprecated and will be removed in a future version. To read from a literal string, wrap it in a 'StringIO' object.\n",
      "  df = pd.read_html(data)[1]\n"
     ]
    },
    {
     "name": "stdout",
     "output_type": "stream",
     "text": [
      "0                                           归元健脑片\n",
      "1                                              片剂\n",
      "2    熟地, 山茱萸, 肉苁蓉, 巴戟天, 肉挂, 麦冬, 石斛, 五味子, 石菖蒲, 远志,\n",
      "3                                   口服，一次5片，一日3次。\n",
      "4                                             扶正药\n",
      "Name: 0, dtype: object\n"
     ]
    },
    {
     "name": "stderr",
     "output_type": "stream",
     "text": [
      "C:\\Users\\15382\\AppData\\Local\\Temp\\ipykernel_198532\\764970698.py:31: FutureWarning: Passing literal html to 'read_html' is deprecated and will be removed in a future version. To read from a literal string, wrap it in a 'StringIO' object.\n",
      "  df = pd.read_html(data)[1]\n"
     ]
    },
    {
     "name": "stdout",
     "output_type": "stream",
     "text": [
      "0                                           安脑丸\n",
      "1                                            丸剂\n",
      "2    人工牛黄, 猪胆, 朱砂, 冰片, 水牛角, 珍珠, 黄芩, 黄连, 栀子, 雄黄,\n",
      "3                     口服，一次1-2丸，一日2次，或遵医嘱，小儿酌减。\n",
      "4                                           开窍剂\n",
      "Name: 0, dtype: object\n"
     ]
    },
    {
     "name": "stderr",
     "output_type": "stream",
     "text": [
      "C:\\Users\\15382\\AppData\\Local\\Temp\\ipykernel_198532\\764970698.py:31: FutureWarning: Passing literal html to 'read_html' is deprecated and will be removed in a future version. To read from a literal string, wrap it in a 'StringIO' object.\n",
      "  df = pd.read_html(data)[1]\n"
     ]
    },
    {
     "name": "stdout",
     "output_type": "stream",
     "text": [
      "0                                            白凤饮\n",
      "1                                             汤剂\n",
      "2    乌鸡, 熟地黄, 地黄, 白芍, 川牛膝, 当归, 冬虫夏草, 黄芪, 茯苓, 知母,\n",
      "3                                口服，一次10毫升，一日2次。\n",
      "4                                            补益药\n",
      "Name: 0, dtype: object\n"
     ]
    },
    {
     "name": "stderr",
     "output_type": "stream",
     "text": [
      "C:\\Users\\15382\\AppData\\Local\\Temp\\ipykernel_198532\\764970698.py:31: FutureWarning: Passing literal html to 'read_html' is deprecated and will be removed in a future version. To read from a literal string, wrap it in a 'StringIO' object.\n",
      "  df = pd.read_html(data)[1]\n"
     ]
    },
    {
     "name": "stdout",
     "output_type": "stream",
     "text": [
      "0                                         白益镇惊丸\n",
      "1                                            丸剂\n",
      "2    人参, 天竺黄, 茯苓, 天南星, 酸枣仁, 当归, 地黄, 麦冬, 赤芍, 黄连,\n",
      "3                        打碎后用温开水化服，一次 1丸，一日 2次。\n",
      "4                                           祛风药\n",
      "Name: 0, dtype: object\n"
     ]
    },
    {
     "name": "stderr",
     "output_type": "stream",
     "text": [
      "C:\\Users\\15382\\AppData\\Local\\Temp\\ipykernel_198532\\764970698.py:31: FutureWarning: Passing literal html to 'read_html' is deprecated and will be removed in a future version. To read from a literal string, wrap it in a 'StringIO' object.\n",
      "  df = pd.read_html(data)[1]\n"
     ]
    },
    {
     "name": "stdout",
     "output_type": "stream",
     "text": [
      "0                                           保童化痰丸\n",
      "1                                              丸剂\n",
      "2    黄芩, 黄连, 胆南星, 天竺黄, 前胡, 浙贝母, 桔梗, 苦杏仁, 陈皮, 化橘红,\n",
      "3                                             NaN\n",
      "4                                             化痰药\n",
      "Name: 0, dtype: object\n"
     ]
    },
    {
     "name": "stderr",
     "output_type": "stream",
     "text": [
      "C:\\Users\\15382\\AppData\\Local\\Temp\\ipykernel_198532\\764970698.py:31: FutureWarning: Passing literal html to 'read_html' is deprecated and will be removed in a future version. To read from a literal string, wrap it in a 'StringIO' object.\n",
      "  df = pd.read_html(data)[1]\n"
     ]
    },
    {
     "name": "stdout",
     "output_type": "stream",
     "text": [
      "0                                        保婴夺命散\n",
      "1                                           散剂\n",
      "2    川贝母, 大黄, 全蝎, 琥珀, 僵蚕, 牛黄, 冰片, 天麻, 黄连, 胆南星,\n",
      "3                       口服，一次0．3～0?g，一日 1～2 次。\n",
      "4                                          祛风药\n",
      "Name: 0, dtype: object\n"
     ]
    },
    {
     "name": "stderr",
     "output_type": "stream",
     "text": [
      "C:\\Users\\15382\\AppData\\Local\\Temp\\ipykernel_198532\\764970698.py:31: FutureWarning: Passing literal html to 'read_html' is deprecated and will be removed in a future version. To read from a literal string, wrap it in a 'StringIO' object.\n",
      "  df = pd.read_html(data)[1]\n"
     ]
    },
    {
     "name": "stdout",
     "output_type": "stream",
     "text": [
      "0                                               （山黎）峒丸\n",
      "1                                                   丸剂\n",
      "2    三七, 血竭, 阿魏, 乳香(制), 没药(制), 藤黄(制), 天竺黄, 大黄, 儿茶, 冰片,\n",
      "3                            嚼碎后温开水或黄酒送服，一日１丸，外用酒磨涂患处。\n",
      "4                                                  扶正药\n",
      "Name: 0, dtype: object\n"
     ]
    },
    {
     "name": "stderr",
     "output_type": "stream",
     "text": [
      "C:\\Users\\15382\\AppData\\Local\\Temp\\ipykernel_198532\\764970698.py:31: FutureWarning: Passing literal html to 'read_html' is deprecated and will be removed in a future version. To read from a literal string, wrap it in a 'StringIO' object.\n",
      "  df = pd.read_html(data)[1]\n"
     ]
    },
    {
     "name": "stdout",
     "output_type": "stream",
     "text": [
      "0                                         参麝活络丸\n",
      "1                                            丸剂\n",
      "2    红参, 熟地黄, 乌梢蛇, 羌活, 全蝎, 当归, 蕲蛇, 茯苓, 两头尖, 白术,\n",
      "3                                 口服，一次１丸，一日３次。\n",
      "4                                           化湿药\n",
      "Name: 0, dtype: object\n"
     ]
    },
    {
     "name": "stderr",
     "output_type": "stream",
     "text": [
      "C:\\Users\\15382\\AppData\\Local\\Temp\\ipykernel_198532\\764970698.py:31: FutureWarning: Passing literal html to 'read_html' is deprecated and will be removed in a future version. To read from a literal string, wrap it in a 'StringIO' object.\n",
      "  df = pd.read_html(data)[1]\n"
     ]
    },
    {
     "name": "stdout",
     "output_type": "stream",
     "text": [
      "0                                        蚕茧眼药\n",
      "1                                          粉剂\n",
      "2    黄连, 菊花, 花椒, 防风, 当归, 仁, 苦杏仁, 郁李仁, 铜绿, 白矾,\n",
      "3                         外用，将药茧周围用针扎孔，开水泡熏洗。\n",
      "4                                         解表药\n",
      "Name: 0, dtype: object\n"
     ]
    },
    {
     "name": "stderr",
     "output_type": "stream",
     "text": [
      "C:\\Users\\15382\\AppData\\Local\\Temp\\ipykernel_198532\\764970698.py:31: FutureWarning: Passing literal html to 'read_html' is deprecated and will be removed in a future version. To read from a literal string, wrap it in a 'StringIO' object.\n",
      "  df = pd.read_html(data)[1]\n"
     ]
    },
    {
     "name": "stdout",
     "output_type": "stream",
     "text": [
      "0                                               （山黎）峒丸\n",
      "1                                                   丸剂\n",
      "2    三七, 血竭, 阿魏, 乳香(制), 没药(制), 藤黄(制), 天竺黄, 大黄, 儿茶, 冰片,\n",
      "3                            嚼碎后温开水或黄酒送服，一日１丸，外用酒磨涂患处。\n",
      "4                                                  扶正药\n",
      "Name: 0, dtype: object\n"
     ]
    },
    {
     "name": "stderr",
     "output_type": "stream",
     "text": [
      "C:\\Users\\15382\\AppData\\Local\\Temp\\ipykernel_198532\\764970698.py:31: FutureWarning: Passing literal html to 'read_html' is deprecated and will be removed in a future version. To read from a literal string, wrap it in a 'StringIO' object.\n",
      "  df = pd.read_html(data)[1]\n"
     ]
    },
    {
     "name": "stdout",
     "output_type": "stream",
     "text": [
      "0                                     当归龙荟片\n",
      "1                                        片剂\n",
      "2    青黛, 芦荟, 龙胆, 黄芩, 木香, 栀子, 大黄, 当归, 黄柏, 黄连\n",
      "3                             口服，一次4片，一日2次。\n",
      "4                                       化湿药\n",
      "Name: 0, dtype: object\n"
     ]
    },
    {
     "name": "stderr",
     "output_type": "stream",
     "text": [
      "C:\\Users\\15382\\AppData\\Local\\Temp\\ipykernel_198532\\764970698.py:31: FutureWarning: Passing literal html to 'read_html' is deprecated and will be removed in a future version. To read from a literal string, wrap it in a 'StringIO' object.\n",
      "  df = pd.read_html(data)[1]\n"
     ]
    },
    {
     "name": "stdout",
     "output_type": "stream",
     "text": [
      "0                             荡涤灵颗粒\n",
      "1                               颗粒剂\n",
      "2    黄连, 琥珀, 赤芍, 知母, 地黄, 地龙, 黄芪, 甘草\n",
      "3         冲剂，每包20克，一日3次，一次1小包，开水冲服。\n",
      "4                               清热药\n",
      "Name: 0, dtype: object\n"
     ]
    },
    {
     "name": "stderr",
     "output_type": "stream",
     "text": [
      "C:\\Users\\15382\\AppData\\Local\\Temp\\ipykernel_198532\\764970698.py:31: FutureWarning: Passing literal html to 'read_html' is deprecated and will be removed in a future version. To read from a literal string, wrap it in a 'StringIO' object.\n",
      "  df = pd.read_html(data)[1]\n"
     ]
    },
    {
     "name": "stdout",
     "output_type": "stream",
     "text": [
      "0                                               （山黎）峒丸\n",
      "1                                                   丸剂\n",
      "2    三七, 血竭, 阿魏, 乳香(制), 没药(制), 藤黄(制), 天竺黄, 大黄, 儿茶, 冰片,\n",
      "3                            嚼碎后温开水或黄酒送服，一日１丸，外用酒磨涂患处。\n",
      "4                                                  扶正药\n",
      "Name: 0, dtype: object\n"
     ]
    },
    {
     "name": "stderr",
     "output_type": "stream",
     "text": [
      "C:\\Users\\15382\\AppData\\Local\\Temp\\ipykernel_198532\\764970698.py:31: FutureWarning: Passing literal html to 'read_html' is deprecated and will be removed in a future version. To read from a literal string, wrap it in a 'StringIO' object.\n",
      "  df = pd.read_html(data)[1]\n"
     ]
    },
    {
     "name": "stdout",
     "output_type": "stream",
     "text": [
      "0                                      定搐化风丸\n",
      "1                                         丸剂\n",
      "2    全蝎, 僵蚕, 蝉蜕, 防风, 羌活, 麻黄, 桔梗, 半夏, 黄连, 大黄,\n",
      "3               薄荷、钩藤汤送服，一次1丸，一日2次，周岁以内小儿酌减。\n",
      "4                                    开窍剂/化痰药\n",
      "Name: 0, dtype: object\n"
     ]
    },
    {
     "name": "stderr",
     "output_type": "stream",
     "text": [
      "C:\\Users\\15382\\AppData\\Local\\Temp\\ipykernel_198532\\764970698.py:31: FutureWarning: Passing literal html to 'read_html' is deprecated and will be removed in a future version. To read from a literal string, wrap it in a 'StringIO' object.\n",
      "  df = pd.read_html(data)[1]\n"
     ]
    },
    {
     "name": "stdout",
     "output_type": "stream",
     "text": [
      "0                                       鹅毛管眼药\n",
      "1                                          膏剂\n",
      "2    炉甘石, 荸荠, 硼砂, 朱砂, 牛黄, 冰片, 麝香, 黄连, 蒺藜, 赤芍,\n",
      "3                                         NaN\n",
      "4                                         解表药\n",
      "Name: 0, dtype: object\n"
     ]
    },
    {
     "name": "stderr",
     "output_type": "stream",
     "text": [
      "C:\\Users\\15382\\AppData\\Local\\Temp\\ipykernel_198532\\764970698.py:31: FutureWarning: Passing literal html to 'read_html' is deprecated and will be removed in a future version. To read from a literal string, wrap it in a 'StringIO' object.\n",
      "  df = pd.read_html(data)[1]\n"
     ]
    },
    {
     "name": "stdout",
     "output_type": "stream",
     "text": [
      "0                                        儿童化毒散\n",
      "1                                           散剂\n",
      "2    乳香, 没药, 赤芍, 天花粉, 黄连, 大黄, 浙贝母, 甘草, 牛黄, 冰片,\n",
      "3                                          NaN\n",
      "4                                          清热药\n",
      "Name: 0, dtype: object\n"
     ]
    },
    {
     "name": "stderr",
     "output_type": "stream",
     "text": [
      "C:\\Users\\15382\\AppData\\Local\\Temp\\ipykernel_198532\\764970698.py:31: FutureWarning: Passing literal html to 'read_html' is deprecated and will be removed in a future version. To read from a literal string, wrap it in a 'StringIO' object.\n",
      "  df = pd.read_html(data)[1]\n"
     ]
    },
    {
     "name": "stdout",
     "output_type": "stream",
     "text": [
      "0                                               儿童回春颗粒\n",
      "1                                                  颗粒剂\n",
      "2         黄连, 水牛角, 羚羊角, 人中白, 淡豆豉, 大青叶, 荆芥, 羌活, 葛根, 地黄,\n",
      "3    口服，一岁以下婴儿一次服1/4包，1～2岁服1/2包，3～4岁服3/5包，5～7岁服1包，一...\n",
      "4                                                  化痰药\n",
      "Name: 0, dtype: object\n"
     ]
    },
    {
     "name": "stderr",
     "output_type": "stream",
     "text": [
      "C:\\Users\\15382\\AppData\\Local\\Temp\\ipykernel_198532\\764970698.py:31: FutureWarning: Passing literal html to 'read_html' is deprecated and will be removed in a future version. To read from a literal string, wrap it in a 'StringIO' object.\n",
      "  df = pd.read_html(data)[1]\n"
     ]
    },
    {
     "name": "stdout",
     "output_type": "stream",
     "text": [
      "0                                           儿童回春丸\n",
      "1                                              丸剂\n",
      "2    黄连, 水牛角, 羚羊角, 人中白, 淡豆豉, 大青叶, 荆芥, 羌活, 葛根, 地黄,\n",
      "3    口服，一岁以下婴儿服1粒，1～2岁服2粒，3～4岁服3粒，5～7岁服5粒，一日2～3次。\n",
      "4                                             化痰药\n",
      "Name: 0, dtype: object\n"
     ]
    },
    {
     "name": "stderr",
     "output_type": "stream",
     "text": [
      "C:\\Users\\15382\\AppData\\Local\\Temp\\ipykernel_198532\\764970698.py:31: FutureWarning: Passing literal html to 'read_html' is deprecated and will be removed in a future version. To read from a literal string, wrap it in a 'StringIO' object.\n",
      "  df = pd.read_html(data)[1]\n"
     ]
    },
    {
     "name": "stdout",
     "output_type": "stream",
     "text": [
      "0                                       耳聋通窍丸\n",
      "1                                          丸剂\n",
      "2    龙胆, 黄柏, 大黄, 栀子, 石菖蒲, 当归, 芦荟, 黄芩, 黄连, 磁石,\n",
      "3                               口服，一次5克，一日1次。\n",
      "4                                         清热药\n",
      "Name: 0, dtype: object\n"
     ]
    },
    {
     "name": "stderr",
     "output_type": "stream",
     "text": [
      "C:\\Users\\15382\\AppData\\Local\\Temp\\ipykernel_198532\\764970698.py:31: FutureWarning: Passing literal html to 'read_html' is deprecated and will be removed in a future version. To read from a literal string, wrap it in a 'StringIO' object.\n",
      "  df = pd.read_html(data)[1]\n"
     ]
    },
    {
     "name": "stdout",
     "output_type": "stream",
     "text": [
      "0                                           防衰益寿丸\n",
      "1                                              丸剂\n",
      "2    人参, 党参, 五味子, 当归, 远志, 炙黄芪, 白术, 枸杞子, 炙甘草, 山茱萸,\n",
      "3                                   口服，睡前服20～30粒。\n",
      "4                                             补益药\n",
      "Name: 0, dtype: object\n"
     ]
    },
    {
     "name": "stderr",
     "output_type": "stream",
     "text": [
      "C:\\Users\\15382\\AppData\\Local\\Temp\\ipykernel_198532\\764970698.py:31: FutureWarning: Passing literal html to 'read_html' is deprecated and will be removed in a future version. To read from a literal string, wrap it in a 'StringIO' object.\n",
      "  df = pd.read_html(data)[1]\n"
     ]
    },
    {
     "name": "stdout",
     "output_type": "stream",
     "text": [
      "0                                   风火眼药\n",
      "1                                     粉剂\n",
      "2    炉甘石, 黄连, 硼砂, 琥珀, 珍珠, 牛黄, 冰片, 熊胆, 麝香\n",
      "3                                    NaN\n",
      "4                                    解表药\n",
      "Name: 0, dtype: object\n"
     ]
    },
    {
     "name": "stderr",
     "output_type": "stream",
     "text": [
      "C:\\Users\\15382\\AppData\\Local\\Temp\\ipykernel_198532\\764970698.py:31: FutureWarning: Passing literal html to 'read_html' is deprecated and will be removed in a future version. To read from a literal string, wrap it in a 'StringIO' object.\n",
      "  df = pd.read_html(data)[1]\n"
     ]
    },
    {
     "name": "stdout",
     "output_type": "stream",
     "text": [
      "0                                        佛山人参再造片\n",
      "1                                             片剂\n",
      "2    人参, 制何首乌, 羌活, 草豆蔻, 当归, 两头尖, 川芎, 大黄, 黄连, 黄芪,\n",
      "3                                            NaN\n",
      "4                                            和血药\n",
      "Name: 0, dtype: object\n"
     ]
    },
    {
     "name": "stderr",
     "output_type": "stream",
     "text": [
      "C:\\Users\\15382\\AppData\\Local\\Temp\\ipykernel_198532\\764970698.py:31: FutureWarning: Passing literal html to 'read_html' is deprecated and will be removed in a future version. To read from a literal string, wrap it in a 'StringIO' object.\n",
      "  df = pd.read_html(data)[1]\n"
     ]
    },
    {
     "name": "stdout",
     "output_type": "stream",
     "text": [
      "0                                        佛山人参再造丸\n",
      "1                                             丸剂\n",
      "2    人参, 制何首乌, 羌活, 草豆蔻, 当归, 两头尖, 川芎, 大黄, 黄连, 黄芪,\n",
      "3                     口服，大蜜丸一次1丸，小蜜丸一次6.48，一日2次。\n",
      "4                                            和血药\n",
      "Name: 0, dtype: object\n"
     ]
    },
    {
     "name": "stderr",
     "output_type": "stream",
     "text": [
      "C:\\Users\\15382\\AppData\\Local\\Temp\\ipykernel_198532\\764970698.py:31: FutureWarning: Passing literal html to 'read_html' is deprecated and will be removed in a future version. To read from a literal string, wrap it in a 'StringIO' object.\n",
      "  df = pd.read_html(data)[1]\n"
     ]
    },
    {
     "name": "stdout",
     "output_type": "stream",
     "text": [
      "0                                    妇宝金丸（妇宝金丹）\n",
      "1                                            丸剂\n",
      "2    当归, 川芎, 白芍, 地黄, 熟地黄, 益母草, 炙黄芪, 党参, 白术, 苍术,\n",
      "3                                           NaN\n",
      "4                                           补益药\n",
      "Name: 0, dtype: object\n"
     ]
    },
    {
     "name": "stderr",
     "output_type": "stream",
     "text": [
      "C:\\Users\\15382\\AppData\\Local\\Temp\\ipykernel_198532\\764970698.py:31: FutureWarning: Passing literal html to 'read_html' is deprecated and will be removed in a future version. To read from a literal string, wrap it in a 'StringIO' object.\n",
      "  df = pd.read_html(data)[1]\n"
     ]
    },
    {
     "name": "stdout",
     "output_type": "stream",
     "text": [
      "0                                      妇科白凤口服液\n",
      "1                                         口服液剂\n",
      "2    乌鸡, 艾叶, 牛膝, 柴胡, 干姜, 白芍, 牡丹皮, 香附, 延胡索, 知母,\n",
      "3                              口服，一次10毫升，一日2次。\n",
      "4                                          补益药\n",
      "Name: 0, dtype: object\n"
     ]
    },
    {
     "name": "stderr",
     "output_type": "stream",
     "text": [
      "C:\\Users\\15382\\AppData\\Local\\Temp\\ipykernel_198532\\764970698.py:31: FutureWarning: Passing literal html to 'read_html' is deprecated and will be removed in a future version. To read from a literal string, wrap it in a 'StringIO' object.\n",
      "  df = pd.read_html(data)[1]\n"
     ]
    },
    {
     "name": "stdout",
     "output_type": "stream",
     "text": [
      "0                                        妇科白凤片\n",
      "1                                           片剂\n",
      "2    乌鸡, 艾叶, 牛膝, 柴胡, 干姜, 白芍, 牡丹皮, 香附, 延胡索, 知母,\n",
      "3                                口服，一次5片，一日3次。\n",
      "4                                          补益药\n",
      "Name: 0, dtype: object\n"
     ]
    },
    {
     "name": "stderr",
     "output_type": "stream",
     "text": [
      "C:\\Users\\15382\\AppData\\Local\\Temp\\ipykernel_198532\\764970698.py:31: FutureWarning: Passing literal html to 'read_html' is deprecated and will be removed in a future version. To read from a literal string, wrap it in a 'StringIO' object.\n",
      "  df = pd.read_html(data)[1]\n"
     ]
    },
    {
     "name": "stdout",
     "output_type": "stream",
     "text": [
      "0                                               （山黎）峒丸\n",
      "1                                                   丸剂\n",
      "2    三七, 血竭, 阿魏, 乳香(制), 没药(制), 藤黄(制), 天竺黄, 大黄, 儿茶, 冰片,\n",
      "3                            嚼碎后温开水或黄酒送服，一日１丸，外用酒磨涂患处。\n",
      "4                                                  扶正药\n",
      "Name: 0, dtype: object\n"
     ]
    },
    {
     "name": "stderr",
     "output_type": "stream",
     "text": [
      "C:\\Users\\15382\\AppData\\Local\\Temp\\ipykernel_198532\\764970698.py:31: FutureWarning: Passing literal html to 'read_html' is deprecated and will be removed in a future version. To read from a literal string, wrap it in a 'StringIO' object.\n",
      "  df = pd.read_html(data)[1]\n"
     ]
    },
    {
     "name": "stdout",
     "output_type": "stream",
     "text": [
      "0                                             复明片\n",
      "1                                              片剂\n",
      "2    羚羊角, 蒺藜, 木贼, 菊花, 车前子, 夏枯草, 决明子, 人参, 山茱萸, 石斛,\n",
      "3                            口服。一次5片，一日3次，每疗程30天。\n",
      "4                                             补益药\n",
      "Name: 0, dtype: object\n"
     ]
    },
    {
     "name": "stderr",
     "output_type": "stream",
     "text": [
      "C:\\Users\\15382\\AppData\\Local\\Temp\\ipykernel_198532\\764970698.py:31: FutureWarning: Passing literal html to 'read_html' is deprecated and will be removed in a future version. To read from a literal string, wrap it in a 'StringIO' object.\n",
      "  df = pd.read_html(data)[1]\n"
     ]
    },
    {
     "name": "stdout",
     "output_type": "stream",
     "text": [
      "0                                          甘露消渴胶囊\n",
      "1                                              胶囊\n",
      "2    熟地黄, 地黄, 枸杞子, 地骨皮, 山茱萸, 玄参, 人参, 党参, 黄芪, 菟丝子,\n",
      "3                            口服，一次4～5粒，一日3次，或遵医嘱。\n",
      "4                                             补益药\n",
      "Name: 0, dtype: object\n"
     ]
    },
    {
     "name": "stderr",
     "output_type": "stream",
     "text": [
      "C:\\Users\\15382\\AppData\\Local\\Temp\\ipykernel_198532\\764970698.py:31: FutureWarning: Passing literal html to 'read_html' is deprecated and will be removed in a future version. To read from a literal string, wrap it in a 'StringIO' object.\n",
      "  df = pd.read_html(data)[1]\n"
     ]
    },
    {
     "name": "stdout",
     "output_type": "stream",
     "text": [
      "0                                      高力清心丸\n",
      "1                                         丸剂\n",
      "2    黄芩, 大黄, 石膏, 滑石, 甘草, 寒水石, 黄连, 朱砂, 冰片, 牛黄\n",
      "3                            口服，一次1丸，一日2～3次。\n",
      "4                                        清热药\n",
      "Name: 0, dtype: object\n"
     ]
    },
    {
     "name": "stderr",
     "output_type": "stream",
     "text": [
      "C:\\Users\\15382\\AppData\\Local\\Temp\\ipykernel_198532\\764970698.py:31: FutureWarning: Passing literal html to 'read_html' is deprecated and will be removed in a future version. To read from a literal string, wrap it in a 'StringIO' object.\n",
      "  df = pd.read_html(data)[1]\n"
     ]
    },
    {
     "name": "stdout",
     "output_type": "stream",
     "text": [
      "0                                          高血压速降丸\n",
      "1                                              丸剂\n",
      "2    茺蔚子, 琥珀, 蒺藜, 乌梢蛇, 天竺黄, 阿胶, 菊花, 法半夏, 夏枯草, 大黄,\n",
      "3                          口服，一次20粒，一日2次。体虚胃弱者酌减。\n",
      "4                                             清热药\n",
      "Name: 0, dtype: object\n"
     ]
    },
    {
     "name": "stderr",
     "output_type": "stream",
     "text": [
      "C:\\Users\\15382\\AppData\\Local\\Temp\\ipykernel_198532\\764970698.py:31: FutureWarning: Passing literal html to 'read_html' is deprecated and will be removed in a future version. To read from a literal string, wrap it in a 'StringIO' object.\n",
      "  df = pd.read_html(data)[1]\n"
     ]
    },
    {
     "name": "stdout",
     "output_type": "stream",
     "text": [
      "0                骨质宁搽剂\n",
      "1                   搽剂\n",
      "2          云母石, 黄连, 白矾\n",
      "3    外用适量，涂于患处，一日3～5次。\n",
      "4                  和血药\n",
      "Name: 0, dtype: object\n"
     ]
    },
    {
     "name": "stderr",
     "output_type": "stream",
     "text": [
      "C:\\Users\\15382\\AppData\\Local\\Temp\\ipykernel_198532\\764970698.py:31: FutureWarning: Passing literal html to 'read_html' is deprecated and will be removed in a future version. To read from a literal string, wrap it in a 'StringIO' object.\n",
      "  df = pd.read_html(data)[1]\n"
     ]
    },
    {
     "name": "stdout",
     "output_type": "stream",
     "text": [
      "0                                               （山黎）峒丸\n",
      "1                                                   丸剂\n",
      "2    三七, 血竭, 阿魏, 乳香(制), 没药(制), 藤黄(制), 天竺黄, 大黄, 儿茶, 冰片,\n",
      "3                            嚼碎后温开水或黄酒送服，一日１丸，外用酒磨涂患处。\n",
      "4                                                  扶正药\n",
      "Name: 0, dtype: object\n"
     ]
    },
    {
     "name": "stderr",
     "output_type": "stream",
     "text": [
      "C:\\Users\\15382\\AppData\\Local\\Temp\\ipykernel_198532\\764970698.py:31: FutureWarning: Passing literal html to 'read_html' is deprecated and will be removed in a future version. To read from a literal string, wrap it in a 'StringIO' object.\n",
      "  df = pd.read_html(data)[1]\n"
     ]
    },
    {
     "name": "stdout",
     "output_type": "stream",
     "text": [
      "0                                     广羚散（犀羚散）\n",
      "1                                           散剂\n",
      "2    胆南星, 黄连, 栀子, 黄芩, 天竺黄, 天麻, 全蝎, 钩藤, 琥珀, 雄黄,\n",
      "3                                          NaN\n",
      "4                                          清热药\n",
      "Name: 0, dtype: object\n"
     ]
    },
    {
     "name": "stderr",
     "output_type": "stream",
     "text": [
      "C:\\Users\\15382\\AppData\\Local\\Temp\\ipykernel_198532\\764970698.py:31: FutureWarning: Passing literal html to 'read_html' is deprecated and will be removed in a future version. To read from a literal string, wrap it in a 'StringIO' object.\n",
      "  df = pd.read_html(data)[1]\n"
     ]
    },
    {
     "name": "stdout",
     "output_type": "stream",
     "text": [
      "0               龟甲散\n",
      "1                散剂\n",
      "2    龟甲, 黄连, 升药, 冰片\n",
      "3         取药粉适量敷患处。\n",
      "4              疮疡消药\n",
      "Name: 0, dtype: object\n"
     ]
    },
    {
     "name": "stderr",
     "output_type": "stream",
     "text": [
      "C:\\Users\\15382\\AppData\\Local\\Temp\\ipykernel_198532\\764970698.py:31: FutureWarning: Passing literal html to 'read_html' is deprecated and will be removed in a future version. To read from a literal string, wrap it in a 'StringIO' object.\n",
      "  df = pd.read_html(data)[1]\n"
     ]
    },
    {
     "name": "stdout",
     "output_type": "stream",
     "text": [
      "0                                              桂林西瓜霜含片\n",
      "1                                                  胶囊剂\n",
      "2    西瓜霜, 山豆根, 射干, 木汉果(炭), 黄连, 黄芩, 黄柏, 大黄, 浙贝母, 硼砂(煅),\n",
      "3                              含服，一次2片，一日5次，5～7天为一个疗程。\n",
      "4                                                  清热药\n",
      "Name: 0, dtype: object\n"
     ]
    },
    {
     "name": "stderr",
     "output_type": "stream",
     "text": [
      "C:\\Users\\15382\\AppData\\Local\\Temp\\ipykernel_198532\\764970698.py:31: FutureWarning: Passing literal html to 'read_html' is deprecated and will be removed in a future version. To read from a literal string, wrap it in a 'StringIO' object.\n",
      "  df = pd.read_html(data)[1]\n"
     ]
    },
    {
     "name": "stdout",
     "output_type": "stream",
     "text": [
      "0                                       桂林西瓜霜胶囊\n",
      "1                                            胶囊\n",
      "2    西瓜霜, 硼砂, 黄芩, 黄连, 大黄, 黄柏, 山豆根, 射干, 青黛, 浙贝母,\n",
      "3            口服，一次2～4粒，一日3次。外用，取内容物适量，敷患处，一日数次。\n",
      "4                                           清热药\n",
      "Name: 0, dtype: object\n"
     ]
    },
    {
     "name": "stderr",
     "output_type": "stream",
     "text": [
      "C:\\Users\\15382\\AppData\\Local\\Temp\\ipykernel_198532\\764970698.py:31: FutureWarning: Passing literal html to 'read_html' is deprecated and will be removed in a future version. To read from a literal string, wrap it in a 'StringIO' object.\n",
      "  df = pd.read_html(data)[1]\n"
     ]
    },
    {
     "name": "stdout",
     "output_type": "stream",
     "text": [
      "0                                       蛤蚧定喘丸\n",
      "1                                          丸剂\n",
      "2    蛤蚧, 瓜蒌子, 紫菀, 麻黄, 鳖甲, 黄芩, 甘草, 麦冬, 黄连, 百合,\n",
      "3          口服，水蜜丸一次5～6克，小蜜丸一次9克，大蜜丸一次1丸，一日2次。\n",
      "4                                         补益药\n",
      "Name: 0, dtype: object\n"
     ]
    },
    {
     "name": "stderr",
     "output_type": "stream",
     "text": [
      "C:\\Users\\15382\\AppData\\Local\\Temp\\ipykernel_198532\\764970698.py:31: FutureWarning: Passing literal html to 'read_html' is deprecated and will be removed in a future version. To read from a literal string, wrap it in a 'StringIO' object.\n",
      "  df = pd.read_html(data)[1]\n"
     ]
    },
    {
     "name": "stdout",
     "output_type": "stream",
     "text": [
      "0                                                  喉炎丸\n",
      "1                                                   丸剂\n",
      "2            硼砂, 黄连, 蟾酥, 熊胆, 水牛角, 牛黄, 冰片, 珍珠, 五倍子, 细辛,\n",
      "3    口服，一次10粒；小儿一岁一次1粒，二岁一次2粒，三岁一次3～4粒，四至八岁一次5～6粒，九...\n",
      "4                                                  清热药\n",
      "Name: 0, dtype: object\n"
     ]
    },
    {
     "name": "stderr",
     "output_type": "stream",
     "text": [
      "C:\\Users\\15382\\AppData\\Local\\Temp\\ipykernel_198532\\764970698.py:31: FutureWarning: Passing literal html to 'read_html' is deprecated and will be removed in a future version. To read from a literal string, wrap it in a 'StringIO' object.\n",
      "  df = pd.read_html(data)[1]\n"
     ]
    },
    {
     "name": "stdout",
     "output_type": "stream",
     "text": [
      "0                      西园喉药散\n",
      "1                         散剂\n",
      "2      黄连, 人工牛黄, 天花粉, 薄荷, 硼砂\n",
      "3    口腔用药。喷敷患处，每次约0.2克，一日5次。\n",
      "4                  化痰、止咳、平喘药\n",
      "Name: 0, dtype: object\n"
     ]
    },
    {
     "name": "stderr",
     "output_type": "stream",
     "text": [
      "C:\\Users\\15382\\AppData\\Local\\Temp\\ipykernel_198532\\764970698.py:31: FutureWarning: Passing literal html to 'read_html' is deprecated and will be removed in a future version. To read from a literal string, wrap it in a 'StringIO' object.\n",
      "  df = pd.read_html(data)[1]\n"
     ]
    },
    {
     "name": "stdout",
     "output_type": "stream",
     "text": [
      "0                                               （山黎）峒丸\n",
      "1                                                   丸剂\n",
      "2    三七, 血竭, 阿魏, 乳香(制), 没药(制), 藤黄(制), 天竺黄, 大黄, 儿茶, 冰片,\n",
      "3                            嚼碎后温开水或黄酒送服，一日１丸，外用酒磨涂患处。\n",
      "4                                                  扶正药\n",
      "Name: 0, dtype: object\n"
     ]
    },
    {
     "name": "stderr",
     "output_type": "stream",
     "text": [
      "C:\\Users\\15382\\AppData\\Local\\Temp\\ipykernel_198532\\764970698.py:31: FutureWarning: Passing literal html to 'read_html' is deprecated and will be removed in a future version. To read from a literal string, wrap it in a 'StringIO' object.\n",
      "  df = pd.read_html(data)[1]\n"
     ]
    },
    {
     "name": "stdout",
     "output_type": "stream",
     "text": [
      "0                                        琥珀利气丸\n",
      "1                                           丸剂\n",
      "2    琥珀, 牵牛子, 槟榔, 香附, 陈皮, 莪术, 六神曲, 山楂, 大黄, 木香,\n",
      "3                          姜汤或温开水送服，一次1丸，一日2次。\n",
      "4                                         消食化积\n",
      "Name: 0, dtype: object\n"
     ]
    },
    {
     "name": "stderr",
     "output_type": "stream",
     "text": [
      "C:\\Users\\15382\\AppData\\Local\\Temp\\ipykernel_198532\\764970698.py:31: FutureWarning: Passing literal html to 'read_html' is deprecated and will be removed in a future version. To read from a literal string, wrap it in a 'StringIO' object.\n",
      "  df = pd.read_html(data)[1]\n"
     ]
    },
    {
     "name": "stdout",
     "output_type": "stream",
     "text": [
      "0                                              琥珀止痛膏\n",
      "1                                                 膏剂\n",
      "2    山柰, 石菖蒲, 黄连, 马钱子, 斑蝥, 威灵仙, 天南星, 蟾酥, 琥珀油, 丁香罗勒油,\n",
      "3                            外用，贴于洗净的患处。每片橡胶膏可贴1～2天。\n",
      "4                                                和血药\n",
      "Name: 0, dtype: object\n"
     ]
    },
    {
     "name": "stderr",
     "output_type": "stream",
     "text": [
      "C:\\Users\\15382\\AppData\\Local\\Temp\\ipykernel_198532\\764970698.py:31: FutureWarning: Passing literal html to 'read_html' is deprecated and will be removed in a future version. To read from a literal string, wrap it in a 'StringIO' object.\n",
      "  df = pd.read_html(data)[1]\n"
     ]
    },
    {
     "name": "stdout",
     "output_type": "stream",
     "text": [
      "0                                               （山黎）峒丸\n",
      "1                                                   丸剂\n",
      "2    三七, 血竭, 阿魏, 乳香(制), 没药(制), 藤黄(制), 天竺黄, 大黄, 儿茶, 冰片,\n",
      "3                            嚼碎后温开水或黄酒送服，一日１丸，外用酒磨涂患处。\n",
      "4                                                  扶正药\n",
      "Name: 0, dtype: object\n"
     ]
    },
    {
     "name": "stderr",
     "output_type": "stream",
     "text": [
      "C:\\Users\\15382\\AppData\\Local\\Temp\\ipykernel_198532\\764970698.py:31: FutureWarning: Passing literal html to 'read_html' is deprecated and will be removed in a future version. To read from a literal string, wrap it in a 'StringIO' object.\n",
      "  df = pd.read_html(data)[1]\n"
     ]
    },
    {
     "name": "stdout",
     "output_type": "stream",
     "text": [
      "0                                                小儿化毒散\n",
      "1                                                   散剂\n",
      "2    人工牛黄, 珍珠, 雄黄, 大黄, 黄连, 天花粉, 川贝母, 赤芍, 乳香(制), 没药(制),\n",
      "3                  口服。一次0.6g ，一日1～2次；三岁以内小儿酌减。外用，敷于患处。\n",
      "4                                                  清热药\n",
      "Name: 0, dtype: object\n"
     ]
    },
    {
     "name": "stderr",
     "output_type": "stream",
     "text": [
      "C:\\Users\\15382\\AppData\\Local\\Temp\\ipykernel_198532\\764970698.py:31: FutureWarning: Passing literal html to 'read_html' is deprecated and will be removed in a future version. To read from a literal string, wrap it in a 'StringIO' object.\n",
      "  df = pd.read_html(data)[1]\n"
     ]
    },
    {
     "name": "stdout",
     "output_type": "stream",
     "text": [
      "0                                          化痔灵片\n",
      "1                                            片剂\n",
      "2    黄连, 琥珀, 苦地胆, 三七, 五倍子, 猪胆, 石榴皮, 白矾, 雄黄, 槐花,\n",
      "3                               口服，一次4～6片，一日3次。\n",
      "4                                          疮疡消药\n",
      "Name: 0, dtype: object\n"
     ]
    },
    {
     "name": "stderr",
     "output_type": "stream",
     "text": [
      "C:\\Users\\15382\\AppData\\Local\\Temp\\ipykernel_198532\\764970698.py:31: FutureWarning: Passing literal html to 'read_html' is deprecated and will be removed in a future version. To read from a literal string, wrap it in a 'StringIO' object.\n",
      "  df = pd.read_html(data)[1]\n"
     ]
    },
    {
     "name": "stdout",
     "output_type": "stream",
     "text": [
      "0                                      黄连清胃丸\n",
      "1                                         丸剂\n",
      "2    黄连, 栀子, 连翘, 大黄, 升麻, 知母, 当归, 石膏, 白芷, 薄荷,\n",
      "3                             口服，一次10克，一日2次。\n",
      "4                                        清热药\n",
      "Name: 0, dtype: object\n"
     ]
    },
    {
     "name": "stderr",
     "output_type": "stream",
     "text": [
      "C:\\Users\\15382\\AppData\\Local\\Temp\\ipykernel_198532\\764970698.py:31: FutureWarning: Passing literal html to 'read_html' is deprecated and will be removed in a future version. To read from a literal string, wrap it in a 'StringIO' object.\n",
      "  df = pd.read_html(data)[1]\n"
     ]
    },
    {
     "name": "stdout",
     "output_type": "stream",
     "text": [
      "0                                        黄连上清片\n",
      "1                                           片剂\n",
      "2    黄连, 大黄, 连翘, 薄荷, 旋覆花, 黄芩, 荆芥穗, 栀子, 防风, 石膏,\n",
      "3                                口服，一次6片，一日2次。\n",
      "4                                          清热药\n",
      "Name: 0, dtype: object\n"
     ]
    },
    {
     "name": "stderr",
     "output_type": "stream",
     "text": [
      "C:\\Users\\15382\\AppData\\Local\\Temp\\ipykernel_198532\\764970698.py:31: FutureWarning: Passing literal html to 'read_html' is deprecated and will be removed in a future version. To read from a literal string, wrap it in a 'StringIO' object.\n",
      "  df = pd.read_html(data)[1]\n"
     ]
    },
    {
     "name": "stdout",
     "output_type": "stream",
     "text": [
      "0                                        黄连上清丸\n",
      "1                                           丸剂\n",
      "2    黄连, 栀子, 连翘, 蔓荆子, 防风, 荆芥穗, 白芷, 黄芩, 菊花, 薄荷,\n",
      "3       口服，每10丸重0.3克：一次3克；每10丸重0.6克：一次8克，一日2次。\n",
      "4                                          清热药\n",
      "Name: 0, dtype: object\n"
     ]
    },
    {
     "name": "stderr",
     "output_type": "stream",
     "text": [
      "C:\\Users\\15382\\AppData\\Local\\Temp\\ipykernel_198532\\764970698.py:31: FutureWarning: Passing literal html to 'read_html' is deprecated and will be removed in a future version. To read from a literal string, wrap it in a 'StringIO' object.\n",
      "  df = pd.read_html(data)[1]\n"
     ]
    },
    {
     "name": "stdout",
     "output_type": "stream",
     "text": [
      "0                                         黄连羊肝片\n",
      "1                                            片剂\n",
      "2    石决明, 蒺藜, 龙胆, 茺蔚子, 羊肝, 柴胡, 黄连, 胡黄连, 黄芩, 黄柏,\n",
      "3                                 口服，一次4片，一日２次。\n",
      "4                                           清热药\n",
      "Name: 0, dtype: object\n"
     ]
    },
    {
     "name": "stderr",
     "output_type": "stream",
     "text": [
      "C:\\Users\\15382\\AppData\\Local\\Temp\\ipykernel_198532\\764970698.py:31: FutureWarning: Passing literal html to 'read_html' is deprecated and will be removed in a future version. To read from a literal string, wrap it in a 'StringIO' object.\n",
      "  df = pd.read_html(data)[1]\n"
     ]
    },
    {
     "name": "stdout",
     "output_type": "stream",
     "text": [
      "0                                        回生再造丸\n",
      "1                                           丸剂\n",
      "2    蕲蛇, 全蝎, 地龙, 僵蚕, 穿山甲, 豹骨, 水牛角, 牛黄, 龟甲, 朱砂,\n",
      "3                    温黄酒或温开水送服，一次 1丸，一日 1～ 2次。\n",
      "4                                          祛风药\n",
      "Name: 0, dtype: object\n"
     ]
    },
    {
     "name": "stderr",
     "output_type": "stream",
     "text": [
      "C:\\Users\\15382\\AppData\\Local\\Temp\\ipykernel_198532\\764970698.py:31: FutureWarning: Passing literal html to 'read_html' is deprecated and will be removed in a future version. To read from a literal string, wrap it in a 'StringIO' object.\n",
      "  df = pd.read_html(data)[1]\n"
     ]
    },
    {
     "name": "stdout",
     "output_type": "stream",
     "text": [
      "0                                         回天再造丸\n",
      "1                                            丸剂\n",
      "2    蕲蛇, 乳香, 朱砂, 黄连, 草豆蔻, 片姜黄, 何首乌, 木香, 豆蔻, 葛根,\n",
      "3                     温黄酒或温开水送服，一次 1丸，一日 1～ 2次。\n",
      "4                                           祛风药\n",
      "Name: 0, dtype: object\n"
     ]
    },
    {
     "name": "stderr",
     "output_type": "stream",
     "text": [
      "C:\\Users\\15382\\AppData\\Local\\Temp\\ipykernel_198532\\764970698.py:31: FutureWarning: Passing literal html to 'read_html' is deprecated and will be removed in a future version. To read from a literal string, wrap it in a 'StringIO' object.\n",
      "  df = pd.read_html(data)[1]\n"
     ]
    },
    {
     "name": "stdout",
     "output_type": "stream",
     "text": [
      "0                                           散风活络丸（浓缩丸）\n",
      "1                                                   丸剂\n",
      "2    乌梢蛇, 草乌(甘草银花炙), 附子, 威灵仙, 防风, 麻黄, 海风藤, 细辛, 白附子(...\n",
      "3                            用温黄酒或温开水送服，一次15丸，一日 1～2次。\n",
      "4                                                  治风药\n",
      "Name: 0, dtype: object\n"
     ]
    },
    {
     "name": "stderr",
     "output_type": "stream",
     "text": [
      "C:\\Users\\15382\\AppData\\Local\\Temp\\ipykernel_198532\\764970698.py:31: FutureWarning: Passing literal html to 'read_html' is deprecated and will be removed in a future version. To read from a literal string, wrap it in a 'StringIO' object.\n",
      "  df = pd.read_html(data)[1]\n"
     ]
    },
    {
     "name": "stdout",
     "output_type": "stream",
     "text": [
      "0                                               济生万应锭\n",
      "1                                                  锭剂\n",
      "2          黄连, 牛黄, 麝香, 熟地黄, 儿茶, 没药, 防风, 胆南星, 胡黄连, 天麻,\n",
      "3    打碎后口服，成人一次 3～5 粒，小儿一次 1～2 粒三岁以下酌减，一日 2次；外用醋调敷患处。\n",
      "4                                                 化痰药\n",
      "Name: 0, dtype: object\n"
     ]
    },
    {
     "name": "stderr",
     "output_type": "stream",
     "text": [
      "C:\\Users\\15382\\AppData\\Local\\Temp\\ipykernel_198532\\764970698.py:31: FutureWarning: Passing literal html to 'read_html' is deprecated and will be removed in a future version. To read from a literal string, wrap it in a 'StringIO' object.\n",
      "  df = pd.read_html(data)[1]\n"
     ]
    },
    {
     "name": "stdout",
     "output_type": "stream",
     "text": [
      "0                                       加味香连丸\n",
      "1                                          丸剂\n",
      "2    木香, 黄连, 黄芩, 黄柏, 白芍, 当归, 厚朴, 枳壳, 槟榔, 延胡索,\n",
      "3                             口服，一次6g，一日3次。?。\n",
      "4                                         化湿药\n",
      "Name: 0, dtype: object\n"
     ]
    },
    {
     "name": "stderr",
     "output_type": "stream",
     "text": [
      "C:\\Users\\15382\\AppData\\Local\\Temp\\ipykernel_198532\\764970698.py:31: FutureWarning: Passing literal html to 'read_html' is deprecated and will be removed in a future version. To read from a literal string, wrap it in a 'StringIO' object.\n",
      "  df = pd.read_html(data)[1]\n"
     ]
    },
    {
     "name": "stdout",
     "output_type": "stream",
     "text": [
      "0                                       加味左金丸\n",
      "1                                          丸剂\n",
      "2    黄连, 吴茱萸, 黄芩, 柴胡, 木香, 香附, 郁金, 白芍, 青皮, 枳壳,\n",
      "3                               口服。一次6g，—日2次。\n",
      "4                                         理气药\n",
      "Name: 0, dtype: object\n"
     ]
    },
    {
     "name": "stderr",
     "output_type": "stream",
     "text": [
      "C:\\Users\\15382\\AppData\\Local\\Temp\\ipykernel_198532\\764970698.py:31: FutureWarning: Passing literal html to 'read_html' is deprecated and will be removed in a future version. To read from a literal string, wrap it in a 'StringIO' object.\n",
      "  df = pd.read_html(data)[1]\n"
     ]
    },
    {
     "name": "stdout",
     "output_type": "stream",
     "text": [
      "0                                        健脾康儿片\n",
      "1                                           片剂\n",
      "2    人参, 白术, 茯苓, 甘草, 使君子, 鸡内金, 山楂, 山药, 陈皮, 黄连,\n",
      "3    口服，周岁以内一次1～2片，1至3岁一次2～4片，3岁以上一次5～6片，一日2次。\n",
      "4                                         消食化积\n",
      "Name: 0, dtype: object\n"
     ]
    },
    {
     "name": "stderr",
     "output_type": "stream",
     "text": [
      "C:\\Users\\15382\\AppData\\Local\\Temp\\ipykernel_198532\\764970698.py:31: FutureWarning: Passing literal html to 'read_html' is deprecated and will be removed in a future version. To read from a literal string, wrap it in a 'StringIO' object.\n",
      "  df = pd.read_html(data)[1]\n"
     ]
    },
    {
     "name": "stdout",
     "output_type": "stream",
     "text": [
      "0                                        健脾资生丸\n",
      "1                                           丸剂\n",
      "2    党参, 薏苡仁, 茯苓, 山楂, 白术, 砂仁, 炙甘草, 芡实, 麦芽, 橘红,\n",
      "3                              口服，一次9克，一日2～3次。\n",
      "4                                         消食化积\n",
      "Name: 0, dtype: object\n"
     ]
    },
    {
     "name": "stderr",
     "output_type": "stream",
     "text": [
      "C:\\Users\\15382\\AppData\\Local\\Temp\\ipykernel_198532\\764970698.py:31: FutureWarning: Passing literal html to 'read_html' is deprecated and will be removed in a future version. To read from a literal string, wrap it in a 'StringIO' object.\n",
      "  df = pd.read_html(data)[1]\n"
     ]
    },
    {
     "name": "stdout",
     "output_type": "stream",
     "text": [
      "0                                              健肾生发丸\n",
      "1                                                 丸剂\n",
      "2    制何首乌, 熟地黄, 枸杞子, 黄精, 五味子, 大枣, 女贞子, 菟丝子, 苣胜子, 桑椹,\n",
      "3                                    口服，一次 1丸，一日 2次。\n",
      "4                                                补益药\n",
      "Name: 0, dtype: object\n"
     ]
    },
    {
     "name": "stderr",
     "output_type": "stream",
     "text": [
      "C:\\Users\\15382\\AppData\\Local\\Temp\\ipykernel_198532\\764970698.py:31: FutureWarning: Passing literal html to 'read_html' is deprecated and will be removed in a future version. To read from a literal string, wrap it in a 'StringIO' object.\n",
      "  df = pd.read_html(data)[1]\n"
     ]
    },
    {
     "name": "stdout",
     "output_type": "stream",
     "text": [
      "0                                        金不换膏\n",
      "1                                          膏剂\n",
      "2    川芎, 大黄, 天麻, 地黄, 栀子, 川乌, 熟地黄, 薄荷, 草乌, 白芷,\n",
      "3                            外用，加热软化，贴于患处或穴位。\n",
      "4                                         化湿药\n",
      "Name: 0, dtype: object\n"
     ]
    },
    {
     "name": "stderr",
     "output_type": "stream",
     "text": [
      "C:\\Users\\15382\\AppData\\Local\\Temp\\ipykernel_198532\\764970698.py:31: FutureWarning: Passing literal html to 'read_html' is deprecated and will be removed in a future version. To read from a literal string, wrap it in a 'StringIO' object.\n",
      "  df = pd.read_html(data)[1]\n"
     ]
    },
    {
     "name": "stdout",
     "output_type": "stream",
     "text": [
      "0                                  金花消痤丸\n",
      "1                                     丸剂\n",
      "2    栀子, 金银花, 黄芩, 大黄, 黄连, 桔梗, 薄荷, 黄柏, 甘草\n",
      "3                          口服，一次4克，一日3次。\n",
      "4                                    清热药\n",
      "Name: 0, dtype: object\n"
     ]
    },
    {
     "name": "stderr",
     "output_type": "stream",
     "text": [
      "C:\\Users\\15382\\AppData\\Local\\Temp\\ipykernel_198532\\764970698.py:31: FutureWarning: Passing literal html to 'read_html' is deprecated and will be removed in a future version. To read from a literal string, wrap it in a 'StringIO' object.\n",
      "  df = pd.read_html(data)[1]\n"
     ]
    },
    {
     "name": "stdout",
     "output_type": "stream",
     "text": [
      "0                                            京万红软膏\n",
      "1                                              软膏剂\n",
      "2      地榆, 地黄, 罂粟壳, 当归, 桃仁, 黄连, 木鳖子, 血余炭, 棕榈, 半边莲,\n",
      "3    用生理盐水清理创面，涂敷本品或将本品涂于消毒纱布上，敷盖创面，消毒纱布包扎，每日换药一次。\n",
      "4                                              清热药\n",
      "Name: 0, dtype: object\n"
     ]
    },
    {
     "name": "stderr",
     "output_type": "stream",
     "text": [
      "C:\\Users\\15382\\AppData\\Local\\Temp\\ipykernel_198532\\764970698.py:31: FutureWarning: Passing literal html to 'read_html' is deprecated and will be removed in a future version. To read from a literal string, wrap it in a 'StringIO' object.\n",
      "  df = pd.read_html(data)[1]\n"
     ]
    },
    {
     "name": "stdout",
     "output_type": "stream",
     "text": [
      "0                                        京万红痔疮膏\n",
      "1                                            膏剂\n",
      "2    地黄, 穿山甲, 木瓜, 川穹, 白芷, 棕榈, 血余炭, 地榆, 赤芍, 土鳖虫,\n",
      "3                         外敷。便后洗净，将膏挤入肛门内。一日1次。\n",
      "4                                          疮疡消药\n",
      "Name: 0, dtype: object\n"
     ]
    },
    {
     "name": "stderr",
     "output_type": "stream",
     "text": [
      "C:\\Users\\15382\\AppData\\Local\\Temp\\ipykernel_198532\\764970698.py:31: FutureWarning: Passing literal html to 'read_html' is deprecated and will be removed in a future version. To read from a literal string, wrap it in a 'StringIO' object.\n",
      "  df = pd.read_html(data)[1]\n"
     ]
    },
    {
     "name": "stdout",
     "output_type": "stream",
     "text": [
      "0                                     京制牛黄解毒片\n",
      "1                                          片剂\n",
      "2    黄连, 黄柏, 石膏, 金钱花, 薄荷, 桔梗, 连翘, 大黄, 黄芩, 栀子,\n",
      "3                               口服，一次2片，一日2次。\n",
      "4                                         清热药\n",
      "Name: 0, dtype: object\n"
     ]
    },
    {
     "name": "stderr",
     "output_type": "stream",
     "text": [
      "C:\\Users\\15382\\AppData\\Local\\Temp\\ipykernel_198532\\764970698.py:31: FutureWarning: Passing literal html to 'read_html' is deprecated and will be removed in a future version. To read from a literal string, wrap it in a 'StringIO' object.\n",
      "  df = pd.read_html(data)[1]\n"
     ]
    },
    {
     "name": "stdout",
     "output_type": "stream",
     "text": [
      "0                                    久痢丸(久痢丹)\n",
      "1                                          丸剂\n",
      "2    椿皮, 黄连, 厚朴, 鸦胆子, 枳壳, 木香, 党参, 茯苓, 白术, 甘草,\n",
      "3                                         NaN\n",
      "4                                         化湿药\n",
      "Name: 0, dtype: object\n"
     ]
    },
    {
     "name": "stderr",
     "output_type": "stream",
     "text": [
      "C:\\Users\\15382\\AppData\\Local\\Temp\\ipykernel_198532\\764970698.py:31: FutureWarning: Passing literal html to 'read_html' is deprecated and will be removed in a future version. To read from a literal string, wrap it in a 'StringIO' object.\n",
      "  df = pd.read_html(data)[1]\n"
     ]
    },
    {
     "name": "stdout",
     "output_type": "stream",
     "text": [
      "0                                              救急散\n",
      "1                                               散剂\n",
      "2    制天南星, 僵蚕, 白附子, 天竺黄, 天麻, 荆芥穗, 薄荷, 牛蒡子, 紫胡, 葛根,\n",
      "3                                              NaN\n",
      "4                                            表里双解药\n",
      "Name: 0, dtype: object\n"
     ]
    },
    {
     "name": "stderr",
     "output_type": "stream",
     "text": [
      "C:\\Users\\15382\\AppData\\Local\\Temp\\ipykernel_198532\\764970698.py:31: FutureWarning: Passing literal html to 'read_html' is deprecated and will be removed in a future version. To read from a literal string, wrap it in a 'StringIO' object.\n",
      "  df = pd.read_html(data)[1]\n"
     ]
    },
    {
     "name": "stdout",
     "output_type": "stream",
     "text": [
      "0                     菌痢平片\n",
      "1                       片剂\n",
      "2    黄连, 马齿苋, 吴茱萸, 木香, 六神曲\n",
      "3    口服，一次 4～6 片，一日 3～4 次。\n",
      "4                     消食化积\n",
      "Name: 0, dtype: object\n"
     ]
    },
    {
     "name": "stderr",
     "output_type": "stream",
     "text": [
      "C:\\Users\\15382\\AppData\\Local\\Temp\\ipykernel_198532\\764970698.py:31: FutureWarning: Passing literal html to 'read_html' is deprecated and will be removed in a future version. To read from a literal string, wrap it in a 'StringIO' object.\n",
      "  df = pd.read_html(data)[1]\n"
     ]
    },
    {
     "name": "stdout",
     "output_type": "stream",
     "text": [
      "0                                               （山黎）峒丸\n",
      "1                                                   丸剂\n",
      "2    三七, 血竭, 阿魏, 乳香(制), 没药(制), 藤黄(制), 天竺黄, 大黄, 儿茶, 冰片,\n",
      "3                            嚼碎后温开水或黄酒送服，一日１丸，外用酒磨涂患处。\n",
      "4                                                  扶正药\n",
      "Name: 0, dtype: object\n"
     ]
    },
    {
     "name": "stderr",
     "output_type": "stream",
     "text": [
      "C:\\Users\\15382\\AppData\\Local\\Temp\\ipykernel_198532\\764970698.py:31: FutureWarning: Passing literal html to 'read_html' is deprecated and will be removed in a future version. To read from a literal string, wrap it in a 'StringIO' object.\n",
      "  df = pd.read_html(data)[1]\n"
     ]
    },
    {
     "name": "stdout",
     "output_type": "stream",
     "text": [
      "0                                       开胃健脾丸\n",
      "1                                          丸剂\n",
      "2    白术, 党参, 茯苓, 木香, 黄连, 六神曲, 陈皮, 砂仁, 麦芽, 山楂,\n",
      "3                             口服，一次6～9克，一日2次。\n",
      "4                                        消食化积\n",
      "Name: 0, dtype: object\n"
     ]
    },
    {
     "name": "stderr",
     "output_type": "stream",
     "text": [
      "C:\\Users\\15382\\AppData\\Local\\Temp\\ipykernel_198532\\764970698.py:31: FutureWarning: Passing literal html to 'read_html' is deprecated and will be removed in a future version. To read from a literal string, wrap it in a 'StringIO' object.\n",
      "  df = pd.read_html(data)[1]\n"
     ]
    },
    {
     "name": "stdout",
     "output_type": "stream",
     "text": [
      "0                                    抗饥消渴片\n",
      "1                                       片剂\n",
      "2    红参, 黄连, 黄柏, 地黄, 熟地黄, 枸杞子, 玉竹, 麦冬, 五味子\n",
      "3                     口服，一次12片，一日 3次，或遵医嘱。\n",
      "4                                      补益药\n",
      "Name: 0, dtype: object\n"
     ]
    },
    {
     "name": "stderr",
     "output_type": "stream",
     "text": [
      "C:\\Users\\15382\\AppData\\Local\\Temp\\ipykernel_198532\\764970698.py:31: FutureWarning: Passing literal html to 'read_html' is deprecated and will be removed in a future version. To read from a literal string, wrap it in a 'StringIO' object.\n",
      "  df = pd.read_html(data)[1]\n"
     ]
    },
    {
     "name": "stdout",
     "output_type": "stream",
     "text": [
      "0                                               （山黎）峒丸\n",
      "1                                                   丸剂\n",
      "2    三七, 血竭, 阿魏, 乳香(制), 没药(制), 藤黄(制), 天竺黄, 大黄, 儿茶, 冰片,\n",
      "3                            嚼碎后温开水或黄酒送服，一日１丸，外用酒磨涂患处。\n",
      "4                                                  扶正药\n",
      "Name: 0, dtype: object\n"
     ]
    },
    {
     "name": "stderr",
     "output_type": "stream",
     "text": [
      "C:\\Users\\15382\\AppData\\Local\\Temp\\ipykernel_198532\\764970698.py:31: FutureWarning: Passing literal html to 'read_html' is deprecated and will be removed in a future version. To read from a literal string, wrap it in a 'StringIO' object.\n",
      "  df = pd.read_html(data)[1]\n"
     ]
    },
    {
     "name": "stdout",
     "output_type": "stream",
     "text": [
      "0                                                羚黄宝儿丸\n",
      "1                                                   丸剂\n",
      "2                麝香, 黄连, 羚羊角, 甘草, 冰片, 人参, 人工牛黄, 猪胆, 丁香\n",
      "3    口服，一至二岁小儿一次10丸，二至五岁一次20丸，周岁以内小儿在医生指导下服用，一日2～3次...\n",
      "4                                                  祛风药\n",
      "Name: 0, dtype: object\n"
     ]
    },
    {
     "name": "stderr",
     "output_type": "stream",
     "text": [
      "C:\\Users\\15382\\AppData\\Local\\Temp\\ipykernel_198532\\764970698.py:31: FutureWarning: Passing literal html to 'read_html' is deprecated and will be removed in a future version. To read from a literal string, wrap it in a 'StringIO' object.\n",
      "  df = pd.read_html(data)[1]\n"
     ]
    },
    {
     "name": "stdout",
     "output_type": "stream",
     "text": [
      "0                                       羚珠散\n",
      "1                                        散剂\n",
      "2    羚羊角, 珍珠, 牛黄, 僵蚕, 朱砂, 琥珀, 胆南星, 冰片, 石菖蒲油\n",
      "3                                       NaN\n",
      "4                                       清热药\n",
      "Name: 0, dtype: object\n"
     ]
    },
    {
     "name": "stderr",
     "output_type": "stream",
     "text": [
      "C:\\Users\\15382\\AppData\\Local\\Temp\\ipykernel_198532\\764970698.py:31: FutureWarning: Passing literal html to 'read_html' is deprecated and will be removed in a future version. To read from a literal string, wrap it in a 'StringIO' object.\n",
      "  df = pd.read_html(data)[1]\n"
     ]
    },
    {
     "name": "stdout",
     "output_type": "stream",
     "text": [
      "0                                         六郁丸\n",
      "1                                          丸剂\n",
      "2    香附, 木香, 青皮, 陈皮, 砂仁, 郁金, 三棱, 莪术, 猪牙皂, 槟榔,\n",
      "3                                         NaN\n",
      "4                                         理气药\n",
      "Name: 0, dtype: object\n"
     ]
    },
    {
     "name": "stderr",
     "output_type": "stream",
     "text": [
      "C:\\Users\\15382\\AppData\\Local\\Temp\\ipykernel_198532\\764970698.py:31: FutureWarning: Passing literal html to 'read_html' is deprecated and will be removed in a future version. To read from a literal string, wrap it in a 'StringIO' object.\n",
      "  df = pd.read_html(data)[1]\n"
     ]
    },
    {
     "name": "stdout",
     "output_type": "stream",
     "text": [
      "0                                     绿袍散\n",
      "1                                      散剂\n",
      "2    青黛, 黄柏, 山豆根, 薄荷, 黄连, 儿茶, 人中白, 硼砂, 冰片\n",
      "3                 外用，洗净患处，用少许吹搽。一日 2～3 次。\n",
      "4                                     清热药\n",
      "Name: 0, dtype: object\n"
     ]
    },
    {
     "name": "stderr",
     "output_type": "stream",
     "text": [
      "C:\\Users\\15382\\AppData\\Local\\Temp\\ipykernel_198532\\764970698.py:31: FutureWarning: Passing literal html to 'read_html' is deprecated and will be removed in a future version. To read from a literal string, wrap it in a 'StringIO' object.\n",
      "  df = pd.read_html(data)[1]\n"
     ]
    },
    {
     "name": "stdout",
     "output_type": "stream",
     "text": [
      "0              脉络通胶囊\n",
      "1                胶囊剂\n",
      "2        鳖甲, 龟板, 穿山甲\n",
      "3    口服，一次4粒，一日2～3次。\n",
      "4                祛瘀药\n",
      "Name: 0, dtype: object\n"
     ]
    },
    {
     "name": "stderr",
     "output_type": "stream",
     "text": [
      "C:\\Users\\15382\\AppData\\Local\\Temp\\ipykernel_198532\\764970698.py:31: FutureWarning: Passing literal html to 'read_html' is deprecated and will be removed in a future version. To read from a literal string, wrap it in a 'StringIO' object.\n",
      "  df = pd.read_html(data)[1]\n"
     ]
    },
    {
     "name": "stdout",
     "output_type": "stream",
     "text": [
      "0                        明目拨云散\n",
      "1                           散剂\n",
      "2          炉甘石, 黄连, 琥珀, 珍珠, 冰片\n",
      "3    用玻璃棒蘸开水再蘸药少许，点眼角内，一日2～3次。\n",
      "4                          清热药\n",
      "Name: 0, dtype: object\n"
     ]
    },
    {
     "name": "stderr",
     "output_type": "stream",
     "text": [
      "C:\\Users\\15382\\AppData\\Local\\Temp\\ipykernel_198532\\764970698.py:31: FutureWarning: Passing literal html to 'read_html' is deprecated and will be removed in a future version. To read from a literal string, wrap it in a 'StringIO' object.\n",
      "  df = pd.read_html(data)[1]\n"
     ]
    },
    {
     "name": "stdout",
     "output_type": "stream",
     "text": [
      "0                                               （山黎）峒丸\n",
      "1                                                   丸剂\n",
      "2    三七, 血竭, 阿魏, 乳香(制), 没药(制), 藤黄(制), 天竺黄, 大黄, 儿茶, 冰片,\n",
      "3                            嚼碎后温开水或黄酒送服，一日１丸，外用酒磨涂患处。\n",
      "4                                                  扶正药\n",
      "Name: 0, dtype: object\n"
     ]
    },
    {
     "name": "stderr",
     "output_type": "stream",
     "text": [
      "C:\\Users\\15382\\AppData\\Local\\Temp\\ipykernel_198532\\764970698.py:31: FutureWarning: Passing literal html to 'read_html' is deprecated and will be removed in a future version. To read from a literal string, wrap it in a 'StringIO' object.\n",
      "  df = pd.read_html(data)[1]\n"
     ]
    },
    {
     "name": "stdout",
     "output_type": "stream",
     "text": [
      "0                                        明目上清片\n",
      "1                                           片剂\n",
      "2    桔梗, 熟地黄, 天花粉, 石膏, 麦冬, 玄参, 栀子, 蒺藜, 菊花, 甘草,\n",
      "3                                口服，一次4片，一日2次。\n",
      "4                                          清热药\n",
      "Name: 0, dtype: object\n"
     ]
    },
    {
     "name": "stderr",
     "output_type": "stream",
     "text": [
      "C:\\Users\\15382\\AppData\\Local\\Temp\\ipykernel_198532\\764970698.py:31: FutureWarning: Passing literal html to 'read_html' is deprecated and will be removed in a future version. To read from a literal string, wrap it in a 'StringIO' object.\n",
      "  df = pd.read_html(data)[1]\n"
     ]
    },
    {
     "name": "stdout",
     "output_type": "stream",
     "text": [
      "0                                               （山黎）峒丸\n",
      "1                                                   丸剂\n",
      "2    三七, 血竭, 阿魏, 乳香(制), 没药(制), 藤黄(制), 天竺黄, 大黄, 儿茶, 冰片,\n",
      "3                            嚼碎后温开水或黄酒送服，一日１丸，外用酒磨涂患处。\n",
      "4                                                  扶正药\n",
      "Name: 0, dtype: object\n"
     ]
    },
    {
     "name": "stderr",
     "output_type": "stream",
     "text": [
      "C:\\Users\\15382\\AppData\\Local\\Temp\\ipykernel_198532\\764970698.py:31: FutureWarning: Passing literal html to 'read_html' is deprecated and will be removed in a future version. To read from a literal string, wrap it in a 'StringIO' object.\n",
      "  df = pd.read_html(data)[1]\n"
     ]
    },
    {
     "name": "stdout",
     "output_type": "stream",
     "text": [
      "0                                         囊虫丸\n",
      "1                                          丸剂\n",
      "2    茯苓, 水蛭, 雷丸, 大黄, 僵蚕, 桃仁, 黄连, 牡丹皮, 川乌, 芫花,\n",
      "3                             口服，每服1丸，每日2-3次。\n",
      "4                                         NaN\n",
      "Name: 0, dtype: object\n"
     ]
    },
    {
     "name": "stderr",
     "output_type": "stream",
     "text": [
      "C:\\Users\\15382\\AppData\\Local\\Temp\\ipykernel_198532\\764970698.py:31: FutureWarning: Passing literal html to 'read_html' is deprecated and will be removed in a future version. To read from a literal string, wrap it in a 'StringIO' object.\n",
      "  df = pd.read_html(data)[1]\n"
     ]
    },
    {
     "name": "stdout",
     "output_type": "stream",
     "text": [
      "0                                      宁心安神胶囊\n",
      "1                                          胶囊\n",
      "2    黄连, 琥珀, 石菖蒲, 远志, 茯苓, 丹参, 甘草, 大枣, 小麦, 磁石,\n",
      "3                               口服，一次4粒，一日3次。\n",
      "4                                         安神药\n",
      "Name: 0, dtype: object\n"
     ]
    },
    {
     "name": "stderr",
     "output_type": "stream",
     "text": [
      "C:\\Users\\15382\\AppData\\Local\\Temp\\ipykernel_198532\\764970698.py:31: FutureWarning: Passing literal html to 'read_html' is deprecated and will be removed in a future version. To read from a literal string, wrap it in a 'StringIO' object.\n",
      "  df = pd.read_html(data)[1]\n"
     ]
    },
    {
     "name": "stdout",
     "output_type": "stream",
     "text": [
      "0                                       牛黄安心丸\n",
      "1                                          丸剂\n",
      "2    牛黄, 黄连, 朱砂, 黄芩, 胆南星, 郁金, 栀子, 雄黄, 冰片, 甘草,\n",
      "3                             口服，一次 1丸，一日 2次。\n",
      "4                                         开窍剂\n",
      "Name: 0, dtype: object\n"
     ]
    },
    {
     "name": "stderr",
     "output_type": "stream",
     "text": [
      "C:\\Users\\15382\\AppData\\Local\\Temp\\ipykernel_198532\\764970698.py:31: FutureWarning: Passing literal html to 'read_html' is deprecated and will be removed in a future version. To read from a literal string, wrap it in a 'StringIO' object.\n",
      "  df = pd.read_html(data)[1]\n"
     ]
    },
    {
     "name": "stdout",
     "output_type": "stream",
     "text": [
      "0                                         牛黄八宝丸\n",
      "1                                            丸剂\n",
      "2    牛黄, 羚羊角, 水牛角, 珍珠, 冰片, 朱砂, 玄参, 浙贝母, 黄连, 羌活,\n",
      "3                                           NaN\n",
      "4                                           清热药\n",
      "Name: 0, dtype: object\n"
     ]
    },
    {
     "name": "stderr",
     "output_type": "stream",
     "text": [
      "C:\\Users\\15382\\AppData\\Local\\Temp\\ipykernel_198532\\764970698.py:31: FutureWarning: Passing literal html to 'read_html' is deprecated and will be removed in a future version. To read from a literal string, wrap it in a 'StringIO' object.\n",
      "  df = pd.read_html(data)[1]\n"
     ]
    },
    {
     "name": "stdout",
     "output_type": "stream",
     "text": [
      "0                                         牛黄净脑片\n",
      "1                                            片剂\n",
      "2    牛黄, 金银花, 连翘, 黄芩, 黄连, 石膏, 蒲公英, 珍珠, 朱砂, 石决明,\n",
      "3                     口服，一次2～4片，一日3次，小儿酌减，或遵医嘱。\n",
      "4                                           开窍剂\n",
      "Name: 0, dtype: object\n"
     ]
    },
    {
     "name": "stderr",
     "output_type": "stream",
     "text": [
      "C:\\Users\\15382\\AppData\\Local\\Temp\\ipykernel_198532\\764970698.py:31: FutureWarning: Passing literal html to 'read_html' is deprecated and will be removed in a future version. To read from a literal string, wrap it in a 'StringIO' object.\n",
      "  df = pd.read_html(data)[1]\n"
     ]
    },
    {
     "name": "stdout",
     "output_type": "stream",
     "text": [
      "0                                        牛黄宁宫片\n",
      "1                                           片剂\n",
      "2    牛黄, 琥珀, 蒲公英, 珍珠, 猪胆, 板蓝根, 朱砂, 雄黄, 连翘, 冰片,\n",
      "3                         口服，一次3～6片，一日３次。小儿酌减。\n",
      "4                                          清热药\n",
      "Name: 0, dtype: object\n"
     ]
    },
    {
     "name": "stderr",
     "output_type": "stream",
     "text": [
      "C:\\Users\\15382\\AppData\\Local\\Temp\\ipykernel_198532\\764970698.py:31: FutureWarning: Passing literal html to 'read_html' is deprecated and will be removed in a future version. To read from a literal string, wrap it in a 'StringIO' object.\n",
      "  df = pd.read_html(data)[1]\n"
     ]
    },
    {
     "name": "stdout",
     "output_type": "stream",
     "text": [
      "0                                  牛黄噙化丸\n",
      "1                                     丸剂\n",
      "2    柿霜, 硼砂, 黄连, 雄黄, 金果榄, 冰片, 牛黄, 麝香, 绿豆\n",
      "3                          口服，一次1丸，随时噙化。\n",
      "4                                    清热药\n",
      "Name: 0, dtype: object\n"
     ]
    },
    {
     "name": "stderr",
     "output_type": "stream",
     "text": [
      "C:\\Users\\15382\\AppData\\Local\\Temp\\ipykernel_198532\\764970698.py:31: FutureWarning: Passing literal html to 'read_html' is deprecated and will be removed in a future version. To read from a literal string, wrap it in a 'StringIO' object.\n",
      "  df = pd.read_html(data)[1]\n"
     ]
    },
    {
     "name": "stdout",
     "output_type": "stream",
     "text": [
      "0                                               （山黎）峒丸\n",
      "1                                                   丸剂\n",
      "2    三七, 血竭, 阿魏, 乳香(制), 没药(制), 藤黄(制), 天竺黄, 大黄, 儿茶, 冰片,\n",
      "3                            嚼碎后温开水或黄酒送服，一日１丸，外用酒磨涂患处。\n",
      "4                                                  扶正药\n",
      "Name: 0, dtype: object\n"
     ]
    },
    {
     "name": "stderr",
     "output_type": "stream",
     "text": [
      "C:\\Users\\15382\\AppData\\Local\\Temp\\ipykernel_198532\\764970698.py:31: FutureWarning: Passing literal html to 'read_html' is deprecated and will be removed in a future version. To read from a literal string, wrap it in a 'StringIO' object.\n",
      "  df = pd.read_html(data)[1]\n"
     ]
    },
    {
     "name": "stdout",
     "output_type": "stream",
     "text": [
      "0                                       牛黄清热胶囊\n",
      "1                                           胶囊\n",
      "2    黄连, 黄芩, 栀子, 郁金, 寒水石, 牛黄, 水牛角, 琥珀, 玳瑁, 朱砂,\n",
      "3                         口服，一次5 粒，一日2 次，小儿酌减。\n",
      "4                                          清热药\n",
      "Name: 0, dtype: object\n"
     ]
    },
    {
     "name": "stderr",
     "output_type": "stream",
     "text": [
      "C:\\Users\\15382\\AppData\\Local\\Temp\\ipykernel_198532\\764970698.py:31: FutureWarning: Passing literal html to 'read_html' is deprecated and will be removed in a future version. To read from a literal string, wrap it in a 'StringIO' object.\n",
      "  df = pd.read_html(data)[1]\n"
     ]
    },
    {
     "name": "stdout",
     "output_type": "stream",
     "text": [
      "0                                        牛黄清热散\n",
      "1                                           散剂\n",
      "2    黄连, 黄芩, 栀子, 郁金, 寒水石, 牛黄, 水牛角, 琥珀, 玳瑁, 朱砂,\n",
      "3                                          NaN\n",
      "4                                          开窍剂\n",
      "Name: 0, dtype: object\n"
     ]
    },
    {
     "name": "stderr",
     "output_type": "stream",
     "text": [
      "C:\\Users\\15382\\AppData\\Local\\Temp\\ipykernel_198532\\764970698.py:31: FutureWarning: Passing literal html to 'read_html' is deprecated and will be removed in a future version. To read from a literal string, wrap it in a 'StringIO' object.\n",
      "  df = pd.read_html(data)[1]\n"
     ]
    },
    {
     "name": "stdout",
     "output_type": "stream",
     "text": [
      "0                                       牛黄上清片\n",
      "1                                          片剂\n",
      "2    牛黄, 薄荷, 菊花, 荆芥穗, 白芷, 川芎, 栀子, 黄连, 黄柏, 黄芩,\n",
      "3                               口服，一次4片，一日2次。\n",
      "4                                         清热药\n",
      "Name: 0, dtype: object\n"
     ]
    },
    {
     "name": "stderr",
     "output_type": "stream",
     "text": [
      "C:\\Users\\15382\\AppData\\Local\\Temp\\ipykernel_198532\\764970698.py:31: FutureWarning: Passing literal html to 'read_html' is deprecated and will be removed in a future version. To read from a literal string, wrap it in a 'StringIO' object.\n",
      "  df = pd.read_html(data)[1]\n"
     ]
    },
    {
     "name": "stdout",
     "output_type": "stream",
     "text": [
      "0                                        牛黄西羚丸\n",
      "1                                           丸剂\n",
      "2    牛黄, 水牛角, 羚羊角, 朱砂, 冰片, 麝香, 雄黄, 麦冬, 甘草, 黄芩,\n",
      "3                           口服，一次1丸，一日2次；小儿减半。\n",
      "4                                          清热药\n",
      "Name: 0, dtype: object\n"
     ]
    },
    {
     "name": "stderr",
     "output_type": "stream",
     "text": [
      "C:\\Users\\15382\\AppData\\Local\\Temp\\ipykernel_198532\\764970698.py:31: FutureWarning: Passing literal html to 'read_html' is deprecated and will be removed in a future version. To read from a literal string, wrap it in a 'StringIO' object.\n",
      "  df = pd.read_html(data)[1]\n"
     ]
    },
    {
     "name": "stdout",
     "output_type": "stream",
     "text": [
      "0                                          牛黄醒脑丸\n",
      "1                                             丸剂\n",
      "2       黄连, 水牛角, 黄芩, 冰片, 栀子, 麝香, 郁金, 朱砂, 玳瑁, 雄黄,\n",
      "3    口服，一次1丸，一日1次；小儿三岁以内一次1/4次，四岁至六岁一次1/2丸，或遵医嘱。\n",
      "4                                            开窍剂\n",
      "Name: 0, dtype: object\n"
     ]
    },
    {
     "name": "stderr",
     "output_type": "stream",
     "text": [
      "C:\\Users\\15382\\AppData\\Local\\Temp\\ipykernel_198532\\764970698.py:31: FutureWarning: Passing literal html to 'read_html' is deprecated and will be removed in a future version. To read from a literal string, wrap it in a 'StringIO' object.\n",
      "  df = pd.read_html(data)[1]\n"
     ]
    },
    {
     "name": "stdout",
     "output_type": "stream",
     "text": [
      "0                               平肝舒络丸（平肝舒络丹）\n",
      "1                                         丸剂\n",
      "2    柴胡, 青皮, 陈皮, 佛手, 乌药, 香附, 木香, 檀香, 丁香, 沉香,\n",
      "3                                        NaN\n",
      "4                                        理气药\n",
      "Name: 0, dtype: object\n"
     ]
    },
    {
     "name": "stderr",
     "output_type": "stream",
     "text": [
      "C:\\Users\\15382\\AppData\\Local\\Temp\\ipykernel_198532\\764970698.py:31: FutureWarning: Passing literal html to 'read_html' is deprecated and will be removed in a future version. To read from a literal string, wrap it in a 'StringIO' object.\n",
      "  df = pd.read_html(data)[1]\n"
     ]
    },
    {
     "name": "stdout",
     "output_type": "stream",
     "text": [
      "0                                               （山黎）峒丸\n",
      "1                                                   丸剂\n",
      "2    三七, 血竭, 阿魏, 乳香(制), 没药(制), 藤黄(制), 天竺黄, 大黄, 儿茶, 冰片,\n",
      "3                            嚼碎后温开水或黄酒送服，一日１丸，外用酒磨涂患处。\n",
      "4                                                  扶正药\n",
      "Name: 0, dtype: object\n"
     ]
    },
    {
     "name": "stderr",
     "output_type": "stream",
     "text": [
      "C:\\Users\\15382\\AppData\\Local\\Temp\\ipykernel_198532\\764970698.py:31: FutureWarning: Passing literal html to 'read_html' is deprecated and will be removed in a future version. To read from a literal string, wrap it in a 'StringIO' object.\n",
      "  df = pd.read_html(data)[1]\n"
     ]
    },
    {
     "name": "stdout",
     "output_type": "stream",
     "text": [
      "0                                     牛黄千金散\n",
      "1                                        散剂\n",
      "2    牛黄, 黄连, 胆南星, 全蝎, 僵蚕(制), 天麻, 朱砂, 冰片, 甘草\n",
      "3          口服。一次 1～1.5 瓶，一日 2～3 次；三岁以内小儿酌减。\n",
      "4                                       清热药\n",
      "Name: 0, dtype: object\n"
     ]
    },
    {
     "name": "stderr",
     "output_type": "stream",
     "text": [
      "C:\\Users\\15382\\AppData\\Local\\Temp\\ipykernel_198532\\764970698.py:31: FutureWarning: Passing literal html to 'read_html' is deprecated and will be removed in a future version. To read from a literal string, wrap it in a 'StringIO' object.\n",
      "  df = pd.read_html(data)[1]\n"
     ]
    },
    {
     "name": "stdout",
     "output_type": "stream",
     "text": [
      "0                葛根芩连片\n",
      "1                   片剂\n",
      "2    葛根, 黄芩, 黄连, 甘草(炙)\n",
      "3      口服，一次3-4片，一日3次。\n",
      "4                  清热药\n",
      "Name: 0, dtype: object\n"
     ]
    },
    {
     "name": "stderr",
     "output_type": "stream",
     "text": [
      "C:\\Users\\15382\\AppData\\Local\\Temp\\ipykernel_198532\\764970698.py:31: FutureWarning: Passing literal html to 'read_html' is deprecated and will be removed in a future version. To read from a literal string, wrap it in a 'StringIO' object.\n",
      "  df = pd.read_html(data)[1]\n"
     ]
    },
    {
     "name": "stdout",
     "output_type": "stream",
     "text": [
      "0                                               （山黎）峒丸\n",
      "1                                                   丸剂\n",
      "2    三七, 血竭, 阿魏, 乳香(制), 没药(制), 藤黄(制), 天竺黄, 大黄, 儿茶, 冰片,\n",
      "3                            嚼碎后温开水或黄酒送服，一日１丸，外用酒磨涂患处。\n",
      "4                                                  扶正药\n",
      "Name: 0, dtype: object\n"
     ]
    },
    {
     "name": "stderr",
     "output_type": "stream",
     "text": [
      "C:\\Users\\15382\\AppData\\Local\\Temp\\ipykernel_198532\\764970698.py:31: FutureWarning: Passing literal html to 'read_html' is deprecated and will be removed in a future version. To read from a literal string, wrap it in a 'StringIO' object.\n",
      "  df = pd.read_html(data)[1]\n"
     ]
    },
    {
     "name": "stdout",
     "output_type": "stream",
     "text": [
      "0                                            清膈丸\n",
      "1                                             丸剂\n",
      "2    金银花, 连翘, 玄参, 射干, 山豆根, 黄连, 熟地黄, 龙胆, 石膏, 玄明粉,\n",
      "3                                            NaN\n",
      "4                                            清热药\n",
      "Name: 0, dtype: object\n"
     ]
    },
    {
     "name": "stderr",
     "output_type": "stream",
     "text": [
      "C:\\Users\\15382\\AppData\\Local\\Temp\\ipykernel_198532\\764970698.py:31: FutureWarning: Passing literal html to 'read_html' is deprecated and will be removed in a future version. To read from a literal string, wrap it in a 'StringIO' object.\n",
      "  df = pd.read_html(data)[1]\n"
     ]
    },
    {
     "name": "stdout",
     "output_type": "stream",
     "text": [
      "0                                        清火解毒丸\n",
      "1                                           丸剂\n",
      "2    水牛角, 地黄, 防风, 黄连, 当归, 荆芥, 连翘, 赤芍, 桔梗, 牛蒡子,\n",
      "3                                          NaN\n",
      "4                                          清热药\n",
      "Name: 0, dtype: object\n"
     ]
    },
    {
     "name": "stderr",
     "output_type": "stream",
     "text": [
      "C:\\Users\\15382\\AppData\\Local\\Temp\\ipykernel_198532\\764970698.py:31: FutureWarning: Passing literal html to 'read_html' is deprecated and will be removed in a future version. To read from a literal string, wrap it in a 'StringIO' object.\n",
      "  df = pd.read_html(data)[1]\n"
     ]
    },
    {
     "name": "stdout",
     "output_type": "stream",
     "text": [
      "0                                       清热安宫丸\n",
      "1                                          丸剂\n",
      "2    胆膏, 黄连, 栀子, 黄芩, 朱砂, 石决明, 郁金, 大黄, 雄黄, 黄柏,\n",
      "3                    口服，水蜜丸一次2g，大蜜丸一次1丸，一日2次。\n",
      "4                                         清热药\n",
      "Name: 0, dtype: object\n"
     ]
    },
    {
     "name": "stderr",
     "output_type": "stream",
     "text": [
      "C:\\Users\\15382\\AppData\\Local\\Temp\\ipykernel_198532\\764970698.py:31: FutureWarning: Passing literal html to 'read_html' is deprecated and will be removed in a future version. To read from a literal string, wrap it in a 'StringIO' object.\n",
      "  df = pd.read_html(data)[1]\n"
     ]
    },
    {
     "name": "stdout",
     "output_type": "stream",
     "text": [
      "0                                        清热定惊散\n",
      "1                                           散剂\n",
      "2    黄芩, 猪牙皂, 天麻, 独活, 白术, 龙骨, 天花粉, 山药, 厚朴, 茯苓,\n",
      "3         口服，周岁以内小儿一次 0.13g，周岁以上一次 0.26g，一日3次。\n",
      "4                                          化痰药\n",
      "Name: 0, dtype: object\n"
     ]
    },
    {
     "name": "stderr",
     "output_type": "stream",
     "text": [
      "C:\\Users\\15382\\AppData\\Local\\Temp\\ipykernel_198532\\764970698.py:31: FutureWarning: Passing literal html to 'read_html' is deprecated and will be removed in a future version. To read from a literal string, wrap it in a 'StringIO' object.\n",
      "  df = pd.read_html(data)[1]\n"
     ]
    },
    {
     "name": "stdout",
     "output_type": "stream",
     "text": [
      "0                                          乙肝清热解毒颗粒\n",
      "1                                               颗粒剂\n",
      "2    虎杖, 白花蛇舌草, 北豆根, 拳参, 茵陈, 白茅根, 茜草, 淫羊藿, 甘草, 土茯苓,\n",
      "3                                   开水冲服，一次2袋，一日3次。\n",
      "4                                               清热药\n",
      "Name: 0, dtype: object\n"
     ]
    },
    {
     "name": "stderr",
     "output_type": "stream",
     "text": [
      "C:\\Users\\15382\\AppData\\Local\\Temp\\ipykernel_198532\\764970698.py:31: FutureWarning: Passing literal html to 'read_html' is deprecated and will be removed in a future version. To read from a literal string, wrap it in a 'StringIO' object.\n",
      "  df = pd.read_html(data)[1]\n"
     ]
    },
    {
     "name": "stdout",
     "output_type": "stream",
     "text": [
      "0                          清热神芎丸\n",
      "1                             丸剂\n",
      "2    大黄, 川芎, 黄连, 黄芩, 薄荷, 滑石, 牵牛子\n",
      "3                 口服，一次9g，一日 2次。\n",
      "4                            清热药\n",
      "Name: 0, dtype: object\n"
     ]
    },
    {
     "name": "stderr",
     "output_type": "stream",
     "text": [
      "C:\\Users\\15382\\AppData\\Local\\Temp\\ipykernel_198532\\764970698.py:31: FutureWarning: Passing literal html to 'read_html' is deprecated and will be removed in a future version. To read from a literal string, wrap it in a 'StringIO' object.\n",
      "  df = pd.read_html(data)[1]\n"
     ]
    },
    {
     "name": "stdout",
     "output_type": "stream",
     "text": [
      "0                            清热丸\n",
      "1                             丸剂\n",
      "2    香墨, 儿茶, 胡黄连, 黄连, 牛胆, 冰片, 牛黄\n",
      "3           口服，一次3g，一日2次，儿童酌情服用。\n",
      "4                            清热药\n",
      "Name: 0, dtype: object\n"
     ]
    },
    {
     "name": "stderr",
     "output_type": "stream",
     "text": [
      "C:\\Users\\15382\\AppData\\Local\\Temp\\ipykernel_198532\\764970698.py:31: FutureWarning: Passing literal html to 'read_html' is deprecated and will be removed in a future version. To read from a literal string, wrap it in a 'StringIO' object.\n",
      "  df = pd.read_html(data)[1]\n"
     ]
    },
    {
     "name": "stdout",
     "output_type": "stream",
     "text": [
      "0                                       清热醒脑灵丸\n",
      "1                                           丸剂\n",
      "2    水牛角, 郁金, 胆膏粉, 冰片, 雄黄, 黄芩, 黄连, 栀子, 蛤壳, 赭石,\n",
      "3                           口服，一次 1丸，一日 2～3 次。\n",
      "4                                          开窍剂\n",
      "Name: 0, dtype: object\n"
     ]
    },
    {
     "name": "stderr",
     "output_type": "stream",
     "text": [
      "C:\\Users\\15382\\AppData\\Local\\Temp\\ipykernel_198532\\764970698.py:31: FutureWarning: Passing literal html to 'read_html' is deprecated and will be removed in a future version. To read from a literal string, wrap it in a 'StringIO' object.\n",
      "  df = pd.read_html(data)[1]\n"
     ]
    },
    {
     "name": "stdout",
     "output_type": "stream",
     "text": [
      "0                                        清热养阴丸\n",
      "1                                           丸剂\n",
      "2    石膏, 栀子, 黄连, 牡丹皮, 白芍, 地黄, 麦冬, 玄参, 浙贝母, 薄荷,\n",
      "3                           口服，一次 2丸，一日 2～3 次。\n",
      "4                                          清热药\n",
      "Name: 0, dtype: object\n"
     ]
    },
    {
     "name": "stderr",
     "output_type": "stream",
     "text": [
      "C:\\Users\\15382\\AppData\\Local\\Temp\\ipykernel_198532\\764970698.py:31: FutureWarning: Passing literal html to 'read_html' is deprecated and will be removed in a future version. To read from a literal string, wrap it in a 'StringIO' object.\n",
      "  df = pd.read_html(data)[1]\n"
     ]
    },
    {
     "name": "stdout",
     "output_type": "stream",
     "text": [
      "0                  清热异滞散（一厘金）\n",
      "1                          散剂\n",
      "2    大黄, 牵牛子, 黄连, 天竺黄, 琥珀, 人参\n",
      "3                         NaN\n",
      "4                        消食化积\n",
      "Name: 0, dtype: object\n"
     ]
    },
    {
     "name": "stderr",
     "output_type": "stream",
     "text": [
      "C:\\Users\\15382\\AppData\\Local\\Temp\\ipykernel_198532\\764970698.py:31: FutureWarning: Passing literal html to 'read_html' is deprecated and will be removed in a future version. To read from a literal string, wrap it in a 'StringIO' object.\n",
      "  df = pd.read_html(data)[1]\n"
     ]
    },
    {
     "name": "stdout",
     "output_type": "stream",
     "text": [
      "0                                        清热镇惊散\n",
      "1                                           散剂\n",
      "2    全蝎, 珍珠, 冰片, 钩藤, 胆南星, 雄黄, 栀子, 薄荷, 白附子, 黄连,\n",
      "3                      口服，一次1g，一日 2次，周岁以下儿童酌减。\n",
      "4                                          开窍剂\n",
      "Name: 0, dtype: object\n"
     ]
    },
    {
     "name": "stderr",
     "output_type": "stream",
     "text": [
      "C:\\Users\\15382\\AppData\\Local\\Temp\\ipykernel_198532\\764970698.py:31: FutureWarning: Passing literal html to 'read_html' is deprecated and will be removed in a future version. To read from a literal string, wrap it in a 'StringIO' object.\n",
      "  df = pd.read_html(data)[1]\n"
     ]
    },
    {
     "name": "stdout",
     "output_type": "stream",
     "text": [
      "0                                      清胃和中丸\n",
      "1                                         丸剂\n",
      "2    黄芩, 黄连, 黄柏, 大黄, 石膏, 木香, 香附, 青皮, 陈皮, 枳壳,\n",
      "3                            口服，一次2丸，一日1～2次。\n",
      "4                                        清热药\n",
      "Name: 0, dtype: object\n"
     ]
    },
    {
     "name": "stderr",
     "output_type": "stream",
     "text": [
      "C:\\Users\\15382\\AppData\\Local\\Temp\\ipykernel_198532\\764970698.py:31: FutureWarning: Passing literal html to 'read_html' is deprecated and will be removed in a future version. To read from a literal string, wrap it in a 'StringIO' object.\n",
      "  df = pd.read_html(data)[1]\n"
     ]
    },
    {
     "name": "stdout",
     "output_type": "stream",
     "text": [
      "0                                        清胃黄连片\n",
      "1                                           片剂\n",
      "2    黄连, 石膏, 桔梗, 甘草, 知母, 玄参, 地黄, 牡丹皮, 天花粉, 连翘,\n",
      "3                                口服，一次4片，一日2次。\n",
      "4                                          清热药\n",
      "Name: 0, dtype: object\n"
     ]
    },
    {
     "name": "stderr",
     "output_type": "stream",
     "text": [
      "C:\\Users\\15382\\AppData\\Local\\Temp\\ipykernel_198532\\764970698.py:31: FutureWarning: Passing literal html to 'read_html' is deprecated and will be removed in a future version. To read from a literal string, wrap it in a 'StringIO' object.\n",
      "  df = pd.read_html(data)[1]\n"
     ]
    },
    {
     "name": "stdout",
     "output_type": "stream",
     "text": [
      "0                                      清心明目上清丸\n",
      "1                                           丸剂\n",
      "2    黄连, 黄芩, 栀子, 熟地黄, 连翘, 石膏, 菊花, 天花粉, 薄荷, 荆芥,\n",
      "3                                口服，一次6克，一日2次。\n",
      "4                                          清热药\n",
      "Name: 0, dtype: object\n"
     ]
    },
    {
     "name": "stderr",
     "output_type": "stream",
     "text": [
      "C:\\Users\\15382\\AppData\\Local\\Temp\\ipykernel_198532\\764970698.py:31: FutureWarning: Passing literal html to 'read_html' is deprecated and will be removed in a future version. To read from a literal string, wrap it in a 'StringIO' object.\n",
      "  df = pd.read_html(data)[1]\n"
     ]
    },
    {
     "name": "stdout",
     "output_type": "stream",
     "text": [
      "0                                           清眩治瘫丸\n",
      "1                                              丸剂\n",
      "2    天麻, 蕲蛇, 僵蚕, 全蝎, 地龙, 铁丝威灵仙, 白附子, 决明子, 牛膝, 没药,\n",
      "3                                             NaN\n",
      "4                                             祛风药\n",
      "Name: 0, dtype: object\n"
     ]
    },
    {
     "name": "stderr",
     "output_type": "stream",
     "text": [
      "C:\\Users\\15382\\AppData\\Local\\Temp\\ipykernel_198532\\764970698.py:31: FutureWarning: Passing literal html to 'read_html' is deprecated and will be removed in a future version. To read from a literal string, wrap it in a 'StringIO' object.\n",
      "  df = pd.read_html(data)[1]\n"
     ]
    },
    {
     "name": "stdout",
     "output_type": "stream",
     "text": [
      "0                                            庆余辟瘟丹\n",
      "1                                               丸剂\n",
      "2    羚羊角, 香附, 大黄, 土藿香, 玄精石, 玄明粉, 朱砂, 木香, 制川乌, 五倍子,\n",
      "3                                口服，一次1～2袋，一日1～2次。\n",
      "4                                            清热祛暑药\n",
      "Name: 0, dtype: object\n"
     ]
    },
    {
     "name": "stderr",
     "output_type": "stream",
     "text": [
      "C:\\Users\\15382\\AppData\\Local\\Temp\\ipykernel_198532\\764970698.py:31: FutureWarning: Passing literal html to 'read_html' is deprecated and will be removed in a future version. To read from a literal string, wrap it in a 'StringIO' object.\n",
      "  df = pd.read_html(data)[1]\n"
     ]
    },
    {
     "name": "stdout",
     "output_type": "stream",
     "text": [
      "0                                           人参再造丸（浓缩丸）\n",
      "1                                                   丸剂\n",
      "2    人参(去芦), 蕲蛇(黄酒浸制), 广藿香, 檀香, 母丁香, 玄参, 细辛, 香附, 地龙...\n",
      "3                                        口服，一次4丸，一日2次。\n",
      "4                                                  治风药\n",
      "Name: 0, dtype: object\n"
     ]
    },
    {
     "name": "stderr",
     "output_type": "stream",
     "text": [
      "C:\\Users\\15382\\AppData\\Local\\Temp\\ipykernel_198532\\764970698.py:31: FutureWarning: Passing literal html to 'read_html' is deprecated and will be removed in a future version. To read from a literal string, wrap it in a 'StringIO' object.\n",
      "  df = pd.read_html(data)[1]\n"
     ]
    },
    {
     "name": "stdout",
     "output_type": "stream",
     "text": [
      "0                                        赛金化毒散\n",
      "1                                           散剂\n",
      "2    乳香, 黄连, 没药, 甘草, 川贝母, 赤芍, 雄黄, 冰片, 天花粉, 牛黄,\n",
      "3                 口服，周岁至三岁一次0.5g，一日 2次，周岁以下酌减。\n",
      "4                                          清热药\n",
      "Name: 0, dtype: object\n"
     ]
    },
    {
     "name": "stderr",
     "output_type": "stream",
     "text": [
      "C:\\Users\\15382\\AppData\\Local\\Temp\\ipykernel_198532\\764970698.py:31: FutureWarning: Passing literal html to 'read_html' is deprecated and will be removed in a future version. To read from a literal string, wrap it in a 'StringIO' object.\n",
      "  df = pd.read_html(data)[1]\n"
     ]
    },
    {
     "name": "stdout",
     "output_type": "stream",
     "text": [
      "0                 三号蛇胆川贝片\n",
      "1                      片剂\n",
      "2    蛇胆, 川贝母, 法半夏, 黄连, 甘草\n",
      "3       口服，一次3～4片，一日2～3次。\n",
      "4                     化痰药\n",
      "Name: 0, dtype: object\n"
     ]
    },
    {
     "name": "stderr",
     "output_type": "stream",
     "text": [
      "C:\\Users\\15382\\AppData\\Local\\Temp\\ipykernel_198532\\764970698.py:31: FutureWarning: Passing literal html to 'read_html' is deprecated and will be removed in a future version. To read from a literal string, wrap it in a 'StringIO' object.\n",
      "  df = pd.read_html(data)[1]\n"
     ]
    },
    {
     "name": "stdout",
     "output_type": "stream",
     "text": [
      "0                            三黄膏\n",
      "1                             膏剂\n",
      "2                 黄柏, 黄芩, 黄连, 栀子\n",
      "3    摊于纱布上贴于患处或直接涂患处，每隔一至二日换药一次。\n",
      "4                           疮疡消药\n",
      "Name: 0, dtype: object\n"
     ]
    },
    {
     "name": "stderr",
     "output_type": "stream",
     "text": [
      "C:\\Users\\15382\\AppData\\Local\\Temp\\ipykernel_198532\\764970698.py:31: FutureWarning: Passing literal html to 'read_html' is deprecated and will be removed in a future version. To read from a literal string, wrap it in a 'StringIO' object.\n",
      "  df = pd.read_html(data)[1]\n"
     ]
    },
    {
     "name": "stdout",
     "output_type": "stream",
     "text": [
      "0           三黄丸\n",
      "1            丸剂\n",
      "2    黄连, 黄草, 大黄\n",
      "3           NaN\n",
      "4           清热药\n",
      "Name: 0, dtype: object\n"
     ]
    },
    {
     "name": "stderr",
     "output_type": "stream",
     "text": [
      "C:\\Users\\15382\\AppData\\Local\\Temp\\ipykernel_198532\\764970698.py:31: FutureWarning: Passing literal html to 'read_html' is deprecated and will be removed in a future version. To read from a literal string, wrap it in a 'StringIO' object.\n",
      "  df = pd.read_html(data)[1]\n"
     ]
    },
    {
     "name": "stdout",
     "output_type": "stream",
     "text": [
      "0                                       伤科万花油\n",
      "1                                          搽剂\n",
      "2    黄连, 赤芍, 大黄, 防风, 白芷, 独活, 羌活, 天南星, 川芎, 白及,\n",
      "3                 外擦，一日3次；外敷，将药棉蘸油适量敷患处，一日1次。\n",
      "4                                         和血药\n",
      "Name: 0, dtype: object\n"
     ]
    },
    {
     "name": "stderr",
     "output_type": "stream",
     "text": [
      "C:\\Users\\15382\\AppData\\Local\\Temp\\ipykernel_198532\\764970698.py:31: FutureWarning: Passing literal html to 'read_html' is deprecated and will be removed in a future version. To read from a literal string, wrap it in a 'StringIO' object.\n",
      "  df = pd.read_html(data)[1]\n"
     ]
    },
    {
     "name": "stdout",
     "output_type": "stream",
     "text": [
      "0                                                烧伤肤康液\n",
      "1                                                 口服液剂\n",
      "2                              地榆, 虎杖, 白及, 忍冬藤, 黄连, 冰片\n",
      "3    外用，将本品摇匀，用消毒棉球蘸取药液，轻轻涂于清洁的创面或患处，一日3～4次。二至三日后不再...\n",
      "4                                                 疮疡消药\n",
      "Name: 0, dtype: object\n"
     ]
    },
    {
     "name": "stderr",
     "output_type": "stream",
     "text": [
      "C:\\Users\\15382\\AppData\\Local\\Temp\\ipykernel_198532\\764970698.py:31: FutureWarning: Passing literal html to 'read_html' is deprecated and will be removed in a future version. To read from a literal string, wrap it in a 'StringIO' object.\n",
      "  df = pd.read_html(data)[1]\n"
     ]
    },
    {
     "name": "stdout",
     "output_type": "stream",
     "text": [
      "0                                       烧伤喷雾剂\n",
      "1                                         喷雾剂\n",
      "2    黄连, 黄柏, 大黄, 紫草, 川芎, 白芷, 细辛, 红花, 地榆, 榆树皮,\n",
      "3                        外用，每2-3小时喷一次，一日6-8次。\n",
      "4                                        疮疡消药\n",
      "Name: 0, dtype: object\n"
     ]
    },
    {
     "name": "stderr",
     "output_type": "stream",
     "text": [
      "C:\\Users\\15382\\AppData\\Local\\Temp\\ipykernel_198532\\764970698.py:31: FutureWarning: Passing literal html to 'read_html' is deprecated and will be removed in a future version. To read from a literal string, wrap it in a 'StringIO' object.\n",
      "  df = pd.read_html(data)[1]\n"
     ]
    },
    {
     "name": "stdout",
     "output_type": "stream",
     "text": [
      "0                  蛇胆贝母片\n",
      "1                     片剂\n",
      "2    蛇胆, 浙贝母, 黄连, 甘草, 半夏\n",
      "3                    NaN\n",
      "4                    化痰药\n",
      "Name: 0, dtype: object\n"
     ]
    },
    {
     "name": "stderr",
     "output_type": "stream",
     "text": [
      "C:\\Users\\15382\\AppData\\Local\\Temp\\ipykernel_198532\\764970698.py:31: FutureWarning: Passing literal html to 'read_html' is deprecated and will be removed in a future version. To read from a literal string, wrap it in a 'StringIO' object.\n",
      "  df = pd.read_html(data)[1]\n"
     ]
    },
    {
     "name": "stdout",
     "output_type": "stream",
     "text": [
      "0                  蛇胆贝母散\n",
      "1                     散剂\n",
      "2    蛇胆, 浙贝母, 黄连, 甘草, 半夏\n",
      "3    口服，一次0.3～0.6克，一日3次。\n",
      "4                    化痰药\n",
      "Name: 0, dtype: object\n"
     ]
    },
    {
     "name": "stderr",
     "output_type": "stream",
     "text": [
      "C:\\Users\\15382\\AppData\\Local\\Temp\\ipykernel_198532\\764970698.py:31: FutureWarning: Passing literal html to 'read_html' is deprecated and will be removed in a future version. To read from a literal string, wrap it in a 'StringIO' object.\n",
      "  df = pd.read_html(data)[1]\n"
     ]
    },
    {
     "name": "stdout",
     "output_type": "stream",
     "text": [
      "0                  蛇连川贝散\n",
      "1                     散剂\n",
      "2    蛇胆, 川贝母, 半夏, 黄连, 甘草\n",
      "3        口服，一次0.6克，一日3次。\n",
      "4                    化痰药\n",
      "Name: 0, dtype: object\n"
     ]
    },
    {
     "name": "stderr",
     "output_type": "stream",
     "text": [
      "C:\\Users\\15382\\AppData\\Local\\Temp\\ipykernel_198532\\764970698.py:31: FutureWarning: Passing literal html to 'read_html' is deprecated and will be removed in a future version. To read from a literal string, wrap it in a 'StringIO' object.\n",
      "  df = pd.read_html(data)[1]\n"
     ]
    },
    {
     "name": "stdout",
     "output_type": "stream",
     "text": [
      "0                                                蛇伤解毒片\n",
      "1                                                   片剂\n",
      "2           光慈姑, 山豆根, 拳参, 黄连, 白芷, 红大戟, 冰片, 雄黄, 朱砂, 大黄,\n",
      "3    口服，第一天（24小时内）服 4～ 5次，第一次服 9～12片（病情严重者第一次可服18片）...\n",
      "4                                                  清热药\n",
      "Name: 0, dtype: object\n"
     ]
    },
    {
     "name": "stderr",
     "output_type": "stream",
     "text": [
      "C:\\Users\\15382\\AppData\\Local\\Temp\\ipykernel_198532\\764970698.py:31: FutureWarning: Passing literal html to 'read_html' is deprecated and will be removed in a future version. To read from a literal string, wrap it in a 'StringIO' object.\n",
      "  df = pd.read_html(data)[1]\n"
     ]
    },
    {
     "name": "stdout",
     "output_type": "stream",
     "text": [
      "0                                      麝香牛黄丸\n",
      "1                                         丸剂\n",
      "2    牛黄, 麝香, 防风, 赤芍, 黄连, 大黄, 钩藤, 连翘, 黄柏, 栀子,\n",
      "3         口服，水蜜丸一次2g，小蜜丸一次3g，大蜜丸一次1丸，一日2～3次。\n",
      "4                                        清热药\n",
      "Name: 0, dtype: object\n"
     ]
    },
    {
     "name": "stderr",
     "output_type": "stream",
     "text": [
      "C:\\Users\\15382\\AppData\\Local\\Temp\\ipykernel_198532\\764970698.py:31: FutureWarning: Passing literal html to 'read_html' is deprecated and will be removed in a future version. To read from a literal string, wrap it in a 'StringIO' object.\n",
      "  df = pd.read_html(data)[1]\n"
     ]
    },
    {
     "name": "stdout",
     "output_type": "stream",
     "text": [
      "0                                      麝香三妙膏\n",
      "1                                         膏剂\n",
      "2    麝香, 当归, 红花, 乳香, 三七, 黄连, 朱砂, 丹参, 川芎, 没药,\n",
      "3                                        NaN\n",
      "4                                       疮疡消药\n",
      "Name: 0, dtype: object\n"
     ]
    },
    {
     "name": "stderr",
     "output_type": "stream",
     "text": [
      "C:\\Users\\15382\\AppData\\Local\\Temp\\ipykernel_198532\\764970698.py:31: FutureWarning: Passing literal html to 'read_html' is deprecated and will be removed in a future version. To read from a literal string, wrap it in a 'StringIO' object.\n",
      "  df = pd.read_html(data)[1]\n"
     ]
    },
    {
     "name": "stdout",
     "output_type": "stream",
     "text": [
      "0                                      肾衰宁胶囊\n",
      "1                                         胶囊\n",
      "2    太子参, 黄连, 半夏, 陈皮, 茯苓, 大黄, 丹参, 牛膝, 红花, 甘草\n",
      "3                                        NaN\n",
      "4                                        化湿药\n",
      "Name: 0, dtype: object\n"
     ]
    },
    {
     "name": "stderr",
     "output_type": "stream",
     "text": [
      "C:\\Users\\15382\\AppData\\Local\\Temp\\ipykernel_198532\\764970698.py:31: FutureWarning: Passing literal html to 'read_html' is deprecated and will be removed in a future version. To read from a literal string, wrap it in a 'StringIO' object.\n",
      "  df = pd.read_html(data)[1]\n"
     ]
    },
    {
     "name": "stdout",
     "output_type": "stream",
     "text": [
      "0                                                升华红黑丸\n",
      "1                                                   丸剂\n",
      "2       红丸：巴豆, 郁金, 知母, 黄芩, 朱砂, 黑丸：巴豆, 郁金, 厚朴, 黄连, 百草霜,\n",
      "3    口服，红黑丸合用，一次小儿每岁各1粒，每次最多合计不得超过9粒，成人一次各10～20粒，一日2次。\n",
      "4                                                 消食化积\n",
      "Name: 0, dtype: object\n"
     ]
    },
    {
     "name": "stderr",
     "output_type": "stream",
     "text": [
      "C:\\Users\\15382\\AppData\\Local\\Temp\\ipykernel_198532\\764970698.py:31: FutureWarning: Passing literal html to 'read_html' is deprecated and will be removed in a future version. To read from a literal string, wrap it in a 'StringIO' object.\n",
      "  df = pd.read_html(data)[1]\n"
     ]
    },
    {
     "name": "stdout",
     "output_type": "stream",
     "text": [
      "0                              生姜泄心片\n",
      "1                                 片剂\n",
      "2    生姜, 甘草, 人参, 干姜, 黄芩, 姜半夏, 黄连, 大枣\n",
      "3                                NaN\n",
      "4                                调和药\n",
      "Name: 0, dtype: object\n"
     ]
    },
    {
     "name": "stderr",
     "output_type": "stream",
     "text": [
      "C:\\Users\\15382\\AppData\\Local\\Temp\\ipykernel_198532\\764970698.py:31: FutureWarning: Passing literal html to 'read_html' is deprecated and will be removed in a future version. To read from a literal string, wrap it in a 'StringIO' object.\n",
      "  df = pd.read_html(data)[1]\n"
     ]
    },
    {
     "name": "stdout",
     "output_type": "stream",
     "text": [
      "0                                            石斛明目丸\n",
      "1                                               丸剂\n",
      "2    石斛, 青葙子, 决明子, 地黄, 熟地黄, 枸杞子, 菟丝子, 肉苁蓉, 人参, 山药,\n",
      "3                                              NaN\n",
      "4                                              补益药\n",
      "Name: 0, dtype: object\n"
     ]
    },
    {
     "name": "stderr",
     "output_type": "stream",
     "text": [
      "C:\\Users\\15382\\AppData\\Local\\Temp\\ipykernel_198532\\764970698.py:31: FutureWarning: Passing literal html to 'read_html' is deprecated and will be removed in a future version. To read from a literal string, wrap it in a 'StringIO' object.\n",
      "  df = pd.read_html(data)[1]\n"
     ]
    },
    {
     "name": "stdout",
     "output_type": "stream",
     "text": [
      "0                                                双料喉风散\n",
      "1                                                   散剂\n",
      "2              珍珠, 人工牛黄, 冰片, 黄连, 山豆根, 甘草, 青黛, 人中白, 寒水石\n",
      "3    口腔咽喉诸症：喷于患处，一日3次；鼻窦脓肿：取少许药吸入鼻内，一日5次；皮肤溃烂：先用浓茶洗...\n",
      "4                                                  清热药\n",
      "Name: 0, dtype: object\n"
     ]
    },
    {
     "name": "stderr",
     "output_type": "stream",
     "text": [
      "C:\\Users\\15382\\AppData\\Local\\Temp\\ipykernel_198532\\764970698.py:31: FutureWarning: Passing literal html to 'read_html' is deprecated and will be removed in a future version. To read from a literal string, wrap it in a 'StringIO' object.\n",
      "  df = pd.read_html(data)[1]\n"
     ]
    },
    {
     "name": "stdout",
     "output_type": "stream",
     "text": [
      "0                                       水牛角解毒丸\n",
      "1                                           丸剂\n",
      "2    水牛角, 地黄, 防风, 黄连, 当归, 荆芥, 连翘, 赤芍, 桔梗, 牛蒡子,\n",
      "3                          口服，一次 1丸，一日 3次或遵医嘱。\n",
      "4                                          清热药\n",
      "Name: 0, dtype: object\n"
     ]
    },
    {
     "name": "stderr",
     "output_type": "stream",
     "text": [
      "C:\\Users\\15382\\AppData\\Local\\Temp\\ipykernel_198532\\764970698.py:31: FutureWarning: Passing literal html to 'read_html' is deprecated and will be removed in a future version. To read from a literal string, wrap it in a 'StringIO' object.\n",
      "  df = pd.read_html(data)[1]\n"
     ]
    },
    {
     "name": "stdout",
     "output_type": "stream",
     "text": [
      "0                                               （山黎）峒丸\n",
      "1                                                   丸剂\n",
      "2    三七, 血竭, 阿魏, 乳香(制), 没药(制), 藤黄(制), 天竺黄, 大黄, 儿茶, 冰片,\n",
      "3                            嚼碎后温开水或黄酒送服，一日１丸，外用酒磨涂患处。\n",
      "4                                                  扶正药\n",
      "Name: 0, dtype: object\n"
     ]
    },
    {
     "name": "stderr",
     "output_type": "stream",
     "text": [
      "C:\\Users\\15382\\AppData\\Local\\Temp\\ipykernel_198532\\764970698.py:31: FutureWarning: Passing literal html to 'read_html' is deprecated and will be removed in a future version. To read from a literal string, wrap it in a 'StringIO' object.\n",
      "  df = pd.read_html(data)[1]\n"
     ]
    },
    {
     "name": "stdout",
     "output_type": "stream",
     "text": [
      "0                                        四方胃片\n",
      "1                                          片剂\n",
      "2    海螵蛸, 浙贝母, 沉香, 黄连, 川楝子, 柿霜, 苦杏仁, 延胡索, 吴茱萸\n",
      "3                             口服，一次3片，一日2～3次。\n",
      "4                                         理气药\n",
      "Name: 0, dtype: object\n"
     ]
    },
    {
     "name": "stderr",
     "output_type": "stream",
     "text": [
      "C:\\Users\\15382\\AppData\\Local\\Temp\\ipykernel_198532\\764970698.py:31: FutureWarning: Passing literal html to 'read_html' is deprecated and will be removed in a future version. To read from a literal string, wrap it in a 'StringIO' object.\n",
      "  df = pd.read_html(data)[1]\n"
     ]
    },
    {
     "name": "stdout",
     "output_type": "stream",
     "text": [
      "0                                               （山黎）峒丸\n",
      "1                                                   丸剂\n",
      "2    三七, 血竭, 阿魏, 乳香(制), 没药(制), 藤黄(制), 天竺黄, 大黄, 儿茶, 冰片,\n",
      "3                            嚼碎后温开水或黄酒送服，一日１丸，外用酒磨涂患处。\n",
      "4                                                  扶正药\n",
      "Name: 0, dtype: object\n"
     ]
    },
    {
     "name": "stderr",
     "output_type": "stream",
     "text": [
      "C:\\Users\\15382\\AppData\\Local\\Temp\\ipykernel_198532\\764970698.py:31: FutureWarning: Passing literal html to 'read_html' is deprecated and will be removed in a future version. To read from a literal string, wrap it in a 'StringIO' object.\n",
      "  df = pd.read_html(data)[1]\n"
     ]
    },
    {
     "name": "stdout",
     "output_type": "stream",
     "text": [
      "0                                         通络活血丸\n",
      "1                                            丸剂\n",
      "2    人工牛黄, 香附, 赤芍, 川芎, 冰片, 穿山甲, 龟甲, 羌活, 血竭, 天麻,\n",
      "3                                 口服，一次3g，一日2次。\n",
      "4                                           祛风药\n",
      "Name: 0, dtype: object\n"
     ]
    },
    {
     "name": "stderr",
     "output_type": "stream",
     "text": [
      "C:\\Users\\15382\\AppData\\Local\\Temp\\ipykernel_198532\\764970698.py:31: FutureWarning: Passing literal html to 'read_html' is deprecated and will be removed in a future version. To read from a literal string, wrap it in a 'StringIO' object.\n",
      "  df = pd.read_html(data)[1]\n"
     ]
    },
    {
     "name": "stdout",
     "output_type": "stream",
     "text": [
      "0                                  同仁安神丸(朱砂安神丸)\n",
      "1                                            丸剂\n",
      "2    黄连, 甘草, 熟地黄, 地黄, 当归, 黄芪, 酸枣仁, 龙齿, 茯苓, 柏子仁,\n",
      "3                                           NaN\n",
      "4                                           安神药\n",
      "Name: 0, dtype: object\n"
     ]
    },
    {
     "name": "stderr",
     "output_type": "stream",
     "text": [
      "C:\\Users\\15382\\AppData\\Local\\Temp\\ipykernel_198532\\764970698.py:31: FutureWarning: Passing literal html to 'read_html' is deprecated and will be removed in a future version. To read from a literal string, wrap it in a 'StringIO' object.\n",
      "  df = pd.read_html(data)[1]\n"
     ]
    },
    {
     "name": "stdout",
     "output_type": "stream",
     "text": [
      "0                                           同仁大活络丸\n",
      "1                                               丸剂\n",
      "2    蕲蛇, 乌梢蛇, 铁丝威灵仙, 全蝎, 僵蚕, 两头尖, 制草乌, 天麻, 麻黄, 羌活,\n",
      "3                           温黄酒或温开水送服，一次1-2丸，一日2次。\n",
      "4                                              和血药\n",
      "Name: 0, dtype: object\n"
     ]
    },
    {
     "name": "stderr",
     "output_type": "stream",
     "text": [
      "C:\\Users\\15382\\AppData\\Local\\Temp\\ipykernel_198532\\764970698.py:31: FutureWarning: Passing literal html to 'read_html' is deprecated and will be removed in a future version. To read from a literal string, wrap it in a 'StringIO' object.\n",
      "  df = pd.read_html(data)[1]\n"
     ]
    },
    {
     "name": "stdout",
     "output_type": "stream",
     "text": [
      "0                                           透表回春丸\n",
      "1                                              丸剂\n",
      "2    防风, 山豆根, 川芎, 赤小豆, 羌活, 牛蒡子, 黄连, 天花粉, 荆芥, 大青叶,\n",
      "3                           鲜芦根汤或温开水送服，一次1丸，一日2次。\n",
      "4                                             解表药\n",
      "Name: 0, dtype: object\n"
     ]
    },
    {
     "name": "stderr",
     "output_type": "stream",
     "text": [
      "C:\\Users\\15382\\AppData\\Local\\Temp\\ipykernel_198532\\764970698.py:31: FutureWarning: Passing literal html to 'read_html' is deprecated and will be removed in a future version. To read from a literal string, wrap it in a 'StringIO' object.\n",
      "  df = pd.read_html(data)[1]\n"
     ]
    },
    {
     "name": "stdout",
     "output_type": "stream",
     "text": [
      "0                                            外用无敌膏\n",
      "1                                               膏剂\n",
      "2    乳香, 没药, 细辛, 冰片, 八角枫, 草乌, 四块瓦, 川乌, 雪上一枝蒿, 桑寄生,\n",
      "3                                       加温软化，贴于患处。\n",
      "4                                              祛风药\n",
      "Name: 0, dtype: object\n"
     ]
    },
    {
     "name": "stderr",
     "output_type": "stream",
     "text": [
      "C:\\Users\\15382\\AppData\\Local\\Temp\\ipykernel_198532\\764970698.py:31: FutureWarning: Passing literal html to 'read_html' is deprecated and will be removed in a future version. To read from a literal string, wrap it in a 'StringIO' object.\n",
      "  df = pd.read_html(data)[1]\n"
     ]
    },
    {
     "name": "stdout",
     "output_type": "stream",
     "text": [
      "0                                               （山黎）峒丸\n",
      "1                                                   丸剂\n",
      "2    三七, 血竭, 阿魏, 乳香(制), 没药(制), 藤黄(制), 天竺黄, 大黄, 儿茶, 冰片,\n",
      "3                            嚼碎后温开水或黄酒送服，一日１丸，外用酒磨涂患处。\n",
      "4                                                  扶正药\n",
      "Name: 0, dtype: object\n"
     ]
    },
    {
     "name": "stderr",
     "output_type": "stream",
     "text": [
      "C:\\Users\\15382\\AppData\\Local\\Temp\\ipykernel_198532\\764970698.py:31: FutureWarning: Passing literal html to 'read_html' is deprecated and will be removed in a future version. To read from a literal string, wrap it in a 'StringIO' object.\n",
      "  df = pd.read_html(data)[1]\n"
     ]
    },
    {
     "name": "stdout",
     "output_type": "stream",
     "text": [
      "0             万氏牛黄清心丸（浓缩丸）\n",
      "1                       丸剂\n",
      "2    黄, 朱砂, 黄连, 黄芩, 栀子, 郁金\n",
      "3     口服，一次4丸，一日2～3次。小儿酌减。\n",
      "4                      清热药\n",
      "Name: 0, dtype: object\n"
     ]
    },
    {
     "name": "stderr",
     "output_type": "stream",
     "text": [
      "C:\\Users\\15382\\AppData\\Local\\Temp\\ipykernel_198532\\764970698.py:31: FutureWarning: Passing literal html to 'read_html' is deprecated and will be removed in a future version. To read from a literal string, wrap it in a 'StringIO' object.\n",
      "  df = pd.read_html(data)[1]\n"
     ]
    },
    {
     "name": "stdout",
     "output_type": "stream",
     "text": [
      "0                                                王氏保赤丸\n",
      "1                                                   丸剂\n",
      "2                                    大黄, 黄连, 川贝母, 制天南星\n",
      "3    乳儿可在哺乳时将丸附着于乳头上，与乳汁一同呷下。若哺乳期已过，可将丸药嵌在小块柔软易消化食物...\n",
      "4                                                 消食化积\n",
      "Name: 0, dtype: object\n"
     ]
    },
    {
     "name": "stderr",
     "output_type": "stream",
     "text": [
      "C:\\Users\\15382\\AppData\\Local\\Temp\\ipykernel_198532\\764970698.py:31: FutureWarning: Passing literal html to 'read_html' is deprecated and will be removed in a future version. To read from a literal string, wrap it in a 'StringIO' object.\n",
      "  df = pd.read_html(data)[1]\n"
     ]
    },
    {
     "name": "stdout",
     "output_type": "stream",
     "text": [
      "0                                     胃病丸（胃病丹）\n",
      "1                                           丸剂\n",
      "2    槟榔, 香附, 枳壳, 陈皮, 砂仁, 六神曲, 山楂, 白扁豆, 麦芽, 桔梗,\n",
      "3                                          NaN\n",
      "4                                          理气药\n",
      "Name: 0, dtype: object\n"
     ]
    },
    {
     "name": "stderr",
     "output_type": "stream",
     "text": [
      "C:\\Users\\15382\\AppData\\Local\\Temp\\ipykernel_198532\\764970698.py:31: FutureWarning: Passing literal html to 'read_html' is deprecated and will be removed in a future version. To read from a literal string, wrap it in a 'StringIO' object.\n",
      "  df = pd.read_html(data)[1]\n"
     ]
    },
    {
     "name": "stdout",
     "output_type": "stream",
     "text": [
      "0                      胃炎康胶囊\n",
      "1                         胶囊\n",
      "2    白芍, 甘草, 桂枝, 高良姜, 黄连, 柴胡\n",
      "3              口服，一次8粒，一日3次。\n",
      "4                        NaN\n",
      "Name: 0, dtype: object\n"
     ]
    },
    {
     "name": "stderr",
     "output_type": "stream",
     "text": [
      "C:\\Users\\15382\\AppData\\Local\\Temp\\ipykernel_198532\\764970698.py:31: FutureWarning: Passing literal html to 'read_html' is deprecated and will be removed in a future version. To read from a literal string, wrap it in a 'StringIO' object.\n",
      "  df = pd.read_html(data)[1]\n"
     ]
    },
    {
     "name": "stdout",
     "output_type": "stream",
     "text": [
      "0                  胃疡安胶囊\n",
      "1                     胶囊\n",
      "2    白及, 黄连, 浙贝母, 沉香, 三七\n",
      "3          口服，一次8粒，一日3次。\n",
      "4                    和血药\n",
      "Name: 0, dtype: object\n"
     ]
    },
    {
     "name": "stderr",
     "output_type": "stream",
     "text": [
      "C:\\Users\\15382\\AppData\\Local\\Temp\\ipykernel_198532\\764970698.py:31: FutureWarning: Passing literal html to 'read_html' is deprecated and will be removed in a future version. To read from a literal string, wrap it in a 'StringIO' object.\n",
      "  df = pd.read_html(data)[1]\n"
     ]
    },
    {
     "name": "stdout",
     "output_type": "stream",
     "text": [
      "0                                       温脾止泻丸\n",
      "1                                          丸剂\n",
      "2    人参, 白术, 茯苓, 甘草, 木香, 青皮, 炮姜, 黄连, 熟地黄, 山药,\n",
      "3                  米汤或温开水送服，一次1丸，一日2次，成人加量服用。\n",
      "4                                         收涩药\n",
      "Name: 0, dtype: object\n"
     ]
    },
    {
     "name": "stderr",
     "output_type": "stream",
     "text": [
      "C:\\Users\\15382\\AppData\\Local\\Temp\\ipykernel_198532\\764970698.py:31: FutureWarning: Passing literal html to 'read_html' is deprecated and will be removed in a future version. To read from a literal string, wrap it in a 'StringIO' object.\n",
      "  df = pd.read_html(data)[1]\n"
     ]
    },
    {
     "name": "stdout",
     "output_type": "stream",
     "text": [
      "0                                            复方乌鸡丸\n",
      "1                                               丸剂\n",
      "2    乌鸡(去毛, 爪, 肠), 炙黄芪, 山药, 党参, 白术(炒), 川芎, 茯苓, 当归,\n",
      "3                         口服，水蜜丸一次6克，大蜜丸一次1丸，一日2次。\n",
      "4                                              扶正药\n",
      "Name: 0, dtype: object\n"
     ]
    },
    {
     "name": "stderr",
     "output_type": "stream",
     "text": [
      "C:\\Users\\15382\\AppData\\Local\\Temp\\ipykernel_198532\\764970698.py:31: FutureWarning: Passing literal html to 'read_html' is deprecated and will be removed in a future version. To read from a literal string, wrap it in a 'StringIO' object.\n",
      "  df = pd.read_html(data)[1]\n"
     ]
    },
    {
     "name": "stdout",
     "output_type": "stream",
     "text": [
      "0                                       乌梅丸\n",
      "1                                        丸剂\n",
      "2    乌梅, 花椒, 细辛, 黄连, 黄柏, 干姜, 附子, 桂枝, 人参, 当归\n",
      "3                           口服，一次2丸，一日2～3次。\n",
      "4                                       NaN\n",
      "Name: 0, dtype: object\n"
     ]
    },
    {
     "name": "stderr",
     "output_type": "stream",
     "text": [
      "C:\\Users\\15382\\AppData\\Local\\Temp\\ipykernel_198532\\764970698.py:31: FutureWarning: Passing literal html to 'read_html' is deprecated and will be removed in a future version. To read from a literal string, wrap it in a 'StringIO' object.\n",
      "  df = pd.read_html(data)[1]\n"
     ]
    },
    {
     "name": "stdout",
     "output_type": "stream",
     "text": [
      "0                                               （山黎）峒丸\n",
      "1                                                   丸剂\n",
      "2    三七, 血竭, 阿魏, 乳香(制), 没药(制), 藤黄(制), 天竺黄, 大黄, 儿茶, 冰片,\n",
      "3                            嚼碎后温开水或黄酒送服，一日１丸，外用酒磨涂患处。\n",
      "4                                                  扶正药\n",
      "Name: 0, dtype: object\n"
     ]
    },
    {
     "name": "stderr",
     "output_type": "stream",
     "text": [
      "C:\\Users\\15382\\AppData\\Local\\Temp\\ipykernel_198532\\764970698.py:31: FutureWarning: Passing literal html to 'read_html' is deprecated and will be removed in a future version. To read from a literal string, wrap it in a 'StringIO' object.\n",
      "  df = pd.read_html(data)[1]\n"
     ]
    },
    {
     "name": "stdout",
     "output_type": "stream",
     "text": [
      "0                                         五更太平丸\n",
      "1                                            丸剂\n",
      "2    天冬, 麦冬, 知母, 川贝母, 款冬花, 苦杏仁, 当归, 黄连, 阿胶, 地黄,\n",
      "3                                     口服，睡时服1丸。\n",
      "4                                           补益药\n",
      "Name: 0, dtype: object\n"
     ]
    },
    {
     "name": "stderr",
     "output_type": "stream",
     "text": [
      "C:\\Users\\15382\\AppData\\Local\\Temp\\ipykernel_198532\\764970698.py:31: FutureWarning: Passing literal html to 'read_html' is deprecated and will be removed in a future version. To read from a literal string, wrap it in a 'StringIO' object.\n",
      "  df = pd.read_html(data)[1]\n"
     ]
    },
    {
     "name": "stdout",
     "output_type": "stream",
     "text": [
      "0                                               （山黎）峒丸\n",
      "1                                                   丸剂\n",
      "2    三七, 血竭, 阿魏, 乳香(制), 没药(制), 藤黄(制), 天竺黄, 大黄, 儿茶, 冰片,\n",
      "3                            嚼碎后温开水或黄酒送服，一日１丸，外用酒磨涂患处。\n",
      "4                                                  扶正药\n",
      "Name: 0, dtype: object\n"
     ]
    },
    {
     "name": "stderr",
     "output_type": "stream",
     "text": [
      "C:\\Users\\15382\\AppData\\Local\\Temp\\ipykernel_198532\\764970698.py:31: FutureWarning: Passing literal html to 'read_html' is deprecated and will be removed in a future version. To read from a literal string, wrap it in a 'StringIO' object.\n",
      "  df = pd.read_html(data)[1]\n"
     ]
    },
    {
     "name": "stdout",
     "output_type": "stream",
     "text": [
      "0                                           分清五淋丸\n",
      "1                                              丸剂\n",
      "2    木通, 车前子(盐炒), 黄芩, 茯苓, 猪苓, 黄柏, 大黄, 萹蓄, 瞿麦, 知母,\n",
      "3                                 口服。一次1袋，一日2～3次。\n",
      "4                                             清热药\n",
      "Name: 0, dtype: object\n"
     ]
    },
    {
     "name": "stderr",
     "output_type": "stream",
     "text": [
      "C:\\Users\\15382\\AppData\\Local\\Temp\\ipykernel_198532\\764970698.py:31: FutureWarning: Passing literal html to 'read_html' is deprecated and will be removed in a future version. To read from a literal string, wrap it in a 'StringIO' object.\n",
      "  df = pd.read_html(data)[1]\n"
     ]
    },
    {
     "name": "stdout",
     "output_type": "stream",
     "text": [
      "0                                               （山黎）峒丸\n",
      "1                                                   丸剂\n",
      "2    三七, 血竭, 阿魏, 乳香(制), 没药(制), 藤黄(制), 天竺黄, 大黄, 儿茶, 冰片,\n",
      "3                            嚼碎后温开水或黄酒送服，一日１丸，外用酒磨涂患处。\n",
      "4                                                  扶正药\n",
      "Name: 0, dtype: object\n"
     ]
    },
    {
     "name": "stderr",
     "output_type": "stream",
     "text": [
      "C:\\Users\\15382\\AppData\\Local\\Temp\\ipykernel_198532\\764970698.py:31: FutureWarning: Passing literal html to 'read_html' is deprecated and will be removed in a future version. To read from a literal string, wrap it in a 'StringIO' object.\n",
      "  df = pd.read_html(data)[1]\n"
     ]
    },
    {
     "name": "stdout",
     "output_type": "stream",
     "text": [
      "0                                      西羚丹(丸)\n",
      "1                                          丸剂\n",
      "2    黄柏, 栀子, 黄芩, 黄连, 大黄, 甘草, 地黄, 玄参, 川芎, 玄明粉,\n",
      "3                                         NaN\n",
      "4                                         清热药\n",
      "Name: 0, dtype: object\n"
     ]
    },
    {
     "name": "stderr",
     "output_type": "stream",
     "text": [
      "C:\\Users\\15382\\AppData\\Local\\Temp\\ipykernel_198532\\764970698.py:31: FutureWarning: Passing literal html to 'read_html' is deprecated and will be removed in a future version. To read from a literal string, wrap it in a 'StringIO' object.\n",
      "  df = pd.read_html(data)[1]\n"
     ]
    },
    {
     "name": "stdout",
     "output_type": "stream",
     "text": [
      "0                                        西羚片\n",
      "1                                         片剂\n",
      "2    黄柏, 栀子, 黄芩, 黄连, 大黄, 地黄, 玄参, 川芎, 龙胆, 冰片,\n",
      "3                              口服，一次4片，一日2次。\n",
      "4                                        清热药\n",
      "Name: 0, dtype: object\n"
     ]
    },
    {
     "name": "stderr",
     "output_type": "stream",
     "text": [
      "C:\\Users\\15382\\AppData\\Local\\Temp\\ipykernel_198532\\764970698.py:31: FutureWarning: Passing literal html to 'read_html' is deprecated and will be removed in a future version. To read from a literal string, wrap it in a 'StringIO' object.\n",
      "  df = pd.read_html(data)[1]\n"
     ]
    },
    {
     "name": "stdout",
     "output_type": "stream",
     "text": [
      "0                                犀角化毒丸（犀角化毒丹）\n",
      "1                                          丸剂\n",
      "2    连翘, 青黛, 黄连, 黄芩, 大黄, 菊花, 龙胆, 天花粉, 玄参, 茯苓,\n",
      "3                                         NaN\n",
      "4                                         清热药\n",
      "Name: 0, dtype: object\n"
     ]
    },
    {
     "name": "stderr",
     "output_type": "stream",
     "text": [
      "C:\\Users\\15382\\AppData\\Local\\Temp\\ipykernel_198532\\764970698.py:31: FutureWarning: Passing literal html to 'read_html' is deprecated and will be removed in a future version. To read from a literal string, wrap it in a 'StringIO' object.\n",
      "  df = pd.read_html(data)[1]\n"
     ]
    },
    {
     "name": "stdout",
     "output_type": "stream",
     "text": [
      "0                        仙鹤胶囊\n",
      "1                          胶囊\n",
      "2    仙鹤草, 黄连, 木香, 蝉蜕, 石菖蒲, 桔梗\n",
      "3                         NaN\n",
      "4                         化湿药\n",
      "Name: 0, dtype: object\n"
     ]
    },
    {
     "name": "stderr",
     "output_type": "stream",
     "text": [
      "C:\\Users\\15382\\AppData\\Local\\Temp\\ipykernel_198532\\764970698.py:31: FutureWarning: Passing literal html to 'read_html' is deprecated and will be removed in a future version. To read from a literal string, wrap it in a 'StringIO' object.\n",
      "  df = pd.read_html(data)[1]\n"
     ]
    },
    {
     "name": "stdout",
     "output_type": "stream",
     "text": [
      "0                                               （山黎）峒丸\n",
      "1                                                   丸剂\n",
      "2    三七, 血竭, 阿魏, 乳香(制), 没药(制), 藤黄(制), 天竺黄, 大黄, 儿茶, 冰片,\n",
      "3                            嚼碎后温开水或黄酒送服，一日１丸，外用酒磨涂患处。\n",
      "4                                                  扶正药\n",
      "Name: 0, dtype: object\n"
     ]
    },
    {
     "name": "stderr",
     "output_type": "stream",
     "text": [
      "C:\\Users\\15382\\AppData\\Local\\Temp\\ipykernel_198532\\764970698.py:31: FutureWarning: Passing literal html to 'read_html' is deprecated and will be removed in a future version. To read from a literal string, wrap it in a 'StringIO' object.\n",
      "  df = pd.read_html(data)[1]\n"
     ]
    },
    {
     "name": "stdout",
     "output_type": "stream",
     "text": [
      "0                                      香连化滞片\n",
      "1                                         片剂\n",
      "2    白芍, 黄芩, 滑石, 木香, 陈皮, 槟榔, 薤白, 甘草, 当归, 青皮,\n",
      "3                              口服，一次４片，一日２次。\n",
      "4                                        化湿药\n",
      "Name: 0, dtype: object\n"
     ]
    },
    {
     "name": "stderr",
     "output_type": "stream",
     "text": [
      "C:\\Users\\15382\\AppData\\Local\\Temp\\ipykernel_198532\\764970698.py:31: FutureWarning: Passing literal html to 'read_html' is deprecated and will be removed in a future version. To read from a literal string, wrap it in a 'StringIO' object.\n",
      "  df = pd.read_html(data)[1]\n"
     ]
    },
    {
     "name": "stdout",
     "output_type": "stream",
     "text": [
      "0                                      香连化滞丸\n",
      "1                                         丸剂\n",
      "2    黄连, 木香, 黄芩, 枳实, 陈皮, 青皮, 厚朴, 槟榔, 滑石, 白芍,\n",
      "3                                        NaN\n",
      "4                                        化湿药\n",
      "Name: 0, dtype: object\n"
     ]
    },
    {
     "name": "stderr",
     "output_type": "stream",
     "text": [
      "C:\\Users\\15382\\AppData\\Local\\Temp\\ipykernel_198532\\764970698.py:31: FutureWarning: Passing literal html to 'read_html' is deprecated and will be removed in a future version. To read from a literal string, wrap it in a 'StringIO' object.\n",
      "  df = pd.read_html(data)[1]\n"
     ]
    },
    {
     "name": "stdout",
     "output_type": "stream",
     "text": [
      "0              香连丸（浓缩丸）\n",
      "1                    丸剂\n",
      "2          黄连(吴茱萸制), 木香\n",
      "3    口服，一次6-12丸，一日2-3次。\n",
      "4                   清热药\n",
      "Name: 0, dtype: object\n"
     ]
    },
    {
     "name": "stderr",
     "output_type": "stream",
     "text": [
      "C:\\Users\\15382\\AppData\\Local\\Temp\\ipykernel_198532\\764970698.py:31: FutureWarning: Passing literal html to 'read_html' is deprecated and will be removed in a future version. To read from a literal string, wrap it in a 'StringIO' object.\n",
      "  df = pd.read_html(data)[1]\n"
     ]
    },
    {
     "name": "stdout",
     "output_type": "stream",
     "text": [
      "0                     香连止泻片\n",
      "1                        片剂\n",
      "2    木香, 黄连, 厚朴, 枳实, 槟榔, 白芍\n",
      "3                       NaN\n",
      "4                       化湿药\n",
      "Name: 0, dtype: object\n"
     ]
    },
    {
     "name": "stderr",
     "output_type": "stream",
     "text": [
      "C:\\Users\\15382\\AppData\\Local\\Temp\\ipykernel_198532\\764970698.py:31: FutureWarning: Passing literal html to 'read_html' is deprecated and will be removed in a future version. To read from a literal string, wrap it in a 'StringIO' object.\n",
      "  df = pd.read_html(data)[1]\n"
     ]
    },
    {
     "name": "stdout",
     "output_type": "stream",
     "text": [
      "0                                          消渴灵片\n",
      "1                                            片剂\n",
      "2    地黄, 五味子, 麦冬, 牡丹皮, 黄芪, 黄连, 茯苓, 红参, 天花粉, 石膏,\n",
      "3                                口服。一次16丸，一日3次。\n",
      "4                                           补益药\n",
      "Name: 0, dtype: object\n"
     ]
    },
    {
     "name": "stderr",
     "output_type": "stream",
     "text": [
      "C:\\Users\\15382\\AppData\\Local\\Temp\\ipykernel_198532\\764970698.py:31: FutureWarning: Passing literal html to 'read_html' is deprecated and will be removed in a future version. To read from a literal string, wrap it in a 'StringIO' object.\n",
      "  df = pd.read_html(data)[1]\n"
     ]
    },
    {
     "name": "stdout",
     "output_type": "stream",
     "text": [
      "0                                          消渴平片\n",
      "1                                            片剂\n",
      "2    人参, 黄连, 天花粉, 天冬, 黄芪, 丹参, 枸杞子, 沙苑子, 葛根, 知母,\n",
      "3                                           NaN\n",
      "4                                           补益药\n",
      "Name: 0, dtype: object\n"
     ]
    },
    {
     "name": "stderr",
     "output_type": "stream",
     "text": [
      "C:\\Users\\15382\\AppData\\Local\\Temp\\ipykernel_198532\\764970698.py:31: FutureWarning: Passing literal html to 'read_html' is deprecated and will be removed in a future version. To read from a literal string, wrap it in a 'StringIO' object.\n",
      "  df = pd.read_html(data)[1]\n"
     ]
    },
    {
     "name": "stdout",
     "output_type": "stream",
     "text": [
      "0                                               （山黎）峒丸\n",
      "1                                                   丸剂\n",
      "2    三七, 血竭, 阿魏, 乳香(制), 没药(制), 藤黄(制), 天竺黄, 大黄, 儿茶, 冰片,\n",
      "3                            嚼碎后温开水或黄酒送服，一日１丸，外用酒磨涂患处。\n",
      "4                                                  扶正药\n",
      "Name: 0, dtype: object\n"
     ]
    },
    {
     "name": "stderr",
     "output_type": "stream",
     "text": [
      "C:\\Users\\15382\\AppData\\Local\\Temp\\ipykernel_198532\\764970698.py:31: FutureWarning: Passing literal html to 'read_html' is deprecated and will be removed in a future version. To read from a literal string, wrap it in a 'StringIO' object.\n",
      "  df = pd.read_html(data)[1]\n"
     ]
    },
    {
     "name": "stdout",
     "output_type": "stream",
     "text": [
      "0                                  消糖灵胶囊(消渴平胶囊)\n",
      "1                                            胶囊\n",
      "2    人参, 黄连, 天花粉, 杜仲, 黄芪, 丹参, 枸杞子, 沙苑子, 白芍, 知母,\n",
      "3                                           NaN\n",
      "4                                           补益药\n",
      "Name: 0, dtype: object\n"
     ]
    },
    {
     "name": "stderr",
     "output_type": "stream",
     "text": [
      "C:\\Users\\15382\\AppData\\Local\\Temp\\ipykernel_198532\\764970698.py:31: FutureWarning: Passing literal html to 'read_html' is deprecated and will be removed in a future version. To read from a literal string, wrap it in a 'StringIO' object.\n",
      "  df = pd.read_html(data)[1]\n"
     ]
    },
    {
     "name": "stdout",
     "output_type": "stream",
     "text": [
      "0                                       小儿保安丸\n",
      "1                                          丸剂\n",
      "2    半夏, 木香, 薄荷, 细辛, 天麻, 苦杏仁, 茯苓, 桂枝, 苍术, 桔梗,\n",
      "3        口服，小儿1岁以内，一次半丸，一日2次，1～ 3岁一次一丸，一日 3次。\n",
      "4                                         解表药\n",
      "Name: 0, dtype: object\n"
     ]
    },
    {
     "name": "stderr",
     "output_type": "stream",
     "text": [
      "C:\\Users\\15382\\AppData\\Local\\Temp\\ipykernel_198532\\764970698.py:31: FutureWarning: Passing literal html to 'read_html' is deprecated and will be removed in a future version. To read from a literal string, wrap it in a 'StringIO' object.\n",
      "  df = pd.read_html(data)[1]\n"
     ]
    },
    {
     "name": "stdout",
     "output_type": "stream",
     "text": [
      "0                                              小儿肺热平胶囊\n",
      "1                                                   胶囊\n",
      "2             牛黄, 地龙, 珍珠, 拳参, 牛胆, 甘草, 平贝母, 麝香, 射干, 朱砂,\n",
      "3    口服，六个月内小儿一次服0.125克；七至十二个月一次服0.25克；一至二岁一次服0.375...\n",
      "4                                                  清热药\n",
      "Name: 0, dtype: object\n"
     ]
    },
    {
     "name": "stderr",
     "output_type": "stream",
     "text": [
      "C:\\Users\\15382\\AppData\\Local\\Temp\\ipykernel_198532\\764970698.py:31: FutureWarning: Passing literal html to 'read_html' is deprecated and will be removed in a future version. To read from a literal string, wrap it in a 'StringIO' object.\n",
      "  df = pd.read_html(data)[1]\n"
     ]
    },
    {
     "name": "stdout",
     "output_type": "stream",
     "text": [
      "0                                          小儿肺炎散\n",
      "1                                             散剂\n",
      "2    朱砂, 牛黄, 冰片, 石膏, 天麻, 川贝母, 黄连, 法半夏, 胆南星, 桑白皮,\n",
      "3                 口服，一次 0.6～0.9g，一日 2次，三周以下小儿酌减。\n",
      "4                                            清热药\n",
      "Name: 0, dtype: object\n"
     ]
    },
    {
     "name": "stderr",
     "output_type": "stream",
     "text": [
      "C:\\Users\\15382\\AppData\\Local\\Temp\\ipykernel_198532\\764970698.py:31: FutureWarning: Passing literal html to 'read_html' is deprecated and will be removed in a future version. To read from a literal string, wrap it in a 'StringIO' object.\n",
      "  df = pd.read_html(data)[1]\n"
     ]
    },
    {
     "name": "stdout",
     "output_type": "stream",
     "text": [
      "0                                            小儿健身片\n",
      "1                                               片剂\n",
      "2       人参, 白术, 胡黄连, 使君子, 山楂, 六神曲, 麦芽, 茯苓, 芦荟, 甘草,\n",
      "3    口服，一至三岁，一次2片；三至六岁，一次3片；六岁以上，一次4片；一日3次；周岁以内酌减。\n",
      "4                                             消食化积\n",
      "Name: 0, dtype: object\n"
     ]
    },
    {
     "name": "stderr",
     "output_type": "stream",
     "text": [
      "C:\\Users\\15382\\AppData\\Local\\Temp\\ipykernel_198532\\764970698.py:31: FutureWarning: Passing literal html to 'read_html' is deprecated and will be removed in a future version. To read from a literal string, wrap it in a 'StringIO' object.\n",
      "  df = pd.read_html(data)[1]\n"
     ]
    },
    {
     "name": "stdout",
     "output_type": "stream",
     "text": [
      "0                                         小儿惊安丸\n",
      "1                                            丸剂\n",
      "2    牛黄, 麝香, 天竺黄, 僵蚕, 全蝎, 天麻, 朱砂, 升麻, 天花粉, 葶苈子,\n",
      "3                  口服，一次10～20粒，一日1～2次，三岁以下小儿酌减。\n",
      "4                                           化痰药\n",
      "Name: 0, dtype: object\n"
     ]
    },
    {
     "name": "stderr",
     "output_type": "stream",
     "text": [
      "C:\\Users\\15382\\AppData\\Local\\Temp\\ipykernel_198532\\764970698.py:31: FutureWarning: Passing literal html to 'read_html' is deprecated and will be removed in a future version. To read from a literal string, wrap it in a 'StringIO' object.\n",
      "  df = pd.read_html(data)[1]\n"
     ]
    },
    {
     "name": "stdout",
     "output_type": "stream",
     "text": [
      "0                                      小儿惊风七厘散\n",
      "1                                           散剂\n",
      "2    牛黄, 麝香, 雄黄, 天竺黄, 琥珀, 蝉蜕, 全蝎, 僵蚕, 胆南星, 天麻,\n",
      "3                        口服，1岁以内一次半瓶，1岁以上一次1瓶。\n",
      "4                                          解表药\n",
      "Name: 0, dtype: object\n"
     ]
    },
    {
     "name": "stderr",
     "output_type": "stream",
     "text": [
      "C:\\Users\\15382\\AppData\\Local\\Temp\\ipykernel_198532\\764970698.py:31: FutureWarning: Passing literal html to 'read_html' is deprecated and will be removed in a future version. To read from a literal string, wrap it in a 'StringIO' object.\n",
      "  df = pd.read_html(data)[1]\n"
     ]
    },
    {
     "name": "stdout",
     "output_type": "stream",
     "text": [
      "0                                               （山黎）峒丸\n",
      "1                                                   丸剂\n",
      "2    三七, 血竭, 阿魏, 乳香(制), 没药(制), 藤黄(制), 天竺黄, 大黄, 儿茶, 冰片,\n",
      "3                            嚼碎后温开水或黄酒送服，一日１丸，外用酒磨涂患处。\n",
      "4                                                  扶正药\n",
      "Name: 0, dtype: object\n"
     ]
    },
    {
     "name": "stderr",
     "output_type": "stream",
     "text": [
      "C:\\Users\\15382\\AppData\\Local\\Temp\\ipykernel_198532\\764970698.py:31: FutureWarning: Passing literal html to 'read_html' is deprecated and will be removed in a future version. To read from a literal string, wrap it in a 'StringIO' object.\n",
      "  df = pd.read_html(data)[1]\n"
     ]
    },
    {
     "name": "stdout",
     "output_type": "stream",
     "text": [
      "0                                         小儿明目丸\n",
      "1                                            丸剂\n",
      "2    赤芍, 黄芩, 栀子, 天花粉, 大黄, 金银花, 菊花, 车前子, 黄连, 薄荷,\n",
      "3                                 口服，一次1丸，一日2次。\n",
      "4                                           清热药\n",
      "Name: 0, dtype: object\n"
     ]
    },
    {
     "name": "stderr",
     "output_type": "stream",
     "text": [
      "C:\\Users\\15382\\AppData\\Local\\Temp\\ipykernel_198532\\764970698.py:31: FutureWarning: Passing literal html to 'read_html' is deprecated and will be removed in a future version. To read from a literal string, wrap it in a 'StringIO' object.\n",
      "  df = pd.read_html(data)[1]\n"
     ]
    },
    {
     "name": "stdout",
     "output_type": "stream",
     "text": [
      "0                                         小儿牛黄颗粒\n",
      "1                                            颗粒剂\n",
      "2    钩藤, 僵蚕, 天麻, 全蝎, 黄连, 大黄, 胆南星, 浙贝母, 天竺黄, 法半夏,\n",
      "3                     开水冲服，一次0.5g，一日2次，周岁以内小儿酌减。\n",
      "4                                            清热药\n",
      "Name: 0, dtype: object\n"
     ]
    },
    {
     "name": "stderr",
     "output_type": "stream",
     "text": [
      "C:\\Users\\15382\\AppData\\Local\\Temp\\ipykernel_198532\\764970698.py:31: FutureWarning: Passing literal html to 'read_html' is deprecated and will be removed in a future version. To read from a literal string, wrap it in a 'StringIO' object.\n",
      "  df = pd.read_html(data)[1]\n"
     ]
    },
    {
     "name": "stdout",
     "output_type": "stream",
     "text": [
      "0                                      小儿牛黄清心散\n",
      "1                                           散剂\n",
      "2    天麻, 胆南星, 黄连, 赤芍, 大黄, 全蝎, 水牛角, 僵蚕, 牛黄, 琥珀,\n",
      "3      口服，周岁以内，一次1/2袋，一至三岁，一次1袋，三岁以上酌增，一日1～2次。\n",
      "4                                          化痰药\n",
      "Name: 0, dtype: object\n"
     ]
    },
    {
     "name": "stderr",
     "output_type": "stream",
     "text": [
      "C:\\Users\\15382\\AppData\\Local\\Temp\\ipykernel_198532\\764970698.py:31: FutureWarning: Passing literal html to 'read_html' is deprecated and will be removed in a future version. To read from a literal string, wrap it in a 'StringIO' object.\n",
      "  df = pd.read_html(data)[1]\n"
     ]
    },
    {
     "name": "stdout",
     "output_type": "stream",
     "text": [
      "0                                               （山黎）峒丸\n",
      "1                                                   丸剂\n",
      "2    三七, 血竭, 阿魏, 乳香(制), 没药(制), 藤黄(制), 天竺黄, 大黄, 儿茶, 冰片,\n",
      "3                            嚼碎后温开水或黄酒送服，一日１丸，外用酒磨涂患处。\n",
      "4                                                  扶正药\n",
      "Name: 0, dtype: object\n"
     ]
    },
    {
     "name": "stderr",
     "output_type": "stream",
     "text": [
      "C:\\Users\\15382\\AppData\\Local\\Temp\\ipykernel_198532\\764970698.py:31: FutureWarning: Passing literal html to 'read_html' is deprecated and will be removed in a future version. To read from a literal string, wrap it in a 'StringIO' object.\n",
      "  df = pd.read_html(data)[1]\n"
     ]
    },
    {
     "name": "stdout",
     "output_type": "stream",
     "text": [
      "0                                                小儿奇应丸\n",
      "1                                                   丸剂\n",
      "2            雄黄, 朱砂, 天竺黄, 胆南星, 天麻, 僵蚕, 冰片, 黄连, 雷丸, 牛黄,\n",
      "3    口服，一岁小儿一次7粒，二至三岁10粒，四至六岁15～20粒，七至九岁30粒，十岁以上40粒...\n",
      "4                                                  化痰药\n",
      "Name: 0, dtype: object\n"
     ]
    },
    {
     "name": "stderr",
     "output_type": "stream",
     "text": [
      "C:\\Users\\15382\\AppData\\Local\\Temp\\ipykernel_198532\\764970698.py:31: FutureWarning: Passing literal html to 'read_html' is deprecated and will be removed in a future version. To read from a literal string, wrap it in a 'StringIO' object.\n",
      "  df = pd.read_html(data)[1]\n"
     ]
    },
    {
     "name": "stdout",
     "output_type": "stream",
     "text": [
      "0                                                小儿清热灵\n",
      "1                                                   酊剂\n",
      "2         白屈菜, 寒水石, 黄芩, 重楼, 柴胡, 天竺黄, 紫荆皮, 射干, 板蓝根, 牛黄,\n",
      "3    口服，6个月以下小儿一次 1/2片；7～10个月一次 1片；1～2 岁一次 1片；2～ 3岁...\n",
      "4                                                  清热药\n",
      "Name: 0, dtype: object\n"
     ]
    },
    {
     "name": "stderr",
     "output_type": "stream",
     "text": [
      "C:\\Users\\15382\\AppData\\Local\\Temp\\ipykernel_198532\\764970698.py:31: FutureWarning: Passing literal html to 'read_html' is deprecated and will be removed in a future version. To read from a literal string, wrap it in a 'StringIO' object.\n",
      "  df = pd.read_html(data)[1]\n"
     ]
    },
    {
     "name": "stdout",
     "output_type": "stream",
     "text": [
      "0                                       小儿清热片\n",
      "1                                          片剂\n",
      "2    黄柏, 灯心草, 栀子, 钩藤, 雄黄, 黄连, 朱砂, 龙胆, 黄芩, 大黄,\n",
      "3                  口服，一次2～3片，一日1～2次，周岁以内小儿酌减。\n",
      "4                                         清热药\n",
      "Name: 0, dtype: object\n"
     ]
    },
    {
     "name": "stderr",
     "output_type": "stream",
     "text": [
      "C:\\Users\\15382\\AppData\\Local\\Temp\\ipykernel_198532\\764970698.py:31: FutureWarning: Passing literal html to 'read_html' is deprecated and will be removed in a future version. To read from a literal string, wrap it in a 'StringIO' object.\n",
      "  df = pd.read_html(data)[1]\n"
     ]
    },
    {
     "name": "stdout",
     "output_type": "stream",
     "text": [
      "0                                 小儿清热镇惊散\n",
      "1                                      散剂\n",
      "2    黄连, 胆南星, 天竺黄, 全蝎, 僵蚕, 甘草, 牛黄, 朱砂, 冰片\n",
      "3                口服，一次0?g，一日 2次；周岁以内小儿酌减。\n",
      "4                                     清热药\n",
      "Name: 0, dtype: object\n"
     ]
    },
    {
     "name": "stderr",
     "output_type": "stream",
     "text": [
      "C:\\Users\\15382\\AppData\\Local\\Temp\\ipykernel_198532\\764970698.py:31: FutureWarning: Passing literal html to 'read_html' is deprecated and will be removed in a future version. To read from a literal string, wrap it in a 'StringIO' object.\n",
      "  df = pd.read_html(data)[1]\n"
     ]
    },
    {
     "name": "stdout",
     "output_type": "stream",
     "text": [
      "0                                              小儿暑感宁糖浆\n",
      "1                                                  糖浆剂\n",
      "2             香薷, 佩兰, 扁豆花, 黄连, 黄芩, 厚朴, 青蒿, 芦根, 滑石, 甘草,\n",
      "3    口服，一岁以下，一次5毫升，二至三岁一次5～10毫升，四至六岁一次10～15毫升，七岁至十二...\n",
      "4                                                清热祛暑药\n",
      "Name: 0, dtype: object\n"
     ]
    },
    {
     "name": "stderr",
     "output_type": "stream",
     "text": [
      "C:\\Users\\15382\\AppData\\Local\\Temp\\ipykernel_198532\\764970698.py:31: FutureWarning: Passing literal html to 'read_html' is deprecated and will be removed in a future version. To read from a literal string, wrap it in a 'StringIO' object.\n",
      "  df = pd.read_html(data)[1]\n"
     ]
    },
    {
     "name": "stdout",
     "output_type": "stream",
     "text": [
      "0                                     小儿泻痢片\n",
      "1                                        片剂\n",
      "2    葛根, 黄芩, 黄连, 厚朴, 白芍, 茯苓, 山楂, 乌梅, 甘草, 滑石\n",
      "3                                       NaN\n",
      "4                                       化湿药\n",
      "Name: 0, dtype: object\n"
     ]
    },
    {
     "name": "stderr",
     "output_type": "stream",
     "text": [
      "C:\\Users\\15382\\AppData\\Local\\Temp\\ipykernel_198532\\764970698.py:31: FutureWarning: Passing literal html to 'read_html' is deprecated and will be removed in a future version. To read from a literal string, wrap it in a 'StringIO' object.\n",
      "  df = pd.read_html(data)[1]\n"
     ]
    },
    {
     "name": "stdout",
     "output_type": "stream",
     "text": [
      "0                                       小儿珠黄散\n",
      "1                                          散剂\n",
      "2    大黄, 牵牛子, 槟榔, 黄连, 化橘红, 珍珠, 牛黄, 琥珀, 朱砂, 冰片\n",
      "3                   口服，一次0.75g，一日2次，周岁以内小儿酌减。\n",
      "4                                         化痰药\n",
      "Name: 0, dtype: object\n"
     ]
    },
    {
     "name": "stderr",
     "output_type": "stream",
     "text": [
      "C:\\Users\\15382\\AppData\\Local\\Temp\\ipykernel_198532\\764970698.py:31: FutureWarning: Passing literal html to 'read_html' is deprecated and will be removed in a future version. To read from a literal string, wrap it in a 'StringIO' object.\n",
      "  df = pd.read_html(data)[1]\n"
     ]
    },
    {
     "name": "stdout",
     "output_type": "stream",
     "text": [
      "0                泻毒散\n",
      "1                 散剂\n",
      "2         大黄, 黄连, 黄芩\n",
      "3    外用适量，用蜂蜜或醋调敷患处。\n",
      "4                清热药\n",
      "Name: 0, dtype: object\n"
     ]
    },
    {
     "name": "stderr",
     "output_type": "stream",
     "text": [
      "C:\\Users\\15382\\AppData\\Local\\Temp\\ipykernel_198532\\764970698.py:31: FutureWarning: Passing literal html to 'read_html' is deprecated and will be removed in a future version. To read from a literal string, wrap it in a 'StringIO' object.\n",
      "  df = pd.read_html(data)[1]\n"
     ]
    },
    {
     "name": "stdout",
     "output_type": "stream",
     "text": [
      "0                                        泻痢保童丸\n",
      "1                                           丸剂\n",
      "2    人参, 白术, 茯苓, 白扁豆, 苍术, 广藿香, 木香, 丁香, 檀香, 砂仁,\n",
      "3                                口服，一次1丸，一日3次。\n",
      "4                                          补益药\n",
      "Name: 0, dtype: object\n"
     ]
    },
    {
     "name": "stderr",
     "output_type": "stream",
     "text": [
      "C:\\Users\\15382\\AppData\\Local\\Temp\\ipykernel_198532\\764970698.py:31: FutureWarning: Passing literal html to 'read_html' is deprecated and will be removed in a future version. To read from a literal string, wrap it in a 'StringIO' object.\n",
      "  df = pd.read_html(data)[1]\n"
     ]
    },
    {
     "name": "stdout",
     "output_type": "stream",
     "text": [
      "0                                               （山黎）峒丸\n",
      "1                                                   丸剂\n",
      "2    三七, 血竭, 阿魏, 乳香(制), 没药(制), 藤黄(制), 天竺黄, 大黄, 儿茶, 冰片,\n",
      "3                            嚼碎后温开水或黄酒送服，一日１丸，外用酒磨涂患处。\n",
      "4                                                  扶正药\n",
      "Name: 0, dtype: object\n"
     ]
    },
    {
     "name": "stderr",
     "output_type": "stream",
     "text": [
      "C:\\Users\\15382\\AppData\\Local\\Temp\\ipykernel_198532\\764970698.py:31: FutureWarning: Passing literal html to 'read_html' is deprecated and will be removed in a future version. To read from a literal string, wrap it in a 'StringIO' object.\n",
      "  df = pd.read_html(data)[1]\n"
     ]
    },
    {
     "name": "stdout",
     "output_type": "stream",
     "text": [
      "0                                        醒脑安神胶囊\n",
      "1                                            胶囊\n",
      "2    连翘, 大黄, 黄连, 石膏, 石决明, 雄黄, 赭石, 磁石, 金银花, 天花粉,\n",
      "3          口服，一次2～4粒，一日三次，神经官能症者可适当增量或遵医嘱，小儿酌减。\n",
      "4                                           清热药\n",
      "Name: 0, dtype: object\n"
     ]
    },
    {
     "name": "stderr",
     "output_type": "stream",
     "text": [
      "C:\\Users\\15382\\AppData\\Local\\Temp\\ipykernel_198532\\764970698.py:31: FutureWarning: Passing literal html to 'read_html' is deprecated and will be removed in a future version. To read from a literal string, wrap it in a 'StringIO' object.\n",
      "  df = pd.read_html(data)[1]\n"
     ]
    },
    {
     "name": "stdout",
     "output_type": "stream",
     "text": [
      "0                                         醒脑降压丸\n",
      "1                                            丸剂\n",
      "2    黄芩, 黄连, 郁金, 栀子, 玄精石, 珍珠母, 辛夷, 零陵香, 朱砂, 雄黄,\n",
      "3                           口服，一次10～15粒，一日1～2次。\n",
      "4                                           化痰药\n",
      "Name: 0, dtype: object\n"
     ]
    },
    {
     "name": "stderr",
     "output_type": "stream",
     "text": [
      "C:\\Users\\15382\\AppData\\Local\\Temp\\ipykernel_198532\\764970698.py:31: FutureWarning: Passing literal html to 'read_html' is deprecated and will be removed in a future version. To read from a literal string, wrap it in a 'StringIO' object.\n",
      "  df = pd.read_html(data)[1]\n"
     ]
    },
    {
     "name": "stdout",
     "output_type": "stream",
     "text": [
      "0                                       醒脑再造胶囊\n",
      "1                                           胶囊\n",
      "2    黄芪, 淫羊藿, 石菖蒲, 红参, 当归, 地龙, 三七, 红花, 防已, 赤芍,\n",
      "3                                口服，一次4粒，一日2次。\n",
      "4                                          和血药\n",
      "Name: 0, dtype: object\n"
     ]
    },
    {
     "name": "stderr",
     "output_type": "stream",
     "text": [
      "C:\\Users\\15382\\AppData\\Local\\Temp\\ipykernel_198532\\764970698.py:31: FutureWarning: Passing literal html to 'read_html' is deprecated and will be removed in a future version. To read from a literal string, wrap it in a 'StringIO' object.\n",
      "  df = pd.read_html(data)[1]\n"
     ]
    },
    {
     "name": "stdout",
     "output_type": "stream",
     "text": [
      "0                                        醒脑再造丸\n",
      "1                                           丸剂\n",
      "2    黄芪, 淫羊藿, 石菖蒲, 红参, 当归, 地龙, 三七, 红花, 防已, 赤芍,\n",
      "3                              口服，一次1丸，一月2～3次。\n",
      "4                                          和血药\n",
      "Name: 0, dtype: object\n"
     ]
    },
    {
     "name": "stderr",
     "output_type": "stream",
     "text": [
      "C:\\Users\\15382\\AppData\\Local\\Temp\\ipykernel_198532\\764970698.py:31: FutureWarning: Passing literal html to 'read_html' is deprecated and will be removed in a future version. To read from a literal string, wrap it in a 'StringIO' object.\n",
      "  df = pd.read_html(data)[1]\n"
     ]
    },
    {
     "name": "stdout",
     "output_type": "stream",
     "text": [
      "0                                       芎菊上清颗粒\n",
      "1                                          颗粒剂\n",
      "2    川芎, 菊花, 黄芩, 白芷, 桔梗, 栀子, 连翘, 防风, 蔓荆子, 荆芥穗,\n",
      "3                             开水冲服，一次10g，一日3次。\n",
      "4                                          解表药\n",
      "Name: 0, dtype: object\n"
     ]
    },
    {
     "name": "stderr",
     "output_type": "stream",
     "text": [
      "C:\\Users\\15382\\AppData\\Local\\Temp\\ipykernel_198532\\764970698.py:31: FutureWarning: Passing literal html to 'read_html' is deprecated and will be removed in a future version. To read from a literal string, wrap it in a 'StringIO' object.\n",
      "  df = pd.read_html(data)[1]\n"
     ]
    },
    {
     "name": "stdout",
     "output_type": "stream",
     "text": [
      "0                                               （山黎）峒丸\n",
      "1                                                   丸剂\n",
      "2    三七, 血竭, 阿魏, 乳香(制), 没药(制), 藤黄(制), 天竺黄, 大黄, 儿茶, 冰片,\n",
      "3                            嚼碎后温开水或黄酒送服，一日１丸，外用酒磨涂患处。\n",
      "4                                                  扶正药\n",
      "Name: 0, dtype: object\n"
     ]
    },
    {
     "name": "stderr",
     "output_type": "stream",
     "text": [
      "C:\\Users\\15382\\AppData\\Local\\Temp\\ipykernel_198532\\764970698.py:31: FutureWarning: Passing literal html to 'read_html' is deprecated and will be removed in a future version. To read from a literal string, wrap it in a 'StringIO' object.\n",
      "  df = pd.read_html(data)[1]\n"
     ]
    },
    {
     "name": "stdout",
     "output_type": "stream",
     "text": [
      "0                                        芎菊上清丸\n",
      "1                                           丸剂\n",
      "2    川芎, 菊花, 黄芩, 栀子, 蔓荆子, 黄连, 薄荷, 连翘, 荆芥穗, 羌活,\n",
      "3                                口服，一次6g，一日2次。\n",
      "4                                          解表药\n",
      "Name: 0, dtype: object\n"
     ]
    },
    {
     "name": "stderr",
     "output_type": "stream",
     "text": [
      "C:\\Users\\15382\\AppData\\Local\\Temp\\ipykernel_198532\\764970698.py:31: FutureWarning: Passing literal html to 'read_html' is deprecated and will be removed in a future version. To read from a literal string, wrap it in a 'StringIO' object.\n",
      "  df = pd.read_html(data)[1]\n"
     ]
    },
    {
     "name": "stdout",
     "output_type": "stream",
     "text": [
      "0                                               （山黎）峒丸\n",
      "1                                                   丸剂\n",
      "2    三七, 血竭, 阿魏, 乳香(制), 没药(制), 藤黄(制), 天竺黄, 大黄, 儿茶, 冰片,\n",
      "3                            嚼碎后温开水或黄酒送服，一日１丸，外用酒磨涂患处。\n",
      "4                                                  扶正药\n",
      "Name: 0, dtype: object\n"
     ]
    },
    {
     "name": "stderr",
     "output_type": "stream",
     "text": [
      "C:\\Users\\15382\\AppData\\Local\\Temp\\ipykernel_198532\\764970698.py:31: FutureWarning: Passing literal html to 'read_html' is deprecated and will be removed in a future version. To read from a literal string, wrap it in a 'StringIO' object.\n",
      "  df = pd.read_html(data)[1]\n"
     ]
    },
    {
     "name": "stdout",
     "output_type": "stream",
     "text": [
      "0                   炎可宁片\n",
      "1                     片剂\n",
      "2    黄柏, 大黄, 黄芩, 板蓝根, 黄连\n",
      "3        口服，一次3～4片，一日3次。\n",
      "4                    清热药\n",
      "Name: 0, dtype: object\n"
     ]
    },
    {
     "name": "stderr",
     "output_type": "stream",
     "text": [
      "C:\\Users\\15382\\AppData\\Local\\Temp\\ipykernel_198532\\764970698.py:31: FutureWarning: Passing literal html to 'read_html' is deprecated and will be removed in a future version. To read from a literal string, wrap it in a 'StringIO' object.\n",
      "  df = pd.read_html(data)[1]\n"
     ]
    },
    {
     "name": "stdout",
     "output_type": "stream",
     "text": [
      "0                 羊痫风丸（羊痫风药）\n",
      "1                         丸剂\n",
      "2    白矾, 郁金, 金礞石, 全蝎, 黄连, 乌梅\n",
      "3                        NaN\n",
      "4                        化痰药\n",
      "Name: 0, dtype: object\n"
     ]
    },
    {
     "name": "stderr",
     "output_type": "stream",
     "text": [
      "C:\\Users\\15382\\AppData\\Local\\Temp\\ipykernel_198532\\764970698.py:31: FutureWarning: Passing literal html to 'read_html' is deprecated and will be removed in a future version. To read from a literal string, wrap it in a 'StringIO' object.\n",
      "  df = pd.read_html(data)[1]\n"
     ]
    },
    {
     "name": "stdout",
     "output_type": "stream",
     "text": [
      "0                                         养心氏片\n",
      "1                                           片剂\n",
      "2    黄芪, 党参, 丹参, 葛根, 淫羊藿, 山楂, 地黄, 当归, 黄连, 延胡索,\n",
      "3                                          NaN\n",
      "4                                          和血药\n",
      "Name: 0, dtype: object\n"
     ]
    },
    {
     "name": "stderr",
     "output_type": "stream",
     "text": [
      "C:\\Users\\15382\\AppData\\Local\\Temp\\ipykernel_198532\\764970698.py:31: FutureWarning: Passing literal html to 'read_html' is deprecated and will be removed in a future version. To read from a literal string, wrap it in a 'StringIO' object.\n",
      "  df = pd.read_html(data)[1]\n"
     ]
    },
    {
     "name": "stdout",
     "output_type": "stream",
     "text": [
      "0                   一清颗粒\n",
      "1                    颗粒剂\n",
      "2             黄连, 大黄, 黄芩\n",
      "3    开水冲服，一次7.5克，一日3～4次。\n",
      "4                    清热药\n",
      "Name: 0, dtype: object\n"
     ]
    },
    {
     "name": "stderr",
     "output_type": "stream",
     "text": [
      "C:\\Users\\15382\\AppData\\Local\\Temp\\ipykernel_198532\\764970698.py:31: FutureWarning: Passing literal html to 'read_html' is deprecated and will be removed in a future version. To read from a literal string, wrap it in a 'StringIO' object.\n",
      "  df = pd.read_html(data)[1]\n"
     ]
    },
    {
     "name": "stdout",
     "output_type": "stream",
     "text": [
      "0                萸连片\n",
      "1                 片剂\n",
      "2        黄连, 吴茱萸, 木香\n",
      "3    口服，一次5～8片，一日3次。\n",
      "4                清热药\n",
      "Name: 0, dtype: object\n"
     ]
    },
    {
     "name": "stderr",
     "output_type": "stream",
     "text": [
      "C:\\Users\\15382\\AppData\\Local\\Temp\\ipykernel_198532\\764970698.py:31: FutureWarning: Passing literal html to 'read_html' is deprecated and will be removed in a future version. To read from a literal string, wrap it in a 'StringIO' object.\n",
      "  df = pd.read_html(data)[1]\n"
     ]
    },
    {
     "name": "stdout",
     "output_type": "stream",
     "text": [
      "0                                               （山黎）峒丸\n",
      "1                                                   丸剂\n",
      "2    三七, 血竭, 阿魏, 乳香(制), 没药(制), 藤黄(制), 天竺黄, 大黄, 儿茶, 冰片,\n",
      "3                            嚼碎后温开水或黄酒送服，一日１丸，外用酒磨涂患处。\n",
      "4                                                  扶正药\n",
      "Name: 0, dtype: object\n"
     ]
    },
    {
     "name": "stderr",
     "output_type": "stream",
     "text": [
      "C:\\Users\\15382\\AppData\\Local\\Temp\\ipykernel_198532\\764970698.py:31: FutureWarning: Passing literal html to 'read_html' is deprecated and will be removed in a future version. To read from a literal string, wrap it in a 'StringIO' object.\n",
      "  df = pd.read_html(data)[1]\n"
     ]
    },
    {
     "name": "stdout",
     "output_type": "stream",
     "text": [
      "0                                         育婴丸\n",
      "1                                          丸剂\n",
      "2    天竺黄, 朱砂, 僵蚕, 薄荷, 黄连, 血竭, 雄黄, 山药, 全竭, 牛黄,\n",
      "3                                         NaN\n",
      "4                                         化痰药\n",
      "Name: 0, dtype: object\n"
     ]
    },
    {
     "name": "stderr",
     "output_type": "stream",
     "text": [
      "C:\\Users\\15382\\AppData\\Local\\Temp\\ipykernel_198532\\764970698.py:31: FutureWarning: Passing literal html to 'read_html' is deprecated and will be removed in a future version. To read from a literal string, wrap it in a 'StringIO' object.\n",
      "  df = pd.read_html(data)[1]\n"
     ]
    },
    {
     "name": "stdout",
     "output_type": "stream",
     "text": [
      "0                                  孕妇金花片\n",
      "1                                     片剂\n",
      "2    栀子, 金银花, 当归, 白芍, 川芎, 地黄, 黄芩, 黄柏, 黄连\n",
      "3                          口服，一次4片，一日2次。\n",
      "4                                    清热药\n",
      "Name: 0, dtype: object\n"
     ]
    },
    {
     "name": "stderr",
     "output_type": "stream",
     "text": [
      "C:\\Users\\15382\\AppData\\Local\\Temp\\ipykernel_198532\\764970698.py:31: FutureWarning: Passing literal html to 'read_html' is deprecated and will be removed in a future version. To read from a literal string, wrap it in a 'StringIO' object.\n",
      "  df = pd.read_html(data)[1]\n"
     ]
    },
    {
     "name": "stdout",
     "output_type": "stream",
     "text": [
      "0                                               （山黎）峒丸\n",
      "1                                                   丸剂\n",
      "2    三七, 血竭, 阿魏, 乳香(制), 没药(制), 藤黄(制), 天竺黄, 大黄, 儿茶, 冰片,\n",
      "3                            嚼碎后温开水或黄酒送服，一日１丸，外用酒磨涂患处。\n",
      "4                                                  扶正药\n",
      "Name: 0, dtype: object\n"
     ]
    },
    {
     "name": "stderr",
     "output_type": "stream",
     "text": [
      "C:\\Users\\15382\\AppData\\Local\\Temp\\ipykernel_198532\\764970698.py:31: FutureWarning: Passing literal html to 'read_html' is deprecated and will be removed in a future version. To read from a literal string, wrap it in a 'StringIO' object.\n",
      "  df = pd.read_html(data)[1]\n"
     ]
    },
    {
     "name": "stdout",
     "output_type": "stream",
     "text": [
      "0                                        长春烫伤膏\n",
      "1                                           膏剂\n",
      "2    银朱, 冰片, 人发, 龙骨, 苦杏仁, 大黄, 火麻仁, 黄连, 虫白蜡, 豆油\n",
      "3                                外用，涂敷患处，一日1次。\n",
      "4                                          清热药\n",
      "Name: 0, dtype: object\n"
     ]
    },
    {
     "name": "stderr",
     "output_type": "stream",
     "text": [
      "C:\\Users\\15382\\AppData\\Local\\Temp\\ipykernel_198532\\764970698.py:31: FutureWarning: Passing literal html to 'read_html' is deprecated and will be removed in a future version. To read from a literal string, wrap it in a 'StringIO' object.\n",
      "  df = pd.read_html(data)[1]\n"
     ]
    },
    {
     "name": "stdout",
     "output_type": "stream",
     "text": [
      "0                                         珍珠消积丸\n",
      "1                                            丸剂\n",
      "2    珍珠, 牛黄, 黄连, 胆南星, 天竺黄, 川贝母, 全蝎, 僵蚕, 玄参, 雄黄,\n",
      "3                                           NaN\n",
      "4                                           化痰药\n",
      "Name: 0, dtype: object\n"
     ]
    },
    {
     "name": "stderr",
     "output_type": "stream",
     "text": [
      "C:\\Users\\15382\\AppData\\Local\\Temp\\ipykernel_198532\\764970698.py:31: FutureWarning: Passing literal html to 'read_html' is deprecated and will be removed in a future version. To read from a literal string, wrap it in a 'StringIO' object.\n",
      "  df = pd.read_html(data)[1]\n"
     ]
    },
    {
     "name": "stdout",
     "output_type": "stream",
     "text": [
      "0                                        镇心安神丸\n",
      "1                                           丸剂\n",
      "2    朱砂, 黄连, 甘草, 当归, 生龙齿, 茯苓, 熟地黄, 地黄, 黄芪, 远志,\n",
      "3                                          NaN\n",
      "4                                          补益药\n",
      "Name: 0, dtype: object\n"
     ]
    },
    {
     "name": "stderr",
     "output_type": "stream",
     "text": [
      "C:\\Users\\15382\\AppData\\Local\\Temp\\ipykernel_198532\\764970698.py:31: FutureWarning: Passing literal html to 'read_html' is deprecated and will be removed in a future version. To read from a literal string, wrap it in a 'StringIO' object.\n",
      "  df = pd.read_html(data)[1]\n"
     ]
    },
    {
     "name": "stdout",
     "output_type": "stream",
     "text": [
      "0                                               （山黎）峒丸\n",
      "1                                                   丸剂\n",
      "2    三七, 血竭, 阿魏, 乳香(制), 没药(制), 藤黄(制), 天竺黄, 大黄, 儿茶, 冰片,\n",
      "3                            嚼碎后温开水或黄酒送服，一日１丸，外用酒磨涂患处。\n",
      "4                                                  扶正药\n",
      "Name: 0, dtype: object\n"
     ]
    },
    {
     "name": "stderr",
     "output_type": "stream",
     "text": [
      "C:\\Users\\15382\\AppData\\Local\\Temp\\ipykernel_198532\\764970698.py:31: FutureWarning: Passing literal html to 'read_html' is deprecated and will be removed in a future version. To read from a literal string, wrap it in a 'StringIO' object.\n",
      "  df = pd.read_html(data)[1]\n"
     ]
    },
    {
     "name": "stdout",
     "output_type": "stream",
     "text": [
      "0                       止痢冲剂\n",
      "1                        颗粒剂\n",
      "2    葛根, 黄连, 黄芩, 木香, 槟榔, 地锦草\n",
      "3                        NaN\n",
      "4                        化湿药\n",
      "Name: 0, dtype: object\n"
     ]
    },
    {
     "name": "stderr",
     "output_type": "stream",
     "text": [
      "C:\\Users\\15382\\AppData\\Local\\Temp\\ipykernel_198532\\764970698.py:31: FutureWarning: Passing literal html to 'read_html' is deprecated and will be removed in a future version. To read from a literal string, wrap it in a 'StringIO' object.\n",
      "  df = pd.read_html(data)[1]\n"
     ]
    },
    {
     "name": "stdout",
     "output_type": "stream",
     "text": [
      "0                                       止泻保童冲剂\n",
      "1                                          颗粒剂\n",
      "2    人参, 白术, 茯苓, 白扁豆, 苍术, 广藿香, 木香, 丁香, 檀香, 砂仁,\n",
      "3                                          NaN\n",
      "4                                          化湿药\n",
      "Name: 0, dtype: object\n"
     ]
    },
    {
     "name": "stderr",
     "output_type": "stream",
     "text": [
      "C:\\Users\\15382\\AppData\\Local\\Temp\\ipykernel_198532\\764970698.py:31: FutureWarning: Passing literal html to 'read_html' is deprecated and will be removed in a future version. To read from a literal string, wrap it in a 'StringIO' object.\n",
      "  df = pd.read_html(data)[1]\n"
     ]
    },
    {
     "name": "stdout",
     "output_type": "stream",
     "text": [
      "0                                      枳实消痞丸\n",
      "1                                         丸剂\n",
      "2    枳实, 白术, 法半夏, 黄连, 党参, 甘草, 茯苓, 厚朴, 麦芽, 干姜\n",
      "3                              口服，一次6g，一日3次。\n",
      "4                                        化湿药\n",
      "Name: 0, dtype: object\n"
     ]
    },
    {
     "name": "stderr",
     "output_type": "stream",
     "text": [
      "C:\\Users\\15382\\AppData\\Local\\Temp\\ipykernel_198532\\764970698.py:31: FutureWarning: Passing literal html to 'read_html' is deprecated and will be removed in a future version. To read from a literal string, wrap it in a 'StringIO' object.\n",
      "  df = pd.read_html(data)[1]\n"
     ]
    },
    {
     "name": "stdout",
     "output_type": "stream",
     "text": [
      "0                           痔疮外洗药\n",
      "1                              粉剂\n",
      "2    芒硝, 花椒, 防风, 黄连, 鱼腥草, 五倍子, 甘草\n",
      "3                      装入布袋，煎水熏洗。\n",
      "4                             清热药\n",
      "Name: 0, dtype: object\n"
     ]
    },
    {
     "name": "stderr",
     "output_type": "stream",
     "text": [
      "C:\\Users\\15382\\AppData\\Local\\Temp\\ipykernel_198532\\764970698.py:31: FutureWarning: Passing literal html to 'read_html' is deprecated and will be removed in a future version. To read from a literal string, wrap it in a 'StringIO' object.\n",
      "  df = pd.read_html(data)[1]\n"
     ]
    },
    {
     "name": "stdout",
     "output_type": "stream",
     "text": [
      "0                                      中风再造丸\n",
      "1                                         丸剂\n",
      "2    黄芪, 当归, 川芎, 桃仁, 红花, 地龙, 丹参, 血竭, 三七, 乳香,\n",
      "3                            口服。一次7.5g，一日二次。\n",
      "4                                        和血药\n",
      "Name: 0, dtype: object\n"
     ]
    },
    {
     "name": "stderr",
     "output_type": "stream",
     "text": [
      "C:\\Users\\15382\\AppData\\Local\\Temp\\ipykernel_198532\\764970698.py:31: FutureWarning: Passing literal html to 'read_html' is deprecated and will be removed in a future version. To read from a literal string, wrap it in a 'StringIO' object.\n",
      "  df = pd.read_html(data)[1]\n"
     ]
    },
    {
     "name": "stdout",
     "output_type": "stream",
     "text": [
      "0                                               （山黎）峒丸\n",
      "1                                                   丸剂\n",
      "2    三七, 血竭, 阿魏, 乳香(制), 没药(制), 藤黄(制), 天竺黄, 大黄, 儿茶, 冰片,\n",
      "3                            嚼碎后温开水或黄酒送服，一日１丸，外用酒磨涂患处。\n",
      "4                                                  扶正药\n",
      "Name: 0, dtype: object\n"
     ]
    },
    {
     "name": "stderr",
     "output_type": "stream",
     "text": [
      "C:\\Users\\15382\\AppData\\Local\\Temp\\ipykernel_198532\\764970698.py:31: FutureWarning: Passing literal html to 'read_html' is deprecated and will be removed in a future version. To read from a literal string, wrap it in a 'StringIO' object.\n",
      "  df = pd.read_html(data)[1]\n"
     ]
    },
    {
     "name": "stdout",
     "output_type": "stream",
     "text": [
      "0                 朱砂安神片\n",
      "1                    片剂\n",
      "2    朱砂, 黄连, 地黄, 当归, 甘草\n",
      "3       口服，一次4～5片，一日2次。\n",
      "4                   安神药\n",
      "Name: 0, dtype: object\n"
     ]
    },
    {
     "name": "stderr",
     "output_type": "stream",
     "text": [
      "C:\\Users\\15382\\AppData\\Local\\Temp\\ipykernel_198532\\764970698.py:31: FutureWarning: Passing literal html to 'read_html' is deprecated and will be removed in a future version. To read from a literal string, wrap it in a 'StringIO' object.\n",
      "  df = pd.read_html(data)[1]\n"
     ]
    },
    {
     "name": "stdout",
     "output_type": "stream",
     "text": [
      "0                                               （山黎）峒丸\n",
      "1                                                   丸剂\n",
      "2    三七, 血竭, 阿魏, 乳香(制), 没药(制), 藤黄(制), 天竺黄, 大黄, 儿茶, 冰片,\n",
      "3                            嚼碎后温开水或黄酒送服，一日１丸，外用酒磨涂患处。\n",
      "4                                                  扶正药\n",
      "Name: 0, dtype: object\n"
     ]
    },
    {
     "name": "stderr",
     "output_type": "stream",
     "text": [
      "C:\\Users\\15382\\AppData\\Local\\Temp\\ipykernel_198532\\764970698.py:31: FutureWarning: Passing literal html to 'read_html' is deprecated and will be removed in a future version. To read from a literal string, wrap it in a 'StringIO' object.\n",
      "  df = pd.read_html(data)[1]\n"
     ]
    },
    {
     "name": "stdout",
     "output_type": "stream",
     "text": [
      "0                                               （山黎）峒丸\n",
      "1                                                   丸剂\n",
      "2    三七, 血竭, 阿魏, 乳香(制), 没药(制), 藤黄(制), 天竺黄, 大黄, 儿茶, 冰片,\n",
      "3                            嚼碎后温开水或黄酒送服，一日１丸，外用酒磨涂患处。\n",
      "4                                                  扶正药\n",
      "Name: 0, dtype: object\n"
     ]
    },
    {
     "name": "stderr",
     "output_type": "stream",
     "text": [
      "C:\\Users\\15382\\AppData\\Local\\Temp\\ipykernel_198532\\764970698.py:31: FutureWarning: Passing literal html to 'read_html' is deprecated and will be removed in a future version. To read from a literal string, wrap it in a 'StringIO' object.\n",
      "  df = pd.read_html(data)[1]\n"
     ]
    },
    {
     "name": "stdout",
     "output_type": "stream",
     "text": [
      "0                驻车丸\n",
      "1                 丸剂\n",
      "2     黄连, 炮姜, 当归, 阿胶\n",
      "3    口服，一次6～9g，一日3次。\n",
      "4                清热药\n",
      "Name: 0, dtype: object\n"
     ]
    },
    {
     "name": "stderr",
     "output_type": "stream",
     "text": [
      "C:\\Users\\15382\\AppData\\Local\\Temp\\ipykernel_198532\\764970698.py:31: FutureWarning: Passing literal html to 'read_html' is deprecated and will be removed in a future version. To read from a literal string, wrap it in a 'StringIO' object.\n",
      "  df = pd.read_html(data)[1]\n"
     ]
    },
    {
     "name": "stdout",
     "output_type": "stream",
     "text": [
      "0                                        追风壮骨膏\n",
      "1                                           膏剂\n",
      "2    川芎, 大黄, 天麻, 地黄, 栀子, 川乌, 熟地黄, 薄荷, 白芷, 关木通,\n",
      "3                                          NaN\n",
      "4                                          化湿药\n",
      "Name: 0, dtype: object\n"
     ]
    },
    {
     "name": "stderr",
     "output_type": "stream",
     "text": [
      "C:\\Users\\15382\\AppData\\Local\\Temp\\ipykernel_198532\\764970698.py:31: FutureWarning: Passing literal html to 'read_html' is deprecated and will be removed in a future version. To read from a literal string, wrap it in a 'StringIO' object.\n",
      "  df = pd.read_html(data)[1]\n"
     ]
    },
    {
     "name": "stdout",
     "output_type": "stream",
     "text": [
      "0                                             资生丸（浓缩丸）\n",
      "1                                                   丸剂\n",
      "2    党参(炒), 白术(炒), 山药, 茯苓, 山楂(炭), 六神曲, 麦芽(焦), 薏苡仁, ...\n",
      "3                                       口服，一次10丸，一日3次。\n",
      "4                                                  扶正药\n",
      "Name: 0, dtype: object\n",
      "0                                                冰连滴耳剂\n",
      "1                                                  滴耳剂\n",
      "2                              黄连, 枯矾, 冰片, 明矾, 龙骨, 海螵蛸\n",
      "3    先用棉签蘸3%双氧水清洗患耳耳道，然后用干棉签拭干外耳道。患耳向上，将耳廊向上后方轻轻牵拉，...\n",
      "4                                                  燥湿药\n",
      "                           ...                        \n",
      "0                                             资生丸（浓缩丸）\n",
      "1                                                   丸剂\n",
      "2    党参(炒), 白术(炒), 山药, 茯苓, 山楂(炭), 六神曲, 麦芽(焦), 薏苡仁, ...\n",
      "3                                       口服，一次10丸，一日3次。\n",
      "4                                                  扶正药\n",
      "Name: 0, Length: 2270, dtype: object\n"
     ]
    }
   ],
   "source": [
    "## 下载英文的靶标-中成药、靶标-化合物、靶标-方剂关系\n",
    "from selenium import webdriver\n",
    "import time\n",
    "import pandas as pd\n",
    "from selenium.webdriver.edge.service import Service\n",
    "from selenium.webdriver.common.by import By\n",
    "from selenium.webdriver import ActionChains\n",
    "from selenium.webdriver.common.keys import Keys\n",
    "ser = Service()\n",
    "ser.path=r\"D:\\miniconda3\\envs\\pytorch\\chromedriver.exe\"\n",
    "browser = webdriver.Chrome(service=ser)\n",
    "\n",
    "browser.get(\"http://www.tcmip.cn/ETCM2/front/#/browse/chinese_patent_drug\")\n",
    "time.sleep(10)\n",
    "browser.find_element(By.LINK_TEXT,\"简体中文\").click()\n",
    "time.sleep(10)\n",
    "# data = browser.page_source\n",
    "# dfs0 = pd.read_html(data)[1]\n",
    "# dfs0 = pd.read_html(data)[3]\n",
    "# dfs1 = dfs0.columns\n",
    "# print(dfs1)\n",
    "dfs = []\n",
    "# time.sleep(10)\n",
    "for i in range(454\n",
    "               ):\n",
    "    query = browser.find_element(By.XPATH,\"//*[@id=\\\"alltable\\\"]/div[1]/div[1]/div/input\")\n",
    "    query.send_keys(col_data[i])\n",
    "    # query.send_keys(Keys.RETURN)\n",
    "    time.sleep(2)\n",
    "    data = browser.page_source\n",
    "    df = pd.read_html(data)[1]\n",
    "    df = df.iloc[0]\n",
    "    print(df)\n",
    "    dfs.append(df)\n",
    "    time.sleep(2)\n",
    "    query1 = browser.find_element(By.XPATH,\"//*[@id=\\\"alltable\\\"]/div[1]/div[1]/div/input\")\n",
    "    query1.send_keys(Keys.CONTROL, \"a\")\n",
    "    query1.send_keys(Keys.BACKSPACE)\n",
    "    time.sleep(3)\n",
    "result = pd.concat(dfs)\n",
    "# result.columns = dfs1\n",
    "print(result)\n",
    "result.to_excel(r\"./all_drug.xlsx\")"
   ]
  },
  {
   "cell_type": "code",
   "execution_count": null,
   "metadata": {},
   "outputs": [],
   "source": [
    "## 下载英文的中成药-化合物关系\n",
    "from selenium import webdriver\n",
    "import time\n",
    "import pandas as pd\n",
    "from selenium.webdriver.edge.service import Service\n",
    "from selenium.webdriver.common.by import By\n",
    "from selenium.webdriver import ActionChains\n",
    "from selenium.webdriver.common.keys import Keys\n",
    "from selenium.webdriver.edge.service import Service\n",
    "ser = Service()\n",
    "ser.path = r'D:\\miniconda3\\envs\\pytorch\\chromedriver.exe'\n",
    "browser = webdriver.Chrome(service=ser)\n",
    "\n",
    "# browser = webdriver.Chrome()\n",
    "\n",
    "browser.get(\"http://www.tcmip.cn/ETCM2/front/#/Detail/ingredient/Zosimin\")\n",
    "time.sleep(10)\n",
    "# browser.find_element(By.LINK_TEXT,\"简体中文\").click()\n",
    "# time.sleep(25)\n",
    "\n",
    "\n",
    "data = browser.page_source  \n",
    "# dfs0 = pd.read_html(data)[20]\n",
    "# dfs0 = pd.read_html(data)[1]\n",
    "# dfs1 = dfs0.columns\n",
    "# print(dfs1)\n",
    "dfs = []\n",
    "for i in range(49\n",
    "               ):\n",
    "    time.sleep(4)\n",
    "    data = browser.page_source\n",
    "    df = pd.read_html(data)[21]\n",
    "    # df = pd.read_html(data)[19]\n",
    "    print(df)\n",
    "    # df = pd.read_html(data)[2]\n",
    "    browser.find_element(By.XPATH,\"//*[@id=\\\"alltable\\\"]/div[3]/div/button[2]\").click()\n",
    "    # browser.find_element(By.XPATH,\"/html/body/div[1]/div/section/section/div/div/div[2]/div[3]/div[3]/div[2]/div[2]/div/div/div[3]/div/button[2]\").click()\n",
    "    dfs.append(df)\n",
    "result = pd.concat(dfs)\n",
    "# result.columns = dfs1\n",
    "print(result)\n",
    "result.to_excel(r\"./ingredient-formula0.xlsx\")"
   ]
  },
  {
   "cell_type": "code",
   "execution_count": null,
   "metadata": {},
   "outputs": [],
   "source": [
    "## 下载英文的中成药-化合物关系\n",
    "from selenium import webdriver\n",
    "import time\n",
    "import pandas as pd\n",
    "from selenium.webdriver.edge.service import Service\n",
    "from selenium.webdriver.common.by import By\n",
    "from selenium.webdriver import ActionChains\n",
    "from selenium.webdriver.common.keys import Keys\n",
    "\n",
    "browser = webdriver.Chrome()\n",
    "\n",
    "browser.get(\"http://www.tcmip.cn/ETCM2/front/#/Detail/target/KDM1A\")\n",
    "time.sleep(10)\n",
    "# browser.find_element(By.LINK_TEXT,\"简体中文\").click()\n",
    "time.sleep(25)\n",
    "\n",
    "\n",
    "data = browser.page_source\n",
    "dfs0 = pd.read_html(data)[1]\n",
    "# dfs0 = pd.read_html(data)[3]\n",
    "dfs1 = dfs0.columns\n",
    "print(dfs1)\n",
    "dfs = []\n",
    "query = browser.find_element(By.XPATH,\"//*[@id=\\\"alltable\\\"]/div[1]/div[1]/div/input\")\n",
    "\n",
    "query.send_keys(\"huanglian\")\n",
    "query.send_keys(Keys.RETURN)\n",
    "time.sleep(10)\n",
    "for i in range(26\n",
    "               ):\n",
    "    time.sleep(4)\n",
    "    data = browser.page_source\n",
    "    df = pd.read_html(data)[2]\n",
    "    # df = pd.read_html(data)[4]\n",
    "    browser.find_element(By.XPATH,\"//*[@id=\\\"alltable\\\"]/div[3]/div/button[2]\").click()\n",
    "    # browser.find_element(By.XPATH,\"/html/body/div[1]/div/section/section/div/div/div[2]/div[3]/div[3]/div[2]/div[2]/div/div/div[3]/div/button[2]\").click()\n",
    "    dfs.append(df)\n",
    "result = pd.concat(dfs)\n",
    "result.columns = dfs1\n",
    "print(result)\n",
    "result.to_excel(r\"./target-formula0.xlsx\")\n",
    "\n",
    "# # ## 仅一面\n",
    "# # time.sleep(1)\n",
    "# # # element = browser.find_element(By.CSS_SELECTOR,'input[value=\"化学成分谱\"]')\n",
    "# # element = browser.find_element(By.CSS_SELECTOR,'input[value=\"Ingredients\"]')\n",
    "# # webdriver.ActionChains(browser).move_to_element(element ).click(element ).perform()\n",
    "# # time.sleep(2)\n",
    "# # data = browser.page_source\n",
    "# # dfs0 = pd.read_html(data)[1]\n",
    "# # dfs1 = dfs0.columns\n",
    "# # dfs = []\n",
    "# # df = pd.read_html(data)[2]\n",
    "# # # browser.find_element(By.XPATH,\"//*[@id=\\\"alltable\\\"]/div[3]/div/button[2]\").click()\n",
    "# # dfs.append(df)\n",
    "# # result = pd.concat(dfs)\n",
    "# # result.columns = dfs1\n",
    "# # print(result)\n",
    "# # # result.to_excel(r\"./爬取文件/化学成分谱.xlsx\")\n",
    "# # result.to_excel(r\"./target-ingredient0.xlsx\")\n",
    "\n",
    "## 大于一面\n",
    "time.sleep(1)\n",
    "element = browser.find_element(By.CSS_SELECTOR,'input[value=\"Ingredients\"]')\n",
    "webdriver.ActionChains(browser).move_to_element(element ).click(element ).perform()\n",
    "time.sleep(2)\n",
    "data = browser.page_source\n",
    "dfs0 = pd.read_html(data)[1]\n",
    "# dfs0 = pd.read_html(data)[3]\n",
    "dfs1 = dfs0.columns\n",
    "dfs = []\n",
    "for i in range(37\n",
    "               ):\n",
    "    time.sleep(6)\n",
    "    data = browser.page_source\n",
    "    df = pd.read_html(data)[2]\n",
    "    # df = pd.read_html(data)[4]\n",
    "    browser.find_element(By.XPATH,\"//*[@id=\\\"alltable\\\"]/div[3]/div/button[2]\").click()\n",
    "    # browser.find_element(By.XPATH,\"/html/body/div[1]/div/section/section/div/div/div[2]/div[3]/div[3]/div[2]/div[5]/div/div/div[3]/div/button[2]\").click()\n",
    "    \n",
    "    dfs.append(df)\n",
    "result = pd.concat(dfs)\n",
    "result.columns = dfs1\n",
    "print(result)\n",
    "result.to_excel(r\"./target-ingredient0.xlsx\")\n",
    "\n",
    "time.sleep(5)\n",
    "element = browser.find_element(By.CSS_SELECTOR,'input[value=\"Traditional Chinese Medicine Formulas\"]')\n",
    "webdriver.ActionChains(browser).move_to_element(element ).click(element ).perform()\n",
    "time.sleep(3)\n",
    "data = browser.page_source\n",
    "dfs0 = pd.read_html(data)[1]\n",
    "# dfs0 = pd.read_html(data)[3]\n",
    "dfs1 = dfs0.columns\n",
    "dfs = []\n",
    "query = browser.find_element(By.XPATH,\"//*[@id=\\\"alltable\\\"]/div[1]/div[1]/div/input\")\n",
    "query.send_keys(\"huanglian\")\n",
    "query.send_keys(Keys.RETURN)\n",
    "time.sleep(4)\n",
    "for i in range(235\n",
    "               ):\n",
    "    time.sleep(5)\n",
    "    data = browser.page_source\n",
    "    df = pd.read_html(data)[2]\n",
    "    # df = pd.read_html(data)[4]\n",
    "    browser.find_element(By.XPATH,\"//*[@id=\\\"alltable\\\"]/div[3]/div/button[2]\").click()\n",
    "    # browser.find_element(By.XPATH,\"/html/body/div[1]/div/section/section/div/div/div[2]/div[3]/div[3]/div[2]/div[3]/div/div/div[3]/div/button[2]\").click()\n",
    "    \n",
    "    dfs.append(df)\n",
    "result = pd.concat(dfs)\n",
    "result.columns = dfs1\n",
    "print(result)\n",
    "result.to_excel(r\"./target-traditional0.xlsx\")\n"
   ]
  },
  {
   "cell_type": "code",
   "execution_count": null,
   "metadata": {},
   "outputs": [],
   "source": [
    "## 下载中文的靶标-中成药、靶标-方剂关系\n",
    "from selenium import webdriver\n",
    "import time\n",
    "import pandas as pd\n",
    "from selenium.webdriver.edge.service import Service\n",
    "from selenium.webdriver.common.by import By\n",
    "from selenium.webdriver import ActionChains\n",
    "from selenium.webdriver.common.keys import Keys\n",
    "\n",
    "browser = webdriver.Chrome()\n",
    "\n",
    "browser.get(\"http://www.tcmip.cn/ETCM2/front/#/Detail/target/KDM1A\")\n",
    "time.sleep(10)\n",
    "browser.find_element(By.LINK_TEXT,\"简体中文\").click()\n",
    "time.sleep(35)\n",
    "\n",
    "\n",
    "\n",
    "data = browser.page_source\n",
    "dfs0 = pd.read_html(data)[1]\n",
    "# dfs0 = pd.read_html(data)[3]\n",
    "dfs1 = dfs0.columns\n",
    "print(dfs1)\n",
    "dfs = []\n",
    "query = browser.find_element(By.XPATH,\"//*[@id=\\\"alltable\\\"]/div[1]/div[1]/div/input\")\n",
    "query.send_keys(\"黄连\")\n",
    "query.send_keys(Keys.RETURN)\n",
    "time.sleep(10)\n",
    "for i in range(27\n",
    "               ):\n",
    "    time.sleep(4)\n",
    "    data = browser.page_source\n",
    "    df = pd.read_html(data)[2]\n",
    "    # df = pd.read_html(data)[4]\n",
    "    browser.find_element(By.XPATH,\"//*[@id=\\\"alltable\\\"]/div[3]/div/button[2]\").click()\n",
    "    # browser.find_element(By.XPATH,\"/html/body/div[1]/div/section/section/div/div/div[2]/div[3]/div[3]/div[2]/div[2]/div/div/div[3]/div/button[2]\").click()\n",
    "    \n",
    "    dfs.append(df)\n",
    "result = pd.concat(dfs)\n",
    "result.columns = dfs1\n",
    "print(result)\n",
    "result.to_excel(r\"./CHN_target-formula0.xlsx\")\n",
    "\n",
    "time.sleep(4)\n",
    "element = browser.find_element(By.CSS_SELECTOR,'input[value=\"相关中药古籍方剂列表\"]')\n",
    "webdriver.ActionChains(browser).move_to_element(element ).click(element ).perform()\n",
    "time.sleep(3)\n",
    "data = browser.page_source\n",
    "dfs0 = pd.read_html(data)[1]\n",
    "# dfs0 = pd.read_html(data)[3]\n",
    "dfs1 = dfs0.columns\n",
    "dfs = []\n",
    "query = browser.find_element(By.XPATH,\"//*[@id=\\\"alltable\\\"]/div[1]/div[1]/div/input\")\n",
    "query.send_keys(\"黄连\")\n",
    "query.send_keys(Keys.RETURN)\n",
    "time.sleep(12)\n",
    "for i in range(235\n",
    "               ):\n",
    "    time.sleep(5)\n",
    "    data = browser.page_source\n",
    "    df = pd.read_html(data)[2]\n",
    "    # df = pd.read_html(data)[4]\n",
    "    browser.find_element(By.XPATH,\"//*[@id=\\\"alltable\\\"]/div[3]/div/button[2]\").click()\n",
    "    # browser.find_element(By.XPATH,\"/html/body/div[1]/div/section/section/div/div/div[2]/div[3]/div[3]/div[2]/div[3]/div/div/div[3]/div/button[2]\").click()\n",
    "    \n",
    "    dfs.append(df)\n",
    "result = pd.concat(dfs)\n",
    "result.columns = dfs1\n",
    "print(result)\n",
    "result.to_excel(r\"./CHN_target-traditional0.xlsx\")\n"
   ]
  },
  {
   "cell_type": "code",
   "execution_count": null,
   "metadata": {},
   "outputs": [],
   "source": [
    "# 02 相关中药古籍方剂列表\n",
    "time.sleep(1)\n",
    "# element = browser.find_element(By.CSS_SELECTOR,'input[value=\"相关中药古籍方剂列表\"]')\n",
    "element = browser.find_element(By.CSS_SELECTOR,'input[value=\"Traditional Chinese Medicine Formulas\"]')\n",
    "webdriver.ActionChains(browser).move_to_element(element ).click(element ).perform()\n",
    "time.sleep(2)\n",
    "data = browser.page_source\n",
    "dfs0 = pd.read_html(data)[1]\n",
    "dfs1 = dfs0.columns\n",
    "print(dfs1)\n",
    "dfs = []\n",
    "for i in range():\n",
    "    time.sleep(2)\n",
    "    data = browser.page_source\n",
    "    df = pd.read_html(data)[2]\n",
    "    browser.find_element(By.XPATH,\"//*[@id=\\\"alltable\\\"]/div[3]/div/button[2]\").click()\n",
    "    dfs.append(df)\n",
    "result = pd.concat(dfs)\n",
    "result.columns = dfs1\n",
    "print(result)\n",
    "# result.to_excel(r\"./爬取文件/相关中药古籍方剂列表.xlsx\")\n",
    "result.to_excel(r\"./爬取文件/Eng_相关中药古籍方剂列表.xlsx\")\n"
   ]
  },
  {
   "cell_type": "code",
   "execution_count": null,
   "metadata": {},
   "outputs": [],
   "source": [
    "# 03 化学成分谱\n",
    "time.sleep(1)\n",
    "# element = browser.find_element(By.CSS_SELECTOR,'input[value=\"化学成分谱\"]')\n",
    "element = browser.find_element(By.CSS_SELECTOR,'input[value=\"Ingredients\"]')\n",
    "webdriver.ActionChains(browser).move_to_element(element ).click(element ).perform()\n",
    "time.sleep(2)\n",
    "data = browser.page_source\n",
    "dfs0 = pd.read_html(data)[1]\n",
    "dfs1 = dfs0.columns\n",
    "print(dfs1)\n",
    "dfs = []\n",
    "for i in range(3):\n",
    "    time.sleep(2)\n",
    "    data = browser.page_source\n",
    "    df = pd.read_html(data)[2]\n",
    "    browser.find_element(By.XPATH,\"//*[@id=\\\"alltable\\\"]/div[3]/div/button[2]\").click()\n",
    "    dfs.append(df)\n",
    "result = pd.concat(dfs)\n",
    "result.columns = dfs1\n",
    "print(result)\n",
    "# result.to_excel(r\"./爬取文件/化学成分谱.xlsx\")\n",
    "result.to_excel(r\"./爬取文件/Eng_化学成分谱.xlsx\")"
   ]
  },
  {
   "cell_type": "code",
   "execution_count": null,
   "metadata": {},
   "outputs": [],
   "source": [
    "# 04 候选靶标谱\n",
    "time.sleep(1)\n",
    "# element = browser.find_element(By.CSS_SELECTOR,'input[value=\"候选靶标谱\"]')\n",
    "element = browser.find_element(By.CSS_SELECTOR,'input[value=\"Targets\"]')\n",
    "webdriver.ActionChains(browser).move_to_element(element ).click(element ).perform()\n",
    "time.sleep(2)\n",
    "data = browser.page_source\n",
    "dfs0 = pd.read_html(data)[1]\n",
    "dfs1 = dfs0.columns\n",
    "print(dfs1)\n",
    "dfs = []\n",
    "for i in range(7):\n",
    "    time.sleep(2)\n",
    "    data = browser.page_source\n",
    "    df = pd.read_html(data)[2]\n",
    "    browser.find_element(By.XPATH,\"//*[@id=\\\"alltable\\\"]/div[3]/div/button[2]\").click()\n",
    "    dfs.append(df)\n",
    "result = pd.concat(dfs)\n",
    "result.columns = dfs1\n",
    "print(result)\n",
    "# result.to_excel(r\"./爬取文件/候选靶标谱.xlsx\")\n",
    "result.to_excel(r\"./爬取文件/Eng_候选靶标谱.xlsx\")\n",
    "\n"
   ]
  },
  {
   "cell_type": "code",
   "execution_count": null,
   "metadata": {},
   "outputs": [],
   "source": [
    "# 05 相关疾病富集列表\n",
    "time.sleep(1)\n",
    "# element = browser.find_element(By.CSS_SELECTOR,'input[value=\"相关疾病富集列表\"]')\n",
    "element = browser.find_element(By.CSS_SELECTOR,'input[value=\"Enriched Diseases\"]')\n",
    "\n",
    "webdriver.ActionChains(browser).move_to_element(element ).click(element ).perform()\n",
    "time.sleep(2)\n",
    "data = browser.page_source\n",
    "dfs0 = pd.read_html(data)[1]\n",
    "dfs1 = dfs0.columns\n",
    "print(dfs1)\n",
    "dfs = []\n",
    "time.sleep(2)\n",
    "data = browser.page_source\n",
    "df = pd.read_html(data)[2]\n",
    "# browser.find_element(By.XPATH,\"//*[@id=\\\"alltable\\\"]/div[3]/div/button[2]\").click()\n",
    "dfs.append(df)\n",
    "result = pd.concat(dfs)\n",
    "result.columns = dfs1\n",
    "print(result)\n",
    "# result.to_excel(r\"./爬取文件/相关疾病富集列表.xlsx\")\n",
    "result.to_excel(r\"./爬取文件/Eng_相关疾病富集列表.xlsx\")"
   ]
  },
  {
   "cell_type": "code",
   "execution_count": null,
   "metadata": {},
   "outputs": [],
   "source": [
    "# 06 成分靶基因表\n",
    "time.sleep(1)\n",
    "data = browser.page_source\n",
    "dfs0 = pd.read_html(data)[3]\n",
    "dfs1 = dfs0.columns\n",
    "print(dfs1)\n",
    "dfs = []\n",
    "for i in range(17):\n",
    "    time.sleep(2)\n",
    "    data = browser.page_source\n",
    "    df = pd.read_html(data)[4]\n",
    "    browser.find_element(By.XPATH,\"//*[@id=\\\"alltable\\\"]/div[3]/div/button[2]\").click()\n",
    "    dfs.append(df)\n",
    "result = pd.concat(dfs)\n",
    "result.columns = dfs1\n",
    "print(result)\n",
    "result.to_excel(r\"./爬取文件/成分靶基因表.xlsx\")"
   ]
  },
  {
   "cell_type": "code",
   "execution_count": null,
   "metadata": {},
   "outputs": [],
   "source": [
    "# 07 中药材候选靶标的功能富集分析\n",
    "time.sleep(1)\n",
    "data = browser.page_source\n",
    "dfs0 = pd.read_html(data)[5]\n",
    "dfs1 = dfs0.columns\n",
    "print(dfs1)\n",
    "dfs = []\n",
    "for i in range(13):\n",
    "    time.sleep(2)\n",
    "    data = browser.page_source\n",
    "    df = pd.read_html(data)[6]\n",
    "    browser.find_element(By.XPATH,\"//*[@id=\\\"alltable\\\"]/div[3]/div/button[2]\").click()\n",
    "    dfs.append(df)\n",
    "result = pd.concat(dfs)\n",
    "result.columns = dfs1\n",
    "print(result)\n",
    "result.to_excel(r\"./爬取文件/中药材候选靶标的功能富集分析.xlsx\")"
   ]
  }
 ],
 "metadata": {
  "interpreter": {
   "hash": "3860d6e0d0be45158f67b7497cd86fa5fc648422f0e508ab3756a6a3a2719315"
  },
  "kernelspec": {
   "display_name": "Python 3.9.12 64-bit ('pytorch': conda)",
   "name": "python3"
  },
  "language_info": {
   "codemirror_mode": {
    "name": "ipython",
    "version": 3
   },
   "file_extension": ".py",
   "mimetype": "text/x-python",
   "name": "python",
   "nbconvert_exporter": "python",
   "pygments_lexer": "ipython3",
   "version": "3.9.19"
  }
 },
 "nbformat": 4,
 "nbformat_minor": 2
}
